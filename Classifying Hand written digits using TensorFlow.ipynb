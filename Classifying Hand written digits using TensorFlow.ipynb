{
 "cells": [
  {
   "cell_type": "markdown",
   "id": "72246719",
   "metadata": {},
   "source": [
    "### Problem Statement"
   ]
  },
  {
   "cell_type": "markdown",
   "id": "9a6f731e",
   "metadata": {},
   "source": [
    "**MNIST (\"Modified National Institute of Standards and Technology\")** is the de facto “hello world” dataset of computer vision. Since its release in 1999, this classic dataset of handwritten images has served as the basis for benchmarking classification algorithms. As new machine learning techniques emerge, MNIST remains a reliable resource for researchers and learners alike.\n",
    "\n",
    "In this demo, your goal is to correctly identify digits from a dataset of thousands of handwritten images. "
   ]
  },
  {
   "cell_type": "markdown",
   "id": "82cc2508",
   "metadata": {},
   "source": [
    "### Tasks to be Performed"
   ]
  },
  {
   "cell_type": "markdown",
   "id": "6db539aa",
   "metadata": {},
   "source": [
    "In this tutorial you will be performing the following tasks:\n",
    "- Prepare the dataset for the model\n",
    "- Install Tensorflow 2.x\n",
    "- Develop Single Layer Perceptron model for classifying the handwritten digits\n",
    "- Plot the change in accuracy per epochs\n",
    "- Evaluate the model on the testing data\n",
    "- Analyse the model summary\n",
    "- Add hidden layer to the model to make it Multi-Layer Perceptron\n",
    "- Add Dropout to prevent overfitting and check its effect on accuracy\n",
    "- Increasing the number of Hidden Layer neuron and check its effect on accuracy\n",
    "- Use different optimizers and check its effect on accuracy\n",
    "- Increase the hidden layers and check its effect on accuracy\n",
    "- Manipulate the batch_size and epochs and check its effect on accuracy\n",
    "- Answer: What parameters should be choosen to get best accuracy on classifying the handwritten digits?"
   ]
  },
  {
   "cell_type": "markdown",
   "id": "a564286e",
   "metadata": {},
   "source": [
    "### Data decription "
   ]
  },
  {
   "cell_type": "markdown",
   "id": "d42078e9",
   "metadata": {},
   "source": [
    "\n",
    "The **[MNIST Handwritten Digit Classification Dataset](http://yann.lecun.com/exdb/mnist/)** consists of 60,000 training images and 10,000 testing images of handwritten digits.\n",
    "\n",
    "Each image is 28 pixels in height and 28 pixels in width, for a total of 784 pixels in total. Each pixel has a single pixel-value associated with it, indicating the lightness or darkness of that pixel, with higher numbers meaning darker. This pixel-value is an integer between 0 and 255, inclusive.\n",
    "\n",
    "![alt text](https://i.imgur.com/Su00XUA.png)\n",
    "\n"
   ]
  },
  {
   "cell_type": "markdown",
   "id": "a30a473d",
   "metadata": {},
   "source": [
    "### Skills Gained\n",
    "- Tensorflow 2.x\n",
    "- Single Layer Percepton \n",
    "- Multiple Layer Percepton\n",
    "- Model Improvisation"
   ]
  },
  {
   "cell_type": "markdown",
   "id": "f215b816",
   "metadata": {},
   "source": [
    "# Solution: Classifying Handwritten digits using Tensorflow 2.x"
   ]
  },
  {
   "cell_type": "code",
   "execution_count": 1,
   "id": "9fce5af7",
   "metadata": {},
   "outputs": [],
   "source": [
    "%load_ext tensorboard"
   ]
  },
  {
   "cell_type": "code",
   "execution_count": 2,
   "id": "86756e41",
   "metadata": {},
   "outputs": [
    {
     "name": "stdout",
     "output_type": "stream",
     "text": [
      "2.3.0\n",
      "2.4.0\n"
     ]
    }
   ],
   "source": [
    "#installation\n",
    "import tensorflow as tf\n",
    "from tensorflow import keras\n",
    "\n",
    "# checking the version\n",
    "print(tf.__version__)\n",
    "print(tf.keras.__version__)"
   ]
  },
  {
   "cell_type": "markdown",
   "id": "41306f32",
   "metadata": {},
   "source": [
    "### Preparing the data"
   ]
  },
  {
   "cell_type": "markdown",
   "id": "ff085335",
   "metadata": {},
   "source": [
    "### Load the Data\n",
    "Load and prepare the [MNIST dataset](http://yann.lecun.com/exdb/mnist/) and convert the samples from integers to floating-point numbers and deal with categorical data:"
   ]
  },
  {
   "cell_type": "code",
   "execution_count": 3,
   "id": "d961356e",
   "metadata": {},
   "outputs": [],
   "source": [
    "#Loading mnist data\n",
    "mnist = keras.datasets.mnist\n",
    "(X_train,y_train),(X_test,y_test) = mnist.load_data()"
   ]
  },
  {
   "cell_type": "code",
   "execution_count": 4,
   "id": "257da4d1",
   "metadata": {},
   "outputs": [
    {
     "name": "stdout",
     "output_type": "stream",
     "text": [
      "(60000, 28, 28)\n",
      "(10000, 28, 28)\n",
      "(60000,)\n",
      "(10000,)\n"
     ]
    }
   ],
   "source": [
    "# Data Exploration\n",
    "print(X_train.shape)   # 60k,28,28 shape is in 3Dimensional \n",
    "print(X_test.shape)\n",
    "print(y_train.shape)\n",
    "print(y_test.shape)"
   ]
  },
  {
   "cell_type": "code",
   "execution_count": 5,
   "id": "5865b193",
   "metadata": {},
   "outputs": [
    {
     "data": {
      "text/plain": [
       "5"
      ]
     },
     "execution_count": 5,
     "metadata": {},
     "output_type": "execute_result"
    }
   ],
   "source": [
    "y_train[0]"
   ]
  },
  {
   "cell_type": "code",
   "execution_count": 6,
   "id": "05dfc854",
   "metadata": {},
   "outputs": [
    {
     "data": {
      "text/plain": [
       "((28, 28), (28, 28))"
      ]
     },
     "execution_count": 6,
     "metadata": {},
     "output_type": "execute_result"
    }
   ],
   "source": [
    "X_train[0].shape,X_test[9].shape"
   ]
  },
  {
   "cell_type": "code",
   "execution_count": 7,
   "id": "60d6c1d1",
   "metadata": {},
   "outputs": [
    {
     "data": {
      "text/plain": [
       "0"
      ]
     },
     "execution_count": 7,
     "metadata": {},
     "output_type": "execute_result"
    }
   ],
   "source": [
    "y_test[69]"
   ]
  },
  {
   "cell_type": "code",
   "execution_count": 8,
   "id": "d75261a8",
   "metadata": {
    "collapsed": true
   },
   "outputs": [
    {
     "data": {
      "text/plain": [
       "array([[  0,   0,   0,   0,   0,   0,   0,   0,   0,   0,   0,   0,   0,\n",
       "          0,   0,   0,   0,   0,   0,   0,   0,   0,   0,   0,   0,   0,\n",
       "          0,   0],\n",
       "       [  0,   0,   0,   0,   0,   0,   0,   0,   0,   0,   0,   0,   0,\n",
       "          0,   0,   0,   0,   0,   0,   0,   0,   0,   0,   0,   0,   0,\n",
       "          0,   0],\n",
       "       [  0,   0,   0,   0,   0,   0,   0,   0,   0,   0,   0,   0,   0,\n",
       "          0,   0,   0,   0,   0,   0,   0,   0,   0,   0,   0,   0,   0,\n",
       "          0,   0],\n",
       "       [  0,   0,   0,   0,   0,   0,   0,   0,   0,   0,   0,   0,   0,\n",
       "          0,   0,   0,   0,   0,   0,   0,   0,   0,   0,   0,   0,   0,\n",
       "          0,   0],\n",
       "       [  0,   0,   0,   0,   0,   0,   0,   0,   0,   0,   0,   0,   0,\n",
       "          0,   0,   0,   0,   0,   0,   0,   0,   0,   0,   0,   0,   0,\n",
       "          0,   0],\n",
       "       [  0,   0,   0,   0,   0,   0,   0,   0,   0,   0,   0,   0,   3,\n",
       "         18,  18,  18, 126, 136, 175,  26, 166, 255, 247, 127,   0,   0,\n",
       "          0,   0],\n",
       "       [  0,   0,   0,   0,   0,   0,   0,   0,  30,  36,  94, 154, 170,\n",
       "        253, 253, 253, 253, 253, 225, 172, 253, 242, 195,  64,   0,   0,\n",
       "          0,   0],\n",
       "       [  0,   0,   0,   0,   0,   0,   0,  49, 238, 253, 253, 253, 253,\n",
       "        253, 253, 253, 253, 251,  93,  82,  82,  56,  39,   0,   0,   0,\n",
       "          0,   0],\n",
       "       [  0,   0,   0,   0,   0,   0,   0,  18, 219, 253, 253, 253, 253,\n",
       "        253, 198, 182, 247, 241,   0,   0,   0,   0,   0,   0,   0,   0,\n",
       "          0,   0],\n",
       "       [  0,   0,   0,   0,   0,   0,   0,   0,  80, 156, 107, 253, 253,\n",
       "        205,  11,   0,  43, 154,   0,   0,   0,   0,   0,   0,   0,   0,\n",
       "          0,   0],\n",
       "       [  0,   0,   0,   0,   0,   0,   0,   0,   0,  14,   1, 154, 253,\n",
       "         90,   0,   0,   0,   0,   0,   0,   0,   0,   0,   0,   0,   0,\n",
       "          0,   0],\n",
       "       [  0,   0,   0,   0,   0,   0,   0,   0,   0,   0,   0, 139, 253,\n",
       "        190,   2,   0,   0,   0,   0,   0,   0,   0,   0,   0,   0,   0,\n",
       "          0,   0],\n",
       "       [  0,   0,   0,   0,   0,   0,   0,   0,   0,   0,   0,  11, 190,\n",
       "        253,  70,   0,   0,   0,   0,   0,   0,   0,   0,   0,   0,   0,\n",
       "          0,   0],\n",
       "       [  0,   0,   0,   0,   0,   0,   0,   0,   0,   0,   0,   0,  35,\n",
       "        241, 225, 160, 108,   1,   0,   0,   0,   0,   0,   0,   0,   0,\n",
       "          0,   0],\n",
       "       [  0,   0,   0,   0,   0,   0,   0,   0,   0,   0,   0,   0,   0,\n",
       "         81, 240, 253, 253, 119,  25,   0,   0,   0,   0,   0,   0,   0,\n",
       "          0,   0],\n",
       "       [  0,   0,   0,   0,   0,   0,   0,   0,   0,   0,   0,   0,   0,\n",
       "          0,  45, 186, 253, 253, 150,  27,   0,   0,   0,   0,   0,   0,\n",
       "          0,   0],\n",
       "       [  0,   0,   0,   0,   0,   0,   0,   0,   0,   0,   0,   0,   0,\n",
       "          0,   0,  16,  93, 252, 253, 187,   0,   0,   0,   0,   0,   0,\n",
       "          0,   0],\n",
       "       [  0,   0,   0,   0,   0,   0,   0,   0,   0,   0,   0,   0,   0,\n",
       "          0,   0,   0,   0, 249, 253, 249,  64,   0,   0,   0,   0,   0,\n",
       "          0,   0],\n",
       "       [  0,   0,   0,   0,   0,   0,   0,   0,   0,   0,   0,   0,   0,\n",
       "          0,  46, 130, 183, 253, 253, 207,   2,   0,   0,   0,   0,   0,\n",
       "          0,   0],\n",
       "       [  0,   0,   0,   0,   0,   0,   0,   0,   0,   0,   0,   0,  39,\n",
       "        148, 229, 253, 253, 253, 250, 182,   0,   0,   0,   0,   0,   0,\n",
       "          0,   0],\n",
       "       [  0,   0,   0,   0,   0,   0,   0,   0,   0,   0,  24, 114, 221,\n",
       "        253, 253, 253, 253, 201,  78,   0,   0,   0,   0,   0,   0,   0,\n",
       "          0,   0],\n",
       "       [  0,   0,   0,   0,   0,   0,   0,   0,  23,  66, 213, 253, 253,\n",
       "        253, 253, 198,  81,   2,   0,   0,   0,   0,   0,   0,   0,   0,\n",
       "          0,   0],\n",
       "       [  0,   0,   0,   0,   0,   0,  18, 171, 219, 253, 253, 253, 253,\n",
       "        195,  80,   9,   0,   0,   0,   0,   0,   0,   0,   0,   0,   0,\n",
       "          0,   0],\n",
       "       [  0,   0,   0,   0,  55, 172, 226, 253, 253, 253, 253, 244, 133,\n",
       "         11,   0,   0,   0,   0,   0,   0,   0,   0,   0,   0,   0,   0,\n",
       "          0,   0],\n",
       "       [  0,   0,   0,   0, 136, 253, 253, 253, 212, 135, 132,  16,   0,\n",
       "          0,   0,   0,   0,   0,   0,   0,   0,   0,   0,   0,   0,   0,\n",
       "          0,   0],\n",
       "       [  0,   0,   0,   0,   0,   0,   0,   0,   0,   0,   0,   0,   0,\n",
       "          0,   0,   0,   0,   0,   0,   0,   0,   0,   0,   0,   0,   0,\n",
       "          0,   0],\n",
       "       [  0,   0,   0,   0,   0,   0,   0,   0,   0,   0,   0,   0,   0,\n",
       "          0,   0,   0,   0,   0,   0,   0,   0,   0,   0,   0,   0,   0,\n",
       "          0,   0],\n",
       "       [  0,   0,   0,   0,   0,   0,   0,   0,   0,   0,   0,   0,   0,\n",
       "          0,   0,   0,   0,   0,   0,   0,   0,   0,   0,   0,   0,   0,\n",
       "          0,   0]], dtype=uint8)"
      ]
     },
     "execution_count": 8,
     "metadata": {},
     "output_type": "execute_result"
    }
   ],
   "source": [
    "X_train[0]"
   ]
  },
  {
   "cell_type": "code",
   "execution_count": 8,
   "id": "e08cae83",
   "metadata": {
    "scrolled": true
   },
   "outputs": [
    {
     "data": {
      "text/plain": [
       "<matplotlib.image.AxesImage at 0x2392dc97e50>"
      ]
     },
     "execution_count": 8,
     "metadata": {},
     "output_type": "execute_result"
    },
    {
     "data": {
      "image/png": "[encoded data removed]",
      "text/plain": [
       "<Figure size 432x288 with 1 Axes>"
      ]
     },
     "metadata": {
      "needs_background": "light"
     },
     "output_type": "display_data"
    }
   ],
   "source": [
    "import matplotlib.pyplot as plt\n",
    "plt.imshow(X_train[0])"
   ]
  },
  {
   "cell_type": "code",
   "execution_count": 9,
   "id": "f1b71f86",
   "metadata": {},
   "outputs": [
    {
     "data": {
      "text/plain": [
       "<matplotlib.image.AxesImage at 0x2392f3d9ee0>"
      ]
     },
     "execution_count": 9,
     "metadata": {},
     "output_type": "execute_result"
    },
    {
     "data": {
      "image/png": "[encoded data removed]",
      "text/plain": [
       "<Figure size 432x288 with 1 Axes>"
      ]
     },
     "metadata": {
      "needs_background": "light"
     },
     "output_type": "display_data"
    }
   ],
   "source": [
    "plt.imshow(X_train[4])"
   ]
  },
  {
   "cell_type": "markdown",
   "id": "9962485f",
   "metadata": {},
   "source": [
    "## Data Preprocessing"
   ]
  },
  {
   "cell_type": "code",
   "execution_count": 10,
   "id": "5c166a63",
   "metadata": {},
   "outputs": [
    {
     "name": "stdout",
     "output_type": "stream",
     "text": [
      "60000 train samples\n",
      "10000 test samples\n"
     ]
    }
   ],
   "source": [
    "# X_train is 60000 rows of 28x28 values; we reshape it to # 60000 x 784. \n",
    "RESHAPED = 784                        # resolution 28x28  = 784 its a 2 Dimensional converted \n",
    "X_train = X_train.reshape(60000, RESHAPED) \n",
    "X_test = X_test.reshape(10000, RESHAPED) \n",
    "\n",
    "# Data is converted into float32 to use 32-bit precision # when training a neural network \n",
    "X_train = X_train.astype('float32')\n",
    "X_test = X_test.astype('float32') \n",
    "\n",
    "# Normalizing the input to be within the range [0,1]\n",
    "X_train /= 255                                         # X_train = X_train / 255\n",
    "#intensity of each pixel is divided by 255, the maximum intensity value\n",
    "X_test /= 255\n",
    "\n",
    "print(X_train.shape[0], 'train samples') \n",
    "print(X_test.shape[0], 'test samples') \n",
    "\n",
    "# One-hot representation of the labels.\n",
    "\n",
    "y_train = tf.keras.utils.to_categorical(y_train, 10) \n",
    "y_test = tf.keras.utils.to_categorical(y_test, 10)\n"
   ]
  },
  {
   "cell_type": "code",
   "execution_count": 11,
   "id": "a9be33e9",
   "metadata": {},
   "outputs": [
    {
     "data": {
      "text/plain": [
       "((60000, 784), (60000, 10), (10000, 784), (10000, 10))"
      ]
     },
     "execution_count": 11,
     "metadata": {},
     "output_type": "execute_result"
    }
   ],
   "source": [
    "X_train.shape,y_train.shape,X_test.shape,y_test.shape"
   ]
  },
  {
   "cell_type": "code",
   "execution_count": 12,
   "id": "4290d9db",
   "metadata": {},
   "outputs": [
    {
     "data": {
      "text/plain": [
       "array([[0., 0., 0., ..., 0., 0., 0.],\n",
       "       [0., 0., 0., ..., 0., 0., 0.],\n",
       "       [0., 0., 0., ..., 0., 0., 0.],\n",
       "       ...,\n",
       "       [0., 0., 0., ..., 0., 0., 0.],\n",
       "       [0., 0., 0., ..., 0., 0., 0.],\n",
       "       [0., 0., 0., ..., 0., 0., 0.]], dtype=float32)"
      ]
     },
     "execution_count": 12,
     "metadata": {},
     "output_type": "execute_result"
    }
   ],
   "source": [
    "X_train[0:9]"
   ]
  },
  {
   "cell_type": "code",
   "execution_count": 13,
   "id": "32da0f53",
   "metadata": {},
   "outputs": [
    {
     "data": {
      "text/plain": [
       "array([[0., 0., 0., 0., 0., 0., 0., 1., 0., 0.],\n",
       "       [0., 0., 1., 0., 0., 0., 0., 0., 0., 0.],\n",
       "       [0., 1., 0., 0., 0., 0., 0., 0., 0., 0.],\n",
       "       [1., 0., 0., 0., 0., 0., 0., 0., 0., 0.],\n",
       "       [0., 0., 0., 0., 1., 0., 0., 0., 0., 0.]], dtype=float32)"
      ]
     },
     "execution_count": 13,
     "metadata": {},
     "output_type": "execute_result"
    }
   ],
   "source": [
    "y_test[0:5]"
   ]
  },
  {
   "cell_type": "markdown",
   "id": "7c601e7e",
   "metadata": {},
   "source": [
    "## Designing the Model\n",
    "## **Preparing the Model 0: Single Layer Percepton**"
   ]
  },
  {
   "cell_type": "markdown",
   "id": "800ea1a3",
   "metadata": {},
   "source": [
    "Build the `Sequential` model with 0 hidden layers. Choose an optimizer and loss function for training:"
   ]
  },
  {
   "cell_type": "code",
   "execution_count": 14,
   "id": "fa9a87da",
   "metadata": {},
   "outputs": [],
   "source": [
    "import tensorflow as tf\n",
    "from tensorflow.keras.layers import Dense\n",
    "from tensorflow.keras import Sequential\n",
    "model_0 = Sequential()\n",
    "model_0.add(Dense(10,input_shape = (784,),name = 'dense_layer',activation = 'softmax'))"
   ]
  },
  {
   "cell_type": "code",
   "execution_count": 15,
   "id": "5bda1043",
   "metadata": {},
   "outputs": [
    {
     "name": "stdout",
     "output_type": "stream",
     "text": [
      "Model: \"sequential\"\n",
      "_________________________________________________________________\n",
      "Layer (type)                 Output Shape              Param #   \n",
      "=================================================================\n",
      "dense_layer (Dense)          (None, 10)                7850      \n",
      "=================================================================\n",
      "Total params: 7,850\n",
      "Trainable params: 7,850\n",
      "Non-trainable params: 0\n",
      "_________________________________________________________________\n"
     ]
    }
   ],
   "source": [
    "model_0.summary()   # here params: input is 10, dense layer is 784 , 784*10 = 7840+10 bias = 7850"
   ]
  },
  {
   "cell_type": "code",
   "execution_count": 16,
   "id": "b573109a",
   "metadata": {},
   "outputs": [],
   "source": [
    "# Compiling the model\n",
    "model_0.compile(optimizer = 'rmsprop',loss = 'categorical_crossentropy',metrics = ['accuracy'])"
   ]
  },
  {
   "cell_type": "code",
   "execution_count": 17,
   "id": "be431320",
   "metadata": {},
   "outputs": [
    {
     "name": "stdout",
     "output_type": "stream",
     "text": [
      "Total training for data size: 48000.0\n"
     ]
    }
   ],
   "source": [
    "print('Total training for data size:',60000*0.8)"
   ]
  },
  {
   "cell_type": "code",
   "execution_count": 18,
   "id": "cc543e51",
   "metadata": {},
   "outputs": [
    {
     "name": "stdout",
     "output_type": "stream",
     "text": [
      "Batch size: 375.0\n"
     ]
    }
   ],
   "source": [
    "print('Batch size:',48000/128.0)"
   ]
  },
  {
   "cell_type": "code",
   "execution_count": 19,
   "id": "55438ac0",
   "metadata": {},
   "outputs": [
    {
     "name": "stdout",
     "output_type": "stream",
     "text": [
      "Epoch 1/30\n",
      "  1/375 [..............................] - ETA: 0s - loss: 2.4707 - accuracy: 0.0859WARNING:tensorflow:From C:\\Users\\Shivani Dussa\\anaconda3\\lib\\site-packages\\tensorflow\\python\\ops\\summary_ops_v2.py:1277: stop (from tensorflow.python.eager.profiler) is deprecated and will be removed after 2020-07-01.\n",
      "Instructions for updating:\n",
      "use `tf.profiler.experimental.stop` instead.\n",
      "  2/375 [..............................] - ETA: 15s - loss: 2.4243 - accuracy: 0.0781WARNING:tensorflow:Callbacks method `on_train_batch_end` is slow compared to the batch time (batch time: 0.0019s vs `on_train_batch_end` time: 0.0820s). Check your callbacks.\n",
      "375/375 [==============================] - 1s 3ms/step - loss: 0.6727 - accuracy: 0.8320 - val_loss: 0.3590 - val_accuracy: 0.9043\n",
      "Epoch 2/30\n",
      "375/375 [==============================] - 1s 2ms/step - loss: 0.3512 - accuracy: 0.9045 - val_loss: 0.3081 - val_accuracy: 0.9135\n",
      "Epoch 3/30\n",
      "375/375 [==============================] - 1s 2ms/step - loss: 0.3152 - accuracy: 0.9121 - val_loss: 0.2902 - val_accuracy: 0.9177\n",
      "Epoch 4/30\n",
      "375/375 [==============================] - 1s 2ms/step - loss: 0.2991 - accuracy: 0.9162 - val_loss: 0.2832 - val_accuracy: 0.9203\n",
      "Epoch 5/30\n",
      "375/375 [==============================] - 1s 2ms/step - loss: 0.2896 - accuracy: 0.9189 - val_loss: 0.2762 - val_accuracy: 0.9247\n",
      "Epoch 6/30\n",
      "375/375 [==============================] - 1s 2ms/step - loss: 0.2831 - accuracy: 0.9208 - val_loss: 0.2733 - val_accuracy: 0.9227\n",
      "Epoch 7/30\n",
      "375/375 [==============================] - 1s 2ms/step - loss: 0.2784 - accuracy: 0.9221 - val_loss: 0.2690 - val_accuracy: 0.9252\n",
      "Epoch 8/30\n",
      "375/375 [==============================] - 1s 2ms/step - loss: 0.2743 - accuracy: 0.9239 - val_loss: 0.2676 - val_accuracy: 0.9256\n",
      "Epoch 9/30\n",
      "375/375 [==============================] - 1s 2ms/step - loss: 0.2712 - accuracy: 0.9255 - val_loss: 0.2686 - val_accuracy: 0.9266\n",
      "Epoch 10/30\n",
      "375/375 [==============================] - 1s 2ms/step - loss: 0.2689 - accuracy: 0.9251 - val_loss: 0.2659 - val_accuracy: 0.9281\n",
      "Epoch 11/30\n",
      "375/375 [==============================] - 1s 2ms/step - loss: 0.2669 - accuracy: 0.9256 - val_loss: 0.2631 - val_accuracy: 0.9288\n",
      "Epoch 12/30\n",
      "375/375 [==============================] - 1s 2ms/step - loss: 0.2649 - accuracy: 0.9262 - val_loss: 0.2627 - val_accuracy: 0.9297\n",
      "Epoch 13/30\n",
      "375/375 [==============================] - 1s 2ms/step - loss: 0.2632 - accuracy: 0.9276 - val_loss: 0.2617 - val_accuracy: 0.9291\n",
      "Epoch 14/30\n",
      "375/375 [==============================] - 1s 2ms/step - loss: 0.2618 - accuracy: 0.9276 - val_loss: 0.2607 - val_accuracy: 0.9304\n",
      "Epoch 15/30\n",
      "375/375 [==============================] - 1s 2ms/step - loss: 0.2602 - accuracy: 0.9287 - val_loss: 0.2619 - val_accuracy: 0.9302\n",
      "Epoch 16/30\n",
      "375/375 [==============================] - 1s 2ms/step - loss: 0.2592 - accuracy: 0.9288 - val_loss: 0.2639 - val_accuracy: 0.9284\n",
      "Epoch 17/30\n",
      "375/375 [==============================] - 1s 2ms/step - loss: 0.2584 - accuracy: 0.9294 - val_loss: 0.2619 - val_accuracy: 0.9301\n",
      "Epoch 18/30\n",
      "375/375 [==============================] - 1s 2ms/step - loss: 0.2571 - accuracy: 0.9296 - val_loss: 0.2606 - val_accuracy: 0.9317\n",
      "Epoch 19/30\n",
      "375/375 [==============================] - 1s 2ms/step - loss: 0.2565 - accuracy: 0.9299 - val_loss: 0.2630 - val_accuracy: 0.9302\n",
      "Epoch 20/30\n",
      "375/375 [==============================] - 1s 2ms/step - loss: 0.2557 - accuracy: 0.9301 - val_loss: 0.2605 - val_accuracy: 0.9307\n",
      "Epoch 21/30\n",
      "375/375 [==============================] - 1s 2ms/step - loss: 0.2547 - accuracy: 0.9298 - val_loss: 0.2629 - val_accuracy: 0.9295\n",
      "Epoch 22/30\n",
      "375/375 [==============================] - 1s 2ms/step - loss: 0.2540 - accuracy: 0.9309 - val_loss: 0.2610 - val_accuracy: 0.9316\n",
      "Epoch 23/30\n",
      "375/375 [==============================] - 1s 2ms/step - loss: 0.2537 - accuracy: 0.9310 - val_loss: 0.2613 - val_accuracy: 0.9315\n",
      "Epoch 24/30\n",
      "375/375 [==============================] - 1s 2ms/step - loss: 0.2532 - accuracy: 0.9317 - val_loss: 0.2624 - val_accuracy: 0.9301\n",
      "Epoch 25/30\n",
      "375/375 [==============================] - 1s 2ms/step - loss: 0.2525 - accuracy: 0.9314 - val_loss: 0.2605 - val_accuracy: 0.9312\n",
      "Epoch 26/30\n",
      "375/375 [==============================] - 1s 2ms/step - loss: 0.2520 - accuracy: 0.9322 - val_loss: 0.2622 - val_accuracy: 0.9311\n",
      "Epoch 27/30\n",
      "375/375 [==============================] - 1s 2ms/step - loss: 0.2514 - accuracy: 0.9321 - val_loss: 0.2612 - val_accuracy: 0.9314\n",
      "Epoch 28/30\n",
      "375/375 [==============================] - 1s 2ms/step - loss: 0.2507 - accuracy: 0.9318 - val_loss: 0.2623 - val_accuracy: 0.9314\n",
      "Epoch 29/30\n",
      "375/375 [==============================] - 1s 2ms/step - loss: 0.2504 - accuracy: 0.9329 - val_loss: 0.2614 - val_accuracy: 0.9310\n",
      "Epoch 30/30\n",
      "375/375 [==============================] - 1s 2ms/step - loss: 0.2494 - accuracy: 0.9335 - val_loss: 0.2642 - val_accuracy: 0.9305\n"
     ]
    }
   ],
   "source": [
    "# Training the Model\n",
    "log_dir = \"logs/fit/model0\"\n",
    "tensorboard_callback = tf.keras.callbacks.TensorBoard(log_dir = log_dir,histogram_freq = 1)\n",
    "training = model_0.fit(X_train,y_train,batch_size = 128,epochs = 30,validation_split = 0.2,callbacks = tensorboard_callback)"
   ]
  },
  {
   "cell_type": "code",
   "execution_count": 20,
   "id": "8d2d0ac1",
   "metadata": {},
   "outputs": [
    {
     "data": {
      "text/plain": [
       "[0.6727253198623657,\n",
       " 0.35115939378738403,\n",
       " 0.3152327537536621,\n",
       " 0.29912909865379333,\n",
       " 0.2896389663219452,\n",
       " 0.28306418657302856,\n",
       " 0.2784397602081299,\n",
       " 0.27430176734924316,\n",
       " 0.2711622416973114,\n",
       " 0.2689436972141266,\n",
       " 0.2668965756893158,\n",
       " 0.2649165391921997,\n",
       " 0.2632460594177246,\n",
       " 0.2618292272090912,\n",
       " 0.260226309299469,\n",
       " 0.259233683347702,\n",
       " 0.2584044933319092,\n",
       " 0.25709089636802673,\n",
       " 0.2565394937992096,\n",
       " 0.2556667625904083,\n",
       " 0.2546638250350952,\n",
       " 0.2539767324924469,\n",
       " 0.25371888279914856,\n",
       " 0.25320738554000854,\n",
       " 0.2524958550930023,\n",
       " 0.2519582509994507,\n",
       " 0.2514011859893799,\n",
       " 0.25066083669662476,\n",
       " 0.25040093064308167,\n",
       " 0.249439999461174]"
      ]
     },
     "execution_count": 20,
     "metadata": {},
     "output_type": "execute_result"
    }
   ],
   "source": [
    "training.history['loss']"
   ]
  },
  {
   "cell_type": "code",
   "execution_count": 21,
   "id": "0db843f5",
   "metadata": {},
   "outputs": [
    {
     "name": "stdout",
     "output_type": "stream",
     "text": [
      "dict_keys(['loss', 'accuracy', 'val_loss', 'val_accuracy'])\n"
     ]
    },
    {
     "data": {
      "image/png": "[encoded data removed]",
      "text/plain": [
       "<Figure size 432x288 with 1 Axes>"
      ]
     },
     "metadata": {
      "needs_background": "light"
     },
     "output_type": "display_data"
    },
    {
     "data": {
      "image/png": "[encoded data removed]",
      "text/plain": [
       "<Figure size 432x288 with 1 Axes>"
      ]
     },
     "metadata": {
      "needs_background": "light"
     },
     "output_type": "display_data"
    }
   ],
   "source": [
    "import matplotlib.pyplot as plt\n",
    "%matplotlib inline\n",
    "# list all data in training\n",
    "\n",
    "print(training.history.keys())\n",
    "# summarize training for accuracy\n",
    "\n",
    "plt.plot(training.history['accuracy'])\n",
    "plt.plot(training.history['val_accuracy'])\n",
    "plt.title('model accuracy')\n",
    "plt.ylabel('accuracy')\n",
    "plt.xlabel('epoch')\n",
    "plt.legend(['train', 'test'], loc='upper left')\n",
    "plt.show()\n",
    "\n",
    "# summarize traning for loss\n",
    "plt.plot(training.history['loss'])\n",
    "plt.plot(training.history['val_loss'])\n",
    "plt.title('model loss')\n",
    "plt.ylabel('loss')\n",
    "plt.xlabel('epoch')\n",
    "plt.legend(['train', 'test'], loc='upper left')\n",
    "plt.show()"
   ]
  },
  {
   "cell_type": "code",
   "execution_count": 22,
   "id": "531991cd",
   "metadata": {},
   "outputs": [
    {
     "name": "stdout",
     "output_type": "stream",
     "text": [
      "313/313 [==============================] - 0s 674us/step - loss: 0.2761 - accuracy: 0.9264\n",
      "Test Accuracy: 0.9264000058174133\n"
     ]
    }
   ],
   "source": [
    "# Evaluate the model\n",
    "test_loss,test_acc = model_0.evaluate(X_test,y_test)\n",
    "print('Test Accuracy:',test_acc)"
   ]
  },
  {
   "cell_type": "code",
   "execution_count": 23,
   "id": "d0405413",
   "metadata": {},
   "outputs": [
    {
     "name": "stdout",
     "output_type": "stream",
     "text": [
      "Model: \"sequential\"\n",
      "_________________________________________________________________\n",
      "Layer (type)                 Output Shape              Param #   \n",
      "=================================================================\n",
      "dense_layer (Dense)          (None, 10)                7850      \n",
      "=================================================================\n",
      "Total params: 7,850\n",
      "Trainable params: 7,850\n",
      "Non-trainable params: 0\n",
      "_________________________________________________________________\n"
     ]
    }
   ],
   "source": [
    "model_0.summary()"
   ]
  },
  {
   "cell_type": "code",
   "execution_count": 24,
   "id": "b78d81e8",
   "metadata": {},
   "outputs": [
    {
     "data": {
      "text/plain": [
       "[<tf.Variable 'dense_layer/kernel:0' shape=(784, 10) dtype=float32, numpy=\n",
       " array([[-0.05233619, -0.08337243,  0.00302058, ..., -0.00460343,\n",
       "         -0.06736406,  0.06144428],\n",
       "        [-0.04260384,  0.02707512, -0.05922233, ..., -0.03007742,\n",
       "          0.05022544, -0.04003507],\n",
       "        [ 0.03155164, -0.01756909, -0.02862537, ...,  0.04101261,\n",
       "         -0.05114342, -0.06882622],\n",
       "        ...,\n",
       "        [-0.03109576,  0.05150793,  0.05602127, ...,  0.06491246,\n",
       "         -0.06397226,  0.06227735],\n",
       "        [ 0.07357284,  0.08641181,  0.00028931, ..., -0.04104117,\n",
       "          0.04468582, -0.0218389 ],\n",
       "        [-0.07762155,  0.08557663,  0.05904237, ..., -0.02810107,\n",
       "         -0.03192994,  0.07701761]], dtype=float32)>,\n",
       " <tf.Variable 'dense_layer/bias:0' shape=(10,) dtype=float32, numpy=\n",
       " array([-0.55547464,  0.70985204,  0.1326921 , -0.41383627,  0.10867654,\n",
       "         1.4712149 , -0.3313311 ,  0.7446175 , -1.6045744 , -0.45111457],\n",
       "       dtype=float32)>]"
      ]
     },
     "execution_count": 24,
     "metadata": {},
     "output_type": "execute_result"
    }
   ],
   "source": [
    "model_0.weights"
   ]
  },
  {
   "cell_type": "markdown",
   "id": "696efd53",
   "metadata": {},
   "source": [
    "## Improved Model 1: Adding Hidden Layer - Multi Layer Percepton "
   ]
  },
  {
   "cell_type": "code",
   "execution_count": 25,
   "id": "e8978a78",
   "metadata": {},
   "outputs": [],
   "source": [
    "# Most common type of model is a stack of layers \n",
    "model_1 = tf.keras.Sequential()\n",
    "N_hidden = 64\n",
    "# Adds a densely-connected layer with 64 units to the model\n",
    "model_1.add(Dense(N_hidden,name = 'dense_layer',input_shape = (784,),activation = 'relu'))\n",
    "# Now the model will take as input arrays of shape (*, 784) and ouput array of shape (*,64)\n",
    "\n",
    "# Adding another layer:\n",
    "model_1.add(Dense(N_hidden,name = 'dense_layer_2',activation = 'relu')) # after 1st layer we dont want to mention input shape\n",
    "\n",
    "# Add output layer with 10 output units (10 different classes)\n",
    "model_1.add(Dense(10,name = 'dense_layer_3',activation = 'softmax'))\n"
   ]
  },
  {
   "cell_type": "code",
   "execution_count": 26,
   "id": "d014c6f8",
   "metadata": {},
   "outputs": [],
   "source": [
    "# compiling the model\n",
    "model_1.compile(optimizer = 'SGD',loss = 'categorical_crossentropy',metrics = ['accuracy'])"
   ]
  },
  {
   "cell_type": "code",
   "execution_count": 28,
   "id": "96a9e485",
   "metadata": {},
   "outputs": [
    {
     "name": "stdout",
     "output_type": "stream",
     "text": [
      "Epoch 1/30\n",
      "  2/375 [..............................] - ETA: 9s - loss: 0.1175 - accuracy: 0.9531WARNING:tensorflow:Callbacks method `on_train_batch_end` is slow compared to the batch time (batch time: 0.0033s vs `on_train_batch_end` time: 0.0475s). Check your callbacks.\n",
      "375/375 [==============================] - 1s 3ms/step - loss: 0.1578 - accuracy: 0.9549 - val_loss: 0.1642 - val_accuracy: 0.9528\n",
      "Epoch 2/30\n",
      "375/375 [==============================] - 1s 3ms/step - loss: 0.1545 - accuracy: 0.9551 - val_loss: 0.1620 - val_accuracy: 0.9544\n",
      "Epoch 3/30\n",
      "375/375 [==============================] - 1s 2ms/step - loss: 0.1519 - accuracy: 0.9565 - val_loss: 0.1597 - val_accuracy: 0.9553\n",
      "Epoch 4/30\n",
      "375/375 [==============================] - 1s 2ms/step - loss: 0.1492 - accuracy: 0.9569 - val_loss: 0.1576 - val_accuracy: 0.9553\n",
      "Epoch 5/30\n",
      "375/375 [==============================] - 1s 2ms/step - loss: 0.1462 - accuracy: 0.9579 - val_loss: 0.1548 - val_accuracy: 0.9564\n",
      "Epoch 6/30\n",
      "375/375 [==============================] - 1s 2ms/step - loss: 0.1437 - accuracy: 0.9585 - val_loss: 0.1534 - val_accuracy: 0.9564\n",
      "Epoch 7/30\n",
      "375/375 [==============================] - 1s 2ms/step - loss: 0.1413 - accuracy: 0.9596 - val_loss: 0.1523 - val_accuracy: 0.9574\n",
      "Epoch 8/30\n",
      "375/375 [==============================] - 1s 2ms/step - loss: 0.1388 - accuracy: 0.9597 - val_loss: 0.1497 - val_accuracy: 0.9576\n",
      "Epoch 9/30\n",
      "375/375 [==============================] - 1s 2ms/step - loss: 0.1366 - accuracy: 0.9604 - val_loss: 0.1485 - val_accuracy: 0.9577\n",
      "Epoch 10/30\n",
      "375/375 [==============================] - 1s 2ms/step - loss: 0.1341 - accuracy: 0.9611 - val_loss: 0.1472 - val_accuracy: 0.9588\n",
      "Epoch 11/30\n",
      "375/375 [==============================] - 1s 2ms/step - loss: 0.1318 - accuracy: 0.9620 - val_loss: 0.1464 - val_accuracy: 0.9571\n",
      "Epoch 12/30\n",
      "375/375 [==============================] - 1s 3ms/step - loss: 0.1298 - accuracy: 0.9626 - val_loss: 0.1446 - val_accuracy: 0.9592\n",
      "Epoch 13/30\n",
      "375/375 [==============================] - 1s 2ms/step - loss: 0.1276 - accuracy: 0.9632 - val_loss: 0.1428 - val_accuracy: 0.9592\n",
      "Epoch 14/30\n",
      "375/375 [==============================] - 1s 2ms/step - loss: 0.1258 - accuracy: 0.9642 - val_loss: 0.1416 - val_accuracy: 0.9595\n",
      "Epoch 15/30\n",
      "375/375 [==============================] - 1s 2ms/step - loss: 0.1239 - accuracy: 0.9646 - val_loss: 0.1401 - val_accuracy: 0.9610\n",
      "Epoch 16/30\n",
      "375/375 [==============================] - 1s 2ms/step - loss: 0.1219 - accuracy: 0.9649 - val_loss: 0.1387 - val_accuracy: 0.9611\n",
      "Epoch 17/30\n",
      "375/375 [==============================] - 1s 2ms/step - loss: 0.1200 - accuracy: 0.9661 - val_loss: 0.1377 - val_accuracy: 0.9614\n",
      "Epoch 18/30\n",
      "375/375 [==============================] - 1s 2ms/step - loss: 0.1183 - accuracy: 0.9660 - val_loss: 0.1370 - val_accuracy: 0.9617\n",
      "Epoch 19/30\n",
      "375/375 [==============================] - 1s 2ms/step - loss: 0.1167 - accuracy: 0.9671 - val_loss: 0.1359 - val_accuracy: 0.9604\n",
      "Epoch 20/30\n",
      "375/375 [==============================] - 1s 2ms/step - loss: 0.1149 - accuracy: 0.9675 - val_loss: 0.1352 - val_accuracy: 0.9616\n",
      "Epoch 21/30\n",
      "375/375 [==============================] - 1s 2ms/step - loss: 0.1130 - accuracy: 0.9683 - val_loss: 0.1347 - val_accuracy: 0.9621\n",
      "Epoch 22/30\n",
      "375/375 [==============================] - 1s 2ms/step - loss: 0.1117 - accuracy: 0.9680 - val_loss: 0.1325 - val_accuracy: 0.9627\n",
      "Epoch 23/30\n",
      "375/375 [==============================] - 1s 2ms/step - loss: 0.1101 - accuracy: 0.9685 - val_loss: 0.1309 - val_accuracy: 0.9630\n",
      "Epoch 24/30\n",
      "375/375 [==============================] - 1s 2ms/step - loss: 0.1085 - accuracy: 0.9693 - val_loss: 0.1306 - val_accuracy: 0.9635\n",
      "Epoch 25/30\n",
      "375/375 [==============================] - 1s 2ms/step - loss: 0.1071 - accuracy: 0.9694 - val_loss: 0.1299 - val_accuracy: 0.9625\n",
      "Epoch 26/30\n",
      "375/375 [==============================] - 1s 2ms/step - loss: 0.1056 - accuracy: 0.9701 - val_loss: 0.1286 - val_accuracy: 0.9635\n",
      "Epoch 27/30\n",
      "375/375 [==============================] - 1s 2ms/step - loss: 0.1041 - accuracy: 0.9708 - val_loss: 0.1284 - val_accuracy: 0.9628\n",
      "Epoch 28/30\n",
      "375/375 [==============================] - 1s 2ms/step - loss: 0.1028 - accuracy: 0.9705 - val_loss: 0.1273 - val_accuracy: 0.9638\n",
      "Epoch 29/30\n",
      "375/375 [==============================] - 1s 2ms/step - loss: 0.1012 - accuracy: 0.9713 - val_loss: 0.1275 - val_accuracy: 0.9635\n",
      "Epoch 30/30\n",
      "375/375 [==============================] - 1s 2ms/step - loss: 0.0999 - accuracy: 0.9718 - val_loss: 0.1252 - val_accuracy: 0.9634\n"
     ]
    }
   ],
   "source": [
    "# Training the model. \n",
    "log_dir = \"logs/fit/model1\"\n",
    "tensorboard_callback = tf.keras.callbacks.TensorBoard(log_dir=log_dir, histogram_freq=1)\n",
    "training = model_1.fit(X_train, y_train, batch_size=128, epochs=30, validation_split=0.2,callbacks=tensorboard_callback) "
   ]
  },
  {
   "cell_type": "code",
   "execution_count": 29,
   "id": "d4859900",
   "metadata": {},
   "outputs": [
    {
     "name": "stdout",
     "output_type": "stream",
     "text": [
      "dict_keys(['loss', 'accuracy', 'val_loss', 'val_accuracy'])\n"
     ]
    },
    {
     "data": {
      "image/png": "[encoded data removed]",
      "text/plain": [
       "<Figure size 432x288 with 1 Axes>"
      ]
     },
     "metadata": {
      "needs_background": "light"
     },
     "output_type": "display_data"
    },
    {
     "data": {
      "text/plain": [
       "<matplotlib.legend.Legend at 0x2393b91f3d0>"
      ]
     },
     "execution_count": 29,
     "metadata": {},
     "output_type": "execute_result"
    },
    {
     "data": {
      "image/png": "[encoded data removed]",
      "text/plain": [
       "<Figure size 432x288 with 1 Axes>"
      ]
     },
     "metadata": {
      "needs_background": "light"
     },
     "output_type": "display_data"
    }
   ],
   "source": [
    "import matplotlib.pyplot as plt\n",
    "%matplotlib inline\n",
    " \n",
    "# List all the data in training\n",
    "print(training.history.keys())\n",
    "\n",
    "#summarize training for accuracy\n",
    "plt.plot(training.history['accuracy'])\n",
    "plt.plot(training.history['val_accuracy'])\n",
    "plt.title('model accuracy')\n",
    "plt.xlabel('epoch')\n",
    "plt.ylabel('accuracy')\n",
    "plt.legend(['train','test'],loc = 'upper left')\n",
    "plt.show()\n",
    "\n",
    "# summarize the training for loss\n",
    "plt.plot(training.history['loss'])\n",
    "plt.plot(training.history['val_loss'])\n",
    "plt.title('model loss')\n",
    "plt.xlabel('epoch')\n",
    "plt.ylabel('loss')\n",
    "plt.legend(['train','test'],loc = 'upper left')"
   ]
  },
  {
   "cell_type": "code",
   "execution_count": 30,
   "id": "3d62adb7",
   "metadata": {},
   "outputs": [
    {
     "name": "stdout",
     "output_type": "stream",
     "text": [
      "313/313 [==============================] - 0s 995us/step - loss: 0.1221 - accuracy: 0.9635\n",
      "Test accuracy: 0.9635000228881836\n"
     ]
    }
   ],
   "source": [
    "# evalute the model\n",
    "test_loss,test_acc = model_1.evaluate(X_test,y_test)\n",
    "print('Test accuracy:', test_acc)"
   ]
  },
  {
   "cell_type": "code",
   "execution_count": 31,
   "id": "89ba91f4",
   "metadata": {},
   "outputs": [
    {
     "name": "stdout",
     "output_type": "stream",
     "text": [
      "313/313 [==============================] - 0s 1ms/step - loss: 0.1221 - accuracy: 0.9635\n",
      "test loss: 0.12211856991052628\n"
     ]
    }
   ],
   "source": [
    "test_loss,test_acc = model_1.evaluate(X_test,y_test)\n",
    "print(\"test loss:\",test_loss)"
   ]
  },
  {
   "cell_type": "code",
   "execution_count": 32,
   "id": "3ece2cff",
   "metadata": {},
   "outputs": [
    {
     "name": "stdout",
     "output_type": "stream",
     "text": [
      "Model: \"sequential_1\"\n",
      "_________________________________________________________________\n",
      "Layer (type)                 Output Shape              Param #   \n",
      "=================================================================\n",
      "dense_layer (Dense)          (None, 64)                50240     \n",
      "_________________________________________________________________\n",
      "dense_layer_2 (Dense)        (None, 64)                4160      \n",
      "_________________________________________________________________\n",
      "dense_layer_3 (Dense)        (None, 10)                650       \n",
      "=================================================================\n",
      "Total params: 55,050\n",
      "Trainable params: 55,050\n",
      "Non-trainable params: 0\n",
      "_________________________________________________________________\n"
     ]
    }
   ],
   "source": [
    "model_1.summary()    # 784*64 + 64 bias = 50240"
   ]
  },
  {
   "cell_type": "code",
   "execution_count": 33,
   "id": "f729ba6d",
   "metadata": {
    "collapsed": true
   },
   "outputs": [
    {
     "data": {
      "text/plain": [
       "[<tf.Variable 'dense_layer/kernel:0' shape=(784, 64) dtype=float32, numpy=\n",
       " array([[ 5.8319561e-02, -3.0039549e-02,  2.2306547e-02, ...,\n",
       "         -7.7585772e-02, -6.1405417e-02, -3.4151558e-02],\n",
       "        [-6.1425433e-02,  2.6184857e-02, -4.8108540e-02, ...,\n",
       "          7.6155998e-02, -6.2055893e-02,  4.4186227e-02],\n",
       "        [-3.7841499e-05, -8.1676200e-02, -4.9924016e-02, ...,\n",
       "          6.6202208e-03, -5.1070310e-02,  3.1086102e-02],\n",
       "        ...,\n",
       "        [ 7.3985256e-02,  7.6651044e-02, -7.7365667e-02, ...,\n",
       "          7.5774483e-02, -3.5998985e-02, -9.6181929e-03],\n",
       "        [-5.5966452e-03, -1.9651212e-02, -5.9365585e-02, ...,\n",
       "         -7.4532367e-02, -4.0567663e-02, -5.5356495e-02],\n",
       "        [ 8.0229037e-02, -4.3901768e-02, -4.1880980e-03, ...,\n",
       "          5.5786967e-03, -6.6608712e-02,  7.3464580e-02]], dtype=float32)>,\n",
       " <tf.Variable 'dense_layer/bias:0' shape=(64,) dtype=float32, numpy=\n",
       " array([ 0.06511336, -0.0478239 ,  0.00086677, -0.02764735, -0.0671274 ,\n",
       "         0.07262263,  0.02955263,  0.04166253,  0.03731268, -0.00924557,\n",
       "         0.04661916, -0.04439196,  0.06679962,  0.09682409, -0.03015429,\n",
       "         0.02042346,  0.03418628,  0.00982197,  0.05373336,  0.02161789,\n",
       "         0.04981644, -0.01022668,  0.01869259, -0.00413086, -0.06840829,\n",
       "        -0.01829517,  0.00574406,  0.00191624,  0.02894193,  0.02732845,\n",
       "         0.05121092,  0.04543521, -0.00922555, -0.03600067,  0.03575867,\n",
       "         0.06810904,  0.04279785,  0.0480396 , -0.00104557,  0.01920237,\n",
       "         0.02044665,  0.04208936,  0.18893033,  0.03606501, -0.03745406,\n",
       "        -0.01774474,  0.08931076,  0.05975791,  0.10725794,  0.03070529,\n",
       "        -0.00908039, -0.01235503, -0.03719416,  0.00206186,  0.13460506,\n",
       "         0.02729347, -0.0630979 ,  0.06653934,  0.05227104,  0.00195995,\n",
       "         0.04166444,  0.12536985,  0.00533281,  0.0205154 ], dtype=float32)>,\n",
       " <tf.Variable 'dense_layer_2/kernel:0' shape=(64, 64) dtype=float32, numpy=\n",
       " array([[ 0.20585448,  0.25547877, -0.13770789, ..., -0.09832252,\n",
       "          0.04123299,  0.12587102],\n",
       "        [-0.10767419, -0.00984791,  0.13306409, ...,  0.07842465,\n",
       "         -0.00731892,  0.16421467],\n",
       "        [-0.11357138,  0.28779057, -0.04730031, ...,  0.15523282,\n",
       "         -0.15493903, -0.09590811],\n",
       "        ...,\n",
       "        [ 0.07050572, -0.00946181, -0.07164638, ..., -0.27820566,\n",
       "         -0.06384468,  0.20138128],\n",
       "        [-0.11163988, -0.1591619 , -0.14688301, ...,  0.32411975,\n",
       "          0.11496517, -0.20134051],\n",
       "        [ 0.04482625, -0.10438313,  0.00467397, ...,  0.0526385 ,\n",
       "          0.26103297,  0.01097802]], dtype=float32)>,\n",
       " <tf.Variable 'dense_layer_2/bias:0' shape=(64,) dtype=float32, numpy=\n",
       " array([ 0.03230906,  0.0173523 ,  0.01285869, -0.01929303,  0.00713121,\n",
       "         0.00732193, -0.05727198,  0.07811947, -0.02944155,  0.0518148 ,\n",
       "         0.00113474,  0.03153219,  0.06945293,  0.10260236,  0.13016874,\n",
       "         0.01958881,  0.0088497 ,  0.05305709,  0.00758296, -0.03911824,\n",
       "         0.02993698, -0.00056831, -0.00062701,  0.01399761,  0.03190163,\n",
       "         0.05156075,  0.02406297, -0.01141407,  0.06021509,  0.07776771,\n",
       "         0.10218283,  0.04432004, -0.01495563,  0.03748163, -0.01124251,\n",
       "         0.00077777,  0.02952604, -0.02969191,  0.04084267, -0.03205735,\n",
       "         0.03099211,  0.02175164, -0.0064908 ,  0.04516593,  0.03874848,\n",
       "         0.04049699, -0.0118916 ,  0.07863659, -0.00923959,  0.00753026,\n",
       "         0.10431513,  0.05156251,  0.03244123,  0.00145604,  0.0687638 ,\n",
       "        -0.02092194,  0.02804678,  0.04572326, -0.00499672, -0.00534713,\n",
       "         0.07545063,  0.00907894,  0.02359288,  0.02461781], dtype=float32)>,\n",
       " <tf.Variable 'dense_layer_3/kernel:0' shape=(64, 10) dtype=float32, numpy=\n",
       " array([[ 1.95535034e-01,  2.47480527e-01, -3.85571271e-01,\n",
       "         -1.17437325e-01,  2.14534685e-01, -2.77427703e-01,\n",
       "          1.27552718e-01,  2.25438192e-01, -1.73577681e-01,\n",
       "          2.17358232e-01],\n",
       "        [ 8.92922878e-02, -5.09821959e-02, -3.05563025e-02,\n",
       "          3.49200934e-01, -2.54120231e-01,  2.75410026e-01,\n",
       "          2.42278934e-01, -4.99159813e-01, -1.93599477e-01,\n",
       "         -1.07112154e-01],\n",
       "        [-1.14439026e-01, -2.20260769e-01,  2.58874476e-01,\n",
       "          3.86679173e-02,  2.31300876e-01, -2.37722307e-01,\n",
       "          2.57769346e-01, -4.51805070e-02,  6.80926023e-04,\n",
       "          1.50826424e-01],\n",
       "        [ 2.43900970e-01, -4.21436131e-01,  2.99463689e-01,\n",
       "         -1.75234661e-01,  5.16993642e-01, -6.19682789e-01,\n",
       "         -5.11588156e-02, -3.79190117e-01,  4.45140183e-01,\n",
       "          2.40628481e-01],\n",
       "        [ 3.14906806e-01, -2.85334498e-01,  1.41388193e-01,\n",
       "         -2.65977740e-01, -6.75639033e-01,  6.42711997e-01,\n",
       "         -2.33362824e-01,  2.93555140e-01, -6.64932877e-02,\n",
       "         -3.35616529e-01],\n",
       "        [-1.71744570e-01, -2.27711812e-01, -1.59134224e-01,\n",
       "         -1.98769122e-01, -8.39136839e-02,  5.63022196e-02,\n",
       "         -2.16977105e-01,  2.03744322e-01,  6.37080669e-02,\n",
       "         -7.67135546e-02],\n",
       "        [ 1.92836300e-01, -2.56386548e-01, -2.38507986e-01,\n",
       "          5.54181933e-01, -4.13308591e-01, -1.41612232e-01,\n",
       "          2.55474806e-01, -3.68593752e-01,  3.31407517e-01,\n",
       "         -3.94051298e-02],\n",
       "        [-2.65039019e-02, -3.08414131e-01, -5.51947989e-02,\n",
       "         -7.17987418e-02,  5.89566648e-01, -8.30652267e-02,\n",
       "         -2.00792059e-01,  3.14156711e-01, -6.47281408e-01,\n",
       "          3.96973282e-01],\n",
       "        [ 8.94475579e-02, -6.19672909e-02,  5.31309128e-01,\n",
       "          5.14331795e-02, -3.10404301e-01,  3.73662938e-03,\n",
       "          4.09726351e-02,  1.64466038e-01,  3.17644387e-01,\n",
       "         -4.15702611e-01],\n",
       "        [-2.76234727e-02,  3.45471740e-01, -4.67253655e-01,\n",
       "         -4.41923112e-01,  1.52823463e-01, -2.81013474e-02,\n",
       "          1.00727729e-01,  9.36516300e-02, -8.13390836e-02,\n",
       "         -2.30494633e-01],\n",
       "        [-4.19055820e-02, -2.25277424e-01,  1.64046139e-02,\n",
       "          7.38895461e-02,  4.74918932e-02,  2.08909914e-01,\n",
       "          1.24289971e-02, -9.80946049e-03,  3.26002240e-02,\n",
       "         -1.49382308e-01],\n",
       "        [ 1.12759635e-01, -3.13863456e-01, -2.93214887e-01,\n",
       "          3.14373910e-01,  2.45088965e-01, -6.49881959e-02,\n",
       "          7.16335624e-02,  2.02117309e-01, -1.26382202e-01,\n",
       "          1.70977101e-01],\n",
       "        [ 2.71359295e-01, -9.26757976e-02,  2.11693600e-01,\n",
       "         -6.89380586e-01,  2.67724097e-01,  3.37386757e-01,\n",
       "         -1.81609601e-01,  6.29603118e-02, -2.69153029e-01,\n",
       "          1.07178815e-01],\n",
       "        [-4.49919581e-01,  6.81737006e-01,  3.58564556e-01,\n",
       "          2.99525291e-01, -2.51883864e-01,  2.19322011e-01,\n",
       "         -4.65562224e-01,  1.92728285e-02, -6.56142039e-03,\n",
       "         -1.20249693e-03],\n",
       "        [-4.56130445e-01,  3.40663642e-01,  1.24664642e-01,\n",
       "         -3.25064182e-01,  1.90581590e-01,  5.51148295e-01,\n",
       "         -3.45986128e-01,  8.91713575e-02, -8.61213803e-02,\n",
       "         -3.45117062e-01],\n",
       "        [-3.16252768e-01, -1.08529978e-01,  3.74050498e-01,\n",
       "          2.41502315e-01,  5.20869792e-01, -4.85758245e-01,\n",
       "         -7.97164626e-03, -3.12772214e-01,  1.65969506e-01,\n",
       "         -8.01871866e-02],\n",
       "        [-2.38496259e-01,  4.28754929e-03, -1.64653584e-01,\n",
       "          2.64492899e-01,  2.50254035e-01,  2.01878786e-01,\n",
       "          7.81456232e-02, -2.70163268e-01, -2.76427656e-01,\n",
       "          1.02220133e-01],\n",
       "        [ 8.17517489e-02,  3.03025156e-01, -4.85010892e-01,\n",
       "          2.65537649e-01,  2.63552785e-01,  6.78054094e-01,\n",
       "          3.52622837e-01, -1.44046530e-01, -5.96804261e-01,\n",
       "          4.46371078e-01],\n",
       "        [ 1.87878624e-01, -1.07412323e-01,  7.62212053e-02,\n",
       "          1.57853425e-01, -1.23327613e-01, -1.28183767e-01,\n",
       "          2.56504510e-02,  1.62727207e-01, -1.52102098e-01,\n",
       "         -8.44393447e-02],\n",
       "        [ 7.63619915e-02, -2.64036745e-01, -1.38066471e-01,\n",
       "         -3.68086435e-02, -1.48979872e-01,  2.30306238e-02,\n",
       "          1.24174908e-01, -8.84922445e-02,  2.59956717e-01,\n",
       "         -1.66601703e-01],\n",
       "        [-2.79866874e-01, -2.14111879e-02,  2.91891187e-01,\n",
       "         -1.50331885e-01, -1.68579906e-01, -4.28063832e-02,\n",
       "          6.71879053e-02,  2.26003751e-01, -1.45390838e-01,\n",
       "         -1.60362035e-01],\n",
       "        [-1.59134850e-01,  3.65482992e-03,  1.76100865e-01,\n",
       "          5.62808290e-02,  1.73385099e-01, -2.63421476e-01,\n",
       "         -1.82177991e-01, -2.27082074e-01,  2.65983492e-01,\n",
       "         -8.88986439e-02],\n",
       "        [ 4.93678242e-01,  1.19583122e-01,  4.39571768e-01,\n",
       "         -3.50197941e-01, -3.93603355e-01, -3.75805378e-01,\n",
       "          4.65238914e-02,  1.74212426e-01, -3.55106831e-01,\n",
       "          3.34465921e-01],\n",
       "        [ 1.21912435e-01, -5.33890165e-03,  1.84310108e-01,\n",
       "          2.74521741e-03,  1.29941016e-01,  3.61755967e-01,\n",
       "         -1.82373866e-01, -3.94841045e-01,  1.82580531e-01,\n",
       "          1.75554559e-01],\n",
       "        [-5.04654825e-01,  1.66309953e-01, -1.81169868e-01,\n",
       "          8.02253559e-02,  3.09083946e-02, -1.33516982e-01,\n",
       "          1.02052167e-01, -8.82633850e-02,  4.01313245e-01,\n",
       "          2.50687480e-01],\n",
       "        [ 2.59640336e-01,  2.53457785e-01,  3.69970262e-01,\n",
       "         -3.22791338e-01,  1.89202964e-01, -3.25528741e-01,\n",
       "          2.84666032e-01, -2.48270988e-01, -6.92916155e-01,\n",
       "          1.61826402e-01],\n",
       "        [ 2.11803447e-02, -1.49339244e-01, -2.11739257e-01,\n",
       "          1.82114914e-01,  8.12540203e-02,  3.74672800e-01,\n",
       "         -1.80612504e-01,  2.46025145e-01, -1.21955397e-02,\n",
       "         -9.37269330e-02],\n",
       "        [-2.09088862e-01, -2.37093449e-01,  1.25001431e-01,\n",
       "         -6.26440048e-01, -2.31900007e-01, -2.09931120e-01,\n",
       "         -1.22553825e-01, -3.87201518e-01,  6.23374879e-01,\n",
       "          2.96339244e-01],\n",
       "        [-2.18458563e-01, -3.03739130e-01, -2.15350032e-01,\n",
       "         -4.49704289e-01, -6.12193905e-03, -3.01478058e-01,\n",
       "          2.14099348e-01,  3.69192243e-01,  2.92839557e-01,\n",
       "         -2.20025927e-01],\n",
       "        [-3.66248846e-01,  3.85157764e-01,  2.04726696e-01,\n",
       "         -7.03613609e-02,  2.22369313e-01,  2.80082464e-01,\n",
       "          3.07697237e-01, -4.87597799e-03,  1.18678898e-01,\n",
       "         -3.85981292e-01],\n",
       "        [ 4.07140940e-01,  2.08535194e-01, -1.67751670e-01,\n",
       "         -3.97801608e-01,  1.83791086e-01,  6.14859462e-01,\n",
       "          4.62949753e-01, -1.26025125e-01, -3.24264318e-01,\n",
       "         -5.12753844e-01],\n",
       "        [ 5.04226089e-02, -3.20749640e-01, -5.35341538e-02,\n",
       "         -1.81868598e-01,  4.77672160e-01,  1.93134770e-02,\n",
       "          1.91958621e-02,  5.04707918e-02,  1.39945522e-01,\n",
       "          8.62857550e-02],\n",
       "        [-1.80137321e-01, -4.55704629e-02, -1.78945079e-01,\n",
       "          9.67988968e-02, -1.61709458e-01,  1.63627476e-01,\n",
       "          8.65646154e-02,  2.52356231e-01, -1.08253835e-02,\n",
       "          7.12512881e-02],\n",
       "        [-3.52081180e-01,  3.23286742e-01, -2.95422808e-03,\n",
       "          4.19280380e-01,  1.86305285e-01,  2.72631249e-03,\n",
       "         -3.87227386e-01,  3.72824222e-01, -2.02536002e-01,\n",
       "         -3.51105511e-01],\n",
       "        [ 7.35517368e-02, -1.68943524e-01, -5.31979948e-02,\n",
       "          4.49825794e-01,  5.90896979e-02, -3.19215119e-01,\n",
       "         -2.70567417e-01,  3.44091028e-01, -1.93120956e-01,\n",
       "         -4.29619968e-01],\n",
       "        [ 2.29532138e-01, -2.24559903e-02, -7.64028430e-02,\n",
       "         -1.56856284e-01, -8.21142271e-02,  1.27433807e-01,\n",
       "         -4.90733422e-02, -1.60598546e-01, -2.29673386e-01,\n",
       "          1.42507732e-01],\n",
       "        [-1.86003685e-01,  6.47497997e-02, -4.14303362e-01,\n",
       "         -1.82113141e-01,  3.44912440e-01, -3.92993391e-01,\n",
       "         -3.72495234e-01, -1.95310246e-02,  3.88437748e-01,\n",
       "          6.61335111e-01],\n",
       "        [ 5.65265715e-01, -3.89592677e-01, -5.29058099e-01,\n",
       "         -9.90550220e-02, -6.05619848e-02, -1.88404456e-01,\n",
       "         -5.48807122e-02, -3.93165529e-01,  1.54785365e-01,\n",
       "          3.32441807e-01],\n",
       "        [ 3.60850155e-01,  1.51991993e-01,  3.69485393e-02,\n",
       "          1.21266156e-01, -1.65563837e-01,  2.92490423e-01,\n",
       "          2.81470150e-01,  4.32721376e-01, -3.86425704e-01,\n",
       "         -3.29494536e-01],\n",
       "        [ 3.37830544e-01,  3.51238251e-01, -1.23729952e-01,\n",
       "         -2.48649046e-02, -3.91736060e-01, -1.32445738e-01,\n",
       "          6.23145215e-02, -5.39086580e-01,  6.29626215e-02,\n",
       "         -1.85023174e-01],\n",
       "        [-2.06917882e-01, -1.17025569e-01, -1.18210882e-01,\n",
       "          1.60285264e-01, -3.78274590e-01, -2.89397091e-01,\n",
       "          1.40545145e-02,  2.48308718e-01,  1.34545475e-01,\n",
       "          2.53452539e-01],\n",
       "        [-2.51010895e-01, -3.39414142e-02, -2.04830050e-01,\n",
       "         -3.90964746e-02,  6.44867420e-02, -1.83495879e-02,\n",
       "         -1.18245699e-01,  2.66955972e-01,  1.25329597e-02,\n",
       "         -1.66447446e-01],\n",
       "        [ 2.05443159e-01,  2.90556818e-01,  2.63842613e-01,\n",
       "          1.53952360e-01, -1.36089504e-01,  1.08545505e-01,\n",
       "          4.02819030e-02,  1.16980217e-01,  3.72732848e-01,\n",
       "         -2.26005256e-01],\n",
       "        [-1.96230754e-01,  2.64964681e-02, -1.00416578e-01,\n",
       "         -1.18475251e-01, -4.59644198e-01,  1.30684197e-01,\n",
       "         -3.03939164e-01,  4.04034168e-01, -2.95388490e-01,\n",
       "          4.23384130e-01],\n",
       "        [-2.45338187e-01,  9.80379060e-02,  4.88833189e-01,\n",
       "          2.27784172e-01, -2.97934741e-01, -2.18644053e-01,\n",
       "         -2.88618237e-01,  3.25174123e-01, -4.66347665e-01,\n",
       "         -3.69083770e-02],\n",
       "        [-1.96671203e-01, -4.74508196e-01,  2.81388462e-01,\n",
       "         -5.90363666e-02, -2.97887594e-01,  2.93857962e-01,\n",
       "          4.63936955e-01, -4.95728642e-01,  6.05210438e-02,\n",
       "          2.01140851e-01],\n",
       "        [-2.77280957e-01,  2.86882580e-03, -1.86897486e-01,\n",
       "          3.32537025e-01,  9.93133150e-03, -5.80402851e-01,\n",
       "          8.22252780e-02,  4.43224072e-01,  3.14026624e-01,\n",
       "         -9.19699073e-02],\n",
       "        [-2.70404905e-01,  5.45473576e-01, -3.39806765e-01,\n",
       "          1.27696633e-01, -1.38260618e-01, -5.17177820e-01,\n",
       "         -3.87954652e-01, -3.38308699e-02, -4.50916827e-01,\n",
       "          3.14230114e-01],\n",
       "        [ 1.16166681e-01,  2.50218034e-01,  1.37587255e-02,\n",
       "         -1.64717272e-01,  1.54569969e-01, -4.72016305e-01,\n",
       "          8.88676476e-03,  7.32102469e-02, -8.55425224e-02,\n",
       "          3.88390832e-02],\n",
       "        [ 3.07303429e-01, -1.99912876e-01,  1.25848800e-01,\n",
       "         -4.53378618e-01, -3.28869998e-01,  5.01927659e-02,\n",
       "          3.98432881e-01,  2.39991754e-01,  2.31058449e-01,\n",
       "         -2.73568898e-01],\n",
       "        [-1.57236174e-01,  1.83284104e-01, -4.13099736e-01,\n",
       "          3.44328284e-01, -3.55099857e-01,  4.73610580e-01,\n",
       "         -6.52921557e-01, -2.50600755e-01,  2.30559558e-01,\n",
       "          2.99681693e-01],\n",
       "        [-4.28673923e-01,  3.02659571e-02,  5.69378316e-01,\n",
       "         -4.81866390e-01,  3.16187084e-01, -8.54941458e-02,\n",
       "         -7.87873417e-02, -1.19533524e-01, -2.69614756e-02,\n",
       "         -2.63050497e-01],\n",
       "        [-1.15992734e-02, -2.29634047e-01,  4.55795020e-01,\n",
       "          1.17361680e-01,  2.49976844e-01, -1.40208006e-01,\n",
       "          1.33264318e-01,  3.99945140e-01, -1.94897145e-01,\n",
       "         -3.46754938e-01],\n",
       "        [-4.62447144e-02, -5.50255477e-02, -1.74419224e-01,\n",
       "          2.19330937e-01,  5.70107587e-02, -1.05210990e-01,\n",
       "         -5.90759441e-02, -1.78924471e-01,  1.92864239e-02,\n",
       "         -1.60325363e-01],\n",
       "        [-2.34747022e-01, -2.17059463e-01, -1.72633752e-01,\n",
       "          3.36106390e-01,  4.70383584e-01, -8.76359120e-02,\n",
       "         -4.63729292e-01,  1.49263710e-01,  3.04545969e-01,\n",
       "         -5.55778779e-02],\n",
       "        [ 4.05352324e-01,  2.18870446e-01,  6.23973608e-01,\n",
       "          4.21590507e-01,  1.42166510e-01, -6.25907958e-01,\n",
       "         -4.44483072e-01,  4.84443754e-01, -2.05226094e-01,\n",
       "         -3.91125590e-01],\n",
       "        [-2.10104123e-01,  4.01069611e-01,  3.96304935e-01,\n",
       "          2.18269423e-01, -2.89306760e-01,  2.91363418e-01,\n",
       "          4.90589470e-01,  2.05815166e-01,  1.42860040e-01,\n",
       "         -4.44445252e-01],\n",
       "        [-1.57166317e-01, -4.39112842e-01, -5.65793753e-01,\n",
       "          1.23644434e-01, -1.64862022e-01,  3.33203018e-01,\n",
       "          2.00696215e-02,  3.26565266e-01,  4.00379002e-01,\n",
       "          2.35701799e-02],\n",
       "        [ 8.60988349e-02, -2.13994160e-01,  6.64154947e-01,\n",
       "          1.00995548e-01,  1.25227138e-01, -3.51355851e-01,\n",
       "         -1.70288041e-01, -2.87695676e-01, -1.46604016e-01,\n",
       "         -1.35566279e-01],\n",
       "        [-7.64892250e-02, -4.53906298e-01,  1.30828395e-01,\n",
       "         -1.02147363e-01,  4.00363177e-01, -1.31597847e-01,\n",
       "          5.84238768e-01, -5.40800750e-01,  1.36919290e-01,\n",
       "         -1.62484586e-01],\n",
       "        [ 2.57210049e-04, -3.68639350e-01,  1.19606458e-01,\n",
       "          6.34875834e-01,  2.36706704e-01,  2.92821467e-01,\n",
       "         -1.58336572e-02, -1.42342597e-01,  2.18418717e-01,\n",
       "          3.61567497e-01],\n",
       "        [ 2.30395496e-01, -4.45583254e-01,  1.59995154e-01,\n",
       "         -7.91710392e-02, -4.48461205e-01,  3.12949240e-01,\n",
       "          4.15431038e-02,  3.49405736e-01,  2.06278086e-01,\n",
       "          4.19716954e-01],\n",
       "        [-2.29837760e-01,  1.94096535e-01,  3.25044654e-02,\n",
       "         -2.82703340e-01,  2.19981194e-01, -1.11893497e-01,\n",
       "          1.62342846e-01,  2.86522031e-01,  7.22405463e-02,\n",
       "          2.44385347e-01],\n",
       "        [ 3.48958485e-02,  2.42143050e-01,  1.94194674e-01,\n",
       "         -1.56611338e-01, -1.56732738e-01, -1.21348016e-01,\n",
       "          2.74183482e-01, -4.82843667e-02, -2.09423885e-01,\n",
       "         -1.42391399e-01]], dtype=float32)>,\n",
       " <tf.Variable 'dense_layer_3/bias:0' shape=(10,) dtype=float32, numpy=\n",
       " array([-0.10717678,  0.08743421, -0.05199969, -0.05686929,  0.041984  ,\n",
       "         0.1453558 , -0.02231294,  0.03295622, -0.10635602,  0.03698494],\n",
       "       dtype=float32)>]"
      ]
     },
     "execution_count": 33,
     "metadata": {},
     "output_type": "execute_result"
    }
   ],
   "source": [
    "model_1.weights"
   ]
  },
  {
   "cell_type": "markdown",
   "id": "fbabd16e",
   "metadata": {},
   "source": [
    "## Improved Model 2 - Adding Droupout to Avoid Overfitting"
   ]
  },
  {
   "cell_type": "code",
   "execution_count": 34,
   "id": "0253f1c3",
   "metadata": {},
   "outputs": [],
   "source": [
    "from tensorflow.keras.layers import Dropout\n",
    "\n",
    "# Most common type of model is a stack of layers\n",
    "model_2 = tf.keras.Sequential()\n",
    "n_hidden = 128\n",
    "\n",
    "# Adds a densely-connected layer with 64 units to the model:\n",
    "model_2.add(Dense(n_hidden,name = 'dense_layer',input_shape = (784,),activation = 'relu'))\n",
    "\n",
    "# Now the model will take as input arrays of shape (*, 784)# and output arrays of shape (*, 64)\n",
    "model_2.add(Dropout(0.3))\n",
    "\n",
    "# Adding another dense layer\n",
    "model_2.add(Dense(n_hidden,name = 'dense_layer_2',activation = 'relu'))\n",
    "model_2.add(Dropout(0.3))\n",
    "\n",
    "# Adding another dense layer:\n",
    "#model_2.add(Dense(N_hidden,name = 'dense_layer_3',activation = 'relu'))\n",
    "#model_2.add(Dropout(0.3))\n",
    "\n",
    "# Add an output layer with 10 output units (10 different classes):\n",
    "model_2.add(Dense(10,name = 'dense_layer_3',activation = 'softmax'))"
   ]
  },
  {
   "cell_type": "code",
   "execution_count": 35,
   "id": "af8ebaa0",
   "metadata": {},
   "outputs": [],
   "source": [
    "# compiling the model\n",
    "model_2.compile(optimizer = 'SGD',loss = 'categorical_crossentropy',metrics = ['accuracy'])"
   ]
  },
  {
   "cell_type": "code",
   "execution_count": 36,
   "id": "7e04f789",
   "metadata": {},
   "outputs": [
    {
     "name": "stdout",
     "output_type": "stream",
     "text": [
      "Epoch 1/30\n",
      "  2/375 [..............................] - ETA: 12s - loss: 2.4147 - accuracy: 0.0742WARNING:tensorflow:Callbacks method `on_train_batch_end` is slow compared to the batch time (batch time: 0.0040s vs `on_train_batch_end` time: 0.0638s). Check your callbacks.\n",
      "375/375 [==============================] - 2s 4ms/step - loss: 1.6925 - accuracy: 0.4600 - val_loss: 0.8924 - val_accuracy: 0.8128\n",
      "Epoch 2/30\n",
      "375/375 [==============================] - 1s 4ms/step - loss: 0.9108 - accuracy: 0.7203 - val_loss: 0.5192 - val_accuracy: 0.8722\n",
      "Epoch 3/30\n",
      "375/375 [==============================] - 1s 4ms/step - loss: 0.6827 - accuracy: 0.7905 - val_loss: 0.4155 - val_accuracy: 0.8917\n",
      "Epoch 4/30\n",
      "375/375 [==============================] - 1s 4ms/step - loss: 0.5862 - accuracy: 0.8218 - val_loss: 0.3636 - val_accuracy: 0.9013\n",
      "Epoch 5/30\n",
      "375/375 [==============================] - 1s 4ms/step - loss: 0.5221 - accuracy: 0.8450 - val_loss: 0.3312 - val_accuracy: 0.9069\n",
      "Epoch 6/30\n",
      "375/375 [==============================] - 1s 4ms/step - loss: 0.4828 - accuracy: 0.8569 - val_loss: 0.3100 - val_accuracy: 0.9127\n",
      "Epoch 7/30\n",
      "375/375 [==============================] - 1s 3ms/step - loss: 0.4561 - accuracy: 0.8669 - val_loss: 0.2933 - val_accuracy: 0.9170\n",
      "Epoch 8/30\n",
      "375/375 [==============================] - 1s 4ms/step - loss: 0.4262 - accuracy: 0.8722 - val_loss: 0.2781 - val_accuracy: 0.9210\n",
      "Epoch 9/30\n",
      "375/375 [==============================] - 1s 4ms/step - loss: 0.4084 - accuracy: 0.8785 - val_loss: 0.2653 - val_accuracy: 0.9233\n",
      "Epoch 10/30\n",
      "375/375 [==============================] - 1s 4ms/step - loss: 0.3893 - accuracy: 0.8857 - val_loss: 0.2548 - val_accuracy: 0.9263\n",
      "Epoch 11/30\n",
      "375/375 [==============================] - 1s 4ms/step - loss: 0.3737 - accuracy: 0.8899 - val_loss: 0.2464 - val_accuracy: 0.9282\n",
      "Epoch 12/30\n",
      "375/375 [==============================] - 1s 4ms/step - loss: 0.3594 - accuracy: 0.8947 - val_loss: 0.2382 - val_accuracy: 0.9294\n",
      "Epoch 13/30\n",
      "375/375 [==============================] - 1s 4ms/step - loss: 0.3513 - accuracy: 0.8965 - val_loss: 0.2300 - val_accuracy: 0.9327\n",
      "Epoch 14/30\n",
      "375/375 [==============================] - 1s 4ms/step - loss: 0.3386 - accuracy: 0.9023 - val_loss: 0.2230 - val_accuracy: 0.9353\n",
      "Epoch 15/30\n",
      "375/375 [==============================] - 1s 4ms/step - loss: 0.3251 - accuracy: 0.9051 - val_loss: 0.2162 - val_accuracy: 0.9373\n",
      "Epoch 16/30\n",
      "375/375 [==============================] - 1s 4ms/step - loss: 0.3172 - accuracy: 0.9069 - val_loss: 0.2116 - val_accuracy: 0.9383\n",
      "Epoch 17/30\n",
      "375/375 [==============================] - 1s 4ms/step - loss: 0.3117 - accuracy: 0.9081 - val_loss: 0.2060 - val_accuracy: 0.9402\n",
      "Epoch 18/30\n",
      "375/375 [==============================] - 1s 4ms/step - loss: 0.3024 - accuracy: 0.9114 - val_loss: 0.2002 - val_accuracy: 0.9416\n",
      "Epoch 19/30\n",
      "375/375 [==============================] - 1s 4ms/step - loss: 0.2927 - accuracy: 0.9132 - val_loss: 0.1955 - val_accuracy: 0.9436\n",
      "Epoch 20/30\n",
      "375/375 [==============================] - 1s 4ms/step - loss: 0.2874 - accuracy: 0.9148 - val_loss: 0.1912 - val_accuracy: 0.9441\n",
      "Epoch 21/30\n",
      "375/375 [==============================] - 1s 4ms/step - loss: 0.2836 - accuracy: 0.9159 - val_loss: 0.1873 - val_accuracy: 0.9452\n",
      "Epoch 22/30\n",
      "375/375 [==============================] - 1s 4ms/step - loss: 0.2770 - accuracy: 0.9179 - val_loss: 0.1841 - val_accuracy: 0.9457\n",
      "Epoch 23/30\n",
      "375/375 [==============================] - 1s 4ms/step - loss: 0.2691 - accuracy: 0.9224 - val_loss: 0.1798 - val_accuracy: 0.9477\n",
      "Epoch 24/30\n",
      "375/375 [==============================] - 1s 4ms/step - loss: 0.2655 - accuracy: 0.9230 - val_loss: 0.1759 - val_accuracy: 0.9488\n",
      "Epoch 25/30\n",
      "375/375 [==============================] - 1s 4ms/step - loss: 0.2596 - accuracy: 0.9228 - val_loss: 0.1733 - val_accuracy: 0.9494\n",
      "Epoch 26/30\n",
      "375/375 [==============================] - 1s 4ms/step - loss: 0.2557 - accuracy: 0.9246 - val_loss: 0.1700 - val_accuracy: 0.9503\n",
      "Epoch 27/30\n",
      "375/375 [==============================] - 1s 4ms/step - loss: 0.2525 - accuracy: 0.9253 - val_loss: 0.1674 - val_accuracy: 0.9513\n",
      "Epoch 28/30\n",
      "375/375 [==============================] - 1s 4ms/step - loss: 0.2446 - accuracy: 0.9279 - val_loss: 0.1649 - val_accuracy: 0.9517\n",
      "Epoch 29/30\n",
      "375/375 [==============================] - 1s 3ms/step - loss: 0.2405 - accuracy: 0.9295 - val_loss: 0.1621 - val_accuracy: 0.9522\n",
      "Epoch 30/30\n",
      "375/375 [==============================] - 1s 4ms/step - loss: 0.2368 - accuracy: 0.9311 - val_loss: 0.1597 - val_accuracy: 0.9536\n"
     ]
    }
   ],
   "source": [
    "# Training the model\n",
    "log_dir = \"logs/fit/model2\"\n",
    "tensorboard_callback = tf.keras.callbacks.TensorBoard(log_dir = log_dir,histogram_freq = 1)\n",
    "training = model_2.fit(X_train,y_train,batch_size = 128,epochs = 30,validation_split = 0.2,callbacks = tensorboard_callback)"
   ]
  },
  {
   "cell_type": "code",
   "execution_count": 37,
   "id": "acfdd361",
   "metadata": {},
   "outputs": [
    {
     "name": "stdout",
     "output_type": "stream",
     "text": [
      "dict_keys(['loss', 'accuracy', 'val_loss', 'val_accuracy'])\n"
     ]
    },
    {
     "data": {
      "image/png": "[encoded data removed]",
      "text/plain": [
       "<Figure size 432x288 with 1 Axes>"
      ]
     },
     "metadata": {
      "needs_background": "light"
     },
     "output_type": "display_data"
    },
    {
     "data": {
      "image/png": "[encoded data removed]",
      "text/plain": [
       "<Figure size 432x288 with 1 Axes>"
      ]
     },
     "metadata": {
      "needs_background": "light"
     },
     "output_type": "display_data"
    }
   ],
   "source": [
    "import matplotlib.pyplot as plt\n",
    "%matplotlib inline\n",
    "\n",
    "# List all data in training\n",
    "print(training.history.keys())\n",
    "\n",
    "#summarize training for accuracy\n",
    "plt.plot(training.history['accuracy'])\n",
    "plt.plot(training.history['val_accuracy'])\n",
    "plt.title('model accuracy')\n",
    "plt.ylabel('accuracy')\n",
    "plt.xlabel('epoch')\n",
    "plt.legend(['train', 'test'], loc='upper left')\n",
    "plt.show()\n",
    "\n",
    "# summarize traning for loss\n",
    "plt.plot(training.history['loss'])\n",
    "plt.plot(training.history['val_loss'])\n",
    "plt.title('model loss')\n",
    "plt.ylabel('loss')\n",
    "plt.xlabel('epoch')\n",
    "plt.legend(['train', 'test'], loc='upper left')\n",
    "plt.show()"
   ]
  },
  {
   "cell_type": "code",
   "execution_count": 38,
   "id": "eb2e7201",
   "metadata": {},
   "outputs": [
    {
     "name": "stdout",
     "output_type": "stream",
     "text": [
      "313/313 [==============================] - 0s 1ms/step - loss: 0.1619 - accuracy: 0.9511\n",
      "Test accuracy: 0.9510999917984009\n"
     ]
    }
   ],
   "source": [
    "#evaluate the model\n",
    "test_loss,test_acc = model_2.evaluate(X_test,y_test)\n",
    "print('Test accuracy:',test_acc)"
   ]
  },
  {
   "cell_type": "code",
   "execution_count": 39,
   "id": "b572dfa3",
   "metadata": {},
   "outputs": [
    {
     "name": "stdout",
     "output_type": "stream",
     "text": [
      "313/313 [==============================] - 0s 1ms/step - loss: 0.1619 - accuracy: 0.9511\n",
      "Loss accuracy: 0.1618952453136444\n"
     ]
    }
   ],
   "source": [
    "tes_loss,test_acc = model_2.evaluate(X_test,y_test)\n",
    "print(\"Loss accuracy:\",test_loss)"
   ]
  },
  {
   "cell_type": "code",
   "execution_count": 40,
   "id": "7bc6ffed",
   "metadata": {},
   "outputs": [
    {
     "name": "stdout",
     "output_type": "stream",
     "text": [
      "Model: \"sequential_2\"\n",
      "_________________________________________________________________\n",
      "Layer (type)                 Output Shape              Param #   \n",
      "=================================================================\n",
      "dense_layer (Dense)          (None, 128)               100480    \n",
      "_________________________________________________________________\n",
      "dropout (Dropout)            (None, 128)               0         \n",
      "_________________________________________________________________\n",
      "dense_layer_2 (Dense)        (None, 128)               16512     \n",
      "_________________________________________________________________\n",
      "dropout_1 (Dropout)          (None, 128)               0         \n",
      "_________________________________________________________________\n",
      "dense_layer_3 (Dense)        (None, 10)                1290      \n",
      "=================================================================\n",
      "Total params: 118,282\n",
      "Trainable params: 118,282\n",
      "Non-trainable params: 0\n",
      "_________________________________________________________________\n"
     ]
    }
   ],
   "source": [
    "model_2.summary()"
   ]
  },
  {
   "cell_type": "code",
   "execution_count": 41,
   "id": "21fd7514",
   "metadata": {
    "collapsed": true
   },
   "outputs": [
    {
     "data": {
      "text/plain": [
       "[<tf.Variable 'dense_layer/kernel:0' shape=(784, 128) dtype=float32, numpy=\n",
       " array([[ 0.05131067,  0.06081762,  0.05510814, ...,  0.0132321 ,\n",
       "          0.02905398, -0.05144092],\n",
       "        [-0.07953986,  0.04709723, -0.06669105, ..., -0.04684279,\n",
       "          0.07362992,  0.04027783],\n",
       "        [ 0.00571538,  0.00539138,  0.04489849, ...,  0.03528064,\n",
       "          0.04059761,  0.00885125],\n",
       "        ...,\n",
       "        [-0.03899555,  0.07803395,  0.04308169, ...,  0.05308273,\n",
       "          0.04526647, -0.02367837],\n",
       "        [-0.00428239, -0.07312328,  0.0478472 , ..., -0.03742708,\n",
       "         -0.01161475,  0.02896038],\n",
       "        [-0.05795109, -0.00686485, -0.04497369, ..., -0.02107577,\n",
       "         -0.01703857, -0.07657564]], dtype=float32)>,\n",
       " <tf.Variable 'dense_layer/bias:0' shape=(128,) dtype=float32, numpy=\n",
       " array([-8.13269988e-03,  3.69323082e-02,  4.75573987e-02, -6.77636117e-02,\n",
       "        -1.83570047e-03,  1.91848632e-02,  3.69881443e-03, -2.44126450e-02,\n",
       "         2.89162807e-02,  1.60956293e-01,  2.17694640e-02, -2.04160698e-02,\n",
       "         4.08937484e-02, -9.40957889e-02, -2.69233827e-02, -5.80613762e-02,\n",
       "         3.25930640e-02,  2.40834933e-02, -6.06582593e-03,  2.12633740e-02,\n",
       "        -1.24743804e-02,  5.15266918e-02,  1.03239454e-02,  3.45829455e-03,\n",
       "         4.05530110e-02, -4.15453129e-02,  7.12525845e-02, -1.05207831e-01,\n",
       "         9.21594203e-02, -9.52022970e-02, -8.80429149e-03, -8.26794596e-04,\n",
       "        -9.73341241e-02,  7.12758303e-02, -1.73135642e-02, -1.17443949e-02,\n",
       "         5.04513420e-02,  2.60628834e-02, -3.84737328e-02, -5.79145066e-02,\n",
       "        -4.25216369e-03,  9.63304937e-03, -1.73383160e-03,  9.46550723e-03,\n",
       "         8.50425754e-03, -1.07592549e-02,  2.43657045e-02, -8.34437925e-03,\n",
       "        -6.59354106e-02,  3.47546041e-02,  4.73423079e-02,  4.71534431e-02,\n",
       "         4.48707789e-02,  9.91831627e-03,  4.27701175e-02,  1.53698651e-02,\n",
       "         9.32791233e-02,  1.62914675e-02,  5.98877631e-02,  3.96676026e-02,\n",
       "         3.19191180e-02, -4.12687287e-02, -8.94322293e-04,  3.86375585e-03,\n",
       "        -3.26367952e-02,  1.89876789e-03, -1.82140395e-02,  7.01155886e-02,\n",
       "         9.98065155e-03, -2.73246821e-02, -1.62186399e-02,  1.70228481e-02,\n",
       "         5.55460807e-03,  1.69299562e-02,  5.58719784e-02,  1.21274233e-01,\n",
       "        -1.80822785e-03,  4.43260297e-02,  5.36563732e-02,  5.24716545e-03,\n",
       "        -7.26659894e-02, -1.60936173e-02,  5.05836047e-02,  5.40681817e-02,\n",
       "        -2.11278498e-02,  5.14238887e-02,  5.72121590e-02, -1.22864015e-01,\n",
       "         2.49648001e-02, -8.01219121e-02, -1.63959339e-02, -8.23698938e-02,\n",
       "         1.75817423e-02,  7.27630034e-02,  3.15233469e-02, -2.28531491e-02,\n",
       "         2.64514387e-02,  6.97216019e-02,  4.71629649e-02,  8.34481791e-03,\n",
       "        -2.23651156e-02,  5.77671006e-02,  4.85476628e-02,  2.12420262e-02,\n",
       "         7.63757005e-02,  1.90142654e-02, -5.24110273e-02,  2.88994852e-02,\n",
       "        -7.99687281e-02,  1.28615806e-02,  9.43677723e-02, -2.37245988e-02,\n",
       "         1.68743730e-02, -1.05932437e-01,  7.10736960e-02,  5.95668852e-02,\n",
       "         5.69035858e-02,  7.67710371e-05,  3.63618210e-02,  8.71934295e-02,\n",
       "         4.29922864e-02, -1.19588889e-01,  1.48509508e-02,  5.95200844e-02,\n",
       "         7.93444831e-03,  3.32547515e-03,  8.93909298e-03,  3.78709175e-02],\n",
       "       dtype=float32)>,\n",
       " <tf.Variable 'dense_layer_2/kernel:0' shape=(128, 128) dtype=float32, numpy=\n",
       " array([[ 0.05026465, -0.09830982, -0.04146172, ..., -0.10290178,\n",
       "         -0.07095575, -0.14911966],\n",
       "        [ 0.01135695, -0.09088545,  0.1011323 , ..., -0.09500446,\n",
       "         -0.00807968,  0.05938525],\n",
       "        [-0.03855472,  0.0728885 , -0.00614489, ..., -0.10269094,\n",
       "          0.11782463,  0.0720691 ],\n",
       "        ...,\n",
       "        [-0.11018648, -0.10810625,  0.14993109, ..., -0.14761683,\n",
       "         -0.08105708, -0.11563394],\n",
       "        [ 0.17163897,  0.18298641,  0.02129908, ..., -0.11233693,\n",
       "          0.06916066, -0.08755262],\n",
       "        [-0.07026447, -0.10526968, -0.09048781, ...,  0.00967197,\n",
       "         -0.10704596, -0.00917498]], dtype=float32)>,\n",
       " <tf.Variable 'dense_layer_2/bias:0' shape=(128,) dtype=float32, numpy=\n",
       " array([ 2.2504738e-02,  3.6217973e-02,  7.8927271e-02,  1.9718131e-02,\n",
       "         9.6136473e-02, -2.8745986e-03,  1.7089915e-02,  2.6597511e-02,\n",
       "         1.7113710e-02,  6.3969769e-02,  3.2679439e-02, -4.0187519e-02,\n",
       "         4.9645428e-02, -4.3563023e-03,  3.6377080e-02,  2.2196535e-02,\n",
       "         3.8126655e-02,  1.3537989e-02,  7.0341505e-02,  4.9755219e-02,\n",
       "        -1.0740550e-02,  4.2593356e-02,  2.5789486e-02,  2.3062611e-02,\n",
       "         8.7626129e-02,  4.7090918e-02,  3.9224900e-02,  4.4591378e-02,\n",
       "         7.7149063e-02, -4.1549612e-02,  6.5226004e-02, -1.9613054e-02,\n",
       "         6.2734246e-02,  1.7201964e-02,  4.8235626e-05,  2.6157729e-02,\n",
       "        -4.6296249e-04,  4.5791525e-02,  1.4120113e-02, -1.8130928e-02,\n",
       "         4.0163856e-02,  2.1089992e-02,  6.5361112e-02,  3.4205362e-02,\n",
       "         1.3948217e-03,  1.0815148e-02,  7.9946697e-02,  1.3583329e-02,\n",
       "         4.4928301e-02, -7.2851786e-03,  3.9054841e-02,  3.7227415e-02,\n",
       "         9.1849431e-02,  3.7128855e-02, -4.8143681e-02,  2.1592185e-02,\n",
       "         2.7011484e-02,  6.7301512e-02,  5.5296298e-02, -6.8765739e-03,\n",
       "         7.7229112e-02,  3.2377534e-02,  4.4629693e-02,  1.0040246e-02,\n",
       "         1.0135629e-02,  3.9648671e-02,  9.2072915e-03,  6.8186574e-02,\n",
       "         1.0723019e-02,  1.6043019e-02,  3.6441922e-02,  4.1741938e-03,\n",
       "         5.0927173e-02,  5.1741138e-02, -3.0565908e-02,  3.1575028e-02,\n",
       "        -9.5636882e-03, -5.5442485e-03,  8.4849626e-02, -7.7020107e-03,\n",
       "         5.0408017e-02,  2.3268895e-02, -3.0746083e-03,  6.2358219e-02,\n",
       "        -2.5138671e-02,  2.2676552e-02,  1.8145306e-02,  4.9249195e-02,\n",
       "         7.0306286e-02,  1.0254865e-02,  5.8356940e-04,  1.8378571e-02,\n",
       "         5.3935535e-02,  2.2043049e-02, -3.0366525e-02, -4.2082029e-05,\n",
       "         8.0027850e-04,  1.0022180e-01,  6.2026259e-02,  2.6424875e-02,\n",
       "         1.3671705e-02, -9.2095131e-04,  2.9696891e-02,  2.4103729e-02,\n",
       "         1.9471785e-02,  6.0538653e-02,  2.1799143e-02,  1.1958745e-01,\n",
       "        -1.9401982e-02,  1.1167960e-01,  5.9249125e-02,  4.6027759e-03,\n",
       "        -2.6051572e-02,  2.9803038e-02,  6.1901551e-02,  5.4801382e-02,\n",
       "         3.6792263e-02,  6.5998778e-02,  4.4035040e-02,  2.4356546e-02,\n",
       "        -5.2561663e-04,  8.6307146e-02,  5.7134863e-02, -2.6129412e-03,\n",
       "         1.6892754e-02,  5.2593280e-02,  1.7421030e-02,  6.2718637e-02],\n",
       "       dtype=float32)>,\n",
       " <tf.Variable 'dense_layer_3/kernel:0' shape=(128, 10) dtype=float32, numpy=\n",
       " array([[ 0.07748828, -0.09723068,  0.19200389, ...,  0.2304937 ,\n",
       "         -0.16785942,  0.09180453],\n",
       "        [-0.30748764,  0.10024936,  0.12094877, ...,  0.14288051,\n",
       "          0.01287829, -0.02126251],\n",
       "        [ 0.02121709,  0.14436972, -0.11731679, ...,  0.04460497,\n",
       "          0.25707734,  0.02957909],\n",
       "        ...,\n",
       "        [ 0.37797314, -0.06387313, -0.11326935, ...,  0.07538676,\n",
       "         -0.05884714, -0.19592567],\n",
       "        [-0.09977812, -0.27596912,  0.16600497, ..., -0.03357914,\n",
       "          0.30753845,  0.11230661],\n",
       "        [-0.22810622, -0.18196638, -0.22546998, ...,  0.1170934 ,\n",
       "          0.19406126,  0.22278203]], dtype=float32)>,\n",
       " <tf.Variable 'dense_layer_3/bias:0' shape=(10,) dtype=float32, numpy=\n",
       " array([-0.12513626,  0.18669231, -0.16388732, -0.03324783,  0.07787374,\n",
       "         0.10090524, -0.01200952,  0.03174406, -0.05894519, -0.00398889],\n",
       "       dtype=float32)>]"
      ]
     },
     "execution_count": 41,
     "metadata": {},
     "output_type": "execute_result"
    }
   ],
   "source": [
    "model_2.weights"
   ]
  },
  {
   "cell_type": "markdown",
   "id": "67282de9",
   "metadata": {},
   "source": [
    "## Improved Model 3: Changing the Optimizer - Adam"
   ]
  },
  {
   "cell_type": "code",
   "execution_count": 42,
   "id": "19135414",
   "metadata": {},
   "outputs": [],
   "source": [
    "#Most common type of model is a stack of layers\n",
    "model_3 = tf.keras.Sequential()\n",
    "N_hidden = 64\n",
    "# Adds a densely-connected layer with 64 units to the model:\n",
    "model_3.add(Dense(N_hidden,name = 'dense_Layer',input_shape = (784,),activation = 'relu'))\n",
    "# Now the model will take as input arrays of shape (*, 784)# and output arrays of shape (*, 64)\n",
    "model_3.add(Dropout(0.3))\n",
    "# Adding another dense layer:\n",
    "model_3.add(Dense(N_hidden,name = 'dense_layer_2',activation = 'relu'))\n",
    "model_3.add(Dropout(0.3))\n",
    "# After the first layer, you don't need to specify\u000b",
    "# the size of the input anymore:\n",
    "# Add an output layer with 10 output units (10 different classes):\n",
    "model_3.add(Dense(10,name = 'dense_layer_3',activation = 'softmax'))"
   ]
  },
  {
   "cell_type": "code",
   "execution_count": 43,
   "id": "a8f1005c",
   "metadata": {},
   "outputs": [],
   "source": [
    "# compiling the model\n",
    "model_3.compile(optimizer = 'Adam',loss = 'categorical_crossentropy',metrics = ['accuracy'])"
   ]
  },
  {
   "cell_type": "code",
   "execution_count": 44,
   "id": "77b8b7d3",
   "metadata": {},
   "outputs": [
    {
     "name": "stdout",
     "output_type": "stream",
     "text": [
      "Epoch 1/30\n",
      "  2/375 [..............................] - ETA: 16s - loss: 2.3431 - accuracy: 0.1562WARNING:tensorflow:Callbacks method `on_train_batch_end` is slow compared to the batch time (batch time: 0.0047s vs `on_train_batch_end` time: 0.0840s). Check your callbacks.\n",
      "375/375 [==============================] - 1s 3ms/step - loss: 0.6898 - accuracy: 0.7864 - val_loss: 0.2423 - val_accuracy: 0.9287\n",
      "Epoch 2/30\n",
      "375/375 [==============================] - 1s 3ms/step - loss: 0.3424 - accuracy: 0.9010 - val_loss: 0.1878 - val_accuracy: 0.9429\n",
      "Epoch 3/30\n",
      "375/375 [==============================] - 1s 3ms/step - loss: 0.2782 - accuracy: 0.9179 - val_loss: 0.1600 - val_accuracy: 0.9545\n",
      "Epoch 4/30\n",
      "375/375 [==============================] - 1s 3ms/step - loss: 0.2472 - accuracy: 0.9274 - val_loss: 0.1427 - val_accuracy: 0.9595\n",
      "Epoch 5/30\n",
      "375/375 [==============================] - 1s 3ms/step - loss: 0.2218 - accuracy: 0.9333 - val_loss: 0.1366 - val_accuracy: 0.9615\n",
      "Epoch 6/30\n",
      "375/375 [==============================] - 1s 3ms/step - loss: 0.2057 - accuracy: 0.9391 - val_loss: 0.1299 - val_accuracy: 0.9639\n",
      "Epoch 7/30\n",
      "375/375 [==============================] - 1s 3ms/step - loss: 0.1939 - accuracy: 0.9419 - val_loss: 0.1237 - val_accuracy: 0.9647\n",
      "Epoch 8/30\n",
      "375/375 [==============================] - 1s 3ms/step - loss: 0.1819 - accuracy: 0.9453 - val_loss: 0.1202 - val_accuracy: 0.9678\n",
      "Epoch 9/30\n",
      "375/375 [==============================] - 1s 3ms/step - loss: 0.1743 - accuracy: 0.9473 - val_loss: 0.1212 - val_accuracy: 0.9671\n",
      "Epoch 10/30\n",
      "375/375 [==============================] - 1s 3ms/step - loss: 0.1659 - accuracy: 0.9502 - val_loss: 0.1168 - val_accuracy: 0.9664\n",
      "Epoch 11/30\n",
      "375/375 [==============================] - 1s 2ms/step - loss: 0.1632 - accuracy: 0.9497 - val_loss: 0.1169 - val_accuracy: 0.9668\n",
      "Epoch 12/30\n",
      "375/375 [==============================] - 1s 3ms/step - loss: 0.1597 - accuracy: 0.9522 - val_loss: 0.1125 - val_accuracy: 0.9673\n",
      "Epoch 13/30\n",
      "375/375 [==============================] - 1s 2ms/step - loss: 0.1490 - accuracy: 0.9546 - val_loss: 0.1131 - val_accuracy: 0.9686\n",
      "Epoch 14/30\n",
      "375/375 [==============================] - 1s 2ms/step - loss: 0.1462 - accuracy: 0.9543 - val_loss: 0.1063 - val_accuracy: 0.9709\n",
      "Epoch 15/30\n",
      "375/375 [==============================] - 1s 2ms/step - loss: 0.1434 - accuracy: 0.9563 - val_loss: 0.1103 - val_accuracy: 0.9686\n",
      "Epoch 16/30\n",
      "375/375 [==============================] - 1s 2ms/step - loss: 0.1357 - accuracy: 0.9577 - val_loss: 0.1071 - val_accuracy: 0.9709\n",
      "Epoch 17/30\n",
      "375/375 [==============================] - 1s 2ms/step - loss: 0.1370 - accuracy: 0.9581 - val_loss: 0.1047 - val_accuracy: 0.9708\n",
      "Epoch 18/30\n",
      "375/375 [==============================] - 1s 2ms/step - loss: 0.1300 - accuracy: 0.9592 - val_loss: 0.1026 - val_accuracy: 0.9709\n",
      "Epoch 19/30\n",
      "375/375 [==============================] - 1s 2ms/step - loss: 0.1300 - accuracy: 0.9591 - val_loss: 0.1077 - val_accuracy: 0.9713\n",
      "Epoch 20/30\n",
      "375/375 [==============================] - 1s 2ms/step - loss: 0.1268 - accuracy: 0.9607 - val_loss: 0.1054 - val_accuracy: 0.9710\n",
      "Epoch 21/30\n",
      "375/375 [==============================] - 1s 2ms/step - loss: 0.1197 - accuracy: 0.9620 - val_loss: 0.1034 - val_accuracy: 0.9720\n",
      "Epoch 22/30\n",
      "375/375 [==============================] - 1s 2ms/step - loss: 0.1179 - accuracy: 0.9628 - val_loss: 0.1076 - val_accuracy: 0.9706\n",
      "Epoch 23/30\n",
      "375/375 [==============================] - 1s 3ms/step - loss: 0.1193 - accuracy: 0.9620 - val_loss: 0.1039 - val_accuracy: 0.9706\n",
      "Epoch 24/30\n",
      "375/375 [==============================] - 1s 2ms/step - loss: 0.1168 - accuracy: 0.9637 - val_loss: 0.0999 - val_accuracy: 0.9717\n",
      "Epoch 25/30\n",
      "375/375 [==============================] - 1s 2ms/step - loss: 0.1193 - accuracy: 0.9617 - val_loss: 0.1054 - val_accuracy: 0.9711\n",
      "Epoch 26/30\n",
      "375/375 [==============================] - 1s 2ms/step - loss: 0.1113 - accuracy: 0.9653 - val_loss: 0.1015 - val_accuracy: 0.9726\n",
      "Epoch 27/30\n",
      "375/375 [==============================] - 1s 2ms/step - loss: 0.1101 - accuracy: 0.9658 - val_loss: 0.1033 - val_accuracy: 0.9720\n",
      "Epoch 28/30\n",
      "375/375 [==============================] - 1s 2ms/step - loss: 0.1046 - accuracy: 0.9675 - val_loss: 0.0998 - val_accuracy: 0.9728\n",
      "Epoch 29/30\n",
      "375/375 [==============================] - 1s 2ms/step - loss: 0.1078 - accuracy: 0.9655 - val_loss: 0.1074 - val_accuracy: 0.9703\n",
      "Epoch 30/30\n",
      "375/375 [==============================] - 1s 3ms/step - loss: 0.1081 - accuracy: 0.9654 - val_loss: 0.1063 - val_accuracy: 0.9713\n"
     ]
    }
   ],
   "source": [
    "# Training the model\n",
    "log_dir = \"logs/fit/model3\"\n",
    "tensorboard_callback = tf.keras.callbacks.TensorBoard(log_dir = log_dir,histogram_freq = 1)\n",
    "training = model_3.fit(X_train,y_train,batch_size = 128,epochs = 30,validation_split = 0.2,callbacks = tensorboard_callback)"
   ]
  },
  {
   "cell_type": "code",
   "execution_count": 45,
   "id": "f8ac5dd4",
   "metadata": {},
   "outputs": [
    {
     "name": "stdout",
     "output_type": "stream",
     "text": [
      "dict_keys(['loss', 'accuracy', 'val_loss', 'val_accuracy'])\n"
     ]
    },
    {
     "data": {
      "image/png": "[encoded data removed]",
      "text/plain": [
       "<Figure size 432x288 with 1 Axes>"
      ]
     },
     "metadata": {
      "needs_background": "light"
     },
     "output_type": "display_data"
    },
    {
     "data": {
      "image/png": "[encoded data removed]",
      "text/plain": [
       "<Figure size 432x288 with 1 Axes>"
      ]
     },
     "metadata": {
      "needs_background": "light"
     },
     "output_type": "display_data"
    }
   ],
   "source": [
    "import matplotlib.pyplot as plt\n",
    "%matplotlib inline\n",
    "# list all data in training\n",
    "print(training.history.keys())\n",
    "# summarize training for accuracy\n",
    "plt.plot(training.history['accuracy'])\n",
    "plt.plot(training.history['val_accuracy'])\n",
    "plt.title('model accuracy')\n",
    "plt.ylabel('accuracy')\n",
    "plt.xlabel('epoch')\n",
    "plt.legend(['train', 'test'], loc='upper left')\n",
    "plt.show()\n",
    "# summarize traning for loss\n",
    "plt.plot(training.history['loss'])\n",
    "plt.plot(training.history['val_loss'])\n",
    "plt.title('model loss')\n",
    "plt.ylabel('loss')\n",
    "plt.xlabel('epoch')\n",
    "plt.legend(['train', 'test'], loc='upper left')\n",
    "plt.show()"
   ]
  },
  {
   "cell_type": "code",
   "execution_count": 46,
   "id": "68e394f3",
   "metadata": {},
   "outputs": [
    {
     "name": "stdout",
     "output_type": "stream",
     "text": [
      "313/313 [==============================] - 0s 1ms/step - loss: 0.1086 - accuracy: 0.9702\n",
      "Testing accuracy: 0.9702000021934509\n"
     ]
    }
   ],
   "source": [
    "# Evaluate the model\n",
    "test_loss,test_acc = model_3.evaluate(X_test,y_test)\n",
    "print(\"Testing accuracy:\",test_acc)"
   ]
  },
  {
   "cell_type": "code",
   "execution_count": 47,
   "id": "4fad7e4a",
   "metadata": {},
   "outputs": [
    {
     "name": "stdout",
     "output_type": "stream",
     "text": [
      "Model: \"sequential_3\"\n",
      "_________________________________________________________________\n",
      "Layer (type)                 Output Shape              Param #   \n",
      "=================================================================\n",
      "dense_Layer (Dense)          (None, 64)                50240     \n",
      "_________________________________________________________________\n",
      "dropout_2 (Dropout)          (None, 64)                0         \n",
      "_________________________________________________________________\n",
      "dense_layer_2 (Dense)        (None, 64)                4160      \n",
      "_________________________________________________________________\n",
      "dropout_3 (Dropout)          (None, 64)                0         \n",
      "_________________________________________________________________\n",
      "dense_layer_3 (Dense)        (None, 10)                650       \n",
      "=================================================================\n",
      "Total params: 55,050\n",
      "Trainable params: 55,050\n",
      "Non-trainable params: 0\n",
      "_________________________________________________________________\n"
     ]
    }
   ],
   "source": [
    "model_3.summary()"
   ]
  },
  {
   "cell_type": "code",
   "execution_count": 48,
   "id": "64db82ed",
   "metadata": {
    "collapsed": true
   },
   "outputs": [
    {
     "data": {
      "text/plain": [
       "[<tf.Variable 'dense_Layer/kernel:0' shape=(784, 64) dtype=float32, numpy=\n",
       " array([[ 0.04201759, -0.05980306, -0.03534037, ...,  0.02094178,\n",
       "         -0.01965757,  0.06213868],\n",
       "        [-0.03985437,  0.06580976, -0.00230688, ...,  0.00919537,\n",
       "         -0.07725509, -0.06030545],\n",
       "        [ 0.02118761, -0.04201064,  0.04911941, ..., -0.0079084 ,\n",
       "         -0.03162283, -0.05862965],\n",
       "        ...,\n",
       "        [-0.0766473 , -0.00063538,  0.04536005, ...,  0.03042418,\n",
       "         -0.052614  ,  0.06841821],\n",
       "        [-0.04954143, -0.01984689,  0.07833017, ...,  0.07882776,\n",
       "         -0.03356869, -0.0776487 ],\n",
       "        [ 0.0224231 , -0.0596984 , -0.00208433, ...,  0.02253415,\n",
       "          0.04094636,  0.06691942]], dtype=float32)>,\n",
       " <tf.Variable 'dense_Layer/bias:0' shape=(64,) dtype=float32, numpy=\n",
       " array([ 0.29092124,  0.18528955, -0.19040637,  0.07500774,  0.20296708,\n",
       "         0.00791793,  0.10393602, -0.00919672,  0.17004143,  0.19443297,\n",
       "         0.02291012, -0.33700275,  0.1143455 , -0.06730403,  0.05915668,\n",
       "         0.09225745, -0.17402191, -0.10881314, -0.02470834,  0.17033179,\n",
       "         0.1490548 , -0.25409338, -0.0259532 ,  0.09194813, -0.1296181 ,\n",
       "        -0.09070125,  0.11545618,  0.14887805,  0.02248599, -0.1682435 ,\n",
       "        -0.00703755, -0.28016308, -0.3987724 ,  0.05066673, -0.05919112,\n",
       "         0.10050414,  0.18573326,  0.18485285, -0.2626856 ,  0.12485447,\n",
       "        -0.30543545, -0.0915037 , -0.11548105, -0.2067745 ,  0.21535802,\n",
       "         0.15567239,  0.09829175,  0.16326171, -0.14892723,  0.15606959,\n",
       "         0.29919186, -0.0762888 ,  0.16812012, -0.13714881, -0.3259648 ,\n",
       "         0.08183735,  0.186303  , -0.04866857, -0.0519554 ,  0.06117697,\n",
       "        -0.1946627 , -0.29215628, -0.07112596, -0.03248822], dtype=float32)>,\n",
       " <tf.Variable 'dense_layer_2/kernel:0' shape=(64, 64) dtype=float32, numpy=\n",
       " array([[ 0.7507891 , -0.02598467,  0.19943832, ...,  0.15124527,\n",
       "         -0.5477748 , -0.16292134],\n",
       "        [-0.4564603 , -0.32409722,  0.29576448, ..., -0.02606285,\n",
       "          0.00637514,  0.19165644],\n",
       "        [-0.5290133 , -0.24918024, -0.04768425, ..., -0.06986334,\n",
       "          0.25371468, -0.1685048 ],\n",
       "        ...,\n",
       "        [ 0.00739977,  0.06152242,  0.05365368, ...,  0.9511824 ,\n",
       "         -0.37376153,  0.03690448],\n",
       "        [ 0.18276258, -0.39801267,  0.12898207, ..., -0.02780109,\n",
       "          0.05303582, -0.07304705],\n",
       "        [ 0.32219082,  0.04193926,  0.00637618, ...,  0.00433809,\n",
       "         -0.0236533 , -0.36028633]], dtype=float32)>,\n",
       " <tf.Variable 'dense_layer_2/bias:0' shape=(64,) dtype=float32, numpy=\n",
       " array([ 0.03887502,  0.31051502, -0.17200531,  0.15223125,  0.10570339,\n",
       "         0.2533943 ,  0.04769323,  0.18536448,  0.11642421,  0.13268174,\n",
       "        -0.2642052 ,  0.1623536 , -0.05731767,  0.22981839,  0.33189023,\n",
       "         0.16223185,  0.28810516,  0.15340579,  0.25439805,  0.49248594,\n",
       "         0.06440423,  0.4750747 ,  0.06940398, -0.21143267, -0.01785878,\n",
       "         0.01278436,  0.396214  , -0.00926083,  0.08814386, -0.09795541,\n",
       "        -0.00948991, -0.09184145,  0.26341984,  0.15643919,  0.35586056,\n",
       "         0.06689073,  0.2733227 ,  0.09530931,  0.2574409 ,  0.32665816,\n",
       "         0.15755518, -0.03020289, -0.00782278,  0.13231461,  0.18365441,\n",
       "         0.03069906,  0.01838251, -0.07305264,  0.25905216,  0.2914564 ,\n",
       "         0.20038171,  0.59859115,  0.07727857,  0.1538772 , -0.01056751,\n",
       "         0.01128786,  0.36491314,  0.15867864,  0.26088712,  0.03072338,\n",
       "         0.13623287,  0.07763005,  0.34587878, -0.07334569], dtype=float32)>,\n",
       " <tf.Variable 'dense_layer_3/kernel:0' shape=(64, 10) dtype=float32, numpy=\n",
       " array([[ 2.43995234e-01, -7.90546596e-01, -3.11302841e-01,\n",
       "         -4.31740493e-01,  1.21975698e-01,  2.54618615e-01,\n",
       "         -2.13952154e-01,  2.66219288e-01,  1.67905197e-01,\n",
       "         -1.67760566e-01],\n",
       "        [-2.95978367e-01, -4.31588650e-01, -5.90469241e-01,\n",
       "          2.85746843e-01, -6.41122639e-01,  3.16194683e-01,\n",
       "         -7.79696135e-03, -6.20732486e-01,  1.42718226e-01,\n",
       "         -1.19289458e-01],\n",
       "        [-4.49346930e-01,  2.83305228e-01,  2.36554906e-01,\n",
       "         -2.40321204e-01, -2.92666078e-01, -3.13106388e-01,\n",
       "         -3.89860064e-01,  2.73469627e-01, -3.91205341e-01,\n",
       "         -4.77376431e-01],\n",
       "        [ 2.76646048e-01,  3.27567011e-01, -1.43355221e-01,\n",
       "         -3.09370935e-01,  2.74011344e-01, -4.68945086e-01,\n",
       "          2.28998870e-01,  2.75594920e-01, -5.42146325e-01,\n",
       "          2.81301111e-01],\n",
       "        [-8.93057466e-01,  8.61543715e-02, -2.59723384e-02,\n",
       "         -2.67219216e-01,  1.52447507e-01,  2.29641981e-02,\n",
       "         -5.72793365e-01,  1.15745775e-01,  1.07470609e-01,\n",
       "          1.37244657e-01],\n",
       "        [-5.59301734e-01,  2.42137939e-01,  2.15427831e-01,\n",
       "         -3.53680477e-02, -2.31214181e-01, -2.54728049e-01,\n",
       "         -6.72544837e-02, -2.90999502e-01,  2.98586994e-01,\n",
       "          2.01470032e-01],\n",
       "        [ 1.24464519e-01, -7.68616736e-01,  1.58466592e-01,\n",
       "         -1.95962027e-01,  4.10483330e-01, -4.05657858e-01,\n",
       "          3.73046666e-01, -4.29293066e-02, -2.95075089e-01,\n",
       "         -6.48831546e-01],\n",
       "        [-6.64727151e-01,  2.72714645e-01, -3.65822017e-01,\n",
       "          2.32380465e-01,  3.46244812e-01,  1.95742548e-01,\n",
       "         -5.64331710e-01, -8.17939863e-02,  2.34385684e-01,\n",
       "         -3.94742824e-02],\n",
       "        [-5.25493741e-01, -2.00456053e-01, -2.50359058e-01,\n",
       "          3.33014458e-01, -9.85115319e-02, -4.12046432e-01,\n",
       "         -1.04946148e+00,  3.31347376e-01, -4.11445588e-01,\n",
       "          3.58387500e-01],\n",
       "        [-7.27044344e-01, -4.72025484e-01, -3.55164230e-01,\n",
       "          3.03769678e-01,  3.16449523e-01,  3.16685021e-01,\n",
       "         -4.77425694e-01,  1.09704278e-01,  2.49588624e-01,\n",
       "          2.91178018e-01],\n",
       "        [ 2.22897902e-01,  2.49494746e-01,  2.88178414e-01,\n",
       "          2.66583174e-01, -6.77394092e-01,  3.14480871e-01,\n",
       "         -2.80695260e-01,  2.78627187e-01, -3.00181955e-01,\n",
       "         -1.35755971e-01],\n",
       "        [ 1.91450372e-01,  1.36763426e-02, -2.13126510e-01,\n",
       "          1.64552254e-03, -4.87110913e-01,  1.34966895e-01,\n",
       "         -2.70921528e-01,  2.55381525e-01, -3.01275313e-01,\n",
       "          2.11195886e-01],\n",
       "        [-3.55945706e-01, -5.51589251e-01,  1.77022249e-01,\n",
       "         -1.84755921e-01,  2.36531496e-01,  3.56381983e-01,\n",
       "          2.68432945e-01,  1.41763657e-01, -3.00877929e-01,\n",
       "          2.51858830e-01],\n",
       "        [ 2.56112993e-01, -3.72693807e-01,  2.08780780e-01,\n",
       "         -1.53290704e-01,  2.04816833e-01, -5.03526367e-02,\n",
       "          2.71076888e-01, -6.78543389e-01,  1.37641624e-01,\n",
       "         -2.30143033e-02],\n",
       "        [ 1.66376993e-01, -5.92266768e-02, -3.40352774e-01,\n",
       "          1.42561406e-01, -5.36003888e-01,  1.10939726e-01,\n",
       "         -7.44405091e-01,  1.88505366e-01,  1.20432742e-01,\n",
       "          1.34062961e-01],\n",
       "        [ 9.27177742e-02,  1.54445216e-01, -2.52776623e-01,\n",
       "         -3.66363674e-01,  3.11817735e-01, -1.97844133e-01,\n",
       "          1.98506430e-01,  2.52626687e-01, -7.85028279e-01,\n",
       "          2.70413786e-01],\n",
       "        [-3.60634923e-01, -1.23897724e-01, -5.77593446e-01,\n",
       "          3.46196502e-01,  1.53144777e-01,  5.27216531e-02,\n",
       "         -4.23972696e-01, -1.14125192e-01,  3.34425896e-01,\n",
       "          3.59394491e-01],\n",
       "        [ 3.19367558e-01, -7.57143140e-01, -4.32954073e-01,\n",
       "         -1.06581457e-01, -5.18199444e-01,  2.05235347e-01,\n",
       "          2.80505985e-01, -2.74471074e-01, -5.96288264e-01,\n",
       "         -3.14831227e-01],\n",
       "        [ 6.86226040e-02, -6.04819894e-01,  2.20206320e-01,\n",
       "          6.92380816e-02,  1.91643238e-01, -4.09609228e-01,\n",
       "         -8.44098687e-01,  1.45333663e-01,  1.89151272e-01,\n",
       "          1.63281500e-01],\n",
       "        [ 3.92322809e-01,  3.24500501e-01, -3.31689209e-01,\n",
       "         -3.23466420e-01, -6.11022115e-01, -4.12432820e-01,\n",
       "          2.78994203e-01, -4.34682369e-01,  3.70584369e-01,\n",
       "         -6.79461241e-01],\n",
       "        [ 3.48563582e-01, -7.91299284e-01, -8.59729722e-02,\n",
       "         -3.93482625e-01,  3.68590981e-01,  3.11832726e-01,\n",
       "          3.56413782e-01,  1.49453178e-01, -1.39271185e-01,\n",
       "          3.62851799e-01],\n",
       "        [ 4.28853363e-01, -5.70766270e-01, -1.66622400e-01,\n",
       "          1.34077355e-01, -2.57349283e-01, -3.09238464e-01,\n",
       "         -6.23941720e-01, -1.60152629e-01,  2.84427345e-01,\n",
       "          3.58306617e-01],\n",
       "        [-9.39130604e-01,  1.09088868e-02,  1.46256328e-01,\n",
       "          2.33293936e-01,  1.37597799e-01,  2.65434176e-01,\n",
       "         -6.18530512e-01, -6.29355848e-01,  1.88454300e-01,\n",
       "          1.87022269e-01],\n",
       "        [-4.91974235e-01,  1.34718582e-01,  1.79706037e-01,\n",
       "          1.51341543e-01,  2.63190746e-01, -4.25665677e-01,\n",
       "         -2.88150430e-01,  2.14142725e-01, -3.25865358e-01,\n",
       "         -3.91600341e-01],\n",
       "        [-5.69680572e-01,  3.57159257e-01,  2.46849194e-01,\n",
       "         -4.74249423e-01, -1.67026371e-01, -3.37405682e-01,\n",
       "          3.13198239e-01, -1.62352115e-01,  9.57610980e-02,\n",
       "         -5.38731933e-01],\n",
       "        [-3.63793612e-01,  2.61810064e-01, -4.34741557e-01,\n",
       "          2.34854534e-01,  2.68676192e-01,  1.60074532e-01,\n",
       "         -9.83446121e-01,  3.36069077e-01, -3.88298899e-01,\n",
       "          3.27372372e-01],\n",
       "        [-2.79629886e-01,  4.01729405e-01, -3.57654482e-01,\n",
       "         -3.10376048e-01,  4.20492977e-01, -3.14850062e-01,\n",
       "          3.59405845e-01, -3.89572680e-01,  3.52785349e-01,\n",
       "         -5.66214919e-01],\n",
       "        [-2.74124831e-01, -3.38024460e-02,  3.30372304e-01,\n",
       "          2.92885333e-01,  2.51454800e-01, -2.00389311e-01,\n",
       "          2.25650147e-01,  5.43734618e-02,  5.46790361e-02,\n",
       "         -6.77479625e-01],\n",
       "        [ 1.55094713e-01,  1.93010151e-01,  1.95118964e-01,\n",
       "         -5.16240239e-01,  2.17768431e-01, -5.02579987e-01,\n",
       "          2.00711519e-01,  1.99535981e-01, -5.99559307e-01,\n",
       "          1.99925229e-01],\n",
       "        [-6.56167805e-01, -1.41548468e-02,  2.80323774e-01,\n",
       "          2.83921510e-01, -2.36306176e-01, -2.84983873e-01,\n",
       "          1.81317492e-03,  3.12006235e-01, -2.61099905e-01,\n",
       "         -5.35555840e-01],\n",
       "        [-8.65653232e-02, -1.28143072e-01, -2.96384059e-02,\n",
       "         -3.76763344e-01,  4.68315214e-01,  7.97771886e-02,\n",
       "         -6.49804249e-02,  1.56579673e-01, -1.39562534e-02,\n",
       "         -6.21867955e-01],\n",
       "        [-7.13192761e-01,  1.22442402e-01,  3.08538437e-01,\n",
       "          1.51108608e-01, -2.81703591e-01,  1.77697107e-01,\n",
       "         -2.55584687e-01,  3.15402895e-01,  1.23856030e-01,\n",
       "         -6.44169271e-01],\n",
       "        [ 2.75903225e-01, -9.13818926e-02,  3.21300119e-01,\n",
       "         -3.26677561e-01,  2.46453539e-01, -2.19416663e-01,\n",
       "          2.85466343e-01, -6.34648919e-01,  2.68258631e-01,\n",
       "         -2.73393858e-02],\n",
       "        [-1.71750665e-01,  3.52314979e-01, -6.28092766e-01,\n",
       "          2.87464738e-01, -2.92471051e-01,  2.42260933e-01,\n",
       "          3.34747434e-01, -2.62802970e-02, -3.01751703e-01,\n",
       "         -3.65712881e-01],\n",
       "        [-1.52030930e-01,  1.85466204e-02, -1.31915495e-01,\n",
       "         -2.37420961e-01,  2.97516227e-01, -3.95108670e-01,\n",
       "         -5.33236675e-02, -6.48468614e-01,  2.46986851e-01,\n",
       "          3.44014794e-01],\n",
       "        [-3.81372899e-01, -2.47895703e-01, -1.10099897e-01,\n",
       "         -3.10633838e-01, -3.74050319e-01,  4.09965128e-01,\n",
       "          3.74021381e-01, -2.08916441e-01,  3.66446733e-01,\n",
       "         -3.20428044e-01],\n",
       "        [-5.06277680e-01,  2.93699861e-01, -2.73214579e-01,\n",
       "          2.98432648e-01, -6.16197467e-01,  3.14407766e-01,\n",
       "          1.33650050e-01, -4.44211751e-01,  2.32563302e-01,\n",
       "          1.41881004e-01],\n",
       "        [ 3.27546209e-01,  1.83756202e-02,  2.88424939e-01,\n",
       "          2.99884826e-01, -1.81870908e-01, -2.94226497e-01,\n",
       "         -5.58427393e-01, -2.70013213e-01, -1.98175292e-02,\n",
       "         -4.66189176e-01],\n",
       "        [ 1.64348125e-01, -4.88827109e-01,  2.69331455e-01,\n",
       "          1.45592377e-01, -8.27163383e-02,  7.52377361e-02,\n",
       "          2.95784980e-01, -3.92906457e-01,  3.35490793e-01,\n",
       "         -5.60823917e-01],\n",
       "        [ 2.08470732e-01, -6.03001952e-01,  1.78141579e-01,\n",
       "         -3.19055974e-01,  5.32893697e-04,  1.98682621e-02,\n",
       "          2.59501874e-01, -8.33142400e-01,  1.76835209e-01,\n",
       "          2.30781466e-01],\n",
       "        [ 3.51834238e-01, -1.52106300e-01, -6.15825653e-01,\n",
       "         -4.10521239e-01, -3.48835409e-01,  3.59000683e-01,\n",
       "          3.75008255e-01, -2.20175877e-01,  1.27414361e-01,\n",
       "         -6.95111081e-02],\n",
       "        [ 1.42451331e-01, -3.45010072e-01, -2.43112668e-01,\n",
       "         -2.13077888e-01,  3.40531588e-01,  3.16711962e-01,\n",
       "          2.60105461e-01, -4.77712572e-01, -4.28440303e-01,\n",
       "         -1.17764831e-01],\n",
       "        [ 2.54597545e-01, -2.78324753e-01,  2.03329742e-01,\n",
       "          2.32305899e-01,  3.88083369e-01, -1.64118275e-01,\n",
       "         -2.04401299e-01,  5.19289039e-02, -3.34234834e-01,\n",
       "         -5.19610584e-01],\n",
       "        [ 1.64240673e-01, -6.82507813e-01,  1.70760527e-01,\n",
       "         -1.70729429e-01,  8.74323845e-02, -1.50223032e-01,\n",
       "         -3.96062881e-01, -4.33161765e-01, -4.17143703e-01,\n",
       "         -8.98915455e-02],\n",
       "        [-8.59534919e-01,  2.44903564e-01,  1.85459673e-01,\n",
       "         -2.22881958e-01,  4.12645005e-02,  2.49134019e-01,\n",
       "          2.36175239e-01, -3.26984257e-01,  2.66677499e-01,\n",
       "         -4.09272641e-01],\n",
       "        [-4.49363858e-01,  2.42610261e-01,  2.86215127e-01,\n",
       "          2.96401292e-01, -7.00602591e-01, -3.40063989e-01,\n",
       "         -8.33804965e-01,  3.13057214e-01,  1.51488945e-01,\n",
       "          2.17093393e-01],\n",
       "        [-7.05709398e-01,  2.40123048e-01,  1.98221490e-01,\n",
       "         -3.24339449e-01, -1.28349876e-02, -1.92152664e-01,\n",
       "          2.83671468e-01, -3.80061269e-01, -3.43868047e-01,\n",
       "         -6.92200243e-01],\n",
       "        [-3.41000080e-01,  1.45331949e-01,  1.49607956e-01,\n",
       "          1.40265182e-01,  1.89720139e-01, -5.42800307e-01,\n",
       "          8.45623910e-02,  1.27146572e-01, -5.81929386e-01,\n",
       "         -6.63093686e-01],\n",
       "        [-4.47853446e-01, -3.54937226e-01, -3.09232801e-01,\n",
       "         -1.37841493e-01,  2.85976678e-01, -3.78903240e-01,\n",
       "         -2.10917920e-01,  2.52501339e-01,  2.65891016e-01,\n",
       "          2.55123913e-01],\n",
       "        [ 2.46891961e-01, -3.45150560e-01,  1.94241554e-01,\n",
       "          1.72593713e-01, -9.75638628e-01,  1.16712600e-01,\n",
       "         -6.60844445e-01,  2.26475775e-01,  2.14735642e-01,\n",
       "         -1.29288256e-01],\n",
       "        [-1.40296146e-01,  2.23393455e-01, -5.75134218e-01,\n",
       "         -7.18338132e-01,  1.15366757e-01,  2.42879033e-01,\n",
       "         -3.61309014e-02, -1.34551510e-01,  2.74793565e-01,\n",
       "         -1.08163767e-01],\n",
       "        [-1.37227803e-01,  2.99185008e-01, -4.48811322e-01,\n",
       "         -3.36420000e-01, -5.78673780e-01, -4.21411216e-01,\n",
       "          3.77564818e-01, -7.61987448e-01,  3.07588995e-01,\n",
       "         -8.28644395e-01],\n",
       "        [-4.36866611e-01, -3.51389140e-01,  1.66824423e-02,\n",
       "          3.09326261e-01,  1.70400918e-01,  2.96480089e-01,\n",
       "         -6.09091938e-01, -6.24520063e-01,  1.10489428e-01,\n",
       "          3.44588876e-01],\n",
       "        [ 4.34161931e-01, -4.35967982e-01, -3.93215120e-01,\n",
       "         -8.44064876e-02, -2.36219242e-01,  7.58639649e-02,\n",
       "          3.10759693e-01,  4.71038878e-01, -6.74781561e-01,\n",
       "          1.28941014e-01],\n",
       "        [-5.78204811e-01,  3.05047005e-01, -6.29086792e-01,\n",
       "         -2.46159390e-01, -9.42095444e-02,  1.39651239e-01,\n",
       "          1.63152322e-01,  2.93624043e-01,  1.26605500e-02,\n",
       "          1.71367288e-01],\n",
       "        [-5.36431968e-01,  4.36260968e-01, -1.42867506e-01,\n",
       "          3.52347434e-01, -8.17588642e-02,  3.19514126e-01,\n",
       "         -2.97623307e-01, -4.21484381e-01, -2.59624362e-01,\n",
       "          1.48364097e-01],\n",
       "        [ 3.77535731e-01, -5.50656497e-01,  9.96133313e-02,\n",
       "          2.75311708e-01, -4.76311058e-01,  1.12526767e-01,\n",
       "         -1.45153865e-01, -4.73554283e-01,  3.43514651e-01,\n",
       "          1.98936388e-01],\n",
       "        [ 1.67998880e-01, -4.28613722e-01,  2.58670211e-01,\n",
       "          2.55893856e-01,  1.44798398e-01, -4.06754285e-01,\n",
       "         -7.04190016e-01,  2.48309538e-01, -2.85523266e-01,\n",
       "          2.68100142e-01],\n",
       "        [ 2.69338787e-01, -6.03770494e-01, -2.10084736e-01,\n",
       "          2.05620572e-01, -4.06557739e-01,  1.81709170e-01,\n",
       "          2.50645399e-01, -3.65812838e-01, -6.55663490e-01,\n",
       "         -4.24594879e-01],\n",
       "        [ 3.59658927e-01, -3.81761968e-01,  2.63540030e-01,\n",
       "         -2.56085575e-01, -4.90928501e-01,  7.25762993e-02,\n",
       "          3.25750083e-01,  2.03805923e-01,  2.03017607e-01,\n",
       "         -3.50730509e-01],\n",
       "        [-5.55433512e-01,  2.13435218e-01,  2.32706979e-01,\n",
       "          2.29669839e-01, -3.91493201e-01, -5.90354502e-01,\n",
       "         -5.80679536e-01,  2.30527014e-01,  1.83048323e-01,\n",
       "         -6.19455993e-01],\n",
       "        [ 1.87945068e-01,  2.00439021e-01,  2.53467441e-01,\n",
       "          2.17043728e-01, -6.50832951e-01,  2.69339949e-01,\n",
       "          6.30225688e-02,  2.49663591e-01,  2.26723343e-01,\n",
       "         -8.01536560e-01],\n",
       "        [-1.94436789e-01,  5.33626735e-01, -4.09932792e-01,\n",
       "         -2.49495506e-01, -1.85881004e-01, -8.78201187e-01,\n",
       "         -8.73167813e-02, -5.09207666e-01,  1.85418487e-01,\n",
       "          4.71574157e-01],\n",
       "        [-6.80073202e-01,  2.78779924e-01,  2.33146667e-01,\n",
       "          2.24868372e-01, -5.03024459e-01,  2.35519543e-01,\n",
       "         -1.77210629e-01, -3.43247473e-01, -4.08825010e-01,\n",
       "         -1.96108043e-01]], dtype=float32)>,\n",
       " <tf.Variable 'dense_layer_3/bias:0' shape=(10,) dtype=float32, numpy=\n",
       " array([ 0.21043484, -0.09640819, -0.32834816, -0.11225697,  0.14143066,\n",
       "        -0.10126068, -0.12281634, -0.24302974,  0.36668885,  0.2355617 ],\n",
       "       dtype=float32)>]"
      ]
     },
     "execution_count": 48,
     "metadata": {},
     "output_type": "execute_result"
    }
   ],
   "source": [
    "model_3.weights"
   ]
  },
  {
   "cell_type": "code",
   "execution_count": 49,
   "id": "408e376b",
   "metadata": {
    "collapsed": true
   },
   "outputs": [
    {
     "data": {
      "text/plain": [
       "{'name': 'sequential_3',\n",
       " 'layers': [{'class_name': 'InputLayer',\n",
       "   'config': {'batch_input_shape': (None, 784),\n",
       "    'dtype': 'float32',\n",
       "    'sparse': False,\n",
       "    'ragged': False,\n",
       "    'name': 'dense_Layer_input'}},\n",
       "  {'class_name': 'Dense',\n",
       "   'config': {'name': 'dense_Layer',\n",
       "    'trainable': True,\n",
       "    'batch_input_shape': (None, 784),\n",
       "    'dtype': 'float32',\n",
       "    'units': 64,\n",
       "    'activation': 'relu',\n",
       "    'use_bias': True,\n",
       "    'kernel_initializer': {'class_name': 'GlorotUniform',\n",
       "     'config': {'seed': None}},\n",
       "    'bias_initializer': {'class_name': 'Zeros', 'config': {}},\n",
       "    'kernel_regularizer': None,\n",
       "    'bias_regularizer': None,\n",
       "    'activity_regularizer': None,\n",
       "    'kernel_constraint': None,\n",
       "    'bias_constraint': None}},\n",
       "  {'class_name': 'Dropout',\n",
       "   'config': {'name': 'dropout_2',\n",
       "    'trainable': True,\n",
       "    'dtype': 'float32',\n",
       "    'rate': 0.3,\n",
       "    'noise_shape': None,\n",
       "    'seed': None}},\n",
       "  {'class_name': 'Dense',\n",
       "   'config': {'name': 'dense_layer_2',\n",
       "    'trainable': True,\n",
       "    'dtype': 'float32',\n",
       "    'units': 64,\n",
       "    'activation': 'relu',\n",
       "    'use_bias': True,\n",
       "    'kernel_initializer': {'class_name': 'GlorotUniform',\n",
       "     'config': {'seed': None}},\n",
       "    'bias_initializer': {'class_name': 'Zeros', 'config': {}},\n",
       "    'kernel_regularizer': None,\n",
       "    'bias_regularizer': None,\n",
       "    'activity_regularizer': None,\n",
       "    'kernel_constraint': None,\n",
       "    'bias_constraint': None}},\n",
       "  {'class_name': 'Dropout',\n",
       "   'config': {'name': 'dropout_3',\n",
       "    'trainable': True,\n",
       "    'dtype': 'float32',\n",
       "    'rate': 0.3,\n",
       "    'noise_shape': None,\n",
       "    'seed': None}},\n",
       "  {'class_name': 'Dense',\n",
       "   'config': {'name': 'dense_layer_3',\n",
       "    'trainable': True,\n",
       "    'dtype': 'float32',\n",
       "    'units': 10,\n",
       "    'activation': 'softmax',\n",
       "    'use_bias': True,\n",
       "    'kernel_initializer': {'class_name': 'GlorotUniform',\n",
       "     'config': {'seed': None}},\n",
       "    'bias_initializer': {'class_name': 'Zeros', 'config': {}},\n",
       "    'kernel_regularizer': None,\n",
       "    'bias_regularizer': None,\n",
       "    'activity_regularizer': None,\n",
       "    'kernel_constraint': None,\n",
       "    'bias_constraint': None}}]}"
      ]
     },
     "execution_count": 49,
     "metadata": {},
     "output_type": "execute_result"
    }
   ],
   "source": [
    "model_3.get_config()"
   ]
  },
  {
   "cell_type": "markdown",
   "id": "43742f55",
   "metadata": {},
   "source": [
    "## Improved Model 4: Increasing the number of Hidden Layer Neuron"
   ]
  },
  {
   "cell_type": "code",
   "execution_count": 50,
   "id": "ecd6d17c",
   "metadata": {},
   "outputs": [],
   "source": [
    "#Most common type of model is a stack of layers\n",
    "model_4 = tf.keras.Sequential()\n",
    "N_hidden = 512\n",
    "# Adds a densely-connected layer with 64 units to the model:\n",
    "model_4.add(Dense(N_hidden,name = 'dense_Layer',input_shape = (784,),activation = 'relu'))\n",
    "# Now the model will take as input arrays of shape (*, 784)# and output arrays of shape (*, 64)\n",
    "model_4.add(Dropout(0.3))\n",
    "# Adding another dense layer:\n",
    "model_4.add(Dense(N_hidden,name = 'dense_layer_2',activation = 'relu'))\n",
    "model_4.add(Dropout(0.3))\n",
    "# After the first layer, you don't need to specify # the size of the input anymore:\n",
    "# Add an output layer with 10 output units (10 different classes):\n",
    "model_4.add(Dense(10,name = 'dense_layer_3',activation = 'softmax'))"
   ]
  },
  {
   "cell_type": "code",
   "execution_count": 51,
   "id": "8e625615",
   "metadata": {},
   "outputs": [],
   "source": [
    "# compiling the model\n",
    "model_4.compile(optimizer = 'Adam',loss = 'categorical_crossentropy',metrics = ['accuracy'])"
   ]
  },
  {
   "cell_type": "code",
   "execution_count": 52,
   "id": "c0c75209",
   "metadata": {},
   "outputs": [
    {
     "name": "stdout",
     "output_type": "stream",
     "text": [
      "Epoch 1/30\n",
      "  2/375 [..............................] - ETA: 19s - loss: 2.2772 - accuracy: 0.1875WARNING:tensorflow:Callbacks method `on_train_batch_end` is slow compared to the batch time (batch time: 0.0110s vs `on_train_batch_end` time: 0.0917s). Check your callbacks.\n",
      "375/375 [==============================] - 5s 14ms/step - loss: 0.3044 - accuracy: 0.9064 - val_loss: 0.1271 - val_accuracy: 0.9626\n",
      "Epoch 2/30\n",
      "375/375 [==============================] - 6s 15ms/step - loss: 0.1273 - accuracy: 0.9601 - val_loss: 0.1038 - val_accuracy: 0.9706\n",
      "Epoch 3/30\n",
      "375/375 [==============================] - 5s 13ms/step - loss: 0.0936 - accuracy: 0.9705 - val_loss: 0.0848 - val_accuracy: 0.9745\n",
      "Epoch 4/30\n",
      "375/375 [==============================] - 5s 14ms/step - loss: 0.0732 - accuracy: 0.9768 - val_loss: 0.0801 - val_accuracy: 0.9764\n",
      "Epoch 5/30\n",
      "375/375 [==============================] - 5s 14ms/step - loss: 0.0639 - accuracy: 0.9793 - val_loss: 0.0830 - val_accuracy: 0.9752\n",
      "Epoch 6/30\n",
      "375/375 [==============================] - 5s 14ms/step - loss: 0.0533 - accuracy: 0.9825 - val_loss: 0.0724 - val_accuracy: 0.9797\n",
      "Epoch 7/30\n",
      "375/375 [==============================] - 5s 13ms/step - loss: 0.0459 - accuracy: 0.9854 - val_loss: 0.0746 - val_accuracy: 0.9780\n",
      "Epoch 8/30\n",
      "375/375 [==============================] - 5s 13ms/step - loss: 0.0391 - accuracy: 0.9873 - val_loss: 0.0844 - val_accuracy: 0.9780\n",
      "Epoch 9/30\n",
      "375/375 [==============================] - 5s 13ms/step - loss: 0.0395 - accuracy: 0.9871 - val_loss: 0.0848 - val_accuracy: 0.9783\n",
      "Epoch 10/30\n",
      "375/375 [==============================] - 5s 13ms/step - loss: 0.0338 - accuracy: 0.9887 - val_loss: 0.0819 - val_accuracy: 0.9788\n",
      "Epoch 11/30\n",
      "375/375 [==============================] - 5s 13ms/step - loss: 0.0338 - accuracy: 0.9885 - val_loss: 0.0817 - val_accuracy: 0.9802\n",
      "Epoch 12/30\n",
      "375/375 [==============================] - 5s 14ms/step - loss: 0.0308 - accuracy: 0.9896 - val_loss: 0.0815 - val_accuracy: 0.9784\n",
      "Epoch 13/30\n",
      "375/375 [==============================] - 5s 13ms/step - loss: 0.0281 - accuracy: 0.9905 - val_loss: 0.0882 - val_accuracy: 0.9784\n",
      "Epoch 14/30\n",
      "375/375 [==============================] - 5s 13ms/step - loss: 0.0262 - accuracy: 0.9913 - val_loss: 0.0905 - val_accuracy: 0.9797\n",
      "Epoch 15/30\n",
      "375/375 [==============================] - 5s 13ms/step - loss: 0.0226 - accuracy: 0.9923 - val_loss: 0.0896 - val_accuracy: 0.9807\n",
      "Epoch 16/30\n",
      "375/375 [==============================] - 5s 14ms/step - loss: 0.0265 - accuracy: 0.9914 - val_loss: 0.0856 - val_accuracy: 0.9798\n",
      "Epoch 17/30\n",
      "375/375 [==============================] - 5s 13ms/step - loss: 0.0214 - accuracy: 0.9931 - val_loss: 0.0844 - val_accuracy: 0.9820\n",
      "Epoch 18/30\n",
      "375/375 [==============================] - 5s 13ms/step - loss: 0.0225 - accuracy: 0.9924 - val_loss: 0.0830 - val_accuracy: 0.9812\n",
      "Epoch 19/30\n",
      "375/375 [==============================] - 5s 14ms/step - loss: 0.0202 - accuracy: 0.9937 - val_loss: 0.0889 - val_accuracy: 0.9797\n",
      "Epoch 20/30\n",
      "375/375 [==============================] - 5s 14ms/step - loss: 0.0220 - accuracy: 0.9927 - val_loss: 0.0885 - val_accuracy: 0.9805\n",
      "Epoch 21/30\n",
      "375/375 [==============================] - 5s 14ms/step - loss: 0.0240 - accuracy: 0.9917 - val_loss: 0.1031 - val_accuracy: 0.9782\n",
      "Epoch 22/30\n",
      "375/375 [==============================] - 5s 14ms/step - loss: 0.0193 - accuracy: 0.9938 - val_loss: 0.0941 - val_accuracy: 0.9801\n",
      "Epoch 23/30\n",
      "375/375 [==============================] - 5s 14ms/step - loss: 0.0184 - accuracy: 0.9938 - val_loss: 0.0957 - val_accuracy: 0.9807\n",
      "Epoch 24/30\n",
      "375/375 [==============================] - 5s 14ms/step - loss: 0.0213 - accuracy: 0.9928 - val_loss: 0.1103 - val_accuracy: 0.9786\n",
      "Epoch 25/30\n",
      "375/375 [==============================] - 5s 14ms/step - loss: 0.0153 - accuracy: 0.9949 - val_loss: 0.0943 - val_accuracy: 0.9821\n",
      "Epoch 26/30\n",
      "375/375 [==============================] - 6s 15ms/step - loss: 0.0164 - accuracy: 0.9946 - val_loss: 0.1085 - val_accuracy: 0.9796\n",
      "Epoch 27/30\n",
      "375/375 [==============================] - 6s 15ms/step - loss: 0.0178 - accuracy: 0.9940 - val_loss: 0.1003 - val_accuracy: 0.9805\n",
      "Epoch 28/30\n",
      "375/375 [==============================] - 6s 15ms/step - loss: 0.0171 - accuracy: 0.9948 - val_loss: 0.0930 - val_accuracy: 0.9837\n",
      "Epoch 29/30\n",
      "375/375 [==============================] - 6s 16ms/step - loss: 0.0179 - accuracy: 0.9943 - val_loss: 0.1046 - val_accuracy: 0.9805\n",
      "Epoch 30/30\n",
      "375/375 [==============================] - 5s 14ms/step - loss: 0.0170 - accuracy: 0.9947 - val_loss: 0.0944 - val_accuracy: 0.9822\n"
     ]
    }
   ],
   "source": [
    "# training the model\n",
    "log_dir = \"logs/fit/model4\"\n",
    "tensorboard_callback = tf.keras.callbacks.TensorBoard(log_dir = log_dir,histogram_freq = 1)\n",
    "training = model_4.fit(X_train,y_train,batch_size = 128,epochs = 30,validation_split = 0.2,callbacks = tensorboard_callback)"
   ]
  },
  {
   "cell_type": "code",
   "execution_count": 53,
   "id": "16c149bf",
   "metadata": {},
   "outputs": [
    {
     "name": "stdout",
     "output_type": "stream",
     "text": [
      "313/313 [==============================] - 1s 3ms/step - loss: 0.0876 - accuracy: 0.9836\n",
      "Testing Accuracy: 0.9836000204086304\n"
     ]
    }
   ],
   "source": [
    "# Evaluate the model\n",
    "test_loss,test_acc = model_4.evaluate(X_test,y_test)\n",
    "print(\"Testing Accuracy:\",test_acc)"
   ]
  },
  {
   "cell_type": "code",
   "execution_count": 54,
   "id": "defaf033",
   "metadata": {},
   "outputs": [
    {
     "name": "stdout",
     "output_type": "stream",
     "text": [
      "dict_keys(['loss', 'accuracy', 'val_loss', 'val_accuracy'])\n"
     ]
    },
    {
     "data": {
      "image/png": "[encoded data removed]",
      "text/plain": [
       "<Figure size 432x288 with 1 Axes>"
      ]
     },
     "metadata": {
      "needs_background": "light"
     },
     "output_type": "display_data"
    },
    {
     "data": {
      "image/png": "[encoded data removed]",
      "text/plain": [
       "<Figure size 432x288 with 1 Axes>"
      ]
     },
     "metadata": {
      "needs_background": "light"
     },
     "output_type": "display_data"
    }
   ],
   "source": [
    "import matplotlib.pyplot as plt\n",
    "%matplotlib inline\n",
    "# list all data in training\n",
    "print(training.history.keys())\n",
    "# summarize training for accuracy\n",
    "plt.plot(training.history['accuracy'])\n",
    "plt.plot(training.history['val_accuracy'])\n",
    "plt.title('model accuracy')\n",
    "plt.ylabel('accuracy')\n",
    "plt.xlabel('epoch')\n",
    "plt.legend(['train', 'test'], loc='upper left')\n",
    "plt.show()\n",
    "# summarize traning for loss\n",
    "plt.plot(training.history['loss'])\n",
    "plt.plot(training.history['val_loss'])\n",
    "plt.title('model loss')\n",
    "plt.ylabel('loss')\n",
    "plt.xlabel('epoch')\n",
    "plt.legend(['train', 'test'], loc='upper left')\n",
    "plt.show()"
   ]
  },
  {
   "cell_type": "code",
   "execution_count": 55,
   "id": "24244902",
   "metadata": {},
   "outputs": [
    {
     "name": "stdout",
     "output_type": "stream",
     "text": [
      "Model: \"sequential_4\"\n",
      "_________________________________________________________________\n",
      "Layer (type)                 Output Shape              Param #   \n",
      "=================================================================\n",
      "dense_Layer (Dense)          (None, 512)               401920    \n",
      "_________________________________________________________________\n",
      "dropout_4 (Dropout)          (None, 512)               0         \n",
      "_________________________________________________________________\n",
      "dense_layer_2 (Dense)        (None, 512)               262656    \n",
      "_________________________________________________________________\n",
      "dropout_5 (Dropout)          (None, 512)               0         \n",
      "_________________________________________________________________\n",
      "dense_layer_3 (Dense)        (None, 10)                5130      \n",
      "=================================================================\n",
      "Total params: 669,706\n",
      "Trainable params: 669,706\n",
      "Non-trainable params: 0\n",
      "_________________________________________________________________\n"
     ]
    }
   ],
   "source": [
    "model_4.summary()"
   ]
  },
  {
   "cell_type": "markdown",
   "id": "79095d8d",
   "metadata": {},
   "source": [
    "## Improved Model 5: Manipulating the Batch size"
   ]
  },
  {
   "cell_type": "code",
   "execution_count": 56,
   "id": "8619cd15",
   "metadata": {},
   "outputs": [],
   "source": [
    "#Most common type of model is a stack of layers\n",
    "model_5 = tf.keras.Sequential()\n",
    "N_hidden = 512\n",
    "# Adds a densely-connected layer with 64 units to the model:\n",
    "model_5.add(Dense(N_hidden,name = 'dense_Layer',input_shape = (784,),activation = 'relu'))\n",
    "# Now the model will take as input arrays of shape (*, 784)# and output arrays of shape (*, 64)\n",
    "model_5.add(Dropout(0.3))\n",
    "# Adding another dense layer:\n",
    "model_5.add(Dense(N_hidden,name = 'dense_layer_2',activation = 'relu'))\n",
    "model_5.add(Dropout(0.3))\n",
    "# After the first layer, you don't need to specify # the size of the input anymore:\n",
    "# Add an output layer with 10 output units (10 different classes):\n",
    "model_5.add(Dense(10,name = 'dense_layer_3',activation = 'softmax'))"
   ]
  },
  {
   "cell_type": "code",
   "execution_count": 57,
   "id": "fc1ee1c1",
   "metadata": {},
   "outputs": [],
   "source": [
    "# compiling the model\n",
    "model_5.compile(optimizer = 'Adam',loss = 'categorical_crossentropy',metrics = ['accuracy'])"
   ]
  },
  {
   "cell_type": "code",
   "execution_count": 58,
   "id": "325f1ae8",
   "metadata": {},
   "outputs": [
    {
     "name": "stdout",
     "output_type": "stream",
     "text": [
      "Epoch 1/30\n",
      "  2/188 [..............................] - ETA: 10s - loss: 2.2278 - accuracy: 0.2285WARNING:tensorflow:Callbacks method `on_train_batch_end` is slow compared to the batch time (batch time: 0.0229s vs `on_train_batch_end` time: 0.0872s). Check your callbacks.\n",
      "188/188 [==============================] - 5s 26ms/step - loss: 0.3631 - accuracy: 0.8907 - val_loss: 0.1469 - val_accuracy: 0.9572\n",
      "Epoch 2/30\n",
      "188/188 [==============================] - 5s 24ms/step - loss: 0.1435 - accuracy: 0.9564 - val_loss: 0.1020 - val_accuracy: 0.9679\n",
      "Epoch 3/30\n",
      "188/188 [==============================] - 5s 24ms/step - loss: 0.1021 - accuracy: 0.9686 - val_loss: 0.0939 - val_accuracy: 0.9711\n",
      "Epoch 4/30\n",
      "188/188 [==============================] - 4s 24ms/step - loss: 0.0779 - accuracy: 0.9747 - val_loss: 0.0834 - val_accuracy: 0.9753\n",
      "Epoch 5/30\n",
      "188/188 [==============================] - 4s 24ms/step - loss: 0.0619 - accuracy: 0.9802 - val_loss: 0.0779 - val_accuracy: 0.9783\n",
      "Epoch 6/30\n",
      "188/188 [==============================] - 4s 22ms/step - loss: 0.0506 - accuracy: 0.9839 - val_loss: 0.0752 - val_accuracy: 0.9787\n",
      "Epoch 7/30\n",
      "188/188 [==============================] - 4s 20ms/step - loss: 0.0435 - accuracy: 0.9854 - val_loss: 0.0774 - val_accuracy: 0.9776\n",
      "Epoch 8/30\n",
      "188/188 [==============================] - 4s 23ms/step - loss: 0.0383 - accuracy: 0.9878 - val_loss: 0.0783 - val_accuracy: 0.9799\n",
      "Epoch 9/30\n",
      "188/188 [==============================] - 4s 22ms/step - loss: 0.0344 - accuracy: 0.9892 - val_loss: 0.0749 - val_accuracy: 0.9803\n",
      "Epoch 10/30\n",
      "188/188 [==============================] - 3s 19ms/step - loss: 0.0302 - accuracy: 0.9902 - val_loss: 0.0812 - val_accuracy: 0.9789\n",
      "Epoch 11/30\n",
      "188/188 [==============================] - 4s 22ms/step - loss: 0.0291 - accuracy: 0.9904 - val_loss: 0.0778 - val_accuracy: 0.9797\n",
      "Epoch 12/30\n",
      "188/188 [==============================] - 4s 22ms/step - loss: 0.0259 - accuracy: 0.9911 - val_loss: 0.0766 - val_accuracy: 0.9812\n",
      "Epoch 13/30\n",
      "188/188 [==============================] - 4s 22ms/step - loss: 0.0257 - accuracy: 0.9909 - val_loss: 0.0817 - val_accuracy: 0.9793\n",
      "Epoch 14/30\n",
      "188/188 [==============================] - 4s 21ms/step - loss: 0.0234 - accuracy: 0.9918 - val_loss: 0.0801 - val_accuracy: 0.9812\n",
      "Epoch 15/30\n",
      "188/188 [==============================] - 4s 20ms/step - loss: 0.0224 - accuracy: 0.9923 - val_loss: 0.0820 - val_accuracy: 0.9796\n",
      "Epoch 16/30\n",
      "188/188 [==============================] - 4s 21ms/step - loss: 0.0218 - accuracy: 0.9926 - val_loss: 0.0854 - val_accuracy: 0.9804\n",
      "Epoch 17/30\n",
      "188/188 [==============================] - 4s 20ms/step - loss: 0.0204 - accuracy: 0.9929 - val_loss: 0.0858 - val_accuracy: 0.9812\n",
      "Epoch 18/30\n",
      "188/188 [==============================] - 4s 21ms/step - loss: 0.0201 - accuracy: 0.9938 - val_loss: 0.0777 - val_accuracy: 0.9828\n",
      "Epoch 19/30\n",
      "188/188 [==============================] - 4s 20ms/step - loss: 0.0176 - accuracy: 0.9940 - val_loss: 0.0860 - val_accuracy: 0.9815\n",
      "Epoch 20/30\n",
      "188/188 [==============================] - 4s 21ms/step - loss: 0.0164 - accuracy: 0.9943 - val_loss: 0.0962 - val_accuracy: 0.9794\n",
      "Epoch 21/30\n",
      "188/188 [==============================] - 4s 21ms/step - loss: 0.0174 - accuracy: 0.9938 - val_loss: 0.0842 - val_accuracy: 0.9812\n",
      "Epoch 22/30\n",
      "188/188 [==============================] - 4s 20ms/step - loss: 0.0139 - accuracy: 0.9955 - val_loss: 0.0861 - val_accuracy: 0.9825\n",
      "Epoch 23/30\n",
      "188/188 [==============================] - 4s 21ms/step - loss: 0.0135 - accuracy: 0.9953 - val_loss: 0.1016 - val_accuracy: 0.9815\n",
      "Epoch 24/30\n",
      "188/188 [==============================] - 4s 20ms/step - loss: 0.0174 - accuracy: 0.9943 - val_loss: 0.0951 - val_accuracy: 0.9809\n",
      "Epoch 25/30\n",
      "188/188 [==============================] - 4s 20ms/step - loss: 0.0151 - accuracy: 0.9949 - val_loss: 0.0946 - val_accuracy: 0.9818\n",
      "Epoch 26/30\n",
      "188/188 [==============================] - 4s 21ms/step - loss: 0.0162 - accuracy: 0.9948 - val_loss: 0.0949 - val_accuracy: 0.9803\n",
      "Epoch 27/30\n",
      "188/188 [==============================] - 4s 21ms/step - loss: 0.0146 - accuracy: 0.9951 - val_loss: 0.0914 - val_accuracy: 0.9833\n",
      "Epoch 28/30\n",
      "188/188 [==============================] - 4s 21ms/step - loss: 0.0146 - accuracy: 0.9948 - val_loss: 0.0938 - val_accuracy: 0.9822\n",
      "Epoch 29/30\n",
      "188/188 [==============================] - 4s 22ms/step - loss: 0.0114 - accuracy: 0.9960 - val_loss: 0.0943 - val_accuracy: 0.9826\n",
      "Epoch 30/30\n",
      "188/188 [==============================] - 4s 22ms/step - loss: 0.0148 - accuracy: 0.9950 - val_loss: 0.0909 - val_accuracy: 0.9813\n"
     ]
    }
   ],
   "source": [
    "# Training the model. \n",
    "log_dir = \"logs/fit/model5\"\n",
    "tensorboard_callback = tf.keras.callbacks.TensorBoard(log_dir=log_dir, histogram_freq=1)\n",
    "training = model_5.fit(X_train, y_train, batch_size=256, epochs=30, validation_split=0.2,callbacks=tensorboard_callback) \n"
   ]
  },
  {
   "cell_type": "code",
   "execution_count": 59,
   "id": "26aece81",
   "metadata": {},
   "outputs": [
    {
     "name": "stdout",
     "output_type": "stream",
     "text": [
      "dict_keys(['loss', 'accuracy', 'val_loss', 'val_accuracy'])\n"
     ]
    },
    {
     "data": {
      "image/png": "[encoded data removed]",
      "text/plain": [
       "<Figure size 432x288 with 1 Axes>"
      ]
     },
     "metadata": {
      "needs_background": "light"
     },
     "output_type": "display_data"
    },
    {
     "data": {
      "image/png": "[encoded data removed]",
      "text/plain": [
       "<Figure size 432x288 with 1 Axes>"
      ]
     },
     "metadata": {
      "needs_background": "light"
     },
     "output_type": "display_data"
    }
   ],
   "source": [
    "import matplotlib.pyplot as plt\n",
    "%matplotlib inline\n",
    "# list all data in training\n",
    "print(training.history.keys())\n",
    "# summarize training for accuracy\n",
    "plt.plot(training.history['accuracy'])\n",
    "plt.plot(training.history['val_accuracy'])\n",
    "plt.title('model accuracy')\n",
    "plt.ylabel('accuracy')\n",
    "plt.xlabel('epoch')\n",
    "plt.legend(['train', 'test'], loc='upper left')\n",
    "plt.show()\n",
    "# summarize traning for loss\n",
    "plt.plot(training.history['loss'])\n",
    "plt.plot(training.history['val_loss'])\n",
    "plt.title('model loss')\n",
    "plt.ylabel('loss')\n",
    "plt.xlabel('epoch')\n",
    "plt.legend(['train', 'test'], loc='upper left')\n",
    "plt.show()"
   ]
  },
  {
   "cell_type": "code",
   "execution_count": 60,
   "id": "e423baf2",
   "metadata": {},
   "outputs": [
    {
     "name": "stdout",
     "output_type": "stream",
     "text": [
      "313/313 [==============================] - 1s 3ms/step - loss: 0.0836 - accuracy: 0.9828\n",
      "Test accuracy: 0.9828000068664551\n"
     ]
    }
   ],
   "source": [
    "#evaluate the model\n",
    "test_loss, test_acc = model_5.evaluate(X_test, y_test)\n",
    "print('Test accuracy:', test_acc)"
   ]
  },
  {
   "cell_type": "code",
   "execution_count": 61,
   "id": "27889000",
   "metadata": {},
   "outputs": [
    {
     "name": "stdout",
     "output_type": "stream",
     "text": [
      "Model: \"sequential_5\"\n",
      "_________________________________________________________________\n",
      "Layer (type)                 Output Shape              Param #   \n",
      "=================================================================\n",
      "dense_Layer (Dense)          (None, 512)               401920    \n",
      "_________________________________________________________________\n",
      "dropout_6 (Dropout)          (None, 512)               0         \n",
      "_________________________________________________________________\n",
      "dense_layer_2 (Dense)        (None, 512)               262656    \n",
      "_________________________________________________________________\n",
      "dropout_7 (Dropout)          (None, 512)               0         \n",
      "_________________________________________________________________\n",
      "dense_layer_3 (Dense)        (None, 10)                5130      \n",
      "=================================================================\n",
      "Total params: 669,706\n",
      "Trainable params: 669,706\n",
      "Non-trainable params: 0\n",
      "_________________________________________________________________\n"
     ]
    }
   ],
   "source": [
    "model_5.summary()"
   ]
  },
  {
   "cell_type": "code",
   "execution_count": 62,
   "id": "4392752a",
   "metadata": {
    "collapsed": true
   },
   "outputs": [
    {
     "data": {
      "text/plain": [
       "[<tf.Variable 'dense_Layer/kernel:0' shape=(784, 512) dtype=float32, numpy=\n",
       " array([[ 0.03446836,  0.03943802, -0.04369894, ...,  0.01507571,\n",
       "         -0.05972882,  0.05271374],\n",
       "        [-0.04639262,  0.06068572,  0.03655616, ...,  0.04425776,\n",
       "          0.05359167, -0.05091743],\n",
       "        [ 0.00851344,  0.01603954, -0.02261734, ..., -0.01185666,\n",
       "         -0.05991272,  0.04844002],\n",
       "        ...,\n",
       "        [-0.02833301, -0.01466899,  0.01403742, ...,  0.06104521,\n",
       "          0.03805541,  0.00336831],\n",
       "        [ 0.00147992,  0.02207343,  0.02071175, ...,  0.02120471,\n",
       "         -0.01920568,  0.01746929],\n",
       "        [-0.00166811,  0.01287329,  0.04299231, ..., -0.02433392,\n",
       "          0.0448928 , -0.00510248]], dtype=float32)>,\n",
       " <tf.Variable 'dense_Layer/bias:0' shape=(512,) dtype=float32, numpy=\n",
       " array([-7.36307129e-02, -7.22994357e-02, -3.63630429e-02, -1.21127618e-02,\n",
       "        -1.24150865e-01, -1.02778487e-02, -4.89670318e-03, -1.57329999e-02,\n",
       "        -3.13738510e-02,  5.42965978e-02, -2.12632939e-02,  1.27148526e-02,\n",
       "         4.67664935e-02, -5.72694615e-02, -7.69897327e-02,  2.29100306e-02,\n",
       "        -7.43304789e-02, -7.43578151e-02, -3.43110077e-02,  3.63371558e-02,\n",
       "        -2.71263178e-02, -6.26718923e-02, -3.68446596e-02, -1.43614085e-02,\n",
       "         4.22804728e-02, -3.50912176e-02, -3.81646752e-02,  4.02061567e-02,\n",
       "        -2.68672034e-02, -1.36979399e-02,  4.32352116e-03,  2.89418083e-02,\n",
       "        -6.69840444e-03, -8.08739439e-02,  5.65682389e-02, -5.86807095e-02,\n",
       "        -6.38926253e-02,  6.73336908e-02,  1.77332778e-02, -1.90714952e-02,\n",
       "        -3.38587835e-02,  2.83097271e-02, -5.57029136e-02, -1.14431232e-01,\n",
       "        -1.05046639e-02,  1.16515942e-02,  1.06103614e-01, -2.26137079e-02,\n",
       "        -3.41600366e-02, -1.35565810e-02, -2.43935231e-02,  9.19027138e-04,\n",
       "        -1.09600602e-02, -9.09990165e-03, -8.98688510e-02,  1.57399308e-02,\n",
       "        -2.53537912e-02,  6.82913586e-02, -1.07697882e-02, -8.86273906e-02,\n",
       "         5.61684966e-02, -1.66302975e-02,  8.17449242e-02, -7.51689449e-02,\n",
       "         1.95853207e-02, -6.57983422e-02, -2.02779695e-02, -2.58007497e-02,\n",
       "        -2.45271567e-02, -8.56914651e-03, -4.39948853e-05, -9.12437290e-02,\n",
       "         6.85059130e-02, -2.49789935e-02, -5.66845834e-02,  2.19657216e-02,\n",
       "         1.69182960e-02, -7.34969005e-02,  7.54050724e-03,  1.33973183e-02,\n",
       "        -4.14308235e-02,  4.01913328e-03, -1.10240169e-02, -1.06953308e-01,\n",
       "         4.21653222e-03, -4.20599133e-02,  3.02460287e-02, -1.63573362e-02,\n",
       "        -3.34216133e-02, -1.71262175e-02, -3.15620494e-03, -4.68441099e-02,\n",
       "         1.17258668e-01, -1.93073377e-02,  1.37694627e-02,  2.17598453e-02,\n",
       "         8.64854604e-02, -1.20767616e-02,  5.28432615e-02,  1.45239905e-02,\n",
       "        -1.45283667e-02, -2.85766404e-02,  1.52685018e-02, -3.02842706e-02,\n",
       "         9.47383139e-03, -3.43631953e-02, -2.50277370e-02,  1.45536698e-02,\n",
       "        -1.50956567e-02,  2.08401075e-03,  1.22942068e-02, -7.39747062e-02,\n",
       "        -4.36695404e-02, -3.04087084e-02, -3.79489549e-02, -5.83534576e-02,\n",
       "        -3.87092605e-02,  2.87914276e-02, -4.77081947e-02, -2.59298217e-02,\n",
       "         2.22727340e-02,  2.48292070e-02,  4.42131655e-03, -6.08039573e-02,\n",
       "        -7.88104255e-03, -8.38763313e-04, -2.40824297e-02,  2.40380019e-02,\n",
       "        -3.75653729e-02,  1.88865140e-02, -5.03347516e-02, -3.07403505e-02,\n",
       "        -2.43291277e-02, -1.23804569e-01,  2.43055131e-02, -6.78152144e-02,\n",
       "         2.56161839e-02, -5.87942153e-02, -2.10852665e-03, -5.68200797e-02,\n",
       "         1.23286135e-02, -8.21631178e-02, -1.36377672e-02, -9.56176594e-02,\n",
       "        -7.05854222e-02,  2.35189013e-02, -1.10210879e-02,  2.18366226e-03,\n",
       "        -1.66102741e-02,  3.63806076e-03,  1.69691406e-02,  7.12346137e-02,\n",
       "        -2.04802654e-03,  3.95970047e-02, -3.45734730e-02, -5.74306287e-02,\n",
       "        -2.60152705e-02, -5.15566319e-02, -5.20183146e-02,  2.26555001e-02,\n",
       "        -6.02333136e-02, -1.78216910e-03, -3.65898870e-02, -1.82461701e-02,\n",
       "        -2.35723536e-02, -7.14769438e-02, -1.88717525e-02,  5.64257689e-02,\n",
       "        -2.94231903e-02, -2.77668666e-02, -5.50242588e-02, -5.14406636e-02,\n",
       "         8.62982764e-04,  2.87627056e-02, -1.42233241e-02, -4.47810255e-02,\n",
       "         1.75028536e-02, -3.04120705e-02, -6.30569234e-02,  3.29387188e-02,\n",
       "         3.92821468e-02, -2.88971215e-02,  1.45388860e-02, -1.74309909e-02,\n",
       "         2.92715877e-02,  2.22953577e-02, -5.66820614e-02, -2.07661781e-02,\n",
       "        -8.15034732e-02, -1.38994586e-02,  5.45693785e-02, -2.27304231e-02,\n",
       "        -6.31427392e-02, -6.58108741e-02,  1.54434214e-03, -1.44174784e-01,\n",
       "        -2.42944136e-02, -5.01526631e-02,  6.30593821e-02, -4.57342342e-03,\n",
       "         8.97927675e-04, -4.36093807e-02, -5.55619337e-02, -4.41052653e-02,\n",
       "        -6.31077141e-02, -2.75566280e-02, -6.46866485e-02,  8.67604986e-02,\n",
       "        -5.79576604e-02, -8.86723958e-03,  1.17726447e-02,  1.91055518e-02,\n",
       "        -1.19349854e-02, -1.47368088e-02,  9.23848827e-04,  4.58993055e-02,\n",
       "         1.24520801e-01, -2.93447133e-02, -7.33061805e-02,  4.20645298e-03,\n",
       "        -8.60188529e-02,  2.97974772e-03,  4.30780500e-02,  5.29748620e-03,\n",
       "        -3.76960933e-02,  6.97985739e-02,  2.50033103e-02, -3.35481316e-02,\n",
       "         1.07691929e-01, -2.53504571e-02, -3.48978192e-02,  4.69724555e-03,\n",
       "        -2.37779878e-02,  3.86026911e-02,  4.10043560e-02,  3.97868417e-02,\n",
       "        -2.29489524e-02,  3.94561663e-02, -2.42551062e-02, -2.01079436e-03,\n",
       "         2.34613977e-02, -5.36587834e-02, -4.01110239e-02, -2.80783931e-03,\n",
       "        -3.46038714e-02, -2.24432722e-02,  1.50015997e-02, -4.49268073e-02,\n",
       "         1.52504572e-03, -3.24637443e-02, -4.81968522e-02, -4.76050451e-02,\n",
       "        -4.54230187e-03,  7.66202435e-02, -5.36387274e-03, -2.78427806e-02,\n",
       "         1.43501582e-02, -9.30106863e-02,  1.41728418e-02, -3.49163450e-02,\n",
       "        -9.60006714e-02, -7.50808716e-02,  1.68766510e-02,  4.53566760e-02,\n",
       "        -7.83663467e-02, -1.85003821e-02, -9.38286632e-03, -4.56773974e-02,\n",
       "        -4.42275554e-02, -1.88640691e-02, -6.13463763e-03,  2.65404861e-02,\n",
       "         2.20577698e-02, -5.00085317e-02, -4.13395837e-02,  9.72767919e-02,\n",
       "        -1.02457538e-01, -4.02581096e-02, -1.12546571e-02, -5.34655862e-02,\n",
       "         1.47423595e-02, -1.25785759e-02, -4.21631858e-02, -4.36578654e-02,\n",
       "        -3.14425230e-02,  1.28019005e-02, -1.77844018e-02, -1.78426392e-02,\n",
       "        -4.46387976e-02, -1.90348141e-02, -2.32991553e-03, -5.66835254e-02,\n",
       "        -4.37941588e-02, -2.69126613e-02, -2.86817681e-02,  2.20493576e-03,\n",
       "        -4.25650589e-02, -6.86066598e-03, -4.32675928e-02,  1.63146376e-03,\n",
       "        -4.21779081e-02, -3.55985463e-02, -4.08485495e-02, -2.66284626e-02,\n",
       "        -1.85387544e-02, -1.06279701e-01, -1.75080597e-02,  1.39456876e-02,\n",
       "        -1.93113964e-02,  1.04034413e-02, -7.08092526e-02, -3.35793616e-03,\n",
       "        -4.61541824e-02,  7.28271604e-02, -6.74992846e-03, -4.65176272e-04,\n",
       "        -3.01959142e-02,  6.96344525e-02, -4.10731472e-02,  2.29319911e-02,\n",
       "        -2.95445286e-02,  9.71383676e-02, -8.95583257e-03,  5.14239334e-02,\n",
       "        -7.40467384e-03,  1.65480841e-02,  4.95690899e-03, -5.49171120e-02,\n",
       "        -2.90527083e-02, -2.43115164e-02, -3.06703486e-02, -2.14180835e-02,\n",
       "        -7.29230121e-02,  1.40860153e-03,  9.22909006e-02, -1.23654203e-02,\n",
       "        -4.82812747e-02, -9.56330225e-02, -3.04143801e-02, -4.97533381e-02,\n",
       "         2.36002561e-02, -9.44174230e-02,  2.58088131e-02, -7.94979483e-02,\n",
       "         2.79138461e-02, -4.66670729e-02, -1.75496619e-02,  1.34055037e-02,\n",
       "         2.62769852e-02, -1.19267486e-03, -3.75345461e-02, -4.98322919e-02,\n",
       "        -6.97453693e-02, -9.74321272e-03, -4.88985255e-02, -3.14035565e-02,\n",
       "        -6.36108890e-02, -3.19254361e-02, -5.88860549e-03, -5.92504814e-02,\n",
       "        -1.31930500e-01, -3.83455642e-02,  7.50420243e-02, -4.12615240e-02,\n",
       "        -6.74560741e-02, -4.59258296e-02, -5.63173778e-02, -2.50944439e-02,\n",
       "        -2.08105869e-03, -7.56565556e-02, -8.63976926e-02, -5.39401779e-03,\n",
       "        -3.60780992e-02, -4.96960953e-02, -3.91715765e-02,  3.41899460e-03,\n",
       "        -1.46074397e-02, -2.65123527e-02,  2.29667351e-02, -3.98984551e-02,\n",
       "         1.31731341e-02,  3.54890525e-02,  2.74019334e-02, -4.22163829e-02,\n",
       "         1.35169718e-02,  6.72816858e-03, -4.99683246e-03, -2.04768684e-02,\n",
       "        -3.25903557e-02, -2.41783857e-02, -4.80013452e-02, -1.76610742e-02,\n",
       "        -2.73361076e-02,  4.58598435e-02, -4.70843390e-02,  4.33766209e-02,\n",
       "        -1.94409322e-02,  2.89894901e-02,  1.44042447e-02, -1.90986518e-03,\n",
       "        -2.78430227e-02,  1.59799997e-02,  2.66700611e-02, -6.26168177e-02,\n",
       "        -7.42084906e-02, -4.16313410e-02, -8.63859057e-03, -1.23950690e-02,\n",
       "        -3.88803636e-03,  4.34223898e-02, -2.96404716e-02, -4.37407289e-03,\n",
       "        -3.20053287e-02, -1.03328079e-02,  7.54058138e-02, -4.56607156e-02,\n",
       "         1.77666787e-02, -9.40569937e-02,  2.01303884e-02, -3.56410141e-03,\n",
       "         1.33626293e-02, -1.97566133e-02, -4.20855358e-02,  1.80174913e-02,\n",
       "        -2.79895514e-02, -1.75361894e-02, -1.02944680e-01, -2.83683538e-02,\n",
       "         2.52629183e-02,  3.04941218e-02, -6.40358031e-02,  1.22052443e-03,\n",
       "        -2.22867597e-02, -4.99503920e-03,  6.92057982e-02, -1.30253751e-02,\n",
       "        -7.37096593e-02,  3.15629952e-02, -5.52709736e-02,  1.79922283e-02,\n",
       "         1.77889131e-02, -1.24475367e-01, -4.52434272e-02, -1.12187453e-01,\n",
       "        -2.27485262e-02, -3.26018184e-02,  4.98578772e-02,  7.49772647e-03,\n",
       "         2.21478939e-02,  3.96885425e-02,  1.04446802e-02,  1.56093100e-02,\n",
       "        -1.03319371e-02,  6.70854375e-02, -1.30301649e-02, -5.18379686e-03,\n",
       "        -3.77312154e-02,  2.39973329e-02, -9.32352021e-02, -1.23172458e-02,\n",
       "         9.02162716e-02,  1.48459906e-02, -1.33796316e-02, -7.13063637e-03,\n",
       "        -5.12446230e-03, -5.43803684e-02,  6.21861022e-04, -6.52756542e-02,\n",
       "         5.62894121e-02, -4.51713689e-02,  2.10050847e-02,  7.98437372e-03,\n",
       "        -6.53861910e-02,  2.05435250e-02, -3.95141840e-02, -3.98923159e-02,\n",
       "         6.03183955e-02, -3.01099215e-02,  8.70042108e-03, -2.59838682e-02,\n",
       "        -6.19505011e-02,  1.69461593e-02, -8.39577988e-02, -1.59255788e-02,\n",
       "        -5.03589585e-02, -2.49633137e-02,  1.10603608e-02, -2.97588930e-02,\n",
       "        -2.14326642e-02, -2.94582639e-02,  1.50970472e-02, -7.37068728e-02,\n",
       "        -1.32365778e-01, -6.08183034e-02,  1.75050832e-02, -2.37395205e-02,\n",
       "         2.22447924e-02, -3.62484008e-02, -2.61265859e-02,  6.90526962e-02,\n",
       "        -1.01354159e-01, -3.79225351e-02, -1.04234546e-01,  3.00029572e-03,\n",
       "        -3.34535725e-02, -2.32286914e-03,  1.34210987e-02, -6.35716096e-02,\n",
       "         2.95661436e-03, -4.03433852e-02, -5.10217212e-02,  5.65923154e-02],\n",
       "       dtype=float32)>,\n",
       " <tf.Variable 'dense_layer_2/kernel:0' shape=(512, 512) dtype=float32, numpy=\n",
       " array([[-0.02192626, -0.07035454,  0.01826029, ..., -0.09828918,\n",
       "         -0.18861522, -0.06130637],\n",
       "        [ 0.02085355,  0.17772213, -0.04564412, ...,  0.07079575,\n",
       "         -0.11494749, -0.05186925],\n",
       "        [-0.05169115,  0.05308584, -0.08283117, ...,  0.02152261,\n",
       "         -0.11904519, -0.21834922],\n",
       "        ...,\n",
       "        [-0.02709148,  0.08838866, -0.00586584, ...,  0.10135943,\n",
       "          0.07641385,  0.08903055],\n",
       "        [-0.05548109,  0.05310459,  0.01491456, ..., -0.02412734,\n",
       "         -0.01634201,  0.03277013],\n",
       "        [-0.09830327,  0.01853828, -0.15178967, ..., -0.12474876,\n",
       "         -0.1092485 , -0.04961143]], dtype=float32)>,\n",
       " <tf.Variable 'dense_layer_2/bias:0' shape=(512,) dtype=float32, numpy=\n",
       " array([ 1.23613663e-01,  3.98901328e-02,  5.76293729e-02, -8.23345184e-02,\n",
       "         1.11122213e-01, -1.53049201e-01,  7.89352134e-02,  1.26562148e-01,\n",
       "         3.96851748e-02, -3.94265316e-02,  3.50833423e-02, -3.17303054e-02,\n",
       "         1.32141277e-01,  8.96759331e-02,  4.29040417e-02,  3.51161435e-02,\n",
       "         2.28802878e-02,  1.12138771e-01, -3.33520994e-02,  7.86992908e-02,\n",
       "         1.80663481e-01, -5.51238656e-03, -1.99313443e-02,  1.06186792e-01,\n",
       "        -1.98466592e-02, -4.83663343e-02,  4.34126817e-02, -4.04493846e-02,\n",
       "         4.64648753e-02, -8.46896227e-03, -5.30222803e-02, -1.53927859e-02,\n",
       "         1.17128426e-02,  4.25319895e-02,  6.20084964e-02, -4.73067425e-02,\n",
       "        -8.84632915e-02,  7.63989240e-02,  9.40780044e-02,  8.35363120e-02,\n",
       "        -4.70423847e-02,  4.46320623e-02,  1.71477087e-02, -1.18889742e-01,\n",
       "        -5.41249067e-02,  6.51186425e-03,  4.65702005e-02, -3.33270431e-02,\n",
       "         9.55672413e-02, -1.48493275e-02,  1.20108640e-02, -1.03787579e-01,\n",
       "        -1.94309298e-02,  2.98606772e-02,  1.01230815e-01,  6.51632175e-02,\n",
       "        -3.97297964e-02,  1.02798492e-01, -5.06981686e-02,  1.41015425e-01,\n",
       "        -3.08787730e-02,  1.03641026e-01,  6.73065037e-02,  3.00391074e-02,\n",
       "        -7.67039135e-02, -6.40087901e-03,  7.31352717e-02, -9.57919732e-02,\n",
       "         5.22991419e-02, -5.01986928e-02, -5.20782033e-03,  2.30084378e-02,\n",
       "         3.50041548e-03,  3.01695727e-02, -5.77605031e-02,  7.89737888e-03,\n",
       "         1.40773863e-01, -2.49410197e-02,  1.67227626e-01, -6.29444793e-02,\n",
       "         4.30223010e-02, -1.35954609e-02, -9.41397771e-02, -3.75518203e-03,\n",
       "        -1.33385748e-01,  1.05493687e-01,  8.88955072e-02,  3.15265693e-02,\n",
       "         1.17266163e-01,  6.64291531e-02, -1.82802621e-02, -1.21124405e-02,\n",
       "         1.32264728e-02, -6.81189299e-02,  5.62942401e-02, -4.36076149e-02,\n",
       "        -2.23262236e-02,  6.85538054e-02, -4.26001055e-03,  7.81045705e-02,\n",
       "         6.16586059e-02,  1.07641891e-01, -7.92584289e-03,  3.89714241e-02,\n",
       "        -4.36441414e-02, -7.85669684e-02, -1.36286214e-01, -7.33928755e-02,\n",
       "        -6.65683113e-03,  1.05881482e-01,  1.00120045e-01,  5.78070544e-02,\n",
       "         1.08502671e-01, -3.08800321e-02,  5.89079298e-02, -5.45114987e-02,\n",
       "        -5.95586784e-02,  1.22182295e-02,  1.07747912e-01,  3.15962881e-02,\n",
       "        -3.32118496e-02, -3.50853987e-03,  1.27734970e-02,  1.38605880e-02,\n",
       "         4.12526308e-03, -5.28636687e-02, -7.59494901e-02, -2.78082974e-02,\n",
       "         7.52872601e-02,  3.53692099e-02, -1.47975832e-01,  2.50308141e-02,\n",
       "         2.52923463e-03, -3.43154408e-02, -1.74088888e-02, -4.81585190e-02,\n",
       "         2.84986086e-02, -5.62238209e-02, -3.85455862e-02, -1.85378361e-02,\n",
       "         7.23113418e-02, -4.35921960e-02, -3.72077292e-03, -3.91023532e-02,\n",
       "         5.47382049e-02,  5.08451983e-02,  1.24905771e-02,  1.11717787e-02,\n",
       "         3.48665006e-02,  1.54510671e-02,  1.32663744e-02, -6.30137473e-02,\n",
       "        -3.10693458e-02, -9.59455688e-03, -9.10799727e-02, -1.25181144e-02,\n",
       "        -5.15366308e-02,  1.24619968e-01, -1.22741470e-03,  6.39312044e-02,\n",
       "         1.07660413e-01, -2.49873158e-02,  3.09776813e-02, -3.42071503e-02,\n",
       "         3.69663606e-03,  6.43962100e-02,  1.14542156e-01,  5.04430756e-02,\n",
       "         4.50643934e-02, -5.29090501e-02,  1.16028450e-02, -6.14843816e-02,\n",
       "        -3.95200886e-02,  3.01714009e-03,  1.25914142e-01,  1.05492570e-01,\n",
       "         1.18049383e-01,  8.37529674e-02,  1.07694743e-02,  3.49916751e-03,\n",
       "         2.99921557e-02,  5.24499752e-02,  3.60699743e-02,  3.59136276e-02,\n",
       "         1.50615750e-02,  5.01283742e-02, -1.83511712e-02,  5.49617112e-02,\n",
       "         7.49293640e-02,  7.87169114e-02, -1.17753416e-01, -1.42798480e-02,\n",
       "        -2.99748965e-03,  8.54798499e-03, -5.51606826e-02,  6.61800951e-02,\n",
       "        -1.86610427e-02,  7.74956718e-02, -6.17708750e-02, -4.55265120e-02,\n",
       "         6.85233325e-02, -1.71118453e-02, -1.02880411e-02,  3.32083739e-02,\n",
       "        -1.09852895e-01, -4.92271557e-02,  9.86607298e-02, -1.96032859e-02,\n",
       "         3.74927707e-02, -4.64763641e-02, -3.64593863e-02, -2.18934380e-02,\n",
       "        -6.83399215e-02,  8.51275623e-02,  2.31106803e-02, -5.57053573e-02,\n",
       "        -7.21139014e-02, -6.88047409e-02,  1.19898707e-01, -5.17892912e-02,\n",
       "        -3.42777893e-02, -3.42731290e-02, -6.86881170e-02,  8.64771083e-02,\n",
       "         9.90688354e-02,  6.61968961e-02,  7.48601630e-02,  8.22430104e-02,\n",
       "         7.03182444e-02, -3.90344253e-03,  3.08306832e-02,  2.59234887e-02,\n",
       "        -5.37625216e-02, -6.03944249e-02, -2.03748103e-02, -7.14462250e-02,\n",
       "         3.87531370e-02, -7.31399134e-02,  7.40623400e-02,  1.19207829e-01,\n",
       "         1.09091282e-01, -5.57740033e-02,  1.05435960e-02,  9.99459475e-02,\n",
       "         1.25959754e-01, -6.47012144e-02,  4.16166931e-02, -4.89243492e-02,\n",
       "         7.78971016e-02, -5.23063280e-02,  4.71032597e-03,  6.77129850e-02,\n",
       "        -3.35356034e-02,  4.43057381e-02,  1.88408028e-02,  1.19559164e-03,\n",
       "        -3.15105766e-02,  8.88701081e-02,  1.33739844e-01, -5.66662429e-03,\n",
       "        -2.27196235e-02,  1.08695813e-01, -2.65834499e-02,  6.92128316e-02,\n",
       "        -2.75129103e-03, -7.15577453e-02,  6.78812328e-04,  1.13232836e-01,\n",
       "         1.10448532e-01, -7.88909383e-03,  5.78830466e-02, -7.30022490e-02,\n",
       "         8.14025924e-02,  6.94997162e-02, -1.05257615e-01, -4.24798392e-02,\n",
       "         5.99408783e-02,  7.16902390e-02, -7.80425370e-02,  2.60843500e-03,\n",
       "         6.14851378e-02, -7.25023597e-02,  7.37483948e-02,  2.85810251e-02,\n",
       "         2.16857400e-02, -4.62133586e-02, -4.83146608e-02, -7.82467723e-02,\n",
       "        -2.15581767e-02,  1.09871604e-01,  7.73605779e-02, -4.44832537e-03,\n",
       "         1.85908657e-02, -1.02157891e-02,  6.70002028e-03,  7.74768591e-02,\n",
       "        -9.15335864e-02,  1.19948298e-01,  7.66807795e-02,  7.06376741e-03,\n",
       "         2.93240342e-02,  9.29417834e-02, -5.95957153e-02, -1.14810709e-02,\n",
       "        -5.48923351e-02,  1.10228062e-01, -2.19042748e-02, -1.39873847e-01,\n",
       "        -2.15675402e-02, -2.52844207e-02,  7.32847452e-02,  5.36697265e-03,\n",
       "         3.58690843e-02,  8.91176909e-02,  3.61663848e-02,  5.06958589e-02,\n",
       "        -4.54955176e-02, -3.12266555e-02,  1.07599936e-01, -1.11305267e-01,\n",
       "        -6.34909421e-02, -9.38659068e-03, -8.29058066e-02,  1.66726150e-02,\n",
       "        -2.48412471e-02,  1.17974326e-01,  8.29840451e-02,  7.46085718e-02,\n",
       "        -5.17662019e-02,  9.07303244e-02, -4.52080742e-02,  1.11409649e-01,\n",
       "         2.63199639e-02, -4.16489430e-02,  3.68671492e-02,  6.70772791e-02,\n",
       "         7.90271722e-03, -3.92787158e-02, -3.40124331e-02, -4.31673564e-02,\n",
       "         2.51741484e-02, -1.92212630e-02,  3.25004309e-02,  8.03701803e-02,\n",
       "         3.22854221e-02, -6.70279935e-02, -3.48963067e-02,  1.05192147e-01,\n",
       "         4.99721728e-02,  3.93952243e-02,  7.77459741e-02, -1.51435519e-03,\n",
       "        -1.58657786e-04,  1.99547745e-02, -8.91839042e-02, -5.35660377e-03,\n",
       "        -1.40686437e-01, -6.57500774e-02, -4.38799262e-02,  8.60523283e-02,\n",
       "         1.13084354e-01,  2.73319520e-03,  5.67686111e-02,  5.51300570e-02,\n",
       "        -1.29017397e-03, -6.93913475e-02, -9.91922989e-02,  1.69422124e-02,\n",
       "        -4.79631424e-02, -1.32920712e-01, -4.01184559e-02,  8.10522065e-02,\n",
       "        -1.78628881e-02, -7.66185075e-02, -1.11215143e-02, -1.77421179e-02,\n",
       "        -5.31407446e-02, -7.60402307e-02,  4.84848581e-02,  3.94680761e-02,\n",
       "         9.08110812e-02, -4.62783389e-02, -4.96025756e-02, -3.12597072e-03,\n",
       "        -8.64505023e-02,  2.68844124e-02, -3.75530347e-02,  6.70719743e-02,\n",
       "        -4.22279611e-02, -7.07968473e-02,  9.33085307e-02, -7.27757141e-02,\n",
       "         3.91997695e-02, -7.58085074e-03, -2.50200015e-02,  8.59153084e-03,\n",
       "        -7.44578466e-02,  1.34826243e-01, -5.06635085e-02, -3.47722955e-02,\n",
       "        -1.90377533e-02,  9.02763680e-02, -9.48605239e-02, -8.56137350e-02,\n",
       "         1.16077289e-01,  6.05814718e-02,  1.30899534e-01,  3.28159370e-02,\n",
       "         5.20727877e-03,  1.59602001e-01,  4.10268568e-02,  2.19334792e-02,\n",
       "        -8.63232277e-03,  1.28249466e-01,  8.32440704e-02,  6.83454126e-02,\n",
       "        -5.86016988e-03, -7.47930780e-02,  1.50896534e-01,  9.63977166e-03,\n",
       "        -1.11203544e-01, -9.40424204e-02, -8.65604654e-02, -3.48793454e-02,\n",
       "         1.10920340e-01,  4.53710034e-02,  3.80655080e-02, -4.91040796e-02,\n",
       "         1.53636500e-01, -3.80074792e-02,  1.30036324e-01,  5.80102531e-03,\n",
       "        -6.93855584e-02, -8.04229900e-02,  7.21562207e-02, -3.68322730e-02,\n",
       "        -5.53804869e-03,  1.06168494e-01, -4.33070725e-03, -3.73802818e-02,\n",
       "        -5.86742237e-02,  6.05362505e-02, -3.91154811e-02,  7.73566365e-02,\n",
       "        -9.02206078e-02,  2.62801461e-02, -4.86887097e-02, -5.61248744e-03,\n",
       "        -9.75028891e-03,  3.00231762e-02,  1.72017310e-02, -7.89944679e-02,\n",
       "        -8.47257376e-02,  6.37070462e-02,  7.02475291e-03,  1.44015085e-02,\n",
       "        -5.68350358e-03,  1.05476432e-01,  6.73257094e-03,  1.43755421e-01,\n",
       "        -9.55789164e-02,  9.95611474e-02, -1.50355138e-02, -1.26429066e-01,\n",
       "         6.94057941e-02,  3.79183479e-02,  9.57866199e-03, -6.33052364e-02,\n",
       "         4.78095300e-02,  4.96869050e-02,  1.32166192e-01, -1.46437855e-02,\n",
       "         4.08647172e-02, -6.23140372e-02, -1.56593025e-02, -8.58534053e-02,\n",
       "        -6.36486039e-02,  2.77881864e-02, -5.74292205e-02, -3.45484540e-02,\n",
       "         1.78784747e-02, -1.38305388e-02, -1.08511321e-01, -3.81735340e-02,\n",
       "        -2.33771876e-02,  1.40525892e-01,  7.78763890e-02,  1.95992496e-02,\n",
       "         7.69831166e-02,  1.80571638e-02, -3.48674096e-02, -2.00780295e-02,\n",
       "         1.07061313e-02,  7.42586777e-02,  7.65919536e-02, -6.32538870e-02,\n",
       "         6.89119520e-03,  9.02912170e-02, -3.65854129e-02,  7.52111897e-03,\n",
       "         1.03926539e-01,  4.69298251e-02, -4.28235047e-02,  1.21744350e-02,\n",
       "         1.33308824e-02,  5.75452894e-02,  8.76029059e-02, -4.68764976e-02,\n",
       "         1.84430983e-02,  2.92321276e-02, -1.12594850e-02,  1.13150857e-01],\n",
       "       dtype=float32)>,\n",
       " <tf.Variable 'dense_layer_3/kernel:0' shape=(512, 10) dtype=float32, numpy=\n",
       " array([[-0.08450383,  0.0313396 ,  0.04316157, ...,  0.02174424,\n",
       "          0.05235103, -0.14610562],\n",
       "        [ 0.1101313 ,  0.03138427,  0.0993873 , ..., -0.1545468 ,\n",
       "          0.04743183, -0.08903693],\n",
       "        [-0.21302462, -0.02958155, -0.19611286, ..., -0.11691716,\n",
       "          0.06001713,  0.05667397],\n",
       "        ...,\n",
       "        [ 0.08750717, -0.21796548, -0.22368376, ..., -0.02654541,\n",
       "          0.00118312, -0.14086276],\n",
       "        [-0.16157326,  0.1523304 , -0.01419001, ..., -0.01447667,\n",
       "         -0.0420219 , -0.02798517],\n",
       "        [-0.01774277, -0.18453966,  0.02030683, ..., -0.09015776,\n",
       "          0.09812877,  0.16382198]], dtype=float32)>,\n",
       " <tf.Variable 'dense_layer_3/bias:0' shape=(10,) dtype=float32, numpy=\n",
       " array([ 0.02585154, -0.05302063, -0.06509805, -0.01438346, -0.00585934,\n",
       "        -0.03459582, -0.04272616, -0.09081078,  0.18769754,  0.02971419],\n",
       "       dtype=float32)>]"
      ]
     },
     "execution_count": 62,
     "metadata": {},
     "output_type": "execute_result"
    }
   ],
   "source": [
    "model_5.weights"
   ]
  },
  {
   "cell_type": "code",
   "execution_count": 79,
   "id": "33a567f9",
   "metadata": {
    "collapsed": true
   },
   "outputs": [
    {
     "data": {
      "text/plain": [
       "{'name': 'sequential_9',\n",
       " 'layers': [{'class_name': 'InputLayer',\n",
       "   'config': {'batch_input_shape': (None, 784),\n",
       "    'dtype': 'float32',\n",
       "    'sparse': False,\n",
       "    'ragged': False,\n",
       "    'name': 'dense_Layer_input'}},\n",
       "  {'class_name': 'Dense',\n",
       "   'config': {'name': 'dense_Layer',\n",
       "    'trainable': True,\n",
       "    'batch_input_shape': (None, 784),\n",
       "    'dtype': 'float32',\n",
       "    'units': 512,\n",
       "    'activation': 'relu',\n",
       "    'use_bias': True,\n",
       "    'kernel_initializer': {'class_name': 'GlorotUniform',\n",
       "     'config': {'seed': None}},\n",
       "    'bias_initializer': {'class_name': 'Zeros', 'config': {}},\n",
       "    'kernel_regularizer': None,\n",
       "    'bias_regularizer': None,\n",
       "    'activity_regularizer': None,\n",
       "    'kernel_constraint': None,\n",
       "    'bias_constraint': None}},\n",
       "  {'class_name': 'Dropout',\n",
       "   'config': {'name': 'dropout_11',\n",
       "    'trainable': True,\n",
       "    'dtype': 'float32',\n",
       "    'rate': 0.3,\n",
       "    'noise_shape': None,\n",
       "    'seed': None}},\n",
       "  {'class_name': 'Dense',\n",
       "   'config': {'name': 'dense_layer_2',\n",
       "    'trainable': True,\n",
       "    'dtype': 'float32',\n",
       "    'units': 512,\n",
       "    'activation': 'relu',\n",
       "    'use_bias': True,\n",
       "    'kernel_initializer': {'class_name': 'GlorotUniform',\n",
       "     'config': {'seed': None}},\n",
       "    'bias_initializer': {'class_name': 'Zeros', 'config': {}},\n",
       "    'kernel_regularizer': None,\n",
       "    'bias_regularizer': None,\n",
       "    'activity_regularizer': None,\n",
       "    'kernel_constraint': None,\n",
       "    'bias_constraint': None}},\n",
       "  {'class_name': 'Dropout',\n",
       "   'config': {'name': 'dropout_12',\n",
       "    'trainable': True,\n",
       "    'dtype': 'float32',\n",
       "    'rate': 0.3,\n",
       "    'noise_shape': None,\n",
       "    'seed': None}},\n",
       "  {'class_name': 'Dense',\n",
       "   'config': {'name': 'dense_layer_3',\n",
       "    'trainable': True,\n",
       "    'dtype': 'float32',\n",
       "    'units': 10,\n",
       "    'activation': 'softmax',\n",
       "    'use_bias': True,\n",
       "    'kernel_initializer': {'class_name': 'GlorotUniform',\n",
       "     'config': {'seed': None}},\n",
       "    'bias_initializer': {'class_name': 'Zeros', 'config': {}},\n",
       "    'kernel_regularizer': None,\n",
       "    'bias_regularizer': None,\n",
       "    'activity_regularizer': None,\n",
       "    'kernel_constraint': None,\n",
       "    'bias_constraint': None}}]}"
      ]
     },
     "execution_count": 79,
     "metadata": {},
     "output_type": "execute_result"
    }
   ],
   "source": [
    "model_5.get_config()"
   ]
  },
  {
   "cell_type": "markdown",
   "id": "30863d32",
   "metadata": {},
   "source": [
    "## Improved Model 6: Adding another Hidden Layer to the model"
   ]
  },
  {
   "cell_type": "code",
   "execution_count": 63,
   "id": "5ab58536",
   "metadata": {},
   "outputs": [],
   "source": [
    "import tensorflow as tf\n",
    "\n",
    "# In keras, layers are assembled to build a models\n",
    "from tensorflow.keras.layers import Dense\n",
    "from tensorflow.keras.layers import Dropout\n",
    "\n",
    "#Most common type of model is a stack of layers\n",
    "\n",
    "model_6 = tf.keras.Sequential()\n",
    "N_hidden = 512\n",
    "\n",
    "# Adds a densely-connected layer with 64 units to the model:\n",
    "model_6.add(Dense(N_hidden,name = 'dense_Layer',input_shape = (784,),activation = 'relu'))\n",
    "\n",
    "# Now the model will take as input arrays of shape (*, 784)# and output arrays of shape (*, 64)\n",
    "model_6.add(Dropout(0.3))\n",
    "\n",
    "# Adding another dense layer:\n",
    "model_6.add(Dense(N_hidden,name = 'dense_layer_2',activation = 'relu'))\n",
    "model_6.add(Dropout(0.3))\n",
    "\n",
    "# Adding another dense layer:\n",
    "model_6.add(Dense(N_hidden,name = 'dense_layer_3',activation = 'relu'))\n",
    "model_6.add(Dropout(0.3))\n",
    "\n",
    "# After the first layer, you don't need to specify # the size of the input anymore:\n",
    "# Add an output layer with 10 output units (10 different classes):\n",
    "model_6.add(Dense(10,name = 'dense_layer_4',activation = 'softmax'))"
   ]
  },
  {
   "cell_type": "code",
   "execution_count": 64,
   "id": "9ec0450c",
   "metadata": {},
   "outputs": [],
   "source": [
    "# compiling the model\n",
    "model_6.compile(optimizer = 'Adam',loss = 'categorical_crossentropy',metrics = ['accuracy'])"
   ]
  },
  {
   "cell_type": "code",
   "execution_count": 65,
   "id": "886ad9c3",
   "metadata": {},
   "outputs": [
    {
     "name": "stdout",
     "output_type": "stream",
     "text": [
      "Epoch 1/30\n",
      "  2/375 [..............................] - ETA: 20s - loss: 2.3185 - accuracy: 0.1367WARNING:tensorflow:Callbacks method `on_train_batch_end` is slow compared to the batch time (batch time: 0.0169s vs `on_train_batch_end` time: 0.0947s). Check your callbacks.\n",
      "375/375 [==============================] - 8s 21ms/step - loss: 0.3219 - accuracy: 0.9010 - val_loss: 0.1212 - val_accuracy: 0.9632\n",
      "Epoch 2/30\n",
      "375/375 [==============================] - 7s 20ms/step - loss: 0.1397 - accuracy: 0.9578 - val_loss: 0.1064 - val_accuracy: 0.9687\n",
      "Epoch 3/30\n",
      "375/375 [==============================] - 7s 19ms/step - loss: 0.1021 - accuracy: 0.9685 - val_loss: 0.0901 - val_accuracy: 0.9734\n",
      "Epoch 4/30\n",
      "375/375 [==============================] - 7s 18ms/step - loss: 0.0853 - accuracy: 0.9733 - val_loss: 0.0850 - val_accuracy: 0.9757\n",
      "Epoch 5/30\n",
      "375/375 [==============================] - 7s 19ms/step - loss: 0.0729 - accuracy: 0.9780 - val_loss: 0.0810 - val_accuracy: 0.9762\n",
      "Epoch 6/30\n",
      "375/375 [==============================] - 7s 19ms/step - loss: 0.0628 - accuracy: 0.9802 - val_loss: 0.0834 - val_accuracy: 0.9765\n",
      "Epoch 7/30\n",
      "375/375 [==============================] - 7s 19ms/step - loss: 0.0569 - accuracy: 0.9822 - val_loss: 0.0883 - val_accuracy: 0.9760\n",
      "Epoch 8/30\n",
      "375/375 [==============================] - 7s 19ms/step - loss: 0.0508 - accuracy: 0.9833 - val_loss: 0.0888 - val_accuracy: 0.9767\n",
      "Epoch 9/30\n",
      "375/375 [==============================] - 7s 19ms/step - loss: 0.0533 - accuracy: 0.9834 - val_loss: 0.0717 - val_accuracy: 0.9793\n",
      "Epoch 10/30\n",
      "375/375 [==============================] - 7s 19ms/step - loss: 0.0432 - accuracy: 0.9869 - val_loss: 0.0889 - val_accuracy: 0.9780\n",
      "Epoch 11/30\n",
      "375/375 [==============================] - 7s 19ms/step - loss: 0.0403 - accuracy: 0.9876 - val_loss: 0.0807 - val_accuracy: 0.9802\n",
      "Epoch 12/30\n",
      "375/375 [==============================] - 7s 19ms/step - loss: 0.0421 - accuracy: 0.9866 - val_loss: 0.0795 - val_accuracy: 0.9790\n",
      "Epoch 13/30\n",
      "375/375 [==============================] - 7s 19ms/step - loss: 0.0377 - accuracy: 0.9880 - val_loss: 0.0796 - val_accuracy: 0.9797\n",
      "Epoch 14/30\n",
      "375/375 [==============================] - 7s 19ms/step - loss: 0.0309 - accuracy: 0.9900 - val_loss: 0.0842 - val_accuracy: 0.9807\n",
      "Epoch 15/30\n",
      "375/375 [==============================] - 7s 19ms/step - loss: 0.0339 - accuracy: 0.9894 - val_loss: 0.0958 - val_accuracy: 0.9778\n",
      "Epoch 16/30\n",
      "375/375 [==============================] - 7s 19ms/step - loss: 0.0310 - accuracy: 0.9904 - val_loss: 0.1031 - val_accuracy: 0.9789\n",
      "Epoch 17/30\n",
      "375/375 [==============================] - 7s 19ms/step - loss: 0.0355 - accuracy: 0.9890 - val_loss: 0.0820 - val_accuracy: 0.9816\n",
      "Epoch 18/30\n",
      "375/375 [==============================] - 7s 19ms/step - loss: 0.0286 - accuracy: 0.9910 - val_loss: 0.0929 - val_accuracy: 0.9810\n",
      "Epoch 19/30\n",
      "375/375 [==============================] - 7s 20ms/step - loss: 0.0301 - accuracy: 0.9909 - val_loss: 0.0887 - val_accuracy: 0.9797\n",
      "Epoch 20/30\n",
      "375/375 [==============================] - 7s 19ms/step - loss: 0.0262 - accuracy: 0.9918 - val_loss: 0.0924 - val_accuracy: 0.9806\n",
      "Epoch 21/30\n",
      "375/375 [==============================] - 7s 18ms/step - loss: 0.0289 - accuracy: 0.9914 - val_loss: 0.0915 - val_accuracy: 0.9793\n",
      "Epoch 22/30\n",
      "375/375 [==============================] - 7s 19ms/step - loss: 0.0247 - accuracy: 0.9919 - val_loss: 0.0956 - val_accuracy: 0.9789\n",
      "Epoch 23/30\n",
      "375/375 [==============================] - 8s 21ms/step - loss: 0.0291 - accuracy: 0.9905 - val_loss: 0.0882 - val_accuracy: 0.9821\n",
      "Epoch 24/30\n",
      "375/375 [==============================] - 7s 19ms/step - loss: 0.0247 - accuracy: 0.9923 - val_loss: 0.0933 - val_accuracy: 0.9803\n",
      "Epoch 25/30\n",
      "375/375 [==============================] - 7s 19ms/step - loss: 0.0283 - accuracy: 0.9915 - val_loss: 0.0894 - val_accuracy: 0.9818\n",
      "Epoch 26/30\n",
      "375/375 [==============================] - 7s 20ms/step - loss: 0.0206 - accuracy: 0.9942 - val_loss: 0.0985 - val_accuracy: 0.9803\n",
      "Epoch 27/30\n",
      "375/375 [==============================] - 7s 20ms/step - loss: 0.0224 - accuracy: 0.9929 - val_loss: 0.0966 - val_accuracy: 0.9805\n",
      "Epoch 28/30\n",
      "375/375 [==============================] - 7s 19ms/step - loss: 0.0241 - accuracy: 0.9925 - val_loss: 0.0950 - val_accuracy: 0.9821\n",
      "Epoch 29/30\n",
      "375/375 [==============================] - 7s 19ms/step - loss: 0.0206 - accuracy: 0.9934 - val_loss: 0.0975 - val_accuracy: 0.9804\n",
      "Epoch 30/30\n",
      "375/375 [==============================] - 7s 20ms/step - loss: 0.0230 - accuracy: 0.9930 - val_loss: 0.0971 - val_accuracy: 0.9809\n"
     ]
    }
   ],
   "source": [
    "# Training the model. \n",
    "log_dir = \"logs/fit/model6\"\n",
    "tensorboard_callback = tf.keras.callbacks.TensorBoard(log_dir=log_dir, histogram_freq=1)\n",
    "training = model_6.fit(X_train, y_train, batch_size=128, epochs=30, validation_split=0.2,callbacks=tensorboard_callback) "
   ]
  },
  {
   "cell_type": "code",
   "execution_count": 66,
   "id": "9ebd7143",
   "metadata": {},
   "outputs": [
    {
     "name": "stdout",
     "output_type": "stream",
     "text": [
      "dict_keys(['loss', 'accuracy', 'val_loss', 'val_accuracy'])\n"
     ]
    },
    {
     "data": {
      "image/png": "[encoded data removed]",
      "text/plain": [
       "<Figure size 432x288 with 1 Axes>"
      ]
     },
     "metadata": {
      "needs_background": "light"
     },
     "output_type": "display_data"
    },
    {
     "data": {
      "image/png": "[encoded data removed]",
      "text/plain": [
       "<Figure size 432x288 with 1 Axes>"
      ]
     },
     "metadata": {
      "needs_background": "light"
     },
     "output_type": "display_data"
    }
   ],
   "source": [
    "import matplotlib.pyplot as plt\n",
    "%matplotlib inline\n",
    "# list all data in training\n",
    "print(training.history.keys())\n",
    "# summarize training for accuracy\n",
    "plt.plot(training.history['accuracy'])\n",
    "plt.plot(training.history['val_accuracy'])\n",
    "plt.title('model accuracy')\n",
    "plt.ylabel('accuracy')\n",
    "plt.xlabel('epoch')\n",
    "plt.legend(['train', 'test'], loc='upper left')\n",
    "plt.show()\n",
    "# summarize traning for loss\n",
    "plt.plot(training.history['loss'])\n",
    "plt.plot(training.history['val_loss'])\n",
    "plt.title('model loss')\n",
    "plt.ylabel('loss')\n",
    "plt.xlabel('epoch')\n",
    "plt.legend(['train', 'test'], loc='upper left')\n",
    "plt.show()"
   ]
  },
  {
   "cell_type": "code",
   "execution_count": 67,
   "id": "26f644be",
   "metadata": {},
   "outputs": [
    {
     "name": "stdout",
     "output_type": "stream",
     "text": [
      "313/313 [==============================] - 1s 4ms/step - loss: 0.0826 - accuracy: 0.9827\n",
      "Test accuracy: 0.982699990272522\n"
     ]
    }
   ],
   "source": [
    "#evaluate the model\n",
    "test_loss, test_acc = model_6.evaluate(X_test, y_test)\n",
    "print('Test accuracy:', test_acc)"
   ]
  },
  {
   "cell_type": "code",
   "execution_count": 68,
   "id": "30c3deda",
   "metadata": {},
   "outputs": [
    {
     "name": "stdout",
     "output_type": "stream",
     "text": [
      "Model: \"sequential_6\"\n",
      "_________________________________________________________________\n",
      "Layer (type)                 Output Shape              Param #   \n",
      "=================================================================\n",
      "dense_Layer (Dense)          (None, 512)               401920    \n",
      "_________________________________________________________________\n",
      "dropout_8 (Dropout)          (None, 512)               0         \n",
      "_________________________________________________________________\n",
      "dense_layer_2 (Dense)        (None, 512)               262656    \n",
      "_________________________________________________________________\n",
      "dropout_9 (Dropout)          (None, 512)               0         \n",
      "_________________________________________________________________\n",
      "dense_layer_3 (Dense)        (None, 512)               262656    \n",
      "_________________________________________________________________\n",
      "dropout_10 (Dropout)         (None, 512)               0         \n",
      "_________________________________________________________________\n",
      "dense_layer_4 (Dense)        (None, 10)                5130      \n",
      "=================================================================\n",
      "Total params: 932,362\n",
      "Trainable params: 932,362\n",
      "Non-trainable params: 0\n",
      "_________________________________________________________________\n"
     ]
    }
   ],
   "source": [
    "model_6.summary()"
   ]
  },
  {
   "cell_type": "code",
   "execution_count": 69,
   "id": "af375eb2",
   "metadata": {
    "collapsed": true
   },
   "outputs": [
    {
     "data": {
      "text/plain": [
       "[<tf.Variable 'dense_Layer/kernel:0' shape=(784, 512) dtype=float32, numpy=\n",
       " array([[ 0.02827872,  0.03144938,  0.06715932, ...,  0.027658  ,\n",
       "          0.04029998,  0.01793858],\n",
       "        [-0.02379318,  0.06206408, -0.04368559, ...,  0.00118637,\n",
       "         -0.05703619,  0.00837189],\n",
       "        [-0.00247756, -0.00435563,  0.01222659, ..., -0.06545755,\n",
       "          0.04791114, -0.03394008],\n",
       "        ...,\n",
       "        [-0.03841591, -0.01220005, -0.04604603, ..., -0.02814897,\n",
       "         -0.03157913, -0.04950291],\n",
       "        [ 0.00639094, -0.05232073, -0.02087744, ..., -0.02255971,\n",
       "          0.0105256 , -0.02268973],\n",
       "        [-0.06154853, -0.05975075, -0.01779734, ...,  0.06483245,\n",
       "         -0.03996272, -0.00173841]], dtype=float32)>,\n",
       " <tf.Variable 'dense_Layer/bias:0' shape=(512,) dtype=float32, numpy=\n",
       " array([-4.52455804e-02, -4.60202284e-02, -5.61520085e-02, -1.72487535e-02,\n",
       "         1.72296222e-02,  6.14456041e-03, -6.76148012e-02, -6.38967752e-02,\n",
       "         3.06021306e-03, -2.56653801e-02,  5.45298448e-03, -3.29291634e-02,\n",
       "         4.44691665e-02, -7.95831010e-02, -7.07697272e-02, -3.52388881e-02,\n",
       "         2.86479611e-02, -4.20265831e-02,  3.15517224e-02, -4.16374393e-02,\n",
       "        -1.94956211e-03, -1.50975361e-01,  2.95926854e-02, -6.18951991e-02,\n",
       "        -6.37227744e-02, -4.47949432e-02,  2.21455507e-02, -1.02124371e-01,\n",
       "        -3.97390919e-03, -6.44136146e-02, -1.29098877e-01, -2.55529899e-02,\n",
       "        -4.56839427e-02, -5.24844117e-02,  6.44090772e-02, -1.06773324e-01,\n",
       "         1.72771290e-02, -3.03728273e-03,  7.85827562e-02,  2.08711904e-02,\n",
       "        -9.94805619e-02, -8.24087206e-03, -1.05994307e-01, -2.19420926e-03,\n",
       "        -1.09753683e-02, -1.18101932e-01, -8.26206710e-03, -1.24209821e-02,\n",
       "        -7.17547387e-02, -7.95065835e-02,  4.73241247e-02,  1.41455261e-02,\n",
       "        -6.30429527e-03, -4.31027599e-02, -1.30290776e-01, -7.27136433e-02,\n",
       "        -1.19366676e-01, -1.03034973e-01, -3.00838556e-02, -1.50334202e-02,\n",
       "        -6.23780936e-02,  3.93557595e-03, -1.42394267e-02, -3.09050009e-02,\n",
       "        -7.15206191e-02, -2.83090211e-02, -8.29327572e-03, -3.80700715e-02,\n",
       "         1.76074374e-02, -6.44085463e-03, -8.37255344e-02, -6.13573864e-02,\n",
       "        -2.44188197e-02, -4.03686315e-02, -5.45979328e-02, -3.41104418e-02,\n",
       "         3.04884836e-02,  1.44591527e-02, -3.16284969e-02, -6.03082888e-02,\n",
       "        -4.93920743e-02,  8.90300274e-02, -6.11175224e-02, -4.50285934e-02,\n",
       "        -7.37867132e-02,  1.48016578e-02, -1.22530513e-01, -7.88489059e-02,\n",
       "        -1.23276830e-01, -4.95271645e-02, -2.67244466e-02,  7.10347947e-03,\n",
       "         4.65983227e-02, -2.67297234e-02, -9.48530063e-02,  8.81178584e-03,\n",
       "         5.17467558e-02, -5.23960218e-03,  5.38224122e-03, -3.23831812e-02,\n",
       "         2.48311553e-02,  2.44962201e-02, -9.99862924e-02, -3.09002344e-02,\n",
       "        -1.33434683e-01, -1.45747047e-02, -1.10387750e-01, -2.92742979e-02,\n",
       "         6.20534085e-02,  1.97708365e-02,  1.02051154e-01,  4.19351039e-04,\n",
       "        -2.52271015e-02,  1.09097846e-02, -1.81443579e-02,  3.39402109e-02,\n",
       "        -5.27222045e-02,  1.91204175e-02, -1.83486287e-02,  6.47619041e-03,\n",
       "        -8.49591475e-03, -1.33200027e-02, -4.64466661e-02, -7.48796687e-02,\n",
       "        -4.63932380e-02, -9.83410887e-03, -4.66082897e-03, -6.08782023e-02,\n",
       "        -5.71006052e-02, -6.76698610e-02, -2.02993929e-01, -1.34316295e-01,\n",
       "        -7.41138235e-02,  5.00302948e-02, -1.06738899e-02,  2.29954887e-02,\n",
       "        -4.99688834e-02,  9.89112724e-03,  1.24901757e-02,  1.13577232e-01,\n",
       "        -1.31330211e-02,  3.56013775e-02,  6.73535001e-03, -5.10642081e-02,\n",
       "        -8.39691386e-02, -1.21738464e-01, -2.39989092e-03,  2.15743406e-04,\n",
       "         3.98432910e-02, -6.15948550e-02,  1.45335412e-02, -5.98448552e-02,\n",
       "         2.46647503e-02, -1.50944278e-01, -1.28193825e-01, -9.20011476e-03,\n",
       "         5.18688839e-03,  4.62649353e-02, -5.22853844e-02, -2.77747549e-02,\n",
       "        -4.82029654e-02, -1.76324081e-02,  2.20964607e-02, -6.09336980e-02,\n",
       "         1.27362844e-03, -5.18750139e-02,  3.19619887e-02, -6.82297498e-02,\n",
       "        -2.63508521e-02,  4.74536233e-02, -8.27491134e-02, -1.02410264e-01,\n",
       "        -2.18664128e-02, -1.02580942e-01, -3.87557521e-02, -3.86807732e-02,\n",
       "        -8.26261267e-02, -2.13698074e-02, -1.27852708e-02, -8.98095369e-02,\n",
       "        -1.11662455e-01,  1.03340661e-02, -4.72111925e-02, -6.91089556e-02,\n",
       "         3.15431766e-02, -1.10885152e-03,  7.35365972e-02, -6.06106929e-02,\n",
       "         3.64324525e-02, -1.52770081e-03, -1.06192492e-01, -7.87903890e-02,\n",
       "        -2.62350738e-02, -2.03752555e-02,  2.41319668e-02, -3.59737389e-02,\n",
       "         4.48131859e-02, -7.26181120e-02, -8.10321793e-02,  7.39104077e-02,\n",
       "        -9.05197337e-02, -4.53289561e-02, -7.70346671e-02,  2.90925428e-02,\n",
       "        -6.90017268e-02, -1.50038237e-02, -1.81875434e-02, -8.66122469e-02,\n",
       "         1.31822275e-02, -1.46246523e-01, -1.82186291e-02,  2.58077942e-02,\n",
       "        -2.15363805e-03,  2.83420533e-02, -2.20460203e-02, -1.38145802e-03,\n",
       "        -5.44718020e-02, -5.21884449e-02, -1.00978777e-01, -4.05016877e-02,\n",
       "        -1.15765974e-01,  3.92208062e-02, -2.11377349e-02,  3.43902521e-02,\n",
       "        -5.53608127e-02, -7.34692514e-02,  2.58857626e-02, -4.46576811e-02,\n",
       "         7.67801702e-02,  4.38323617e-02, -3.14010903e-02, -1.08278973e-03,\n",
       "        -8.59739855e-02, -1.07812062e-01, -7.66339377e-02, -2.09826138e-02,\n",
       "         1.45467073e-02, -1.86574996e-01,  9.50930407e-04,  1.02684624e-01,\n",
       "        -5.57989106e-02,  5.49882501e-02, -1.10660177e-02, -3.16944979e-02,\n",
       "        -2.66142804e-02, -8.86598378e-02, -1.04041388e-02, -8.84653851e-02,\n",
       "         6.90715667e-03, -3.41055766e-02, -2.98420526e-02, -1.00968868e-01,\n",
       "        -3.24322358e-02, -1.14886656e-01, -1.43038720e-01, -1.49259651e-02,\n",
       "        -9.47118737e-03, -3.08841448e-02,  7.50986934e-02, -3.91385816e-02,\n",
       "        -1.10499762e-01,  3.73574090e-03, -8.53370130e-02,  8.86347331e-03,\n",
       "        -1.07487366e-01, -1.54504389e-01, -5.28974272e-02, -1.08679123e-01,\n",
       "        -1.84673350e-02,  8.31560642e-02, -8.89787674e-02, -9.24304053e-02,\n",
       "        -1.29732221e-01, -2.90800072e-02, -5.43831661e-02, -1.71831429e-01,\n",
       "         2.41203811e-02, -1.17846958e-01, -1.51664674e-01, -3.98850627e-02,\n",
       "         2.86641866e-02, -9.64328125e-02, -6.04324117e-02, -8.33331328e-03,\n",
       "        -4.94721048e-02,  1.00073460e-02, -5.94120845e-02, -1.37792062e-02,\n",
       "        -4.69092764e-02,  4.00469042e-02, -1.18256539e-01,  1.06726782e-02,\n",
       "        -3.08862776e-02, -2.16903072e-03, -1.11207552e-01,  1.18705798e-02,\n",
       "        -7.06530362e-02,  3.90720256e-02,  5.68223931e-02, -7.98319578e-02,\n",
       "        -6.01109080e-02, -1.72112897e-01,  7.52233416e-02,  7.18417764e-03,\n",
       "         5.31994849e-02, -3.03287134e-02, -4.49894071e-02,  1.59678683e-02,\n",
       "        -1.43230379e-01, -8.41707960e-02, -4.44076071e-03, -5.59462160e-02,\n",
       "         9.37897563e-02, -8.69043395e-02, -2.50602141e-03,  8.65216367e-03,\n",
       "        -6.15887307e-02,  4.54411358e-02, -8.34102854e-02, -2.39054719e-03,\n",
       "        -7.85599127e-02,  4.88273613e-02, -1.31465653e-02, -8.19040239e-02,\n",
       "        -3.93757001e-02, -1.00017853e-01, -1.92321558e-02, -1.90823190e-02,\n",
       "         1.16162552e-02, -5.23372218e-02, -2.97073852e-02, -8.36632550e-02,\n",
       "        -5.86178713e-02, -6.67992383e-02,  2.02623010e-02, -5.42132035e-02,\n",
       "        -3.41176167e-02, -6.43462539e-02,  1.46177895e-02, -1.50019499e-02,\n",
       "        -1.16561882e-01, -3.90878320e-02, -5.35654910e-02, -3.73366266e-03,\n",
       "        -7.75700808e-02, -3.04891076e-03, -6.61231726e-02,  2.34765392e-02,\n",
       "         2.27531381e-02,  4.79233777e-03,  1.61183495e-02,  1.91708673e-02,\n",
       "        -7.62894228e-02,  1.27175793e-01,  2.04170458e-02,  4.05208161e-03,\n",
       "        -9.71089453e-02,  1.14860954e-02, -1.44584775e-01, -6.19900599e-02,\n",
       "        -1.41817834e-02, -6.49854094e-02, -5.15636951e-02, -3.00342254e-02,\n",
       "        -1.10268243e-01, -5.71306534e-02, -4.14216295e-02,  2.20480189e-02,\n",
       "        -5.22683077e-02, -1.44223617e-02, -7.23343939e-02,  9.35782492e-03,\n",
       "        -3.97832096e-02, -4.73980606e-02, -3.25768329e-02, -8.45430270e-02,\n",
       "        -4.44001481e-02, -5.76740466e-02, -3.90704256e-03, -6.25165105e-02,\n",
       "        -2.77022216e-02, -1.29195927e-02,  4.37575057e-02,  2.81209182e-02,\n",
       "        -1.59547199e-02, -9.20381323e-02,  1.69998873e-02,  6.14321530e-02,\n",
       "        -8.63974690e-02,  4.95073199e-02, -1.55004207e-02, -2.97869761e-02,\n",
       "         1.55533925e-02,  5.18598147e-02, -9.61608067e-02, -3.08327880e-02,\n",
       "         5.79516552e-02, -4.06900086e-02, -2.20057461e-02,  4.51560086e-03,\n",
       "         3.56198624e-02,  3.86485388e-03, -6.84401169e-02,  7.23161325e-02,\n",
       "        -2.76378244e-02,  1.41758159e-01,  5.11207618e-03,  1.30537292e-02,\n",
       "         3.38197909e-02, -1.38687611e-01,  6.02193084e-03, -5.66474569e-04,\n",
       "         3.68451863e-03,  1.48763871e-02, -9.02388711e-03, -1.31391302e-01,\n",
       "        -2.95900386e-02,  1.15969628e-02, -1.40294787e-02,  1.12622783e-01,\n",
       "        -8.20433199e-02, -6.37748139e-03, -8.85812491e-02,  4.59833182e-02,\n",
       "         5.71803972e-02,  2.94306856e-02, -3.89394574e-02, -9.87838283e-02,\n",
       "        -7.94850755e-03, -4.65039872e-02, -7.26535544e-02,  4.25594719e-03,\n",
       "        -6.35223836e-02, -6.30916953e-02, -8.37556124e-02,  5.60714044e-02,\n",
       "        -9.05421451e-02, -1.85140297e-02,  8.33474472e-03, -5.94572164e-02,\n",
       "        -3.56146619e-02, -6.23308234e-02, -2.41293758e-01,  6.54133764e-05,\n",
       "         6.44391915e-03,  9.47567075e-02, -6.22957312e-02, -6.00569434e-02,\n",
       "         1.68855153e-02,  3.01938015e-03, -7.32218698e-02, -8.16923827e-02,\n",
       "         1.27265267e-02, -4.26014103e-02, -5.62149473e-02, -1.30328208e-01,\n",
       "         1.65178312e-03,  9.20209438e-02, -4.71609496e-02, -5.03071817e-03,\n",
       "        -3.45515497e-02, -7.33944252e-02,  5.54571673e-02, -1.42990993e-02,\n",
       "         3.21107842e-02, -4.38955426e-02, -7.65238702e-02, -6.46827519e-02,\n",
       "        -2.21665762e-02, -3.74362245e-02, -1.84480831e-01,  3.76888411e-03,\n",
       "        -4.43825014e-02, -2.15587094e-02, -1.10864397e-02,  3.16979215e-02,\n",
       "        -3.15485783e-02,  1.39670596e-02, -3.57600451e-02,  7.31087569e-03,\n",
       "        -9.22149420e-02,  2.47657988e-02,  9.85350925e-03, -1.00029083e-02,\n",
       "        -4.87819463e-02, -6.67855069e-02,  1.03718610e-02, -9.43711307e-03,\n",
       "        -8.62586871e-02, -8.89926180e-02,  1.72120053e-02,  5.06712608e-02,\n",
       "         2.73922994e-03, -4.71147746e-02,  3.58274090e-03,  3.29756960e-02,\n",
       "        -9.72456858e-02,  3.87888355e-03,  5.26089314e-03, -4.30013016e-02,\n",
       "        -2.35408731e-03, -5.67146391e-02, -1.29213199e-01, -5.79371415e-02,\n",
       "        -5.87594993e-02, -8.67455527e-02,  3.86230983e-02, -9.06964391e-02,\n",
       "         6.45315135e-03,  1.45307789e-02, -9.11687538e-02, -1.13955354e-02],\n",
       "       dtype=float32)>,\n",
       " <tf.Variable 'dense_layer_2/kernel:0' shape=(512, 512) dtype=float32, numpy=\n",
       " array([[-0.21575758,  0.03077297,  0.12175965, ...,  0.05573216,\n",
       "          0.01787403, -0.0681598 ],\n",
       "        [-0.1974118 , -0.05444813, -0.02996737, ..., -0.03686677,\n",
       "          0.15146743, -0.01678241],\n",
       "        [-0.07989778, -0.00278485,  0.06239528, ...,  0.14801902,\n",
       "          0.1308891 ,  0.00866454],\n",
       "        ...,\n",
       "        [ 0.06692734,  0.06524853,  0.07217852, ...,  0.06110632,\n",
       "         -0.18191178, -0.11391777],\n",
       "        [-0.07099286, -0.0340043 ,  0.06156055, ..., -0.11850769,\n",
       "          0.02509912, -0.20361944],\n",
       "        [-0.01865697,  0.07573207, -0.04069086, ..., -0.10424996,\n",
       "          0.06753756, -0.10644348]], dtype=float32)>,\n",
       " <tf.Variable 'dense_layer_2/bias:0' shape=(512,) dtype=float32, numpy=\n",
       " array([-0.01421558, -0.08643384,  0.16582419,  0.0511655 , -0.06513081,\n",
       "         0.17884952,  0.04402264,  0.17840843, -0.05543546, -0.11824464,\n",
       "         0.02717421, -0.00722081, -0.07695548, -0.02298119, -0.00937978,\n",
       "        -0.07759916, -0.15001567, -0.17269887, -0.1552355 , -0.2408603 ,\n",
       "        -0.11011589, -0.06949423, -0.01383769, -0.05599703, -0.06202449,\n",
       "         0.15863825, -0.04337272, -0.0048599 , -0.11869442, -0.02140274,\n",
       "        -0.04483734, -0.11209127, -0.01790746, -0.00161047, -0.14007008,\n",
       "         0.04448537, -0.09097459,  0.14793283, -0.14556366, -0.11804111,\n",
       "        -0.18680005, -0.11219312, -0.04852614, -0.2459595 , -0.00479583,\n",
       "         0.15023139, -0.05562727, -0.12853996, -0.16234756, -0.03890388,\n",
       "        -0.03147611, -0.09689537, -0.18773443,  0.02962474,  0.00552958,\n",
       "        -0.16014966,  0.00720068, -0.02640496,  0.12924024, -0.0620755 ,\n",
       "        -0.08888462, -0.14691198,  0.0198573 ,  0.02341017, -0.13507755,\n",
       "        -0.00533362, -0.13658433,  0.0440838 ,  0.04466423, -0.10535176,\n",
       "        -0.05986293, -0.10212734,  0.01262466,  0.00880206,  0.06389856,\n",
       "        -0.09131645,  0.01191312,  0.02914805, -0.14249684, -0.01903846,\n",
       "        -0.04739064, -0.09906966, -0.12978616, -0.03686545,  0.0234328 ,\n",
       "         0.00812344,  0.16407938, -0.11389801, -0.17412956, -0.08171535,\n",
       "        -0.17971043, -0.0650538 ,  0.02404396, -0.00583458,  0.12459655,\n",
       "        -0.20374615, -0.12587768, -0.06406316, -0.00859941, -0.13269566,\n",
       "         0.08792905, -0.10670311, -0.05437115, -0.09466188,  0.0510902 ,\n",
       "        -0.08188947, -0.01833849, -0.12915893, -0.16249764, -0.00965248,\n",
       "         0.07730884, -0.14264758,  0.08292618,  0.0574426 , -0.0609217 ,\n",
       "         0.23028867, -0.08654259,  0.0101215 , -0.15917914, -0.09283332,\n",
       "        -0.02031507, -0.11037041, -0.06919024, -0.09637339, -0.12023009,\n",
       "        -0.1528255 , -0.0898459 , -0.1657575 , -0.18632786, -0.03636864,\n",
       "        -0.1538449 ,  0.02423793,  0.1260823 , -0.01574854,  0.143874  ,\n",
       "        -0.14763324,  0.01491981,  0.03684061,  0.10336909, -0.02708972,\n",
       "        -0.00725592, -0.08729706, -0.09265125,  0.11273067, -0.00527516,\n",
       "        -0.11044603, -0.16411531, -0.02560609,  0.00776173,  0.03435954,\n",
       "        -0.09416842, -0.18010925, -0.03936502,  0.04891294, -0.08564398,\n",
       "         0.00900751, -0.10296313, -0.07480773, -0.12853177, -0.09298144,\n",
       "        -0.04982987,  0.11016198, -0.13954836, -0.12179164,  0.08368912,\n",
       "        -0.12313873, -0.05387238, -0.05884905, -0.04624627,  0.0073725 ,\n",
       "        -0.18189225, -0.04154604,  0.04872428,  0.00183501, -0.01724626,\n",
       "        -0.00287767,  0.01531484, -0.06087795, -0.02634248, -0.04194721,\n",
       "         0.20444179, -0.07617656,  0.06327254, -0.07455157, -0.23343316,\n",
       "        -0.03097819, -0.05877227, -0.01488844, -0.0262826 , -0.04886138,\n",
       "         0.01116671, -0.0905754 ,  0.10723397, -0.02773841, -0.1154622 ,\n",
       "        -0.0398829 , -0.07394327, -0.04363218, -0.16187295, -0.0615692 ,\n",
       "         0.16333058, -0.00632631, -0.02909649,  0.08592625, -0.01173584,\n",
       "        -0.08126963,  0.00674623, -0.09755462, -0.0978251 , -0.08618437,\n",
       "        -0.05778155,  0.02002208,  0.00208062,  0.01585712,  0.00814678,\n",
       "         0.00216861, -0.09071811, -0.0995052 ,  0.03519194,  0.03038829,\n",
       "        -0.05724638, -0.0130455 ,  0.13501595, -0.20871042, -0.26240605,\n",
       "        -0.09546878, -0.08411448, -0.06086696, -0.13729835,  0.10445064,\n",
       "         0.03138142, -0.1484246 , -0.02196092, -0.04276136, -0.17944725,\n",
       "        -0.05221765, -0.10775829, -0.09114516, -0.18351808,  0.14044264,\n",
       "         0.033952  ,  0.02315863, -0.21657632, -0.10779176,  0.12701485,\n",
       "         0.00192512, -0.11493221, -0.21197325, -0.14834988, -0.04161811,\n",
       "         0.03849782,  0.01768601, -0.19749244,  0.14228235, -0.17747514,\n",
       "        -0.03710369, -0.16018713,  0.03339064, -0.12194429,  0.04143734,\n",
       "         0.2716003 , -0.02450598,  0.01574032, -0.04292702, -0.05021391,\n",
       "        -0.12676173, -0.13559203, -0.05759523, -0.09678378,  0.03941201,\n",
       "        -0.13015142, -0.06097637, -0.09020513, -0.11845844, -0.06374314,\n",
       "        -0.11056532,  0.0187796 , -0.03582525,  0.03538195,  0.13903575,\n",
       "         0.01672792,  0.06446284, -0.1951139 , -0.06737702, -0.08213137,\n",
       "         0.09577765,  0.00639468, -0.00247334, -0.086599  , -0.08193977,\n",
       "        -0.06155461, -0.12406816, -0.10816883,  0.11719049,  0.02140309,\n",
       "        -0.01035181, -0.03245421, -0.17763847, -0.11267927, -0.15111646,\n",
       "         0.11729857,  0.1410389 , -0.01940467, -0.12159429,  0.01293136,\n",
       "        -0.03174112,  0.03114577,  0.02015061, -0.06618377, -0.0762084 ,\n",
       "         0.12977795, -0.03818921, -0.06101499, -0.01533417, -0.11736013,\n",
       "        -0.10499147,  0.00492965,  0.05284926, -0.14472075,  0.01356292,\n",
       "         0.01419172, -0.19757976,  0.00931867, -0.17162281, -0.12261836,\n",
       "        -0.18145667, -0.11166485, -0.08902933, -0.21889992, -0.12111565,\n",
       "         0.12001744,  0.22952396, -0.03681151,  0.19611216, -0.08100511,\n",
       "        -0.17624708, -0.03214951, -0.18191418, -0.09645967, -0.08659256,\n",
       "         0.04038126, -0.14623319, -0.07309054,  0.20092556, -0.17120276,\n",
       "        -0.2303794 ,  0.178942  , -0.08961646, -0.01904413,  0.02307582,\n",
       "        -0.00089923,  0.1318719 ,  0.15397029, -0.15070154, -0.12971409,\n",
       "        -0.08942311,  0.01498766, -0.16943593, -0.04968143,  0.02021702,\n",
       "         0.04237767, -0.09907844,  0.00925588, -0.15457831, -0.1197883 ,\n",
       "        -0.05702367,  0.090803  , -0.11740014, -0.15625125, -0.02953939,\n",
       "        -0.0534308 , -0.06713467, -0.09012894, -0.09354959,  0.06095196,\n",
       "        -0.20907986, -0.05964148,  0.04747644, -0.00834816, -0.08392083,\n",
       "         0.05356999, -0.1270252 ,  0.0699777 , -0.01670352,  0.02381544,\n",
       "        -0.10056227, -0.10541892, -0.20599025, -0.00313767, -0.12076692,\n",
       "        -0.01335367, -0.09329016,  0.10177171, -0.12047604, -0.13357875,\n",
       "        -0.07960445,  0.14250778,  0.17821582, -0.1641141 , -0.04255627,\n",
       "        -0.00125448, -0.03587233, -0.05077384, -0.07875037,  0.06906789,\n",
       "        -0.1318175 ,  0.09534689, -0.1312795 ,  0.06472746, -0.05725102,\n",
       "        -0.03134307, -0.12779094, -0.04129101,  0.00590606, -0.13442042,\n",
       "        -0.11338674, -0.00980051, -0.01406287,  0.23038232,  0.02434959,\n",
       "        -0.01292405, -0.16788055, -0.0022391 , -0.03477515,  0.11228207,\n",
       "         0.15557136, -0.04078391,  0.02881183,  0.1268458 , -0.03966353,\n",
       "        -0.10487644, -0.02812696, -0.12194247,  0.11593846, -0.1423607 ,\n",
       "         0.09310353,  0.03420436, -0.09998401,  0.07994504, -0.09623902,\n",
       "        -0.1177668 , -0.0592891 , -0.1867235 , -0.03947877, -0.13407221,\n",
       "        -0.006799  , -0.05197586, -0.05782544,  0.00716714,  0.19637084,\n",
       "        -0.08597821, -0.06035863, -0.16817434, -0.17236894, -0.2200369 ,\n",
       "         0.02799483,  0.15993603, -0.06942073,  0.17729026, -0.10524072,\n",
       "        -0.13528152, -0.06284758,  0.0618669 ,  0.00831043, -0.12336209,\n",
       "         0.27228197, -0.03348101, -0.14030693, -0.08757017, -0.04563496,\n",
       "         0.03160705, -0.06795465,  0.1184976 , -0.08172791,  0.18345813,\n",
       "        -0.07980515,  0.05352986,  0.08842875, -0.12201506, -0.09601571,\n",
       "        -0.10339332, -0.12535667, -0.03146892,  0.03189306, -0.00583644,\n",
       "         0.14842601, -0.1080096 ,  0.00438019, -0.08001004, -0.13304003,\n",
       "        -0.12274799,  0.05211204, -0.05225733, -0.13938726,  0.03708545,\n",
       "        -0.26814267, -0.110675  , -0.07198901, -0.13642903, -0.08911217,\n",
       "        -0.04620284, -0.06641459, -0.19272499, -0.05693398, -0.09596256,\n",
       "        -0.16658281, -0.00929369,  0.0262599 , -0.10238372, -0.22386675,\n",
       "        -0.13984656, -0.15147321], dtype=float32)>,\n",
       " <tf.Variable 'dense_layer_3/kernel:0' shape=(512, 512) dtype=float32, numpy=\n",
       " array([[-0.0279553 , -0.13729337,  0.24341202, ...,  0.0177828 ,\n",
       "          0.10852434,  0.07215897],\n",
       "        [ 0.01476888,  0.05045049,  0.00463609, ..., -0.09950358,\n",
       "         -0.09757121,  0.05977381],\n",
       "        [-0.05096491,  0.0385361 ,  0.00544516, ...,  0.00074809,\n",
       "          0.08243597,  0.05140526],\n",
       "        ...,\n",
       "        [ 0.08754615, -0.2924179 , -0.15790425, ..., -0.10532653,\n",
       "         -0.14919454,  0.09524512],\n",
       "        [ 0.02813324,  0.05879121, -0.15980731, ..., -0.05971152,\n",
       "         -0.13033913, -0.00825559],\n",
       "        [ 0.22191925,  0.00826102, -0.09182684, ..., -0.00081364,\n",
       "         -0.03338146,  0.02236067]], dtype=float32)>,\n",
       " <tf.Variable 'dense_layer_3/bias:0' shape=(512,) dtype=float32, numpy=\n",
       " array([-1.01277359e-01,  1.40650734e-01,  1.59977436e-01, -4.19362411e-02,\n",
       "         1.97427556e-01, -1.39591983e-02, -3.25684212e-02, -2.98643168e-02,\n",
       "         3.06634307e-02,  7.42132962e-02,  2.95978393e-02, -1.23435915e-01,\n",
       "        -1.88262928e-02,  1.94538519e-01,  8.45112558e-03, -6.34850040e-02,\n",
       "         8.26129615e-02, -2.10070640e-01, -7.57013261e-02,  1.21666275e-01,\n",
       "        -1.20655783e-02, -6.48408234e-02,  1.38338745e-01, -6.68252185e-02,\n",
       "         7.64398789e-03, -2.64746640e-02,  2.85540260e-02,  1.75681889e-01,\n",
       "         5.77729195e-02, -2.02526730e-02, -5.48789054e-02, -8.22834857e-03,\n",
       "         3.13483588e-02, -7.81964511e-02,  5.67291826e-02,  8.97858366e-02,\n",
       "         3.62266563e-02,  7.06151724e-02, -5.81798330e-02, -1.01373836e-01,\n",
       "         4.49908860e-02, -4.31342274e-02,  2.57448517e-02,  5.08323126e-02,\n",
       "        -5.90317883e-02,  7.31833726e-02, -1.06493071e-01, -1.18649423e-01,\n",
       "        -1.15767911e-01,  6.15312979e-02, -6.98597357e-03, -9.35539827e-02,\n",
       "         2.02248082e-01, -1.16771281e-01, -1.01539053e-01,  8.09779838e-02,\n",
       "         1.35447860e-01, -5.84840961e-02,  2.74360068e-02, -2.96217836e-02,\n",
       "        -6.50467947e-02,  2.23045856e-01, -5.36024347e-02,  1.77994836e-02,\n",
       "        -5.47571070e-02,  1.00821093e-01,  5.94545417e-02, -3.46625857e-02,\n",
       "         9.60159674e-02,  1.82340920e-01,  1.63479850e-01,  1.42907232e-01,\n",
       "         6.49641380e-02, -1.87210634e-01, -1.90193802e-02,  3.85597311e-02,\n",
       "         7.81277493e-02, -1.45174801e-01,  1.87766850e-01, -7.34561011e-02,\n",
       "         3.42293270e-02, -1.46852422e-03, -3.67482640e-02, -6.98482543e-02,\n",
       "        -6.75130859e-02, -5.72854802e-02, -1.19298510e-01,  6.70617521e-02,\n",
       "        -5.66039374e-03, -5.47494665e-02,  1.23637401e-01,  2.10751873e-03,\n",
       "        -3.45607363e-02, -1.95712615e-02,  2.42689684e-01,  2.29025766e-01,\n",
       "         1.46194831e-01, -3.49715166e-02,  1.12566568e-01, -1.71970632e-02,\n",
       "        -6.21721931e-02,  3.95814627e-02, -1.48669370e-02, -6.91750646e-02,\n",
       "        -3.96575294e-02, -1.23522751e-01,  1.31024681e-05,  1.07807182e-01,\n",
       "        -3.18614626e-03, -1.06701953e-02,  4.32256162e-02,  1.55090034e-01,\n",
       "        -1.82697028e-02, -1.21608466e-01,  1.10435009e-01, -8.80543590e-02,\n",
       "         2.26300940e-01,  1.14530660e-01, -3.61371450e-02, -1.35452554e-01,\n",
       "        -4.10102010e-02,  1.61414132e-01,  1.17070414e-01,  1.65615901e-02,\n",
       "         1.73108771e-01, -6.21838495e-02,  3.77304889e-02,  3.43381017e-02,\n",
       "         1.70361057e-01, -6.21366166e-02, -3.03279180e-02, -1.07136562e-01,\n",
       "        -2.58434545e-02, -1.39295444e-01,  1.72036551e-02, -2.31104270e-02,\n",
       "         1.28150523e-01,  6.63500801e-02,  2.58092713e-02, -5.23842052e-02,\n",
       "         2.06046954e-01, -4.35825959e-02, -6.04787730e-02, -1.21998303e-01,\n",
       "        -6.99208379e-02,  2.09600598e-01,  1.12135306e-01,  3.22674699e-02,\n",
       "        -7.73537681e-02,  1.55824041e-02,  1.38980560e-02, -3.38044390e-02,\n",
       "         4.54397668e-04, -1.63533121e-01,  1.83682427e-01, -5.41919731e-02,\n",
       "         2.62213703e-02,  5.71808107e-02,  1.28224656e-01, -1.12990206e-02,\n",
       "        -2.22829431e-02,  8.63291100e-02,  4.51478884e-02,  9.46246162e-02,\n",
       "        -1.54272467e-02, -3.15641128e-02, -4.92781922e-02, -8.53425860e-02,\n",
       "        -2.75706109e-02, -7.40855709e-02,  6.37347549e-02,  1.58927754e-01,\n",
       "         4.92863245e-02, -5.28156124e-02, -2.22836528e-02,  6.12768251e-03,\n",
       "        -1.03601972e-02, -6.45175427e-02,  1.36694565e-01, -6.77055493e-02,\n",
       "        -9.18626972e-03,  2.49578118e-01, -2.27303207e-02, -4.16596383e-02,\n",
       "         3.46115194e-02, -3.46905855e-03, -1.38380583e-02,  1.61821455e-01,\n",
       "        -1.35206049e-02,  1.17618538e-01, -1.13497883e-01, -6.60169125e-03,\n",
       "         4.06869315e-02,  1.44631192e-02, -4.93160114e-02,  1.46246310e-02,\n",
       "        -8.62081870e-02, -1.02365941e-01,  7.58917704e-02, -7.62649551e-02,\n",
       "        -7.57078081e-02,  1.63950995e-02,  5.68827726e-02,  1.28183991e-01,\n",
       "         1.81082431e-02, -5.37956990e-02,  1.38997156e-02,  2.01388076e-01,\n",
       "         1.01412972e-02, -4.12503518e-02,  2.80964989e-02,  1.50590762e-01,\n",
       "        -4.29380592e-03,  1.48750514e-01,  2.76383404e-02,  6.46418780e-02,\n",
       "        -8.39267597e-02,  5.45524396e-02,  1.93756092e-02,  2.00436637e-01,\n",
       "         1.84442833e-01,  3.15698646e-02, -4.79681045e-02, -9.33643430e-02,\n",
       "         1.51586020e-02, -1.02368914e-01,  9.65024978e-02,  1.63207993e-01,\n",
       "        -2.83910818e-02,  5.90337254e-02, -6.54151291e-02, -4.35106643e-02,\n",
       "        -7.16563081e-03, -5.86290061e-02, -5.12482785e-02,  1.37899995e-01,\n",
       "         1.02409497e-01, -1.77563482e-03,  1.33466959e-01,  5.32060862e-02,\n",
       "        -6.33685216e-02, -4.35262434e-02, -4.79287887e-03, -3.59251648e-02,\n",
       "         3.49973561e-03, -1.38394669e-01,  6.76182797e-04,  3.27391103e-02,\n",
       "        -1.75461099e-02, -8.94859508e-02, -4.73742001e-02, -1.29265606e-01,\n",
       "         7.49593973e-02, -8.68051052e-02, -6.25026375e-02,  4.52405699e-02,\n",
       "        -8.23256299e-02, -1.18640743e-01, -6.23512380e-02,  4.73303348e-02,\n",
       "         1.89317837e-01, -1.35767803e-01, -6.03081193e-03, -1.24091124e-02,\n",
       "        -7.60681480e-02, -6.80331886e-02, -6.43061250e-02,  1.83133334e-01,\n",
       "        -7.82642961e-02, -1.07519232e-01, -1.30866826e-01,  6.36783391e-02,\n",
       "         8.52871537e-02, -1.01853095e-01, -9.02204216e-02,  1.59460679e-01,\n",
       "         8.48532468e-02,  1.71843559e-01, -5.00864275e-02, -1.03651695e-01,\n",
       "        -3.80339362e-02,  1.46965683e-01, -5.11401370e-02, -1.68941304e-01,\n",
       "        -5.42762540e-02, -2.95245578e-03, -4.43268083e-02,  1.16929002e-01,\n",
       "         1.41859218e-03,  4.20967378e-02, -8.65113921e-03,  2.22327188e-01,\n",
       "         2.84161400e-02, -8.85205418e-02,  1.48115888e-01,  7.69946277e-02,\n",
       "         3.31802480e-02,  1.26544267e-01,  2.78222449e-02, -1.78326458e-01,\n",
       "         3.94816212e-02, -3.57149504e-02,  1.64681990e-02,  5.90820126e-02,\n",
       "        -1.12568885e-01,  6.72629923e-02, -1.29634634e-01,  3.11836693e-02,\n",
       "         5.35119362e-02, -5.57366908e-02,  8.89607593e-02, -3.56376395e-02,\n",
       "         7.86755010e-02,  1.82241648e-02, -6.06848337e-02,  1.18988201e-01,\n",
       "        -2.73755137e-02, -6.73810542e-02,  3.66243273e-02,  7.93143734e-02,\n",
       "         1.69207487e-04,  5.61582632e-02,  1.28428176e-01,  8.16583633e-03,\n",
       "         1.83016330e-01,  1.12836659e-01, -1.70758218e-02,  1.77863210e-01,\n",
       "         5.74337356e-02, -1.75791811e-02,  2.07527578e-02,  2.16326103e-01,\n",
       "         9.89673361e-02, -2.46238355e-02,  4.45821472e-02, -9.00377706e-02,\n",
       "        -5.41959144e-02, -3.33094858e-02,  4.98339301e-04,  1.68425664e-02,\n",
       "         2.11728271e-02, -1.09045364e-01, -1.04576740e-02, -2.43082382e-02,\n",
       "         9.68979746e-02,  7.94897676e-02,  6.91587478e-02, -9.61052179e-02,\n",
       "        -1.65102258e-02, -1.45328954e-01, -9.89963189e-02,  1.33902475e-01,\n",
       "        -6.83224052e-02, -1.11869853e-02, -1.59052350e-02,  1.81961674e-02,\n",
       "         5.61093390e-02,  4.03155945e-02, -1.25998526e-03,  6.86881840e-02,\n",
       "         5.33191673e-02, -1.68573391e-02,  1.56109899e-01, -3.33356746e-02,\n",
       "         2.60411739e-01, -2.14492176e-02, -4.58157063e-02, -1.63507815e-02,\n",
       "        -1.34637415e-01, -2.33241413e-02, -6.42708465e-02,  1.33710206e-01,\n",
       "         1.92374125e-01, -5.67402132e-02, -9.77321267e-02, -5.16404621e-02,\n",
       "         4.75796359e-03,  1.12915635e-01,  7.52982572e-02,  1.11284018e-01,\n",
       "         2.39490811e-02,  3.82546969e-02, -1.32185578e-01,  2.95253564e-02,\n",
       "        -9.77016017e-02, -5.70942946e-02, -6.40862957e-02,  2.23548144e-01,\n",
       "         7.03575090e-02,  4.51562256e-02, -9.12166759e-02, -3.60236987e-02,\n",
       "        -5.97628057e-02, -5.41745313e-02,  1.09266289e-01, -1.05086930e-01,\n",
       "        -4.38674279e-02, -1.57686379e-02,  1.34688303e-01,  1.85112581e-01,\n",
       "        -8.41649547e-02,  9.67748761e-02, -9.31468885e-03, -3.81997298e-03,\n",
       "         7.84272701e-02,  3.68056186e-02,  1.47885233e-01,  1.06598906e-01,\n",
       "         9.92850959e-02, -4.65161838e-02, -6.32488802e-02, -1.36706308e-01,\n",
       "        -1.13019638e-01, -2.35134251e-02, -3.66082154e-02, -5.38604259e-02,\n",
       "        -7.37005174e-02, -3.52280065e-02, -4.89172861e-02,  9.94532704e-02,\n",
       "         1.20158672e-01,  2.16164157e-01,  1.80060323e-02,  8.24509710e-02,\n",
       "        -5.07606640e-02,  3.99874300e-02,  2.92333160e-02, -7.24952593e-02,\n",
       "        -1.37772501e-01,  1.63290966e-02,  6.92553371e-02,  1.50194718e-02,\n",
       "        -3.38337640e-03, -8.53721052e-02,  1.22761935e-01,  2.02577282e-02,\n",
       "         8.81147087e-02, -9.34646726e-02,  1.26483701e-02, -1.90823041e-02,\n",
       "        -6.68096319e-02, -5.83310351e-02,  5.61839938e-02,  2.40975674e-02,\n",
       "        -5.25975488e-02,  4.01527807e-03, -2.42447108e-02, -8.46694857e-02,\n",
       "         5.19829020e-02,  1.67479366e-01, -7.45649561e-02,  3.68543863e-02,\n",
       "         2.93037176e-01,  2.57662177e-01, -7.73548111e-02,  6.25142306e-02,\n",
       "        -3.40123065e-02, -9.17951856e-03, -2.29110476e-02, -4.74614911e-02,\n",
       "         2.17135444e-01,  4.86252410e-03,  1.37948059e-02, -1.43252149e-01,\n",
       "         1.60298511e-01, -2.70961672e-02, -6.42286763e-02, -1.23943174e-02,\n",
       "         8.77089724e-02, -3.80897895e-02,  6.05666600e-02, -2.18917821e-02,\n",
       "         6.60784319e-02, -6.30621910e-02,  1.47427186e-01, -4.39894907e-02,\n",
       "        -2.24869093e-03,  1.47275580e-02, -6.75396323e-02, -9.50394198e-03,\n",
       "         1.09168038e-01, -3.45922597e-02, -9.56920087e-02, -1.12827867e-02,\n",
       "         6.01672269e-02, -7.73550421e-02,  8.42984840e-02, -1.17540240e-01,\n",
       "        -9.82207358e-02,  1.00929573e-01, -4.48446833e-02,  1.35383070e-01,\n",
       "         1.12624675e-01, -6.03020601e-02, -3.02556586e-02,  7.53506869e-02,\n",
       "         4.83424999e-02, -1.14888377e-01,  1.93840280e-01,  2.02110499e-01,\n",
       "         1.84404512e-03,  1.16413549e-01, -1.70239396e-02,  2.05820978e-01,\n",
       "        -8.61446038e-02,  5.61149828e-02,  1.45037249e-01,  5.93859330e-03,\n",
       "         1.22947700e-01,  4.92162490e-03,  1.51594684e-01, -1.87349096e-02],\n",
       "       dtype=float32)>,\n",
       " <tf.Variable 'dense_layer_4/kernel:0' shape=(512, 10) dtype=float32, numpy=\n",
       " array([[-0.14683421,  0.02319495,  0.13896675, ...,  0.08463515,\n",
       "         -0.02059253, -0.12513427],\n",
       "        [ 0.09022537,  0.02321401,  0.01565746, ..., -0.12902468,\n",
       "         -0.00220243,  0.08967215],\n",
       "        [ 0.05389171,  0.01156075, -0.06506193, ..., -0.10520808,\n",
       "          0.02548456,  0.0552259 ],\n",
       "        ...,\n",
       "        [-0.03048799, -0.09435808, -0.12150595, ...,  0.06149412,\n",
       "          0.08100721,  0.086367  ],\n",
       "        [ 0.06893702, -0.11624587,  0.05754286, ..., -0.1661899 ,\n",
       "          0.07155429, -0.13319373],\n",
       "        [ 0.02735058,  0.09134739, -0.03640941, ...,  0.07072248,\n",
       "         -0.06614191,  0.10980564]], dtype=float32)>,\n",
       " <tf.Variable 'dense_layer_4/bias:0' shape=(10,) dtype=float32, numpy=\n",
       " array([ 0.03200201, -0.04585387, -0.13152154, -0.03654305, -0.03726482,\n",
       "        -0.07502823, -0.10140216, -0.13750081,  0.31127262,  0.10532031],\n",
       "       dtype=float32)>]"
      ]
     },
     "execution_count": 69,
     "metadata": {},
     "output_type": "execute_result"
    }
   ],
   "source": [
    "model_6.weights"
   ]
  },
  {
   "cell_type": "code",
   "execution_count": 70,
   "id": "92a14ec4",
   "metadata": {
    "collapsed": true
   },
   "outputs": [
    {
     "data": {
      "text/plain": [
       "{'name': 'sequential_6',\n",
       " 'layers': [{'class_name': 'InputLayer',\n",
       "   'config': {'batch_input_shape': (None, 784),\n",
       "    'dtype': 'float32',\n",
       "    'sparse': False,\n",
       "    'ragged': False,\n",
       "    'name': 'dense_Layer_input'}},\n",
       "  {'class_name': 'Dense',\n",
       "   'config': {'name': 'dense_Layer',\n",
       "    'trainable': True,\n",
       "    'batch_input_shape': (None, 784),\n",
       "    'dtype': 'float32',\n",
       "    'units': 512,\n",
       "    'activation': 'relu',\n",
       "    'use_bias': True,\n",
       "    'kernel_initializer': {'class_name': 'GlorotUniform',\n",
       "     'config': {'seed': None}},\n",
       "    'bias_initializer': {'class_name': 'Zeros', 'config': {}},\n",
       "    'kernel_regularizer': None,\n",
       "    'bias_regularizer': None,\n",
       "    'activity_regularizer': None,\n",
       "    'kernel_constraint': None,\n",
       "    'bias_constraint': None}},\n",
       "  {'class_name': 'Dropout',\n",
       "   'config': {'name': 'dropout_8',\n",
       "    'trainable': True,\n",
       "    'dtype': 'float32',\n",
       "    'rate': 0.3,\n",
       "    'noise_shape': None,\n",
       "    'seed': None}},\n",
       "  {'class_name': 'Dense',\n",
       "   'config': {'name': 'dense_layer_2',\n",
       "    'trainable': True,\n",
       "    'dtype': 'float32',\n",
       "    'units': 512,\n",
       "    'activation': 'relu',\n",
       "    'use_bias': True,\n",
       "    'kernel_initializer': {'class_name': 'GlorotUniform',\n",
       "     'config': {'seed': None}},\n",
       "    'bias_initializer': {'class_name': 'Zeros', 'config': {}},\n",
       "    'kernel_regularizer': None,\n",
       "    'bias_regularizer': None,\n",
       "    'activity_regularizer': None,\n",
       "    'kernel_constraint': None,\n",
       "    'bias_constraint': None}},\n",
       "  {'class_name': 'Dropout',\n",
       "   'config': {'name': 'dropout_9',\n",
       "    'trainable': True,\n",
       "    'dtype': 'float32',\n",
       "    'rate': 0.3,\n",
       "    'noise_shape': None,\n",
       "    'seed': None}},\n",
       "  {'class_name': 'Dense',\n",
       "   'config': {'name': 'dense_layer_3',\n",
       "    'trainable': True,\n",
       "    'dtype': 'float32',\n",
       "    'units': 512,\n",
       "    'activation': 'relu',\n",
       "    'use_bias': True,\n",
       "    'kernel_initializer': {'class_name': 'GlorotUniform',\n",
       "     'config': {'seed': None}},\n",
       "    'bias_initializer': {'class_name': 'Zeros', 'config': {}},\n",
       "    'kernel_regularizer': None,\n",
       "    'bias_regularizer': None,\n",
       "    'activity_regularizer': None,\n",
       "    'kernel_constraint': None,\n",
       "    'bias_constraint': None}},\n",
       "  {'class_name': 'Dropout',\n",
       "   'config': {'name': 'dropout_10',\n",
       "    'trainable': True,\n",
       "    'dtype': 'float32',\n",
       "    'rate': 0.3,\n",
       "    'noise_shape': None,\n",
       "    'seed': None}},\n",
       "  {'class_name': 'Dense',\n",
       "   'config': {'name': 'dense_layer_4',\n",
       "    'trainable': True,\n",
       "    'dtype': 'float32',\n",
       "    'units': 10,\n",
       "    'activation': 'softmax',\n",
       "    'use_bias': True,\n",
       "    'kernel_initializer': {'class_name': 'GlorotUniform',\n",
       "     'config': {'seed': None}},\n",
       "    'bias_initializer': {'class_name': 'Zeros', 'config': {}},\n",
       "    'kernel_regularizer': None,\n",
       "    'bias_regularizer': None,\n",
       "    'activity_regularizer': None,\n",
       "    'kernel_constraint': None,\n",
       "    'bias_constraint': None}}]}"
      ]
     },
     "execution_count": 70,
     "metadata": {},
     "output_type": "execute_result"
    }
   ],
   "source": [
    "model_6.get_config()"
   ]
  }
 ],
 "metadata": {
  "kernelspec": {
   "display_name": "Python 3",
   "language": "python",
   "name": "python3"
  },
  "language_info": {
   "codemirror_mode": {
    "name": "ipython",
    "version": 3
   },
   "file_extension": ".py",
   "mimetype": "text/x-python",
   "name": "python",
   "nbconvert_exporter": "python",
   "pygments_lexer": "ipython3",
   "version": "3.8.8"
  }
 },
 "nbformat": 4,
 "nbformat_minor": 5
}
