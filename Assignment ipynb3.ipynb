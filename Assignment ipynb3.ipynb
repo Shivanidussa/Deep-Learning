{
 "cells": [
  {
   "cell_type": "markdown",
   "id": "fd828ae1",
   "metadata": {},
   "source": [
    "### **`.ipynb file 3`**"
   ]
  },
  {
   "cell_type": "markdown",
   "id": "b57ca1c3",
   "metadata": {},
   "source": [
    "**Marks: 25**\n",
    ">**Problem Statement**<br>\n",
    "The dataset is similar to MNIST, but includes images of certain clothing and accessory. The objective is to classify images into specific classes using single layer perceptron and multilayer perceptron.<br>\n",
    "<br>\n",
    "**Dataset Description**\n",
    "- Total Images: 70,000 \n",
    "- Train Images: 60,000 \n",
    "- Test Images: 10,000 \n",
    "- Image Size: 28 X 28 \n",
    "- Classes: 'T-shirt/top', 'Trouser', 'Pullover', 'Dress', 'Coat', 'Sandal', 'Shirt', 'Sneaker', 'Bag', 'Ankle Boot' \n",
    "\n",
    ">**Tasks to be Performed:**\n",
    "As a part of this assignment you will be performing the following tasks:\n",
    "- Prepare a detailed python notebook(similar to this one) using muli-layer perceptron for classifing the images from [MNIST Fashion Dataset ](https://github.com/zalandoresearch/fashion-mnist) with best accuracy\n",
    "- Prepare the dataset for the model\n",
    "- Develop Single Layer Perceptron model for classifying the handwritten digits\n",
    "- Plot the change in accuracy per epochs\n",
    "- Evaluate the model on the testing data\n",
    "- Analyse the model summary\n",
    "- Add hidden layer to the model to make it Multi-Layer Perceptron\n",
    "- Add Dropout to prevent overfitting and check its effect on accuracy\n",
    "- Increasing the number of Hidden Layer neuron and check its effect on accuracy\n",
    "- Use different optimizers and check its effect on accuracy\n",
    "- Increase the hidden layers and check its effect on accuracy\n",
    "- Manipulate the batch_size and epochs and check its effect on accuracy\n",
    "\n",
    "**Answer:** What parameters should be choosen to get best accuracy on classifying the images into various categories?\n",
    " "
   ]
  },
  {
   "cell_type": "code",
   "execution_count": 1,
   "id": "839cab39",
   "metadata": {},
   "outputs": [],
   "source": [
    "import numpy as np\n",
    "import pandas as pd"
   ]
  },
  {
   "cell_type": "code",
   "execution_count": 17,
   "id": "c65df847",
   "metadata": {},
   "outputs": [],
   "source": [
    "#prepare the dataset for model"
   ]
  },
  {
   "cell_type": "code",
   "execution_count": 5,
   "id": "09ac8517",
   "metadata": {},
   "outputs": [],
   "source": [
    "train = pd.read_csv(r\"C:\\Users\\Shivani Dussa\\Downloads\\fashion-mnist_train.csv\\fashion-mnist_train.csv\")"
   ]
  },
  {
   "cell_type": "code",
   "execution_count": 6,
   "id": "a7674389",
   "metadata": {},
   "outputs": [],
   "source": [
    "test = pd.read_csv(r\"C:\\Users\\Shivani Dussa\\Downloads\\fashion-mnist_test.csv\\fashion-mnist_test.csv\")"
   ]
  },
  {
   "cell_type": "code",
   "execution_count": 11,
   "id": "2f591ffb",
   "metadata": {},
   "outputs": [
    {
     "data": {
      "text/plain": [
       "(60000, 785)"
      ]
     },
     "execution_count": 11,
     "metadata": {},
     "output_type": "execute_result"
    }
   ],
   "source": [
    "train.shape"
   ]
  },
  {
   "cell_type": "code",
   "execution_count": 10,
   "id": "1a93817f",
   "metadata": {},
   "outputs": [
    {
     "data": {
      "text/plain": [
       "(10000, 785)"
      ]
     },
     "execution_count": 10,
     "metadata": {},
     "output_type": "execute_result"
    }
   ],
   "source": [
    "test.shape"
   ]
  },
  {
   "cell_type": "code",
   "execution_count": 12,
   "id": "b43f35d0",
   "metadata": {},
   "outputs": [],
   "source": [
    "mnist_fashion = pd.concat([train,test]) "
   ]
  },
  {
   "cell_type": "code",
   "execution_count": 14,
   "id": "224ba27f",
   "metadata": {},
   "outputs": [
    {
     "data": {
      "text/plain": [
       "(70000, 785)"
      ]
     },
     "execution_count": 14,
     "metadata": {},
     "output_type": "execute_result"
    }
   ],
   "source": [
    "mnist_fashion.shape"
   ]
  },
  {
   "cell_type": "code",
   "execution_count": 16,
   "id": "09b96448",
   "metadata": {},
   "outputs": [
    {
     "data": {
      "text/html": [
       "<div>\n",
       "<style scoped>\n",
       "    .dataframe tbody tr th:only-of-type {\n",
       "        vertical-align: middle;\n",
       "    }\n",
       "\n",
       "    .dataframe tbody tr th {\n",
       "        vertical-align: top;\n",
       "    }\n",
       "\n",
       "    .dataframe thead th {\n",
       "        text-align: right;\n",
       "    }\n",
       "</style>\n",
       "<table border=\"1\" class=\"dataframe\">\n",
       "  <thead>\n",
       "    <tr style=\"text-align: right;\">\n",
       "      <th></th>\n",
       "      <th>label</th>\n",
       "      <th>pixel1</th>\n",
       "      <th>pixel2</th>\n",
       "      <th>pixel3</th>\n",
       "      <th>pixel4</th>\n",
       "      <th>pixel5</th>\n",
       "      <th>pixel6</th>\n",
       "      <th>pixel7</th>\n",
       "      <th>pixel8</th>\n",
       "      <th>pixel9</th>\n",
       "      <th>...</th>\n",
       "      <th>pixel775</th>\n",
       "      <th>pixel776</th>\n",
       "      <th>pixel777</th>\n",
       "      <th>pixel778</th>\n",
       "      <th>pixel779</th>\n",
       "      <th>pixel780</th>\n",
       "      <th>pixel781</th>\n",
       "      <th>pixel782</th>\n",
       "      <th>pixel783</th>\n",
       "      <th>pixel784</th>\n",
       "    </tr>\n",
       "  </thead>\n",
       "  <tbody>\n",
       "    <tr>\n",
       "      <th>0</th>\n",
       "      <td>2</td>\n",
       "      <td>0</td>\n",
       "      <td>0</td>\n",
       "      <td>0</td>\n",
       "      <td>0</td>\n",
       "      <td>0</td>\n",
       "      <td>0</td>\n",
       "      <td>0</td>\n",
       "      <td>0</td>\n",
       "      <td>0</td>\n",
       "      <td>...</td>\n",
       "      <td>0</td>\n",
       "      <td>0</td>\n",
       "      <td>0</td>\n",
       "      <td>0</td>\n",
       "      <td>0</td>\n",
       "      <td>0</td>\n",
       "      <td>0</td>\n",
       "      <td>0</td>\n",
       "      <td>0</td>\n",
       "      <td>0</td>\n",
       "    </tr>\n",
       "    <tr>\n",
       "      <th>1</th>\n",
       "      <td>9</td>\n",
       "      <td>0</td>\n",
       "      <td>0</td>\n",
       "      <td>0</td>\n",
       "      <td>0</td>\n",
       "      <td>0</td>\n",
       "      <td>0</td>\n",
       "      <td>0</td>\n",
       "      <td>0</td>\n",
       "      <td>0</td>\n",
       "      <td>...</td>\n",
       "      <td>0</td>\n",
       "      <td>0</td>\n",
       "      <td>0</td>\n",
       "      <td>0</td>\n",
       "      <td>0</td>\n",
       "      <td>0</td>\n",
       "      <td>0</td>\n",
       "      <td>0</td>\n",
       "      <td>0</td>\n",
       "      <td>0</td>\n",
       "    </tr>\n",
       "    <tr>\n",
       "      <th>2</th>\n",
       "      <td>6</td>\n",
       "      <td>0</td>\n",
       "      <td>0</td>\n",
       "      <td>0</td>\n",
       "      <td>0</td>\n",
       "      <td>0</td>\n",
       "      <td>0</td>\n",
       "      <td>0</td>\n",
       "      <td>5</td>\n",
       "      <td>0</td>\n",
       "      <td>...</td>\n",
       "      <td>0</td>\n",
       "      <td>0</td>\n",
       "      <td>0</td>\n",
       "      <td>30</td>\n",
       "      <td>43</td>\n",
       "      <td>0</td>\n",
       "      <td>0</td>\n",
       "      <td>0</td>\n",
       "      <td>0</td>\n",
       "      <td>0</td>\n",
       "    </tr>\n",
       "    <tr>\n",
       "      <th>3</th>\n",
       "      <td>0</td>\n",
       "      <td>0</td>\n",
       "      <td>0</td>\n",
       "      <td>0</td>\n",
       "      <td>1</td>\n",
       "      <td>2</td>\n",
       "      <td>0</td>\n",
       "      <td>0</td>\n",
       "      <td>0</td>\n",
       "      <td>0</td>\n",
       "      <td>...</td>\n",
       "      <td>3</td>\n",
       "      <td>0</td>\n",
       "      <td>0</td>\n",
       "      <td>0</td>\n",
       "      <td>0</td>\n",
       "      <td>1</td>\n",
       "      <td>0</td>\n",
       "      <td>0</td>\n",
       "      <td>0</td>\n",
       "      <td>0</td>\n",
       "    </tr>\n",
       "    <tr>\n",
       "      <th>4</th>\n",
       "      <td>3</td>\n",
       "      <td>0</td>\n",
       "      <td>0</td>\n",
       "      <td>0</td>\n",
       "      <td>0</td>\n",
       "      <td>0</td>\n",
       "      <td>0</td>\n",
       "      <td>0</td>\n",
       "      <td>0</td>\n",
       "      <td>0</td>\n",
       "      <td>...</td>\n",
       "      <td>0</td>\n",
       "      <td>0</td>\n",
       "      <td>0</td>\n",
       "      <td>0</td>\n",
       "      <td>0</td>\n",
       "      <td>0</td>\n",
       "      <td>0</td>\n",
       "      <td>0</td>\n",
       "      <td>0</td>\n",
       "      <td>0</td>\n",
       "    </tr>\n",
       "  </tbody>\n",
       "</table>\n",
       "<p>5 rows × 785 columns</p>\n",
       "</div>"
      ],
      "text/plain": [
       "   label  pixel1  pixel2  pixel3  pixel4  pixel5  pixel6  pixel7  pixel8  \\\n",
       "0      2       0       0       0       0       0       0       0       0   \n",
       "1      9       0       0       0       0       0       0       0       0   \n",
       "2      6       0       0       0       0       0       0       0       5   \n",
       "3      0       0       0       0       1       2       0       0       0   \n",
       "4      3       0       0       0       0       0       0       0       0   \n",
       "\n",
       "   pixel9  ...  pixel775  pixel776  pixel777  pixel778  pixel779  pixel780  \\\n",
       "0       0  ...         0         0         0         0         0         0   \n",
       "1       0  ...         0         0         0         0         0         0   \n",
       "2       0  ...         0         0         0        30        43         0   \n",
       "3       0  ...         3         0         0         0         0         1   \n",
       "4       0  ...         0         0         0         0         0         0   \n",
       "\n",
       "   pixel781  pixel782  pixel783  pixel784  \n",
       "0         0         0         0         0  \n",
       "1         0         0         0         0  \n",
       "2         0         0         0         0  \n",
       "3         0         0         0         0  \n",
       "4         0         0         0         0  \n",
       "\n",
       "[5 rows x 785 columns]"
      ]
     },
     "execution_count": 16,
     "metadata": {},
     "output_type": "execute_result"
    }
   ],
   "source": [
    "mnist_fashion.head()"
   ]
  },
  {
   "cell_type": "code",
   "execution_count": 18,
   "id": "79cac944",
   "metadata": {},
   "outputs": [],
   "source": [
    "#Develop Single Layer Perceptron model for classifying the handwritten digits"
   ]
  },
  {
   "cell_type": "markdown",
   "id": "6592fe62",
   "metadata": {},
   "source": [
    "\n",
    "- Prepare a detailed python notebook(similar to this one) using muli-layer perceptron for classifing the images from [MNIST Fashion Dataset ](https://github.com/zalandoresearch/fashion-mnist) with best accuracy\n"
   ]
  },
  {
   "cell_type": "code",
   "execution_count": 2,
   "id": "f610f8ce",
   "metadata": {},
   "outputs": [],
   "source": [
    "import tensorflow as tf\n",
    "from tensorflow import keras"
   ]
  },
  {
   "cell_type": "code",
   "execution_count": 4,
   "id": "6250972a",
   "metadata": {},
   "outputs": [],
   "source": [
    "mnist_fashion = keras.datasets.fashion_mnist\n",
    "(X_train,y_train),(X_test,y_test) = mnist_fashion.load_data()"
   ]
  },
  {
   "cell_type": "code",
   "execution_count": 5,
   "id": "8e07e451",
   "metadata": {},
   "outputs": [
    {
     "name": "stdout",
     "output_type": "stream",
     "text": [
      "(60000, 28, 28)\n",
      "(10000, 28, 28)\n",
      "(60000,)\n",
      "(10000,)\n"
     ]
    }
   ],
   "source": [
    "print(X_train.shape)   # 60k,28,28 shape is in 3Dimensional \n",
    "print(X_test.shape)\n",
    "print(y_train.shape)\n",
    "print(y_test.shape)"
   ]
  },
  {
   "cell_type": "code",
   "execution_count": 6,
   "id": "ed832d57",
   "metadata": {
    "collapsed": true
   },
   "outputs": [
    {
     "data": {
      "text/plain": [
       "array([[  0,   0,   0,   0,   0,   0,   0,   0,   0,   0,   0,   0,   0,\n",
       "          0,   0,   0,   0,   0,   0,   0,   0,   0,   0,   0,   0,   0,\n",
       "          0,   0],\n",
       "       [  0,   0,   0,   0,   0,   0,   0,   0,   0,   0,   0,   0,   0,\n",
       "          0,   0,   0,   0,   0,   0,   0,   0,   0,   0,   0,   0,   0,\n",
       "          0,   0],\n",
       "       [  0,   0,   0,   0,   0,   0,   0,   0,   0,   0,   0,   0,   0,\n",
       "          0,   0,   0,   0,   0,   0,   0,   0,   0,   0,   0,   0,   0,\n",
       "          0,   0],\n",
       "       [  0,   0,   0,   0,   0,   0,   0,   0,   0,   0,   0,   0,   1,\n",
       "          0,   0,  13,  73,   0,   0,   1,   4,   0,   0,   0,   0,   1,\n",
       "          1,   0],\n",
       "       [  0,   0,   0,   0,   0,   0,   0,   0,   0,   0,   0,   0,   3,\n",
       "          0,  36, 136, 127,  62,  54,   0,   0,   0,   1,   3,   4,   0,\n",
       "          0,   3],\n",
       "       [  0,   0,   0,   0,   0,   0,   0,   0,   0,   0,   0,   0,   6,\n",
       "          0, 102, 204, 176, 134, 144, 123,  23,   0,   0,   0,   0,  12,\n",
       "         10,   0],\n",
       "       [  0,   0,   0,   0,   0,   0,   0,   0,   0,   0,   0,   0,   0,\n",
       "          0, 155, 236, 207, 178, 107, 156, 161, 109,  64,  23,  77, 130,\n",
       "         72,  15],\n",
       "       [  0,   0,   0,   0,   0,   0,   0,   0,   0,   0,   0,   1,   0,\n",
       "         69, 207, 223, 218, 216, 216, 163, 127, 121, 122, 146, 141,  88,\n",
       "        172,  66],\n",
       "       [  0,   0,   0,   0,   0,   0,   0,   0,   0,   1,   1,   1,   0,\n",
       "        200, 232, 232, 233, 229, 223, 223, 215, 213, 164, 127, 123, 196,\n",
       "        229,   0],\n",
       "       [  0,   0,   0,   0,   0,   0,   0,   0,   0,   0,   0,   0,   0,\n",
       "        183, 225, 216, 223, 228, 235, 227, 224, 222, 224, 221, 223, 245,\n",
       "        173,   0],\n",
       "       [  0,   0,   0,   0,   0,   0,   0,   0,   0,   0,   0,   0,   0,\n",
       "        193, 228, 218, 213, 198, 180, 212, 210, 211, 213, 223, 220, 243,\n",
       "        202,   0],\n",
       "       [  0,   0,   0,   0,   0,   0,   0,   0,   0,   1,   3,   0,  12,\n",
       "        219, 220, 212, 218, 192, 169, 227, 208, 218, 224, 212, 226, 197,\n",
       "        209,  52],\n",
       "       [  0,   0,   0,   0,   0,   0,   0,   0,   0,   0,   6,   0,  99,\n",
       "        244, 222, 220, 218, 203, 198, 221, 215, 213, 222, 220, 245, 119,\n",
       "        167,  56],\n",
       "       [  0,   0,   0,   0,   0,   0,   0,   0,   0,   4,   0,   0,  55,\n",
       "        236, 228, 230, 228, 240, 232, 213, 218, 223, 234, 217, 217, 209,\n",
       "         92,   0],\n",
       "       [  0,   0,   1,   4,   6,   7,   2,   0,   0,   0,   0,   0, 237,\n",
       "        226, 217, 223, 222, 219, 222, 221, 216, 223, 229, 215, 218, 255,\n",
       "         77,   0],\n",
       "       [  0,   3,   0,   0,   0,   0,   0,   0,   0,  62, 145, 204, 228,\n",
       "        207, 213, 221, 218, 208, 211, 218, 224, 223, 219, 215, 224, 244,\n",
       "        159,   0],\n",
       "       [  0,   0,   0,   0,  18,  44,  82, 107, 189, 228, 220, 222, 217,\n",
       "        226, 200, 205, 211, 230, 224, 234, 176, 188, 250, 248, 233, 238,\n",
       "        215,   0],\n",
       "       [  0,  57, 187, 208, 224, 221, 224, 208, 204, 214, 208, 209, 200,\n",
       "        159, 245, 193, 206, 223, 255, 255, 221, 234, 221, 211, 220, 232,\n",
       "        246,   0],\n",
       "       [  3, 202, 228, 224, 221, 211, 211, 214, 205, 205, 205, 220, 240,\n",
       "         80, 150, 255, 229, 221, 188, 154, 191, 210, 204, 209, 222, 228,\n",
       "        225,   0],\n",
       "       [ 98, 233, 198, 210, 222, 229, 229, 234, 249, 220, 194, 215, 217,\n",
       "        241,  65,  73, 106, 117, 168, 219, 221, 215, 217, 223, 223, 224,\n",
       "        229,  29],\n",
       "       [ 75, 204, 212, 204, 193, 205, 211, 225, 216, 185, 197, 206, 198,\n",
       "        213, 240, 195, 227, 245, 239, 223, 218, 212, 209, 222, 220, 221,\n",
       "        230,  67],\n",
       "       [ 48, 203, 183, 194, 213, 197, 185, 190, 194, 192, 202, 214, 219,\n",
       "        221, 220, 236, 225, 216, 199, 206, 186, 181, 177, 172, 181, 205,\n",
       "        206, 115],\n",
       "       [  0, 122, 219, 193, 179, 171, 183, 196, 204, 210, 213, 207, 211,\n",
       "        210, 200, 196, 194, 191, 195, 191, 198, 192, 176, 156, 167, 177,\n",
       "        210,  92],\n",
       "       [  0,   0,  74, 189, 212, 191, 175, 172, 175, 181, 185, 188, 189,\n",
       "        188, 193, 198, 204, 209, 210, 210, 211, 188, 188, 194, 192, 216,\n",
       "        170,   0],\n",
       "       [  2,   0,   0,   0,  66, 200, 222, 237, 239, 242, 246, 243, 244,\n",
       "        221, 220, 193, 191, 179, 182, 182, 181, 176, 166, 168,  99,  58,\n",
       "          0,   0],\n",
       "       [  0,   0,   0,   0,   0,   0,   0,  40,  61,  44,  72,  41,  35,\n",
       "          0,   0,   0,   0,   0,   0,   0,   0,   0,   0,   0,   0,   0,\n",
       "          0,   0],\n",
       "       [  0,   0,   0,   0,   0,   0,   0,   0,   0,   0,   0,   0,   0,\n",
       "          0,   0,   0,   0,   0,   0,   0,   0,   0,   0,   0,   0,   0,\n",
       "          0,   0],\n",
       "       [  0,   0,   0,   0,   0,   0,   0,   0,   0,   0,   0,   0,   0,\n",
       "          0,   0,   0,   0,   0,   0,   0,   0,   0,   0,   0,   0,   0,\n",
       "          0,   0]], dtype=uint8)"
      ]
     },
     "execution_count": 6,
     "metadata": {},
     "output_type": "execute_result"
    }
   ],
   "source": [
    "X_train[0]"
   ]
  },
  {
   "cell_type": "code",
   "execution_count": 7,
   "id": "780be618",
   "metadata": {},
   "outputs": [
    {
     "data": {
      "text/plain": [
       "9"
      ]
     },
     "execution_count": 7,
     "metadata": {},
     "output_type": "execute_result"
    }
   ],
   "source": [
    "y_train[0]"
   ]
  },
  {
   "cell_type": "code",
   "execution_count": 49,
   "id": "4485a802",
   "metadata": {},
   "outputs": [
    {
     "data": {
      "text/plain": [
       "((28, 28), (28, 28))"
      ]
     },
     "execution_count": 49,
     "metadata": {},
     "output_type": "execute_result"
    }
   ],
   "source": [
    "X_train[0].shape,X_test[9].shape"
   ]
  },
  {
   "cell_type": "code",
   "execution_count": 50,
   "id": "5ce6a47c",
   "metadata": {},
   "outputs": [
    {
     "data": {
      "text/plain": [
       "8"
      ]
     },
     "execution_count": 50,
     "metadata": {},
     "output_type": "execute_result"
    }
   ],
   "source": [
    "y_test[69]"
   ]
  },
  {
   "cell_type": "code",
   "execution_count": 8,
   "id": "ebff1dc9",
   "metadata": {},
   "outputs": [
    {
     "data": {
      "text/plain": [
       "<matplotlib.image.AxesImage at 0x25e034e6970>"
      ]
     },
     "execution_count": 8,
     "metadata": {},
     "output_type": "execute_result"
    },
    {
     "data": {
      "image/png": "[encoded data removed]",
      "text/plain": [
       "<Figure size 432x288 with 1 Axes>"
      ]
     },
     "metadata": {
      "needs_background": "light"
     },
     "output_type": "display_data"
    }
   ],
   "source": [
    "import matplotlib.pyplot as plt\n",
    "plt.imshow(X_train[69])"
   ]
  },
  {
   "cell_type": "code",
   "execution_count": 8,
   "id": "f512ceca",
   "metadata": {},
   "outputs": [
    {
     "data": {
      "text/plain": [
       "<matplotlib.image.AxesImage at 0x2c8c5260f40>"
      ]
     },
     "execution_count": 8,
     "metadata": {},
     "output_type": "execute_result"
    },
    {
     "data": {
      "image/png": "[encoded data removed]",
      "text/plain": [
       "<Figure size 432x288 with 1 Axes>"
      ]
     },
     "metadata": {
      "needs_background": "light"
     },
     "output_type": "display_data"
    }
   ],
   "source": [
    "plt.imshow(X_test[0])"
   ]
  },
  {
   "cell_type": "code",
   "execution_count": 9,
   "id": "0c176005",
   "metadata": {},
   "outputs": [
    {
     "data": {
      "text/plain": [
       "<matplotlib.image.AxesImage at 0x2c8c52bdd90>"
      ]
     },
     "execution_count": 9,
     "metadata": {},
     "output_type": "execute_result"
    },
    {
     "data": {
      "image/png": "[encoded data removed]",
      "text/plain": [
       "<Figure size 432x288 with 1 Axes>"
      ]
     },
     "metadata": {
      "needs_background": "light"
     },
     "output_type": "display_data"
    }
   ],
   "source": [
    "plt.imshow(X_train[96])"
   ]
  },
  {
   "cell_type": "code",
   "execution_count": 10,
   "id": "35bd6928",
   "metadata": {},
   "outputs": [
    {
     "data": {
      "text/plain": [
       "4"
      ]
     },
     "execution_count": 10,
     "metadata": {},
     "output_type": "execute_result"
    }
   ],
   "source": [
    "y_train[96]"
   ]
  },
  {
   "cell_type": "code",
   "execution_count": 9,
   "id": "36b0c013",
   "metadata": {},
   "outputs": [
    {
     "name": "stdout",
     "output_type": "stream",
     "text": [
      "60000 train samples\n",
      "10000 test samples\n"
     ]
    }
   ],
   "source": [
    "# X_train is 60000 rows of 28x28 values; we reshape it to # 60000 x 784. \n",
    "RESHAPED = 784                        # resolution 28x28  = 784 its a 2 Dimensional converted \n",
    "X_train = X_train.reshape(60000, RESHAPED) \n",
    "X_test = X_test.reshape(10000, RESHAPED) \n",
    "\n",
    "# Data is converted into float32 to use 32-bit precision # when training a neural network \n",
    "X_train = X_train.astype('float32')\n",
    "X_test = X_test.astype('float32') \n",
    "\n",
    "# Normalizing the input to be within the range [0,1]\n",
    "X_train /= 255                                         # X_train = X_train / 255\n",
    "#intensity of each pixel is divided by 255, the maximum intensity value\n",
    "X_test /= 255\n",
    "\n",
    "print(X_train.shape[0], 'train samples') \n",
    "print(X_test.shape[0], 'test samples') \n",
    "\n",
    "# One-hot representation of the labels.\n",
    "\n",
    "y_train = tf.keras.utils.to_categorical(y_train, 10) \n",
    "y_test = tf.keras.utils.to_categorical(y_test, 10)\n"
   ]
  },
  {
   "cell_type": "code",
   "execution_count": 65,
   "id": "36d1282f",
   "metadata": {},
   "outputs": [
    {
     "data": {
      "text/plain": [
       "784"
      ]
     },
     "execution_count": 65,
     "metadata": {},
     "output_type": "execute_result"
    }
   ],
   "source": [
    "28*28"
   ]
  },
  {
   "cell_type": "code",
   "execution_count": 10,
   "id": "bb036754",
   "metadata": {},
   "outputs": [
    {
     "data": {
      "text/plain": [
       "((60000, 784), (60000, 10), (10000, 784), (10000, 10))"
      ]
     },
     "execution_count": 10,
     "metadata": {},
     "output_type": "execute_result"
    }
   ],
   "source": [
    "X_train.shape,y_train.shape,X_test.shape,y_test.shape"
   ]
  },
  {
   "cell_type": "markdown",
   "id": "ffb8e09c",
   "metadata": {},
   "source": [
    "- **Develop Single Layer Perceptron model for classifying the handwritten digits**"
   ]
  },
  {
   "cell_type": "code",
   "execution_count": 11,
   "id": "e84f044d",
   "metadata": {},
   "outputs": [],
   "source": [
    "import tensorflow as tf\n",
    "from tensorflow.keras.layers import Dense\n",
    "from tensorflow.keras import Sequential"
   ]
  },
  {
   "cell_type": "code",
   "execution_count": 12,
   "id": "9ee206a6",
   "metadata": {},
   "outputs": [],
   "source": [
    "model_0 = Sequential()\n",
    "model_0.add(Dense(10,input_shape = (784,),name = 'dense_layer',activation = 'softmax'))"
   ]
  },
  {
   "cell_type": "code",
   "execution_count": 13,
   "id": "c393bac7",
   "metadata": {},
   "outputs": [
    {
     "name": "stdout",
     "output_type": "stream",
     "text": [
      "Model: \"sequential\"\n",
      "_________________________________________________________________\n",
      "Layer (type)                 Output Shape              Param #   \n",
      "=================================================================\n",
      "dense_layer (Dense)          (None, 10)                7850      \n",
      "=================================================================\n",
      "Total params: 7,850\n",
      "Trainable params: 7,850\n",
      "Non-trainable params: 0\n",
      "_________________________________________________________________\n"
     ]
    }
   ],
   "source": [
    "model_0.summary()"
   ]
  },
  {
   "cell_type": "code",
   "execution_count": 14,
   "id": "1f75a1ea",
   "metadata": {},
   "outputs": [],
   "source": [
    "# compiling the model\n",
    "model_0.compile(optimizer = 'SGD',loss = 'categorical_crossentropy',metrics = ['accuracy'])"
   ]
  },
  {
   "cell_type": "code",
   "execution_count": 15,
   "id": "30afb635",
   "metadata": {},
   "outputs": [
    {
     "name": "stdout",
     "output_type": "stream",
     "text": [
      "Epoch 1/30\n",
      "  1/375 [..............................] - ETA: 0s - loss: 2.5494 - accuracy: 0.0547WARNING:tensorflow:From C:\\Users\\Shivani Dussa\\anaconda3\\lib\\site-packages\\tensorflow\\python\\ops\\summary_ops_v2.py:1277: stop (from tensorflow.python.eager.profiler) is deprecated and will be removed after 2020-07-01.\n",
      "Instructions for updating:\n",
      "use `tf.profiler.experimental.stop` instead.\n",
      "  2/375 [..............................] - ETA: 13s - loss: 2.4970 - accuracy: 0.0547WARNING:tensorflow:Callbacks method `on_train_batch_end` is slow compared to the batch time (batch time: 0.0020s vs `on_train_batch_end` time: 0.0681s). Check your callbacks.\n",
      "375/375 [==============================] - 1s 2ms/step - loss: 1.2440 - accuracy: 0.6226 - val_loss: 0.8917 - val_accuracy: 0.7255\n",
      "Epoch 2/30\n",
      "375/375 [==============================] - 1s 2ms/step - loss: 0.8204 - accuracy: 0.7380 - val_loss: 0.7527 - val_accuracy: 0.7598\n",
      "Epoch 3/30\n",
      "375/375 [==============================] - 1s 2ms/step - loss: 0.7264 - accuracy: 0.7668 - val_loss: 0.6900 - val_accuracy: 0.7782\n",
      "Epoch 4/30\n",
      "375/375 [==============================] - 1s 2ms/step - loss: 0.6758 - accuracy: 0.7824 - val_loss: 0.6504 - val_accuracy: 0.7883\n",
      "Epoch 5/30\n",
      "375/375 [==============================] - 1s 2ms/step - loss: 0.6423 - accuracy: 0.7934 - val_loss: 0.6245 - val_accuracy: 0.7957\n",
      "Epoch 6/30\n",
      "375/375 [==============================] - 1s 2ms/step - loss: 0.6179 - accuracy: 0.8005 - val_loss: 0.6039 - val_accuracy: 0.8020\n",
      "Epoch 7/30\n",
      "375/375 [==============================] - 1s 2ms/step - loss: 0.5991 - accuracy: 0.8059 - val_loss: 0.5878 - val_accuracy: 0.8064\n",
      "Epoch 8/30\n",
      "375/375 [==============================] - 1s 2ms/step - loss: 0.5839 - accuracy: 0.8111 - val_loss: 0.5751 - val_accuracy: 0.8094\n",
      "Epoch 9/30\n",
      "375/375 [==============================] - 1s 2ms/step - loss: 0.5714 - accuracy: 0.8143 - val_loss: 0.5640 - val_accuracy: 0.8134\n",
      "Epoch 10/30\n",
      "375/375 [==============================] - 1s 2ms/step - loss: 0.5608 - accuracy: 0.8175 - val_loss: 0.5562 - val_accuracy: 0.8161\n",
      "Epoch 11/30\n",
      "375/375 [==============================] - 1s 2ms/step - loss: 0.5517 - accuracy: 0.8208 - val_loss: 0.5474 - val_accuracy: 0.8164\n",
      "Epoch 12/30\n",
      "375/375 [==============================] - 1s 1ms/step - loss: 0.5438 - accuracy: 0.8230 - val_loss: 0.5403 - val_accuracy: 0.8188\n",
      "Epoch 13/30\n",
      "375/375 [==============================] - 1s 1ms/step - loss: 0.5367 - accuracy: 0.8247 - val_loss: 0.5338 - val_accuracy: 0.8207\n",
      "Epoch 14/30\n",
      "375/375 [==============================] - 1s 2ms/step - loss: 0.5305 - accuracy: 0.8259 - val_loss: 0.5287 - val_accuracy: 0.8206\n",
      "Epoch 15/30\n",
      "375/375 [==============================] - 1s 2ms/step - loss: 0.5249 - accuracy: 0.8283 - val_loss: 0.5232 - val_accuracy: 0.8233\n",
      "Epoch 16/30\n",
      "375/375 [==============================] - 1s 2ms/step - loss: 0.5199 - accuracy: 0.8293 - val_loss: 0.5189 - val_accuracy: 0.8247\n",
      "Epoch 17/30\n",
      "375/375 [==============================] - 1s 2ms/step - loss: 0.5150 - accuracy: 0.8315 - val_loss: 0.5147 - val_accuracy: 0.8264\n",
      "Epoch 18/30\n",
      "375/375 [==============================] - 1s 2ms/step - loss: 0.5108 - accuracy: 0.8319 - val_loss: 0.5110 - val_accuracy: 0.8278\n",
      "Epoch 19/30\n",
      "375/375 [==============================] - 1s 2ms/step - loss: 0.5068 - accuracy: 0.8324 - val_loss: 0.5074 - val_accuracy: 0.8278\n",
      "Epoch 20/30\n",
      "375/375 [==============================] - 1s 2ms/step - loss: 0.5032 - accuracy: 0.8331 - val_loss: 0.5055 - val_accuracy: 0.8295\n",
      "Epoch 21/30\n",
      "375/375 [==============================] - 1s 2ms/step - loss: 0.4998 - accuracy: 0.8344 - val_loss: 0.5022 - val_accuracy: 0.8286\n",
      "Epoch 22/30\n",
      "375/375 [==============================] - 1s 2ms/step - loss: 0.4965 - accuracy: 0.8360 - val_loss: 0.4984 - val_accuracy: 0.8310\n",
      "Epoch 23/30\n",
      "375/375 [==============================] - 1s 2ms/step - loss: 0.4936 - accuracy: 0.8366 - val_loss: 0.4959 - val_accuracy: 0.8314\n",
      "Epoch 24/30\n",
      "375/375 [==============================] - 1s 2ms/step - loss: 0.4908 - accuracy: 0.8377 - val_loss: 0.4936 - val_accuracy: 0.8311\n",
      "Epoch 25/30\n",
      "375/375 [==============================] - 1s 2ms/step - loss: 0.4883 - accuracy: 0.8377 - val_loss: 0.4907 - val_accuracy: 0.8334\n",
      "Epoch 26/30\n",
      "375/375 [==============================] - 1s 2ms/step - loss: 0.4857 - accuracy: 0.8388 - val_loss: 0.4890 - val_accuracy: 0.8336\n",
      "Epoch 27/30\n",
      "375/375 [==============================] - 1s 2ms/step - loss: 0.4833 - accuracy: 0.8398 - val_loss: 0.4882 - val_accuracy: 0.8340\n",
      "Epoch 28/30\n",
      "375/375 [==============================] - 1s 2ms/step - loss: 0.4810 - accuracy: 0.8401 - val_loss: 0.4855 - val_accuracy: 0.8332\n",
      "Epoch 29/30\n",
      "375/375 [==============================] - 1s 2ms/step - loss: 0.4790 - accuracy: 0.8411 - val_loss: 0.4832 - val_accuracy: 0.8353\n",
      "Epoch 30/30\n",
      "375/375 [==============================] - 1s 2ms/step - loss: 0.4769 - accuracy: 0.8411 - val_loss: 0.4813 - val_accuracy: 0.8363\n"
     ]
    }
   ],
   "source": [
    "#Training the model\n",
    "log_dir = \"logs/fit/model0\"\n",
    "tensorboard_callback = tf.keras.callbacks.TensorBoard(log_dir = log_dir,histogram_freq = 1)\n",
    "training = model_0.fit(X_train,y_train,batch_size = 128,epochs = 30,validation_split = 0.2,callbacks = tensorboard_callback)"
   ]
  },
  {
   "cell_type": "markdown",
   "id": "7750fec9",
   "metadata": {},
   "source": [
    "- **Plot the change in accuracy per epochs**"
   ]
  },
  {
   "cell_type": "code",
   "execution_count": 16,
   "id": "eaddcdd4",
   "metadata": {},
   "outputs": [
    {
     "name": "stdout",
     "output_type": "stream",
     "text": [
      "dict_keys(['loss', 'accuracy', 'val_loss', 'val_accuracy'])\n"
     ]
    },
    {
     "data": {
      "image/png": "[encoded data removed]",
      "text/plain": [
       "<Figure size 432x288 with 1 Axes>"
      ]
     },
     "metadata": {
      "needs_background": "light"
     },
     "output_type": "display_data"
    },
    {
     "data": {
      "image/png": "[encoded data removed]",
      "text/plain": [
       "<Figure size 432x288 with 1 Axes>"
      ]
     },
     "metadata": {
      "needs_background": "light"
     },
     "output_type": "display_data"
    }
   ],
   "source": [
    "import matplotlib.pyplot as plt\n",
    "%matplotlib inline\n",
    "# list all data in training\n",
    "print(training.history.keys())\n",
    "# summarize training for accuracy\n",
    "plt.plot(training.history['accuracy'])\n",
    "plt.plot(training.history['val_accuracy'])\n",
    "plt.title('model accuracy')\n",
    "plt.ylabel('accuracy')\n",
    "plt.xlabel('epoch')\n",
    "plt.legend(['train', 'test'], loc='upper left')\n",
    "plt.show()\n",
    "# summarize traning for loss\n",
    "plt.plot(training.history['loss'])\n",
    "plt.plot(training.history['val_loss'])\n",
    "plt.title('model loss')\n",
    "plt.ylabel('loss')\n",
    "plt.xlabel('epoch')\n",
    "plt.legend(['train', 'test'], loc='upper left')\n",
    "plt.show()"
   ]
  },
  {
   "cell_type": "markdown",
   "id": "3c5cb876",
   "metadata": {},
   "source": [
    "- **Evaluate the model on the testing data**"
   ]
  },
  {
   "cell_type": "code",
   "execution_count": 17,
   "id": "0e2fc217",
   "metadata": {},
   "outputs": [
    {
     "name": "stdout",
     "output_type": "stream",
     "text": [
      "313/313 [==============================] - 0s 899us/step - loss: 0.5081 - accuracy: 0.8271\n",
      "Testing accuracy: 0.8270999789237976\n"
     ]
    }
   ],
   "source": [
    "# Evaluate the model\n",
    "test_loss,test_acc = model_0.evaluate(X_test,y_test)\n",
    "print(\"Testing accuracy:\",test_acc)"
   ]
  },
  {
   "cell_type": "markdown",
   "id": "2cf7d584",
   "metadata": {},
   "source": [
    "- **Analyse the model summary**"
   ]
  },
  {
   "cell_type": "code",
   "execution_count": 18,
   "id": "430c74b9",
   "metadata": {},
   "outputs": [
    {
     "name": "stdout",
     "output_type": "stream",
     "text": [
      "Model: \"sequential\"\n",
      "_________________________________________________________________\n",
      "Layer (type)                 Output Shape              Param #   \n",
      "=================================================================\n",
      "dense_layer (Dense)          (None, 10)                7850      \n",
      "=================================================================\n",
      "Total params: 7,850\n",
      "Trainable params: 7,850\n",
      "Non-trainable params: 0\n",
      "_________________________________________________________________\n"
     ]
    }
   ],
   "source": [
    "model_0.summary()"
   ]
  },
  {
   "cell_type": "markdown",
   "id": "27557361",
   "metadata": {},
   "source": [
    "- **Add hidden layer to the model to make it Multi-Layer Perceptron**"
   ]
  },
  {
   "cell_type": "code",
   "execution_count": 20,
   "id": "d1c17fdf",
   "metadata": {},
   "outputs": [],
   "source": [
    "model_1 = tf.keras.Sequential()\n",
    "N_hidden = 96\n",
    "# Adds a densely-connected layer with 96 units to the model\n",
    "model_1.add(Dense(N_hidden,name = 'dense_layer',input_shape = (784,),activation = 'relu'))\n",
    "# Now the model will take as input arrays of shape (*, 784) and ouput array of shape (*,64)\n",
    "\n",
    "# Adding another layer:\n",
    "model_1.add(Dense(N_hidden,name = 'dense_layer_2',activation = 'relu')) # after 1st layer we dont want to mention input shape\n",
    "\n",
    "# Add output layer with 10 output units (10 different classes)\n",
    "model_1.add(Dense(10,name = 'dense_layer_3',activation = 'softmax'))"
   ]
  },
  {
   "cell_type": "markdown",
   "id": "b45e2145",
   "metadata": {},
   "source": [
    "- **Add Dropout to prevent overfitting and check its effect on accuracy**"
   ]
  },
  {
   "cell_type": "code",
   "execution_count": 21,
   "id": "96c31f3a",
   "metadata": {},
   "outputs": [],
   "source": [
    "from tensorflow.keras.layers import Dropout\n",
    "\n",
    "# Most common type of model is a stack of layers\n",
    "model_2 = tf.keras.Sequential()\n",
    "n_hidden = 96\n",
    "\n",
    "# Adds a densely-connected layer with 64 units to the model:\n",
    "model_2.add(Dense(n_hidden,name = 'dense_layer',input_shape = (784,),activation = 'relu'))\n",
    "\n",
    "# Now the model will take as input arrays of shape (*, 784)# and output arrays of shape (*, 64)\n",
    "model_2.add(Dropout(0.4))\n",
    "\n",
    "# Adding another dense layer\n",
    "model_2.add(Dense(n_hidden,name = 'dense_layer_2',activation = 'relu'))\n",
    "model_2.add(Dropout(0.4))\n",
    "\n",
    "# Adding another dense layer:\n",
    "#model_2.add(Dense(N_hidden,name = 'dense_layer_3',activation = 'relu'))\n",
    "#model_2.add(Dropout(0.3))\n",
    "\n",
    "# Add an output layer with 10 output units (10 different classes):\n",
    "model_2.add(Dense(10,name = 'dense_layer_3',activation = 'softmax'))"
   ]
  },
  {
   "cell_type": "code",
   "execution_count": 22,
   "id": "92cdec89",
   "metadata": {},
   "outputs": [],
   "source": [
    "# compiling the model\n",
    "model_2.compile(optimizer = 'SGD',loss = 'categorical_crossentropy',metrics = ['accuracy'])"
   ]
  },
  {
   "cell_type": "code",
   "execution_count": 23,
   "id": "cdd15bb1",
   "metadata": {},
   "outputs": [
    {
     "name": "stdout",
     "output_type": "stream",
     "text": [
      "Epoch 1/30\n",
      "  2/375 [..............................] - ETA: 16s - loss: 2.4386 - accuracy: 0.0781WARNING:tensorflow:Callbacks method `on_train_batch_end` is slow compared to the batch time (batch time: 0.0032s vs `on_train_batch_end` time: 0.0833s). Check your callbacks.\n",
      "375/375 [==============================] - 1s 4ms/step - loss: 1.6886 - accuracy: 0.3994 - val_loss: 1.0211 - val_accuracy: 0.6769\n",
      "Epoch 2/30\n",
      "375/375 [==============================] - 1s 4ms/step - loss: 1.1287 - accuracy: 0.5933 - val_loss: 0.7937 - val_accuracy: 0.7205\n",
      "Epoch 3/30\n",
      "375/375 [==============================] - 1s 3ms/step - loss: 0.9589 - accuracy: 0.6528 - val_loss: 0.7099 - val_accuracy: 0.7483\n",
      "Epoch 4/30\n",
      "375/375 [==============================] - 1s 3ms/step - loss: 0.8660 - accuracy: 0.6881 - val_loss: 0.6558 - val_accuracy: 0.7702\n",
      "Epoch 5/30\n",
      "375/375 [==============================] - 1s 2ms/step - loss: 0.8058 - accuracy: 0.7152 - val_loss: 0.6179 - val_accuracy: 0.7824\n",
      "Epoch 6/30\n",
      "375/375 [==============================] - 1s 3ms/step - loss: 0.7559 - accuracy: 0.7315 - val_loss: 0.5869 - val_accuracy: 0.7928\n",
      "Epoch 7/30\n",
      "375/375 [==============================] - 1s 3ms/step - loss: 0.7244 - accuracy: 0.7447 - val_loss: 0.5628 - val_accuracy: 0.8025\n",
      "Epoch 8/30\n",
      "375/375 [==============================] - 1s 3ms/step - loss: 0.6962 - accuracy: 0.7550 - val_loss: 0.5438 - val_accuracy: 0.8091\n",
      "Epoch 9/30\n",
      "375/375 [==============================] - 1s 3ms/step - loss: 0.6729 - accuracy: 0.7649 - val_loss: 0.5267 - val_accuracy: 0.8134\n",
      "Epoch 10/30\n",
      "375/375 [==============================] - 1s 3ms/step - loss: 0.6494 - accuracy: 0.7729 - val_loss: 0.5120 - val_accuracy: 0.8201\n",
      "Epoch 11/30\n",
      "375/375 [==============================] - 1s 3ms/step - loss: 0.6340 - accuracy: 0.7796 - val_loss: 0.5008 - val_accuracy: 0.8203\n",
      "Epoch 12/30\n",
      "375/375 [==============================] - 1s 3ms/step - loss: 0.6208 - accuracy: 0.7846 - val_loss: 0.4918 - val_accuracy: 0.8255\n",
      "Epoch 13/30\n",
      "375/375 [==============================] - 1s 3ms/step - loss: 0.6041 - accuracy: 0.7882 - val_loss: 0.4806 - val_accuracy: 0.8272\n",
      "Epoch 14/30\n",
      "375/375 [==============================] - 1s 3ms/step - loss: 0.5942 - accuracy: 0.7921 - val_loss: 0.4746 - val_accuracy: 0.8291\n",
      "Epoch 15/30\n",
      "375/375 [==============================] - 1s 3ms/step - loss: 0.5819 - accuracy: 0.7982 - val_loss: 0.4682 - val_accuracy: 0.8320\n",
      "Epoch 16/30\n",
      "375/375 [==============================] - 1s 3ms/step - loss: 0.5749 - accuracy: 0.7992 - val_loss: 0.4609 - val_accuracy: 0.8335\n",
      "Epoch 17/30\n",
      "375/375 [==============================] - 1s 3ms/step - loss: 0.5665 - accuracy: 0.8023 - val_loss: 0.4548 - val_accuracy: 0.8348\n",
      "Epoch 18/30\n",
      "375/375 [==============================] - 1s 3ms/step - loss: 0.5556 - accuracy: 0.8073 - val_loss: 0.4516 - val_accuracy: 0.8342\n",
      "Epoch 19/30\n",
      "375/375 [==============================] - 1s 3ms/step - loss: 0.5464 - accuracy: 0.8100 - val_loss: 0.4464 - val_accuracy: 0.8377\n",
      "Epoch 20/30\n",
      "375/375 [==============================] - 1s 3ms/step - loss: 0.5423 - accuracy: 0.8116 - val_loss: 0.4414 - val_accuracy: 0.8386\n",
      "Epoch 21/30\n",
      "375/375 [==============================] - 1s 3ms/step - loss: 0.5367 - accuracy: 0.8134 - val_loss: 0.4378 - val_accuracy: 0.8412\n",
      "Epoch 22/30\n",
      "375/375 [==============================] - 1s 3ms/step - loss: 0.5292 - accuracy: 0.8140 - val_loss: 0.4347 - val_accuracy: 0.8411\n",
      "Epoch 23/30\n",
      "375/375 [==============================] - 1s 3ms/step - loss: 0.5253 - accuracy: 0.8167 - val_loss: 0.4303 - val_accuracy: 0.8423\n",
      "Epoch 24/30\n",
      "375/375 [==============================] - 1s 3ms/step - loss: 0.5213 - accuracy: 0.8196 - val_loss: 0.4285 - val_accuracy: 0.8457\n",
      "Epoch 25/30\n",
      "375/375 [==============================] - 1s 3ms/step - loss: 0.5158 - accuracy: 0.8205 - val_loss: 0.4234 - val_accuracy: 0.8475\n",
      "Epoch 26/30\n",
      "375/375 [==============================] - 1s 3ms/step - loss: 0.5149 - accuracy: 0.8196 - val_loss: 0.4215 - val_accuracy: 0.8468\n",
      "Epoch 27/30\n",
      "375/375 [==============================] - 1s 3ms/step - loss: 0.5060 - accuracy: 0.8228 - val_loss: 0.4185 - val_accuracy: 0.8469\n",
      "Epoch 28/30\n",
      "375/375 [==============================] - 1s 3ms/step - loss: 0.5011 - accuracy: 0.8240 - val_loss: 0.4164 - val_accuracy: 0.8492\n",
      "Epoch 29/30\n",
      "375/375 [==============================] - 1s 3ms/step - loss: 0.4978 - accuracy: 0.8274 - val_loss: 0.4137 - val_accuracy: 0.8496\n",
      "Epoch 30/30\n",
      "375/375 [==============================] - 1s 3ms/step - loss: 0.4954 - accuracy: 0.8294 - val_loss: 0.4120 - val_accuracy: 0.8497\n"
     ]
    }
   ],
   "source": [
    "# Training the model\n",
    "log_dir = \"logs/fit/model2\"\n",
    "tensorboard_callback = tf.keras.callbacks.TensorBoard(log_dir = log_dir,histogram_freq = 1)\n",
    "training = model_2.fit(X_train,y_train,batch_size = 128,epochs = 30,validation_split = 0.2,callbacks = tensorboard_callback)"
   ]
  },
  {
   "cell_type": "markdown",
   "id": "df79ad11",
   "metadata": {},
   "source": [
    "- When we did dropouts to avoid overfitting the accuracy slightly decreases "
   ]
  },
  {
   "cell_type": "code",
   "execution_count": 24,
   "id": "a700fb9b",
   "metadata": {},
   "outputs": [
    {
     "name": "stdout",
     "output_type": "stream",
     "text": [
      "313/313 [==============================] - 0s 1ms/step - loss: 0.4352 - accuracy: 0.8422\n",
      "Test accuracy: 0.842199981212616\n"
     ]
    }
   ],
   "source": [
    "test_loss,test_acc = model_2.evaluate(X_test,y_test)\n",
    "print('Test accuracy:',test_acc)"
   ]
  },
  {
   "cell_type": "markdown",
   "id": "e0626ac9",
   "metadata": {},
   "source": [
    "- **Increasing the number of Hidden Layer neuron and check its effect on accuracy**"
   ]
  },
  {
   "cell_type": "code",
   "execution_count": 30,
   "id": "32e7a7b6",
   "metadata": {},
   "outputs": [],
   "source": [
    "model_3 = tf.keras.Sequential()\n",
    "N_hidden = 512\n",
    "# Adds a densely-connected layer with 64 units to the model:\n",
    "model_3.add(Dense(N_hidden,name = 'dense_Layer',input_shape = (784,),activation = 'relu'))\n",
    "model_3.add(Dropout(0.3))\n",
    "\n",
    "# Adding another dense layer:\n",
    "model_3.add(Dense(N_hidden,name = 'dense_layer_2',activation = 'relu'))\n",
    "model_3.add(Dropout(0.3))\n",
    "\n",
    "# Add an output layer with 10 output units (10 different classes):\n",
    "model_3.add(Dense(10,name = 'dense_layer_3',activation = 'softmax'))"
   ]
  },
  {
   "cell_type": "code",
   "execution_count": 28,
   "id": "bee2a9d9",
   "metadata": {},
   "outputs": [],
   "source": [
    "# compiling the model\n",
    "model_3.compile(optimizer = 'Adam',loss = 'categorical_crossentropy',metrics = ['accuracy'])"
   ]
  },
  {
   "cell_type": "code",
   "execution_count": 29,
   "id": "6917d02d",
   "metadata": {},
   "outputs": [
    {
     "name": "stdout",
     "output_type": "stream",
     "text": [
      "Epoch 1/30\n",
      "  2/375 [..............................] - ETA: 24s - loss: 2.2925 - accuracy: 0.1094WARNING:tensorflow:Callbacks method `on_train_batch_end` is slow compared to the batch time (batch time: 0.0184s vs `on_train_batch_end` time: 0.1131s). Check your callbacks.\n",
      "375/375 [==============================] - 8s 21ms/step - loss: 0.5930 - accuracy: 0.7846 - val_loss: 0.4178 - val_accuracy: 0.8466\n",
      "Epoch 2/30\n",
      "375/375 [==============================] - 8s 21ms/step - loss: 0.4264 - accuracy: 0.8451 - val_loss: 0.3715 - val_accuracy: 0.8649\n",
      "Epoch 3/30\n",
      "375/375 [==============================] - 7s 20ms/step - loss: 0.3911 - accuracy: 0.8575 - val_loss: 0.3613 - val_accuracy: 0.8694\n",
      "Epoch 4/30\n",
      "375/375 [==============================] - 8s 21ms/step - loss: 0.3614 - accuracy: 0.8698 - val_loss: 0.3449 - val_accuracy: 0.8736\n",
      "Epoch 5/30\n",
      "375/375 [==============================] - 8s 21ms/step - loss: 0.3521 - accuracy: 0.8718 - val_loss: 0.3442 - val_accuracy: 0.8766\n",
      "Epoch 6/30\n",
      "375/375 [==============================] - 8s 20ms/step - loss: 0.3391 - accuracy: 0.8755 - val_loss: 0.3375 - val_accuracy: 0.8798\n",
      "Epoch 7/30\n",
      "375/375 [==============================] - 8s 21ms/step - loss: 0.3273 - accuracy: 0.8794 - val_loss: 0.3171 - val_accuracy: 0.8845\n",
      "Epoch 8/30\n",
      "375/375 [==============================] - 8s 21ms/step - loss: 0.3202 - accuracy: 0.8810 - val_loss: 0.3344 - val_accuracy: 0.8802\n",
      "Epoch 9/30\n",
      "375/375 [==============================] - 8s 20ms/step - loss: 0.3137 - accuracy: 0.8820 - val_loss: 0.3166 - val_accuracy: 0.8817\n",
      "Epoch 10/30\n",
      "375/375 [==============================] - 8s 20ms/step - loss: 0.3016 - accuracy: 0.8887 - val_loss: 0.3245 - val_accuracy: 0.8846\n",
      "Epoch 11/30\n",
      "375/375 [==============================] - 8s 21ms/step - loss: 0.2974 - accuracy: 0.8886 - val_loss: 0.3127 - val_accuracy: 0.8877\n",
      "Epoch 12/30\n",
      "375/375 [==============================] - 7s 20ms/step - loss: 0.2889 - accuracy: 0.8920 - val_loss: 0.3142 - val_accuracy: 0.8918\n",
      "Epoch 13/30\n",
      "375/375 [==============================] - 7s 19ms/step - loss: 0.2858 - accuracy: 0.8938 - val_loss: 0.3023 - val_accuracy: 0.8915\n",
      "Epoch 14/30\n",
      "375/375 [==============================] - 7s 19ms/step - loss: 0.2772 - accuracy: 0.8969 - val_loss: 0.3131 - val_accuracy: 0.8892\n",
      "Epoch 15/30\n",
      "375/375 [==============================] - 7s 19ms/step - loss: 0.2810 - accuracy: 0.8955 - val_loss: 0.3133 - val_accuracy: 0.8883\n",
      "Epoch 16/30\n",
      "375/375 [==============================] - 7s 19ms/step - loss: 0.2717 - accuracy: 0.8971 - val_loss: 0.3158 - val_accuracy: 0.8869\n",
      "Epoch 17/30\n",
      "375/375 [==============================] - 7s 19ms/step - loss: 0.2668 - accuracy: 0.9010 - val_loss: 0.3034 - val_accuracy: 0.8929\n",
      "Epoch 18/30\n",
      "375/375 [==============================] - 7s 18ms/step - loss: 0.2661 - accuracy: 0.8985 - val_loss: 0.3107 - val_accuracy: 0.8945\n",
      "Epoch 19/30\n",
      "375/375 [==============================] - 7s 19ms/step - loss: 0.2633 - accuracy: 0.9018 - val_loss: 0.3069 - val_accuracy: 0.8918\n",
      "Epoch 20/30\n",
      "375/375 [==============================] - 7s 19ms/step - loss: 0.2547 - accuracy: 0.9035 - val_loss: 0.2962 - val_accuracy: 0.8966\n",
      "Epoch 21/30\n",
      "375/375 [==============================] - 7s 19ms/step - loss: 0.2511 - accuracy: 0.9044 - val_loss: 0.2978 - val_accuracy: 0.8951\n",
      "Epoch 22/30\n",
      "375/375 [==============================] - 7s 18ms/step - loss: 0.2511 - accuracy: 0.9051 - val_loss: 0.2933 - val_accuracy: 0.8968\n",
      "Epoch 23/30\n",
      "375/375 [==============================] - 7s 19ms/step - loss: 0.2488 - accuracy: 0.9064 - val_loss: 0.2974 - val_accuracy: 0.8936\n",
      "Epoch 24/30\n",
      "375/375 [==============================] - 7s 19ms/step - loss: 0.2427 - accuracy: 0.9096 - val_loss: 0.3004 - val_accuracy: 0.8913\n",
      "Epoch 25/30\n",
      "375/375 [==============================] - 7s 19ms/step - loss: 0.2413 - accuracy: 0.9088 - val_loss: 0.3009 - val_accuracy: 0.8963\n",
      "Epoch 26/30\n",
      "375/375 [==============================] - 7s 20ms/step - loss: 0.2421 - accuracy: 0.9093 - val_loss: 0.3047 - val_accuracy: 0.8947\n",
      "Epoch 27/30\n",
      "375/375 [==============================] - 7s 19ms/step - loss: 0.2376 - accuracy: 0.9111 - val_loss: 0.3043 - val_accuracy: 0.8941\n",
      "Epoch 28/30\n",
      "375/375 [==============================] - 7s 18ms/step - loss: 0.2300 - accuracy: 0.9137 - val_loss: 0.3130 - val_accuracy: 0.8926\n",
      "Epoch 29/30\n",
      "375/375 [==============================] - 7s 19ms/step - loss: 0.2316 - accuracy: 0.9119 - val_loss: 0.3013 - val_accuracy: 0.8968\n",
      "Epoch 30/30\n",
      "375/375 [==============================] - 7s 20ms/step - loss: 0.2248 - accuracy: 0.9161 - val_loss: 0.3101 - val_accuracy: 0.8943\n"
     ]
    }
   ],
   "source": [
    "# training the model\n",
    "log_dir = \"logs/fit/model3\"\n",
    "tensorboard_callback = tf.keras.callbacks.TensorBoard(log_dir = log_dir,histogram_freq = 1)\n",
    "training = model_3.fit(X_train,y_train,batch_size = 128,epochs = 30,validation_split = 0.2,callbacks = tensorboard_callback)"
   ]
  },
  {
   "cell_type": "markdown",
   "id": "4b7a9207",
   "metadata": {},
   "source": [
    "- Adding hidden layer nueron the accuracy effects very good and in that **Adam** optimizer performs well "
   ]
  },
  {
   "cell_type": "markdown",
   "id": "5b4d5daa",
   "metadata": {},
   "source": [
    "- **Use different optimizers and check its effect on accuracy**"
   ]
  },
  {
   "cell_type": "code",
   "execution_count": 31,
   "id": "8e2ebb13",
   "metadata": {},
   "outputs": [],
   "source": [
    "# Lets try with model_3 "
   ]
  },
  {
   "cell_type": "code",
   "execution_count": 32,
   "id": "34de02f0",
   "metadata": {},
   "outputs": [],
   "source": [
    "# compiling the model\n",
    "model_3.compile(optimizer = 'Adam',loss = 'categorical_crossentropy',metrics = ['accuracy'])"
   ]
  },
  {
   "cell_type": "code",
   "execution_count": 33,
   "id": "4f602e24",
   "metadata": {},
   "outputs": [
    {
     "name": "stdout",
     "output_type": "stream",
     "text": [
      "Epoch 1/30\n",
      "  2/375 [..............................] - ETA: 24s - loss: 2.2381 - accuracy: 0.2305WARNING:tensorflow:Callbacks method `on_train_batch_end` is slow compared to the batch time (batch time: 0.0149s vs `on_train_batch_end` time: 0.1153s). Check your callbacks.\n",
      "375/375 [==============================] - 5s 14ms/step - loss: 0.5675 - accuracy: 0.7966 - val_loss: 0.4156 - val_accuracy: 0.8490\n",
      "Epoch 2/30\n",
      "375/375 [==============================] - 5s 13ms/step - loss: 0.4110 - accuracy: 0.8495 - val_loss: 0.3645 - val_accuracy: 0.8677\n",
      "Epoch 3/30\n",
      "375/375 [==============================] - 5s 13ms/step - loss: 0.3794 - accuracy: 0.8605 - val_loss: 0.3597 - val_accuracy: 0.8672\n",
      "Epoch 4/30\n",
      "375/375 [==============================] - 5s 14ms/step - loss: 0.3525 - accuracy: 0.8694 - val_loss: 0.3497 - val_accuracy: 0.8715\n",
      "Epoch 5/30\n",
      "375/375 [==============================] - 5s 13ms/step - loss: 0.3374 - accuracy: 0.8739 - val_loss: 0.3304 - val_accuracy: 0.8792\n",
      "Epoch 6/30\n",
      "375/375 [==============================] - 5s 13ms/step - loss: 0.3233 - accuracy: 0.8783 - val_loss: 0.3321 - val_accuracy: 0.8785\n",
      "Epoch 7/30\n",
      "375/375 [==============================] - 5s 13ms/step - loss: 0.3134 - accuracy: 0.8827 - val_loss: 0.3190 - val_accuracy: 0.8851\n",
      "Epoch 8/30\n",
      "375/375 [==============================] - 5s 13ms/step - loss: 0.3015 - accuracy: 0.8865 - val_loss: 0.3492 - val_accuracy: 0.8698\n",
      "Epoch 9/30\n",
      "375/375 [==============================] - 5s 13ms/step - loss: 0.2999 - accuracy: 0.8869 - val_loss: 0.3258 - val_accuracy: 0.8851\n",
      "Epoch 10/30\n",
      "375/375 [==============================] - 5s 14ms/step - loss: 0.2945 - accuracy: 0.8890 - val_loss: 0.3042 - val_accuracy: 0.8889\n",
      "Epoch 11/30\n",
      "375/375 [==============================] - 5s 14ms/step - loss: 0.2813 - accuracy: 0.8950 - val_loss: 0.3085 - val_accuracy: 0.8897\n",
      "Epoch 12/30\n",
      "375/375 [==============================] - 5s 13ms/step - loss: 0.2745 - accuracy: 0.8957 - val_loss: 0.3218 - val_accuracy: 0.8843\n",
      "Epoch 13/30\n",
      "375/375 [==============================] - 5s 14ms/step - loss: 0.2702 - accuracy: 0.8975 - val_loss: 0.3221 - val_accuracy: 0.8883\n",
      "Epoch 14/30\n",
      "375/375 [==============================] - 5s 14ms/step - loss: 0.2651 - accuracy: 0.9000 - val_loss: 0.3180 - val_accuracy: 0.8863\n",
      "Epoch 15/30\n",
      "375/375 [==============================] - 5s 13ms/step - loss: 0.2565 - accuracy: 0.9034 - val_loss: 0.3068 - val_accuracy: 0.8909\n",
      "Epoch 16/30\n",
      "375/375 [==============================] - 5s 14ms/step - loss: 0.2553 - accuracy: 0.9024 - val_loss: 0.3126 - val_accuracy: 0.8887\n",
      "Epoch 17/30\n",
      "375/375 [==============================] - 5s 14ms/step - loss: 0.2468 - accuracy: 0.9067 - val_loss: 0.3031 - val_accuracy: 0.8938\n",
      "Epoch 18/30\n",
      "375/375 [==============================] - 5s 13ms/step - loss: 0.2428 - accuracy: 0.9078 - val_loss: 0.3007 - val_accuracy: 0.8911\n",
      "Epoch 19/30\n",
      "375/375 [==============================] - 5s 13ms/step - loss: 0.2430 - accuracy: 0.9068 - val_loss: 0.2951 - val_accuracy: 0.8967\n",
      "Epoch 20/30\n",
      "375/375 [==============================] - 5s 13ms/step - loss: 0.2367 - accuracy: 0.9105 - val_loss: 0.2962 - val_accuracy: 0.8924\n",
      "Epoch 21/30\n",
      "375/375 [==============================] - 5s 13ms/step - loss: 0.2355 - accuracy: 0.9099 - val_loss: 0.2995 - val_accuracy: 0.8941\n",
      "Epoch 22/30\n",
      "375/375 [==============================] - 5s 12ms/step - loss: 0.2302 - accuracy: 0.9119 - val_loss: 0.3002 - val_accuracy: 0.8939\n",
      "Epoch 23/30\n",
      "375/375 [==============================] - 5s 12ms/step - loss: 0.2290 - accuracy: 0.9118 - val_loss: 0.2958 - val_accuracy: 0.8968\n",
      "Epoch 24/30\n",
      "375/375 [==============================] - 5s 13ms/step - loss: 0.2219 - accuracy: 0.9147 - val_loss: 0.3162 - val_accuracy: 0.8916\n",
      "Epoch 25/30\n",
      "375/375 [==============================] - 5s 14ms/step - loss: 0.2204 - accuracy: 0.9150 - val_loss: 0.2972 - val_accuracy: 0.8957\n",
      "Epoch 26/30\n",
      "375/375 [==============================] - 5s 14ms/step - loss: 0.2166 - accuracy: 0.9164 - val_loss: 0.2947 - val_accuracy: 0.9000\n",
      "Epoch 27/30\n",
      "375/375 [==============================] - 5s 13ms/step - loss: 0.2158 - accuracy: 0.9174 - val_loss: 0.3014 - val_accuracy: 0.8982\n",
      "Epoch 28/30\n",
      "375/375 [==============================] - 5s 13ms/step - loss: 0.2109 - accuracy: 0.9202 - val_loss: 0.3097 - val_accuracy: 0.8962\n",
      "Epoch 29/30\n",
      "375/375 [==============================] - 5s 13ms/step - loss: 0.2098 - accuracy: 0.9195 - val_loss: 0.3001 - val_accuracy: 0.8934\n",
      "Epoch 30/30\n",
      "375/375 [==============================] - 5s 13ms/step - loss: 0.2028 - accuracy: 0.9222 - val_loss: 0.2987 - val_accuracy: 0.9012\n"
     ]
    }
   ],
   "source": [
    "# training the model\n",
    "log_dir = \"logs/fit/model3\"\n",
    "tensorboard_callback = tf.keras.callbacks.TensorBoard(log_dir = log_dir,histogram_freq = 1)\n",
    "training = model_3.fit(X_train,y_train,batch_size = 128,epochs = 30,validation_split = 0.2,callbacks = tensorboard_callback)"
   ]
  },
  {
   "cell_type": "code",
   "execution_count": 36,
   "id": "f0ad444a",
   "metadata": {},
   "outputs": [],
   "source": [
    "model_3.compile(optimizer = 'rmsprop',loss = 'categorical_crossentropy',metrics = ['accuracy'])"
   ]
  },
  {
   "cell_type": "code",
   "execution_count": 37,
   "id": "79b8dd5f",
   "metadata": {},
   "outputs": [
    {
     "name": "stdout",
     "output_type": "stream",
     "text": [
      "Epoch 1/30\n",
      "  2/375 [..............................] - ETA: 20s - loss: 0.1862 - accuracy: 0.9180WARNING:tensorflow:Callbacks method `on_train_batch_end` is slow compared to the batch time (batch time: 0.0179s vs `on_train_batch_end` time: 0.0917s). Check your callbacks.\n",
      "375/375 [==============================] - 7s 19ms/step - loss: 0.2059 - accuracy: 0.9225 - val_loss: 0.3432 - val_accuracy: 0.8963\n",
      "Epoch 2/30\n",
      "375/375 [==============================] - 7s 18ms/step - loss: 0.2075 - accuracy: 0.9225 - val_loss: 0.3567 - val_accuracy: 0.8940\n",
      "Epoch 3/30\n",
      "375/375 [==============================] - 7s 20ms/step - loss: 0.2054 - accuracy: 0.9254 - val_loss: 0.3664 - val_accuracy: 0.8929\n",
      "Epoch 4/30\n",
      "375/375 [==============================] - 7s 18ms/step - loss: 0.2038 - accuracy: 0.9255 - val_loss: 0.3490 - val_accuracy: 0.8994\n",
      "Epoch 5/30\n",
      "375/375 [==============================] - 6s 17ms/step - loss: 0.2099 - accuracy: 0.9235 - val_loss: 0.3672 - val_accuracy: 0.9015\n",
      "Epoch 6/30\n",
      "375/375 [==============================] - 7s 18ms/step - loss: 0.2069 - accuracy: 0.9244 - val_loss: 0.3665 - val_accuracy: 0.9013\n",
      "Epoch 7/30\n",
      "375/375 [==============================] - 7s 18ms/step - loss: 0.2078 - accuracy: 0.9247 - val_loss: 0.3736 - val_accuracy: 0.8995\n",
      "Epoch 8/30\n",
      "375/375 [==============================] - 7s 18ms/step - loss: 0.2120 - accuracy: 0.9248 - val_loss: 0.3511 - val_accuracy: 0.9021\n",
      "Epoch 9/30\n",
      "375/375 [==============================] - 7s 18ms/step - loss: 0.2114 - accuracy: 0.9228 - val_loss: 0.4110 - val_accuracy: 0.8997\n",
      "Epoch 10/30\n",
      "375/375 [==============================] - 7s 18ms/step - loss: 0.2099 - accuracy: 0.9249 - val_loss: 0.4105 - val_accuracy: 0.8990\n",
      "Epoch 11/30\n",
      "375/375 [==============================] - 7s 18ms/step - loss: 0.2110 - accuracy: 0.9252 - val_loss: 0.3907 - val_accuracy: 0.9016\n",
      "Epoch 12/30\n",
      "375/375 [==============================] - 7s 18ms/step - loss: 0.2091 - accuracy: 0.9266 - val_loss: 0.4289 - val_accuracy: 0.8972\n",
      "Epoch 13/30\n",
      "375/375 [==============================] - 7s 18ms/step - loss: 0.2105 - accuracy: 0.9260 - val_loss: 0.4127 - val_accuracy: 0.8986\n",
      "Epoch 14/30\n",
      "375/375 [==============================] - 7s 18ms/step - loss: 0.2096 - accuracy: 0.9261 - val_loss: 0.4669 - val_accuracy: 0.8956\n",
      "Epoch 15/30\n",
      "375/375 [==============================] - 7s 17ms/step - loss: 0.2104 - accuracy: 0.9268 - val_loss: 0.4268 - val_accuracy: 0.8981\n",
      "Epoch 16/30\n",
      "375/375 [==============================] - 7s 18ms/step - loss: 0.2059 - accuracy: 0.9283 - val_loss: 0.4395 - val_accuracy: 0.8996\n",
      "Epoch 17/30\n",
      "375/375 [==============================] - 7s 18ms/step - loss: 0.2118 - accuracy: 0.9278 - val_loss: 0.4381 - val_accuracy: 0.8975loss: 0.2120 - accuracy\n",
      "Epoch 18/30\n",
      "375/375 [==============================] - 7s 18ms/step - loss: 0.2128 - accuracy: 0.9268 - val_loss: 0.4450 - val_accuracy: 0.8939\n",
      "Epoch 19/30\n",
      "375/375 [==============================] - 7s 18ms/step - loss: 0.2111 - accuracy: 0.9268 - val_loss: 0.4178 - val_accuracy: 0.8961\n",
      "Epoch 20/30\n",
      "375/375 [==============================] - 7s 18ms/step - loss: 0.2089 - accuracy: 0.9288 - val_loss: 0.4447 - val_accuracy: 0.8963\n",
      "Epoch 21/30\n",
      "375/375 [==============================] - 6s 17ms/step - loss: 0.2125 - accuracy: 0.9293 - val_loss: 0.4638 - val_accuracy: 0.8938\n",
      "Epoch 22/30\n",
      "375/375 [==============================] - 7s 17ms/step - loss: 0.2113 - accuracy: 0.9287 - val_loss: 0.4688 - val_accuracy: 0.8960\n",
      "Epoch 23/30\n",
      "375/375 [==============================] - 7s 17ms/step - loss: 0.2128 - accuracy: 0.9277 - val_loss: 0.4495 - val_accuracy: 0.8991\n",
      "Epoch 24/30\n",
      "375/375 [==============================] - 7s 18ms/step - loss: 0.2119 - accuracy: 0.9280 - val_loss: 0.4505 - val_accuracy: 0.8992\n",
      "Epoch 25/30\n",
      "375/375 [==============================] - 6s 17ms/step - loss: 0.2094 - accuracy: 0.9294 - val_loss: 0.4681 - val_accuracy: 0.8989\n",
      "Epoch 26/30\n",
      "375/375 [==============================] - 6s 17ms/step - loss: 0.2120 - accuracy: 0.9300 - val_loss: 0.4721 - val_accuracy: 0.8997\n",
      "Epoch 27/30\n",
      "375/375 [==============================] - 7s 18ms/step - loss: 0.2073 - accuracy: 0.9300 - val_loss: 0.4621 - val_accuracy: 0.8986\n",
      "Epoch 28/30\n",
      "375/375 [==============================] - 6s 17ms/step - loss: 0.2059 - accuracy: 0.9305 - val_loss: 0.5227 - val_accuracy: 0.8997\n",
      "Epoch 29/30\n",
      "375/375 [==============================] - 7s 18ms/step - loss: 0.2098 - accuracy: 0.9314 - val_loss: 0.4927 - val_accuracy: 0.8967\n",
      "Epoch 30/30\n",
      "375/375 [==============================] - 6s 17ms/step - loss: 0.2071 - accuracy: 0.9298 - val_loss: 0.4853 - val_accuracy: 0.9008\n"
     ]
    }
   ],
   "source": [
    "# training the model\n",
    "log_dir = \"logs/fit/model3\"\n",
    "tensorboard_callback = tf.keras.callbacks.TensorBoard(log_dir = log_dir,histogram_freq = 1)\n",
    "training = model_3.fit(X_train,y_train,batch_size = 128,epochs = 30,validation_split = 0.2,callbacks = tensorboard_callback)"
   ]
  },
  {
   "cell_type": "code",
   "execution_count": 39,
   "id": "37a0b0f4",
   "metadata": {},
   "outputs": [],
   "source": [
    "model_3.compile(optimizer = 'sgd',loss = 'categorical_crossentropy',metrics = ['accuracy'])"
   ]
  },
  {
   "cell_type": "code",
   "execution_count": 40,
   "id": "ed8a4674",
   "metadata": {},
   "outputs": [
    {
     "name": "stdout",
     "output_type": "stream",
     "text": [
      "Epoch 1/30\n",
      "  2/375 [..............................] - ETA: 19s - loss: 0.2064 - accuracy: 0.9375WARNING:tensorflow:Callbacks method `on_train_batch_end` is slow compared to the batch time (batch time: 0.0147s vs `on_train_batch_end` time: 0.0903s). Check your callbacks.\n",
      "375/375 [==============================] - 5s 14ms/step - loss: 0.1727 - accuracy: 0.9409 - val_loss: 0.4587 - val_accuracy: 0.9045\n",
      "Epoch 2/30\n",
      "375/375 [==============================] - 5s 13ms/step - loss: 0.1563 - accuracy: 0.9441 - val_loss: 0.4570 - val_accuracy: 0.9062\n",
      "Epoch 3/30\n",
      "375/375 [==============================] - 5s 13ms/step - loss: 0.1522 - accuracy: 0.9469 - val_loss: 0.4548 - val_accuracy: 0.9068\n",
      "Epoch 4/30\n",
      "375/375 [==============================] - 5s 13ms/step - loss: 0.1438 - accuracy: 0.9489 - val_loss: 0.4587 - val_accuracy: 0.9068\n",
      "Epoch 5/30\n",
      "375/375 [==============================] - 5s 14ms/step - loss: 0.1409 - accuracy: 0.9492 - val_loss: 0.4585 - val_accuracy: 0.9072\n",
      "Epoch 6/30\n",
      "375/375 [==============================] - 5s 13ms/step - loss: 0.1405 - accuracy: 0.9493 - val_loss: 0.4579 - val_accuracy: 0.9077\n",
      "Epoch 7/30\n",
      "375/375 [==============================] - 5s 13ms/step - loss: 0.1371 - accuracy: 0.9504 - val_loss: 0.4627 - val_accuracy: 0.9072\n",
      "Epoch 8/30\n",
      "375/375 [==============================] - 5s 12ms/step - loss: 0.1388 - accuracy: 0.9512 - val_loss: 0.4593 - val_accuracy: 0.9079\n",
      "Epoch 9/30\n",
      "375/375 [==============================] - 5s 12ms/step - loss: 0.1331 - accuracy: 0.9520 - val_loss: 0.4648 - val_accuracy: 0.9068\n",
      "Epoch 10/30\n",
      "375/375 [==============================] - 5s 13ms/step - loss: 0.1350 - accuracy: 0.9510 - val_loss: 0.4612 - val_accuracy: 0.9075\n",
      "Epoch 11/30\n",
      "375/375 [==============================] - 5s 13ms/step - loss: 0.1294 - accuracy: 0.9524 - val_loss: 0.4661 - val_accuracy: 0.9078\n",
      "Epoch 12/30\n",
      "375/375 [==============================] - 5s 12ms/step - loss: 0.1318 - accuracy: 0.9520 - val_loss: 0.4663 - val_accuracy: 0.9073\n",
      "Epoch 13/30\n",
      "375/375 [==============================] - 5s 12ms/step - loss: 0.1294 - accuracy: 0.9527 - val_loss: 0.4663 - val_accuracy: 0.9077\n",
      "Epoch 14/30\n",
      "375/375 [==============================] - 5s 13ms/step - loss: 0.1304 - accuracy: 0.9538 - val_loss: 0.4681 - val_accuracy: 0.9064\n",
      "Epoch 15/30\n",
      "375/375 [==============================] - 5s 14ms/step - loss: 0.1300 - accuracy: 0.9529 - val_loss: 0.4643 - val_accuracy: 0.9082\n",
      "Epoch 16/30\n",
      "375/375 [==============================] - 5s 13ms/step - loss: 0.1297 - accuracy: 0.9516 - val_loss: 0.4683 - val_accuracy: 0.9069\n",
      "Epoch 17/30\n",
      "375/375 [==============================] - 5s 13ms/step - loss: 0.1263 - accuracy: 0.9537 - val_loss: 0.4705 - val_accuracy: 0.9061\n",
      "Epoch 18/30\n",
      "375/375 [==============================] - 5s 14ms/step - loss: 0.1250 - accuracy: 0.9544 - val_loss: 0.4686 - val_accuracy: 0.9081\n",
      "Epoch 19/30\n",
      "375/375 [==============================] - 5s 13ms/step - loss: 0.1244 - accuracy: 0.9546 - val_loss: 0.4704 - val_accuracy: 0.9078\n",
      "Epoch 20/30\n",
      "375/375 [==============================] - 5s 12ms/step - loss: 0.1281 - accuracy: 0.9527 - val_loss: 0.4727 - val_accuracy: 0.9081\n",
      "Epoch 21/30\n",
      "375/375 [==============================] - 5s 13ms/step - loss: 0.1275 - accuracy: 0.9542 - val_loss: 0.4710 - val_accuracy: 0.9081\n",
      "Epoch 22/30\n",
      "375/375 [==============================] - 5s 13ms/step - loss: 0.1231 - accuracy: 0.9540 - val_loss: 0.4718 - val_accuracy: 0.9085\n",
      "Epoch 23/30\n",
      "375/375 [==============================] - 5s 14ms/step - loss: 0.1263 - accuracy: 0.9530 - val_loss: 0.4720 - val_accuracy: 0.9082\n",
      "Epoch 24/30\n",
      "375/375 [==============================] - 6s 15ms/step - loss: 0.1240 - accuracy: 0.9544 - val_loss: 0.4747 - val_accuracy: 0.9086\n",
      "Epoch 25/30\n",
      "375/375 [==============================] - 5s 15ms/step - loss: 0.1228 - accuracy: 0.9536 - val_loss: 0.4773 - val_accuracy: 0.9068\n",
      "Epoch 26/30\n",
      "375/375 [==============================] - 6s 15ms/step - loss: 0.1210 - accuracy: 0.9547 - val_loss: 0.4746 - val_accuracy: 0.9073\n",
      "Epoch 27/30\n",
      "375/375 [==============================] - 6s 15ms/step - loss: 0.1216 - accuracy: 0.9554 - val_loss: 0.4763 - val_accuracy: 0.9082\n",
      "Epoch 28/30\n",
      "375/375 [==============================] - 6s 15ms/step - loss: 0.1209 - accuracy: 0.9556 - val_loss: 0.4719 - val_accuracy: 0.9069\n",
      "Epoch 29/30\n",
      "375/375 [==============================] - 6s 15ms/step - loss: 0.1231 - accuracy: 0.9541 - val_loss: 0.4720 - val_accuracy: 0.9078\n",
      "Epoch 30/30\n",
      "375/375 [==============================] - 6s 15ms/step - loss: 0.1215 - accuracy: 0.9553 - val_loss: 0.4723 - val_accuracy: 0.9077\n"
     ]
    }
   ],
   "source": [
    "# training the model\n",
    "log_dir = \"logs/fit/model3\"\n",
    "tensorboard_callback = tf.keras.callbacks.TensorBoard(log_dir = log_dir,histogram_freq = 1)\n",
    "training = model_3.fit(X_train,y_train,batch_size = 128,epochs = 30,validation_split = 0.2,callbacks = tensorboard_callback)"
   ]
  },
  {
   "cell_type": "markdown",
   "id": "b37dd6a1",
   "metadata": {},
   "source": [
    "- Comparing to all optimizers the **SGD** is showing best accuracy 0.9553, **Adam** accuracy is 0.9298 and **rmsprop** accuracy is 0.9222, so, comparing all optimizers SGD is giving better perfomance"
   ]
  },
  {
   "cell_type": "markdown",
   "id": "674f3bc2",
   "metadata": {},
   "source": [
    "- **Increase the hidden layers and check its effect on accuracy**"
   ]
  },
  {
   "cell_type": "code",
   "execution_count": 41,
   "id": "eb27407b",
   "metadata": {},
   "outputs": [],
   "source": [
    "import tensorflow as tf\n",
    "\n",
    "# In keras, layers are assembled to build a models\n",
    "from tensorflow.keras.layers import Dense\n",
    "from tensorflow.keras.layers import Dropout\n",
    "\n",
    "#Most common type of model is a stack of layers\n",
    "\n",
    "model_4 = tf.keras.Sequential()\n",
    "N_hidden = 512\n",
    "\n",
    "# Adds a densely-connected layer with 64 units to the model:\n",
    "model_4.add(Dense(N_hidden,name = 'dense_Layer',input_shape = (784,),activation = 'relu'))\n",
    "model_4.add(Dropout(0.3))\n",
    "\n",
    "# Adding another dense layer:\n",
    "model_4.add(Dense(N_hidden,name = 'dense_layer_2',activation = 'relu'))\n",
    "model_4.add(Dropout(0.3))\n",
    "\n",
    "# Adding another dense layer:\n",
    "model_4.add(Dense(N_hidden,name = 'dense_layer_3',activation = 'relu'))\n",
    "model_4.add(Dropout(0.3))\n",
    "\n",
    "# Add an output layer with 10 output units (10 different classes):\n",
    "model_4.add(Dense(10,name = 'dense_layer_4',activation = 'softmax'))"
   ]
  },
  {
   "cell_type": "code",
   "execution_count": 42,
   "id": "91a5f56c",
   "metadata": {},
   "outputs": [],
   "source": [
    "model_4.compile(optimizer = 'sgd',loss = 'categorical_crossentropy',metrics = ['accuracy'])"
   ]
  },
  {
   "cell_type": "code",
   "execution_count": 43,
   "id": "7592ffbf",
   "metadata": {},
   "outputs": [
    {
     "name": "stdout",
     "output_type": "stream",
     "text": [
      "Epoch 1/30\n",
      "  2/375 [..............................] - ETA: 12s - loss: 2.3847 - accuracy: 0.0664WARNING:tensorflow:Callbacks method `on_train_batch_end` is slow compared to the batch time (batch time: 0.0128s vs `on_train_batch_end` time: 0.0531s). Check your callbacks.\n",
      "375/375 [==============================] - 4s 11ms/step - loss: 1.4137 - accuracy: 0.5075 - val_loss: 0.7891 - val_accuracy: 0.7266\n",
      "Epoch 2/30\n",
      "375/375 [==============================] - 4s 11ms/step - loss: 0.8545 - accuracy: 0.6928 - val_loss: 0.6484 - val_accuracy: 0.7678\n",
      "Epoch 3/30\n",
      "375/375 [==============================] - 4s 12ms/step - loss: 0.7315 - accuracy: 0.7405 - val_loss: 0.5858 - val_accuracy: 0.7907\n",
      "Epoch 4/30\n",
      "375/375 [==============================] - 4s 11ms/step - loss: 0.6626 - accuracy: 0.7661 - val_loss: 0.5428 - val_accuracy: 0.8073\n",
      "Epoch 5/30\n",
      "375/375 [==============================] - 4s 10ms/step - loss: 0.6131 - accuracy: 0.7854 - val_loss: 0.5139 - val_accuracy: 0.8158\n",
      "Epoch 6/30\n",
      "375/375 [==============================] - 4s 11ms/step - loss: 0.5784 - accuracy: 0.7964 - val_loss: 0.4904 - val_accuracy: 0.8253\n",
      "Epoch 7/30\n",
      "375/375 [==============================] - 4s 10ms/step - loss: 0.5585 - accuracy: 0.8030 - val_loss: 0.4789 - val_accuracy: 0.8278\n",
      "Epoch 8/30\n",
      "375/375 [==============================] - 5s 13ms/step - loss: 0.5321 - accuracy: 0.8137 - val_loss: 0.4628 - val_accuracy: 0.8327\n",
      "Epoch 9/30\n",
      "375/375 [==============================] - 5s 12ms/step - loss: 0.5144 - accuracy: 0.8187 - val_loss: 0.4487 - val_accuracy: 0.8384\n",
      "Epoch 10/30\n",
      "375/375 [==============================] - 4s 11ms/step - loss: 0.4983 - accuracy: 0.8234 - val_loss: 0.4359 - val_accuracy: 0.8435\n",
      "Epoch 11/30\n",
      "375/375 [==============================] - 4s 11ms/step - loss: 0.4847 - accuracy: 0.8294 - val_loss: 0.4282 - val_accuracy: 0.8452\n",
      "Epoch 12/30\n",
      "375/375 [==============================] - 4s 11ms/step - loss: 0.4751 - accuracy: 0.8327 - val_loss: 0.4221 - val_accuracy: 0.8483\n",
      "Epoch 13/30\n",
      "375/375 [==============================] - 4s 10ms/step - loss: 0.4655 - accuracy: 0.8356 - val_loss: 0.4159 - val_accuracy: 0.8506\n",
      "Epoch 14/30\n",
      "375/375 [==============================] - 4s 10ms/step - loss: 0.4549 - accuracy: 0.8396 - val_loss: 0.4093 - val_accuracy: 0.8517\n",
      "Epoch 15/30\n",
      "375/375 [==============================] - 5s 12ms/step - loss: 0.4462 - accuracy: 0.8430 - val_loss: 0.4058 - val_accuracy: 0.8515\n",
      "Epoch 16/30\n",
      "375/375 [==============================] - 5s 12ms/step - loss: 0.4403 - accuracy: 0.8444 - val_loss: 0.3974 - val_accuracy: 0.8561\n",
      "Epoch 17/30\n",
      "375/375 [==============================] - 4s 12ms/step - loss: 0.4323 - accuracy: 0.8447 - val_loss: 0.3933 - val_accuracy: 0.8591\n",
      "Epoch 18/30\n",
      "375/375 [==============================] - 4s 12ms/step - loss: 0.4270 - accuracy: 0.8489 - val_loss: 0.3871 - val_accuracy: 0.8602\n",
      "Epoch 19/30\n",
      "375/375 [==============================] - 4s 12ms/step - loss: 0.4202 - accuracy: 0.8504 - val_loss: 0.3849 - val_accuracy: 0.8627\n",
      "Epoch 20/30\n",
      "375/375 [==============================] - 4s 12ms/step - loss: 0.4107 - accuracy: 0.8548 - val_loss: 0.3832 - val_accuracy: 0.8628\n",
      "Epoch 21/30\n",
      "375/375 [==============================] - 4s 12ms/step - loss: 0.4096 - accuracy: 0.8549 - val_loss: 0.3767 - val_accuracy: 0.8636\n",
      "Epoch 22/30\n",
      "375/375 [==============================] - 4s 12ms/step - loss: 0.4034 - accuracy: 0.8559 - val_loss: 0.3747 - val_accuracy: 0.8647\n",
      "Epoch 23/30\n",
      "375/375 [==============================] - 4s 11ms/step - loss: 0.4005 - accuracy: 0.8583 - val_loss: 0.3716 - val_accuracy: 0.8683\n",
      "Epoch 24/30\n",
      "375/375 [==============================] - 4s 12ms/step - loss: 0.3914 - accuracy: 0.8612 - val_loss: 0.3668 - val_accuracy: 0.8675\n",
      "Epoch 25/30\n",
      "375/375 [==============================] - 4s 12ms/step - loss: 0.3892 - accuracy: 0.8619 - val_loss: 0.3636 - val_accuracy: 0.8708\n",
      "Epoch 26/30\n",
      "375/375 [==============================] - 4s 12ms/step - loss: 0.3836 - accuracy: 0.8612 - val_loss: 0.3632 - val_accuracy: 0.8706\n",
      "Epoch 27/30\n",
      "375/375 [==============================] - 5s 13ms/step - loss: 0.3823 - accuracy: 0.8635 - val_loss: 0.3593 - val_accuracy: 0.8691\n",
      "Epoch 28/30\n",
      "375/375 [==============================] - 5s 12ms/step - loss: 0.3780 - accuracy: 0.8654 - val_loss: 0.3587 - val_accuracy: 0.8720\n",
      "Epoch 29/30\n",
      "375/375 [==============================] - 5s 13ms/step - loss: 0.3750 - accuracy: 0.8659 - val_loss: 0.3553 - val_accuracy: 0.8743\n",
      "Epoch 30/30\n",
      "375/375 [==============================] - 5s 12ms/step - loss: 0.3713 - accuracy: 0.8664 - val_loss: 0.3510 - val_accuracy: 0.8759\n"
     ]
    }
   ],
   "source": [
    "# Training the model. \n",
    "log_dir = \"logs/fit/model4\"\n",
    "tensorboard_callback = tf.keras.callbacks.TensorBoard(log_dir=log_dir, histogram_freq=1)\n",
    "training = model_4.fit(X_train, y_train, batch_size=128, epochs=30, validation_split=0.2,callbacks=tensorboard_callback) "
   ]
  },
  {
   "cell_type": "markdown",
   "id": "b04e533f",
   "metadata": {},
   "source": [
    "- when hidden layer increases the accuracy decreased here  "
   ]
  },
  {
   "cell_type": "markdown",
   "id": "3e66b8b1",
   "metadata": {},
   "source": [
    "- **Manipulate the batch_size and epochs and check its effect on accuracy**"
   ]
  },
  {
   "cell_type": "code",
   "execution_count": 45,
   "id": "27f2e0aa",
   "metadata": {},
   "outputs": [],
   "source": [
    "model_5 = tf.keras.Sequential()\n",
    "N_hidden = 512\n",
    "# Adds a densely-connected layer with 64 units to the model:\n",
    "model_5.add(Dense(N_hidden,name = 'dense_Layer',input_shape = (784,),activation = 'relu'))\n",
    "model_5.add(Dropout(0.3))\n",
    "\n",
    "# Adding another dense layer:\n",
    "model_5.add(Dense(N_hidden,name = 'dense_layer_2',activation = 'relu'))\n",
    "model_5.add(Dropout(0.3))\n",
    "\n",
    "# Add an output layer with 10 output units (10 different classes):\n",
    "model_5.add(Dense(10,name = 'dense_layer_3',activation = 'softmax'))"
   ]
  },
  {
   "cell_type": "code",
   "execution_count": 46,
   "id": "07c84454",
   "metadata": {},
   "outputs": [],
   "source": [
    "# compiling the model\n",
    "model_5.compile(optimizer = 'Adam',loss = 'categorical_crossentropy',metrics = ['accuracy'])"
   ]
  },
  {
   "cell_type": "code",
   "execution_count": 47,
   "id": "ee997bc0",
   "metadata": {},
   "outputs": [
    {
     "name": "stdout",
     "output_type": "stream",
     "text": [
      "Epoch 1/50\n",
      "  2/188 [..............................] - ETA: 6s - loss: 2.1719 - accuracy: 0.1992WARNING:tensorflow:Callbacks method `on_train_batch_end` is slow compared to the batch time (batch time: 0.0152s vs `on_train_batch_end` time: 0.0590s). Check your callbacks.\n",
      "188/188 [==============================] - 3s 15ms/step - loss: 0.6055 - accuracy: 0.7849 - val_loss: 0.4319 - val_accuracy: 0.8393\n",
      "Epoch 2/50\n",
      "188/188 [==============================] - 3s 14ms/step - loss: 0.4203 - accuracy: 0.8474 - val_loss: 0.3887 - val_accuracy: 0.8575\n",
      "Epoch 3/50\n",
      "188/188 [==============================] - 3s 15ms/step - loss: 0.3782 - accuracy: 0.8613 - val_loss: 0.3574 - val_accuracy: 0.8690\n",
      "Epoch 4/50\n",
      "188/188 [==============================] - 3s 15ms/step - loss: 0.3548 - accuracy: 0.8689 - val_loss: 0.3599 - val_accuracy: 0.8665\n",
      "Epoch 5/50\n",
      "188/188 [==============================] - 3s 14ms/step - loss: 0.3354 - accuracy: 0.8772 - val_loss: 0.3503 - val_accuracy: 0.8695\n",
      "Epoch 6/50\n",
      "188/188 [==============================] - 2s 12ms/step - loss: 0.3202 - accuracy: 0.8811 - val_loss: 0.3260 - val_accuracy: 0.8833\n",
      "Epoch 7/50\n",
      "188/188 [==============================] - 2s 12ms/step - loss: 0.3108 - accuracy: 0.8849 - val_loss: 0.3197 - val_accuracy: 0.8827\n",
      "Epoch 8/50\n",
      "188/188 [==============================] - 2s 12ms/step - loss: 0.2992 - accuracy: 0.8892 - val_loss: 0.3148 - val_accuracy: 0.8861\n",
      "Epoch 9/50\n",
      "188/188 [==============================] - 2s 12ms/step - loss: 0.2891 - accuracy: 0.8922 - val_loss: 0.3070 - val_accuracy: 0.8882\n",
      "Epoch 10/50\n",
      "188/188 [==============================] - 2s 12ms/step - loss: 0.2801 - accuracy: 0.8957 - val_loss: 0.3073 - val_accuracy: 0.8896\n",
      "Epoch 11/50\n",
      "188/188 [==============================] - 2s 12ms/step - loss: 0.2769 - accuracy: 0.8963 - val_loss: 0.3085 - val_accuracy: 0.8898\n",
      "Epoch 12/50\n",
      "188/188 [==============================] - 2s 12ms/step - loss: 0.2690 - accuracy: 0.8992 - val_loss: 0.2999 - val_accuracy: 0.8923\n",
      "Epoch 13/50\n",
      "188/188 [==============================] - 2s 12ms/step - loss: 0.2628 - accuracy: 0.9021 - val_loss: 0.3097 - val_accuracy: 0.8905\n",
      "Epoch 14/50\n",
      "188/188 [==============================] - 2s 12ms/step - loss: 0.2623 - accuracy: 0.9023 - val_loss: 0.2981 - val_accuracy: 0.8952\n",
      "Epoch 15/50\n",
      "188/188 [==============================] - 2s 12ms/step - loss: 0.2530 - accuracy: 0.9045 - val_loss: 0.2929 - val_accuracy: 0.8937\n",
      "Epoch 16/50\n",
      "188/188 [==============================] - 2s 12ms/step - loss: 0.2455 - accuracy: 0.9072 - val_loss: 0.3039 - val_accuracy: 0.8938\n",
      "Epoch 17/50\n",
      "188/188 [==============================] - 2s 12ms/step - loss: 0.2440 - accuracy: 0.9069 - val_loss: 0.2956 - val_accuracy: 0.8936\n",
      "Epoch 18/50\n",
      "188/188 [==============================] - 2s 12ms/step - loss: 0.2383 - accuracy: 0.9104 - val_loss: 0.3028 - val_accuracy: 0.8913\n",
      "Epoch 19/50\n",
      "188/188 [==============================] - 2s 12ms/step - loss: 0.2316 - accuracy: 0.9125 - val_loss: 0.2968 - val_accuracy: 0.8942\n",
      "Epoch 20/50\n",
      "188/188 [==============================] - 2s 12ms/step - loss: 0.2303 - accuracy: 0.9128 - val_loss: 0.2999 - val_accuracy: 0.8957\n",
      "Epoch 21/50\n",
      "188/188 [==============================] - 2s 12ms/step - loss: 0.2245 - accuracy: 0.9136 - val_loss: 0.2927 - val_accuracy: 0.8935\n",
      "Epoch 22/50\n",
      "188/188 [==============================] - 2s 12ms/step - loss: 0.2225 - accuracy: 0.9160 - val_loss: 0.3044 - val_accuracy: 0.8908\n",
      "Epoch 23/50\n",
      "188/188 [==============================] - 2s 12ms/step - loss: 0.2172 - accuracy: 0.9177 - val_loss: 0.2966 - val_accuracy: 0.8940\n",
      "Epoch 24/50\n",
      "188/188 [==============================] - 2s 12ms/step - loss: 0.2140 - accuracy: 0.9183 - val_loss: 0.2903 - val_accuracy: 0.8975\n",
      "Epoch 25/50\n",
      "188/188 [==============================] - 2s 12ms/step - loss: 0.2111 - accuracy: 0.9197 - val_loss: 0.2984 - val_accuracy: 0.8963\n",
      "Epoch 26/50\n",
      "188/188 [==============================] - 2s 12ms/step - loss: 0.2114 - accuracy: 0.9191 - val_loss: 0.2863 - val_accuracy: 0.9007\n",
      "Epoch 27/50\n",
      "188/188 [==============================] - 2s 13ms/step - loss: 0.2070 - accuracy: 0.9214 - val_loss: 0.3069 - val_accuracy: 0.8964\n",
      "Epoch 28/50\n",
      "188/188 [==============================] - 3s 13ms/step - loss: 0.2062 - accuracy: 0.9225 - val_loss: 0.2988 - val_accuracy: 0.8986\n",
      "Epoch 29/50\n",
      "188/188 [==============================] - 2s 13ms/step - loss: 0.2007 - accuracy: 0.9230 - val_loss: 0.2930 - val_accuracy: 0.8978\n",
      "Epoch 30/50\n",
      "188/188 [==============================] - 2s 13ms/step - loss: 0.1965 - accuracy: 0.9245 - val_loss: 0.3014 - val_accuracy: 0.8977\n",
      "Epoch 31/50\n",
      "188/188 [==============================] - 2s 13ms/step - loss: 0.1919 - accuracy: 0.9268 - val_loss: 0.3047 - val_accuracy: 0.8953\n",
      "Epoch 32/50\n",
      "188/188 [==============================] - 2s 13ms/step - loss: 0.1958 - accuracy: 0.9251 - val_loss: 0.3054 - val_accuracy: 0.8989\n",
      "Epoch 33/50\n",
      "188/188 [==============================] - 2s 13ms/step - loss: 0.1915 - accuracy: 0.9276 - val_loss: 0.3052 - val_accuracy: 0.8955\n",
      "Epoch 34/50\n",
      "188/188 [==============================] - 2s 13ms/step - loss: 0.1858 - accuracy: 0.9293 - val_loss: 0.2953 - val_accuracy: 0.9014\n",
      "Epoch 35/50\n",
      "188/188 [==============================] - 2s 13ms/step - loss: 0.1818 - accuracy: 0.9303 - val_loss: 0.3006 - val_accuracy: 0.8996\n",
      "Epoch 36/50\n",
      "188/188 [==============================] - 2s 13ms/step - loss: 0.1850 - accuracy: 0.9281 - val_loss: 0.3046 - val_accuracy: 0.8982\n",
      "Epoch 37/50\n",
      "188/188 [==============================] - 2s 13ms/step - loss: 0.1754 - accuracy: 0.9326 - val_loss: 0.2994 - val_accuracy: 0.8991\n",
      "Epoch 38/50\n",
      "188/188 [==============================] - 2s 13ms/step - loss: 0.1791 - accuracy: 0.9310 - val_loss: 0.3218 - val_accuracy: 0.9017\n",
      "Epoch 39/50\n",
      "188/188 [==============================] - 2s 13ms/step - loss: 0.1746 - accuracy: 0.9333 - val_loss: 0.3075 - val_accuracy: 0.8995\n",
      "Epoch 40/50\n",
      "188/188 [==============================] - 2s 13ms/step - loss: 0.1753 - accuracy: 0.9345 - val_loss: 0.3056 - val_accuracy: 0.9011\n",
      "Epoch 41/50\n",
      "188/188 [==============================] - 2s 13ms/step - loss: 0.1701 - accuracy: 0.9358 - val_loss: 0.3081 - val_accuracy: 0.9009\n",
      "Epoch 42/50\n",
      "188/188 [==============================] - 2s 13ms/step - loss: 0.1688 - accuracy: 0.9354 - val_loss: 0.3084 - val_accuracy: 0.9017\n",
      "Epoch 43/50\n",
      "188/188 [==============================] - 3s 15ms/step - loss: 0.1697 - accuracy: 0.9354 - val_loss: 0.3139 - val_accuracy: 0.8990\n",
      "Epoch 44/50\n",
      "188/188 [==============================] - 3s 15ms/step - loss: 0.1663 - accuracy: 0.9369 - val_loss: 0.3044 - val_accuracy: 0.9001\n",
      "Epoch 45/50\n",
      "188/188 [==============================] - 3s 17ms/step - loss: 0.1634 - accuracy: 0.9377 - val_loss: 0.3052 - val_accuracy: 0.9024\n",
      "Epoch 46/50\n",
      "188/188 [==============================] - 3s 15ms/step - loss: 0.1575 - accuracy: 0.9396 - val_loss: 0.3151 - val_accuracy: 0.9014\n",
      "Epoch 47/50\n",
      "188/188 [==============================] - 3s 14ms/step - loss: 0.1621 - accuracy: 0.9389 - val_loss: 0.3200 - val_accuracy: 0.9029\n",
      "Epoch 48/50\n",
      "188/188 [==============================] - 3s 14ms/step - loss: 0.1598 - accuracy: 0.9389 - val_loss: 0.3163 - val_accuracy: 0.9005\n",
      "Epoch 49/50\n",
      "188/188 [==============================] - 3s 14ms/step - loss: 0.1574 - accuracy: 0.9379 - val_loss: 0.3228 - val_accuracy: 0.8985\n",
      "Epoch 50/50\n",
      "188/188 [==============================] - 3s 14ms/step - loss: 0.1580 - accuracy: 0.9401 - val_loss: 0.3146 - val_accuracy: 0.9026\n"
     ]
    }
   ],
   "source": [
    "# Training the model. \n",
    "log_dir = \"logs/fit/model5\"\n",
    "tensorboard_callback = tf.keras.callbacks.TensorBoard(log_dir=log_dir, histogram_freq=1)\n",
    "training = model_5.fit(X_train, y_train, batch_size=256, epochs=50, validation_split=0.2,callbacks=tensorboard_callback) "
   ]
  },
  {
   "cell_type": "markdown",
   "id": "a89759da",
   "metadata": {},
   "source": [
    "- Here, the accuracy is good, its fit the model very good the accuracy is 0.9401 "
   ]
  },
  {
   "cell_type": "markdown",
   "id": "c88bcab5",
   "metadata": {},
   "source": [
    "- **Answer: What parameters should be choosen to get best accuracy on classifying the images into various categories?**"
   ]
  },
  {
   "cell_type": "markdown",
   "id": "07d8b314",
   "metadata": {},
   "source": [
    "- To get best accuracy use \"SGD\" paramater, and **Adam** is also performs very well we cannot say its depends upon how the complexity the problem was \n",
    "- activation is also helps us to get good accuarcy \"relu\" or \"softmax\""
   ]
  },
  {
   "cell_type": "code",
   "execution_count": 1,
   "id": "54769273",
   "metadata": {},
   "outputs": [],
   "source": [
    "from sklearn.ensemble import RandomForestClassifier"
   ]
  },
  {
   "cell_type": "code",
   "execution_count": 7,
   "id": "39e7cf41",
   "metadata": {},
   "outputs": [
    {
     "data": {
      "text/plain": [
       "RandomForestClassifier(max_depth=2, n_estimators=None, random_state=0)"
      ]
     },
     "execution_count": 7,
     "metadata": {},
     "output_type": "execute_result"
    }
   ],
   "source": [
    "RandomForestClassifier(n_estimators = None,max_depth=2, random_state=0,n_jobs = None)"
   ]
  },
  {
   "cell_type": "code",
   "execution_count": 8,
   "id": "8b03271a",
   "metadata": {},
   "outputs": [],
   "source": [
    "from sklearn.ensemble import AdaBoostClassifier"
   ]
  },
  {
   "cell_type": "code",
   "execution_count": 14,
   "id": "7b6f10f1",
   "metadata": {},
   "outputs": [
    {
     "ename": "TypeError",
     "evalue": "__init__() got an unexpected keyword argument 'Feature_importances_'",
     "output_type": "error",
     "traceback": [
      "\u001b[1;31m---------------------------------------------------------------------------\u001b[0m",
      "\u001b[1;31mTypeError\u001b[0m                                 Traceback (most recent call last)",
      "Input \u001b[1;32mIn [14]\u001b[0m, in \u001b[0;36m<cell line: 1>\u001b[1;34m()\u001b[0m\n\u001b[1;32m----> 1\u001b[0m \u001b[43mAdaBoostClassifier\u001b[49m\u001b[43m(\u001b[49m\u001b[43mn_estimators\u001b[49m\u001b[38;5;241;43m=\u001b[39;49m\u001b[38;5;241;43m100\u001b[39;49m\u001b[43m,\u001b[49m\u001b[43m \u001b[49m\u001b[43mrandom_state\u001b[49m\u001b[38;5;241;43m=\u001b[39;49m\u001b[38;5;241;43m0\u001b[39;49m\u001b[43m,\u001b[49m\u001b[43mlearning_rate\u001b[49m\u001b[43m \u001b[49m\u001b[38;5;241;43m=\u001b[39;49m\u001b[43m \u001b[49m\u001b[38;5;28;43;01mNone\u001b[39;49;00m\u001b[43m,\u001b[49m\u001b[43mFeature_importances_\u001b[49m\u001b[38;5;241;43m=\u001b[39;49m\u001b[43m \u001b[49m\u001b[38;5;28;43;01mNone\u001b[39;49;00m\u001b[43m)\u001b[49m\n",
      "File \u001b[1;32m~\\anaconda3\\2.anaconda3\\lib\\site-packages\\sklearn\\utils\\validation.py:63\u001b[0m, in \u001b[0;36m_deprecate_positional_args.<locals>._inner_deprecate_positional_args.<locals>.inner_f\u001b[1;34m(*args, **kwargs)\u001b[0m\n\u001b[0;32m     61\u001b[0m extra_args \u001b[38;5;241m=\u001b[39m \u001b[38;5;28mlen\u001b[39m(args) \u001b[38;5;241m-\u001b[39m \u001b[38;5;28mlen\u001b[39m(all_args)\n\u001b[0;32m     62\u001b[0m \u001b[38;5;28;01mif\u001b[39;00m extra_args \u001b[38;5;241m<\u001b[39m\u001b[38;5;241m=\u001b[39m \u001b[38;5;241m0\u001b[39m:\n\u001b[1;32m---> 63\u001b[0m     \u001b[38;5;28;01mreturn\u001b[39;00m f(\u001b[38;5;241m*\u001b[39margs, \u001b[38;5;241m*\u001b[39m\u001b[38;5;241m*\u001b[39mkwargs)\n\u001b[0;32m     65\u001b[0m \u001b[38;5;66;03m# extra_args > 0\u001b[39;00m\n\u001b[0;32m     66\u001b[0m args_msg \u001b[38;5;241m=\u001b[39m [\u001b[38;5;124m'\u001b[39m\u001b[38;5;132;01m{}\u001b[39;00m\u001b[38;5;124m=\u001b[39m\u001b[38;5;132;01m{}\u001b[39;00m\u001b[38;5;124m'\u001b[39m\u001b[38;5;241m.\u001b[39mformat(name, arg)\n\u001b[0;32m     67\u001b[0m             \u001b[38;5;28;01mfor\u001b[39;00m name, arg \u001b[38;5;129;01min\u001b[39;00m \u001b[38;5;28mzip\u001b[39m(kwonly_args[:extra_args],\n\u001b[0;32m     68\u001b[0m                                  args[\u001b[38;5;241m-\u001b[39mextra_args:])]\n",
      "\u001b[1;31mTypeError\u001b[0m: __init__() got an unexpected keyword argument 'Feature_importances_'"
     ]
    }
   ],
   "source": [
    "AdaBoostClassifier(n_estimators=100, random_state=0,learning_rate = None,Feature_importances_= None)"
   ]
  },
  {
   "cell_type": "code",
   "execution_count": null,
   "id": "a6b1f21c",
   "metadata": {},
   "outputs": [],
   "source": []
  }
 ],
 "metadata": {
  "kernelspec": {
   "display_name": "Python 3 (ipykernel)",
   "language": "python",
   "name": "python3"
  },
  "language_info": {
   "codemirror_mode": {
    "name": "ipython",
    "version": 3
   },
   "file_extension": ".py",
   "mimetype": "text/x-python",
   "name": "python",
   "nbconvert_exporter": "python",
   "pygments_lexer": "ipython3",
   "version": "3.9.12"
  }
 },
 "nbformat": 4,
 "nbformat_minor": 5
}
