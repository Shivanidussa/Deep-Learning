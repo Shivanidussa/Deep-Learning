{
 "cells": [
  {
   "cell_type": "markdown",
   "id": "747e7941",
   "metadata": {},
   "source": [
    "\n",
    "### **`.ipynb file 1`** "
   ]
  },
  {
   "cell_type": "markdown",
   "id": "c43c6267",
   "metadata": {},
   "source": [
    "\n",
    "\n",
    "**Marks: 10**\n",
    "1. Do you get the exact same results if you run the Notebook multiple times without changing any parameters?\n",
    "2. What is the effect of adding more neurons to each hidden layer?\n",
    "3. What happens if we manipulate the value of dropout?\n",
    "4. What is the effect of adding more hidden layer to the network?\n",
    "5. What is the accuracy score if we use RMSprop for model 6?\n",
    "6. Does manipulating the learning rate affect the model? Justify your answer.\n",
    "7. What is the best parameter configuration for this project?\n"
   ]
  },
  {
   "cell_type": "raw",
   "id": "1f67799d",
   "metadata": {},
   "source": [
    "1. yes, its changing when runned in multiple times its changing when training the model not lot of difference\n",
    "its a mild difference in accuracy,loss,val_loss,val_accuracy so that results changing in evaluating the model,graph,weights."
   ]
  },
  {
   "cell_type": "markdown",
   "id": "a422e04f",
   "metadata": {},
   "source": [
    "2."
   ]
  },
  {
   "cell_type": "code",
   "execution_count": 3,
   "id": "b86b26b9",
   "metadata": {},
   "outputs": [],
   "source": [
    "import tensorflow as tf\n",
    "from tensorflow.keras.layers import Dense\n",
    "from tensorflow.keras import Sequential"
   ]
  },
  {
   "cell_type": "markdown",
   "id": "95c1e4a1",
   "metadata": {},
   "source": [
    "Load and prepare the [MNIST dataset](http://yann.lecun.com/exdb/mnist/) and convert the samples from integers to floating-point numbers and deal with categorical data:"
   ]
  },
  {
   "cell_type": "code",
   "execution_count": 11,
   "id": "578a22f9",
   "metadata": {},
   "outputs": [],
   "source": [
    "# Loading MNIST dataset\n",
    "mnist = keras.datasets.mnist \n",
    "(X_train, Y_train), (X_test, Y_test) = mnist.load_data()"
   ]
  },
  {
   "cell_type": "code",
   "execution_count": 10,
   "id": "475d3177",
   "metadata": {},
   "outputs": [],
   "source": [
    "import tensorflow as tf\n",
    "from tensorflow import keras "
   ]
  },
  {
   "cell_type": "code",
   "execution_count": 12,
   "id": "ab6eff78",
   "metadata": {},
   "outputs": [
    {
     "name": "stdout",
     "output_type": "stream",
     "text": [
      "60000 train samples\n",
      "10000 test samples\n"
     ]
    }
   ],
   "source": [
    "# X_train is 60000 rows of 28x28 values; we reshape it to # 60000 x 784. \n",
    "RESHAPED = 784 # 28x28 = 784\n",
    "X_train = X_train.reshape(60000, RESHAPED) \n",
    "X_test = X_test.reshape(10000, RESHAPED) \n",
    "\n",
    "# Data is converted into float32 to use 32-bit precision # when training a neural network \n",
    "X_train = X_train.astype('float32')\n",
    "X_test = X_test.astype('float32') \n",
    "\n",
    "# Normalizing the input to be within the range [0,1]\n",
    "X_train /= 255    # X_train = X_train / 255\n",
    "#intensity of each pixel is divided by 255, the maximum intensity value\n",
    "X_test /= 255\n",
    "print(X_train.shape[0], 'train samples') \n",
    "print(X_test.shape[0], 'test samples') \n",
    "\n",
    "# One-hot representation of the labels.\n",
    "Y_train = tf.keras.utils.to_categorical(Y_train, 10) \n",
    "Y_test = tf.keras.utils.to_categorical(Y_test, 10)\n"
   ]
  },
  {
   "cell_type": "code",
   "execution_count": 15,
   "id": "211f0be1",
   "metadata": {},
   "outputs": [],
   "source": [
    "model_1 = tf.keras.Sequential()\n",
    "N_hidden = 250\n",
    "model_1.add(Dense(N_hidden,name = 'dense_layer',input_shape = (784,),activation = 'relu'))\n",
    "N_hiddens = 512\n",
    "model_1.add(Dense(N_hiddens,name = 'dense_layer_2',activation = 'relu'))\n",
    "model_1.add(Dense(10,name = 'dense_layer_3',activation = 'softmax'))"
   ]
  },
  {
   "cell_type": "code",
   "execution_count": 16,
   "id": "d99bbe86",
   "metadata": {},
   "outputs": [],
   "source": [
    "model_1.compile(optimizer = 'SGD',loss = 'categorical_crossentropy',metrics = ['accuracy'])"
   ]
  },
  {
   "cell_type": "code",
   "execution_count": 17,
   "id": "2a46050b",
   "metadata": {
    "collapsed": true
   },
   "outputs": [
    {
     "name": "stdout",
     "output_type": "stream",
     "text": [
      "Epoch 1/30\n",
      "  2/375 [..............................] - ETA: 19s - loss: 2.3085 - accuracy: 0.1133WARNING:tensorflow:Callbacks method `on_train_batch_end` is slow compared to the batch time (batch time: 0.0059s vs `on_train_batch_end` time: 0.0998s). Check your callbacks.\n",
      "375/375 [==============================] - 2s 6ms/step - loss: 1.4048 - accuracy: 0.6668 - val_loss: 0.7063 - val_accuracy: 0.8511\n",
      "Epoch 2/30\n",
      "375/375 [==============================] - 2s 5ms/step - loss: 0.5716 - accuracy: 0.8584 - val_loss: 0.4369 - val_accuracy: 0.8889\n",
      "Epoch 3/30\n",
      "375/375 [==============================] - 2s 5ms/step - loss: 0.4250 - accuracy: 0.8864 - val_loss: 0.3636 - val_accuracy: 0.8994\n",
      "Epoch 4/30\n",
      "375/375 [==============================] - 2s 5ms/step - loss: 0.3695 - accuracy: 0.8970 - val_loss: 0.3291 - val_accuracy: 0.9065\n",
      "Epoch 5/30\n",
      "375/375 [==============================] - 2s 5ms/step - loss: 0.3377 - accuracy: 0.9050 - val_loss: 0.3052 - val_accuracy: 0.9144\n",
      "Epoch 6/30\n",
      "375/375 [==============================] - 2s 5ms/step - loss: 0.3161 - accuracy: 0.9109 - val_loss: 0.2897 - val_accuracy: 0.9158\n",
      "Epoch 7/30\n",
      "375/375 [==============================] - 2s 5ms/step - loss: 0.2986 - accuracy: 0.9155 - val_loss: 0.2754 - val_accuracy: 0.9222\n",
      "Epoch 8/30\n",
      "375/375 [==============================] - 2s 5ms/step - loss: 0.2843 - accuracy: 0.9195 - val_loss: 0.2659 - val_accuracy: 0.9239\n",
      "Epoch 9/30\n",
      "375/375 [==============================] - 2s 5ms/step - loss: 0.2721 - accuracy: 0.9236 - val_loss: 0.2556 - val_accuracy: 0.9268\n",
      "Epoch 10/30\n",
      "375/375 [==============================] - 2s 5ms/step - loss: 0.2610 - accuracy: 0.9264 - val_loss: 0.2467 - val_accuracy: 0.9306\n",
      "Epoch 11/30\n",
      "375/375 [==============================] - 2s 5ms/step - loss: 0.2508 - accuracy: 0.9293 - val_loss: 0.2374 - val_accuracy: 0.9328\n",
      "Epoch 12/30\n",
      "375/375 [==============================] - 2s 5ms/step - loss: 0.2415 - accuracy: 0.9315 - val_loss: 0.2299 - val_accuracy: 0.9357\n",
      "Epoch 13/30\n",
      "375/375 [==============================] - 2s 5ms/step - loss: 0.2328 - accuracy: 0.9343 - val_loss: 0.2240 - val_accuracy: 0.9365\n",
      "Epoch 14/30\n",
      "375/375 [==============================] - 2s 5ms/step - loss: 0.2249 - accuracy: 0.9360 - val_loss: 0.2166 - val_accuracy: 0.9392\n",
      "Epoch 15/30\n",
      "375/375 [==============================] - 2s 4ms/step - loss: 0.2174 - accuracy: 0.9388 - val_loss: 0.2102 - val_accuracy: 0.9416\n",
      "Epoch 16/30\n",
      "375/375 [==============================] - 2s 4ms/step - loss: 0.2104 - accuracy: 0.9402 - val_loss: 0.2067 - val_accuracy: 0.9427\n",
      "Epoch 17/30\n",
      "375/375 [==============================] - 2s 5ms/step - loss: 0.2039 - accuracy: 0.9421 - val_loss: 0.2001 - val_accuracy: 0.9445\n",
      "Epoch 18/30\n",
      "375/375 [==============================] - 2s 5ms/step - loss: 0.1975 - accuracy: 0.9440 - val_loss: 0.1946 - val_accuracy: 0.9465\n",
      "Epoch 19/30\n",
      "375/375 [==============================] - 2s 4ms/step - loss: 0.1917 - accuracy: 0.9457 - val_loss: 0.1897 - val_accuracy: 0.9475\n",
      "Epoch 20/30\n",
      "375/375 [==============================] - 2s 5ms/step - loss: 0.1861 - accuracy: 0.9468 - val_loss: 0.1860 - val_accuracy: 0.9494\n",
      "Epoch 21/30\n",
      "375/375 [==============================] - 2s 5ms/step - loss: 0.1809 - accuracy: 0.9485 - val_loss: 0.1809 - val_accuracy: 0.9498\n",
      "Epoch 22/30\n",
      "375/375 [==============================] - 2s 5ms/step - loss: 0.1756 - accuracy: 0.9501 - val_loss: 0.1769 - val_accuracy: 0.9513\n",
      "Epoch 23/30\n",
      "375/375 [==============================] - 2s 5ms/step - loss: 0.1709 - accuracy: 0.9512 - val_loss: 0.1730 - val_accuracy: 0.9526\n",
      "Epoch 24/30\n",
      "375/375 [==============================] - 2s 5ms/step - loss: 0.1662 - accuracy: 0.9529 - val_loss: 0.1703 - val_accuracy: 0.9527\n",
      "Epoch 25/30\n",
      "375/375 [==============================] - 2s 5ms/step - loss: 0.1620 - accuracy: 0.9539 - val_loss: 0.1658 - val_accuracy: 0.9541\n",
      "Epoch 26/30\n",
      "375/375 [==============================] - 2s 5ms/step - loss: 0.1578 - accuracy: 0.9548 - val_loss: 0.1624 - val_accuracy: 0.9555\n",
      "Epoch 27/30\n",
      "375/375 [==============================] - 2s 5ms/step - loss: 0.1536 - accuracy: 0.9565 - val_loss: 0.1603 - val_accuracy: 0.9548\n",
      "Epoch 28/30\n",
      "375/375 [==============================] - 2s 5ms/step - loss: 0.1499 - accuracy: 0.9571 - val_loss: 0.1570 - val_accuracy: 0.9568\n",
      "Epoch 29/30\n",
      "375/375 [==============================] - 2s 4ms/step - loss: 0.1460 - accuracy: 0.9585 - val_loss: 0.1546 - val_accuracy: 0.9564\n",
      "Epoch 30/30\n",
      "375/375 [==============================] - 2s 4ms/step - loss: 0.1427 - accuracy: 0.9596 - val_loss: 0.1510 - val_accuracy: 0.9588\n"
     ]
    }
   ],
   "source": [
    "log_dir = \"logs/fit/model1\"\n",
    "tensorboard_callback = tf.keras.callbacks.TensorBoard(log_dir=log_dir, histogram_freq=1)\n",
    "training = model_1.fit(X_train, Y_train, batch_size=128, epochs=30, validation_split=0.2,callbacks=tensorboard_callback) "
   ]
  },
  {
   "cell_type": "code",
   "execution_count": 18,
   "id": "276c8679",
   "metadata": {
    "collapsed": true
   },
   "outputs": [
    {
     "name": "stdout",
     "output_type": "stream",
     "text": [
      "Model: \"sequential_1\"\n",
      "_________________________________________________________________\n",
      "Layer (type)                 Output Shape              Param #   \n",
      "=================================================================\n",
      "dense_layer (Dense)          (None, 250)               196250    \n",
      "_________________________________________________________________\n",
      "dense_layer_2 (Dense)        (None, 512)               128512    \n",
      "_________________________________________________________________\n",
      "dense_layer_3 (Dense)        (None, 10)                5130      \n",
      "=================================================================\n",
      "Total params: 329,892\n",
      "Trainable params: 329,892\n",
      "Non-trainable params: 0\n",
      "_________________________________________________________________\n"
     ]
    }
   ],
   "source": [
    "model_1.summary()"
   ]
  },
  {
   "cell_type": "code",
   "execution_count": 21,
   "id": "2d16d57c",
   "metadata": {
    "collapsed": true
   },
   "outputs": [
    {
     "name": "stdout",
     "output_type": "stream",
     "text": [
      "dict_keys(['loss', 'accuracy', 'val_loss', 'val_accuracy'])\n"
     ]
    },
    {
     "data": {
      "image/png": "[encoded data removed]",
      "text/plain": [
       "<Figure size 432x288 with 1 Axes>"
      ]
     },
     "metadata": {
      "needs_background": "light"
     },
     "output_type": "display_data"
    },
    {
     "data": {
      "image/png": "[encoded data removed]",
      "text/plain": [
       "<Figure size 432x288 with 1 Axes>"
      ]
     },
     "metadata": {
      "needs_background": "light"
     },
     "output_type": "display_data"
    }
   ],
   "source": [
    "import matplotlib.pyplot as plt\n",
    "%matplotlib inline\n",
    "# list all data in training\n",
    "\n",
    "print(training.history.keys())\n",
    "# summarize training for accuracy\n",
    "\n",
    "plt.plot(training.history['accuracy'])\n",
    "plt.plot(training.history['val_accuracy'])\n",
    "plt.title('model accuracy')\n",
    "plt.ylabel('accuracy')\n",
    "plt.xlabel('epoch')\n",
    "plt.legend(['train', 'test'], loc='upper left')\n",
    "plt.show()\n",
    "\n",
    "# summarize traning for loss\n",
    "plt.plot(training.history['loss'])\n",
    "plt.plot(training.history['val_loss'])\n",
    "plt.title('model loss')\n",
    "plt.ylabel('loss')\n",
    "plt.xlabel('epoch')\n",
    "plt.legend(['train', 'test'], loc='upper left')\n",
    "plt.show()"
   ]
  },
  {
   "cell_type": "code",
   "execution_count": 25,
   "id": "a9372d24",
   "metadata": {},
   "outputs": [
    {
     "name": "stdout",
     "output_type": "stream",
     "text": [
      "313/313 [==============================] - 1s 2ms/step - loss: 0.1484 - accuracy: 0.9569\n",
      "Test Accuracy: 0.9569000005722046\n"
     ]
    }
   ],
   "source": [
    "# Evaluate the model\n",
    "test_loss,test_acc = model_1.evaluate(X_test,Y_test)\n",
    "print('Test Accuracy:',test_acc)"
   ]
  },
  {
   "cell_type": "raw",
   "id": "d89cbf16",
   "metadata": {},
   "source": [
    " If I gave more neurons to each hidden layers the accuracy was good\n",
    "     and its doesnt overfit and underfit "
   ]
  },
  {
   "cell_type": "markdown",
   "id": "663c95ea",
   "metadata": {},
   "source": [
    "3"
   ]
  },
  {
   "cell_type": "code",
   "execution_count": 47,
   "id": "ae724e92",
   "metadata": {},
   "outputs": [],
   "source": [
    "model_2 = tf.keras.Sequential()\n",
    "N_hidden = 64\n",
    "model_2.add(Dense(N_hidden,name = 'dense_layer',input_shape = (784,),activation = 'relu'))\n",
    "model_2.add(Dropout(0.2))\n",
    "#N_hiddens = 512\n",
    "model_2.add(Dense(N_hiddens,name = 'dense_layer_2',activation = 'relu'))\n",
    "model_2.add(Dropout(0.2))\n",
    "model_2.add(Dense(10,name = 'dense_layer_3',activation = 'softmax'))"
   ]
  },
  {
   "cell_type": "code",
   "execution_count": 48,
   "id": "0975a1e3",
   "metadata": {},
   "outputs": [],
   "source": [
    "model_2.compile(optimizer = 'SGD',loss = 'categorical_crossentropy',metrics = ['accuracy'])"
   ]
  },
  {
   "cell_type": "code",
   "execution_count": 49,
   "id": "0693bf55",
   "metadata": {
    "collapsed": true
   },
   "outputs": [
    {
     "name": "stdout",
     "output_type": "stream",
     "text": [
      "Epoch 1/30\n",
      "  2/375 [..............................] - ETA: 16s - loss: 2.3333 - accuracy: 0.0898WARNING:tensorflow:Callbacks method `on_train_batch_end` is slow compared to the batch time (batch time: 0.0053s vs `on_train_batch_end` time: 0.0814s). Check your callbacks.\n",
      "375/375 [==============================] - 2s 5ms/step - loss: 1.8828 - accuracy: 0.4359 - val_loss: 1.1327 - val_accuracy: 0.7698\n",
      "Epoch 2/30\n",
      "375/375 [==============================] - 2s 4ms/step - loss: 0.9519 - accuracy: 0.7239 - val_loss: 0.5833 - val_accuracy: 0.8543\n",
      "Epoch 3/30\n",
      "375/375 [==============================] - 2s 4ms/step - loss: 0.6732 - accuracy: 0.7983 - val_loss: 0.4484 - val_accuracy: 0.8809\n",
      "Epoch 4/30\n",
      "375/375 [==============================] - 2s 4ms/step - loss: 0.5642 - accuracy: 0.8303 - val_loss: 0.3888 - val_accuracy: 0.8957\n",
      "Epoch 5/30\n",
      "375/375 [==============================] - 2s 4ms/step - loss: 0.4996 - accuracy: 0.8508 - val_loss: 0.3522 - val_accuracy: 0.9018\n",
      "Epoch 6/30\n",
      "375/375 [==============================] - 2s 4ms/step - loss: 0.4582 - accuracy: 0.8641 - val_loss: 0.3277 - val_accuracy: 0.9073\n",
      "Epoch 7/30\n",
      "375/375 [==============================] - 2s 4ms/step - loss: 0.4314 - accuracy: 0.8728 - val_loss: 0.3095 - val_accuracy: 0.9120\n",
      "Epoch 8/30\n",
      "375/375 [==============================] - 2s 4ms/step - loss: 0.4037 - accuracy: 0.8810 - val_loss: 0.2929 - val_accuracy: 0.9154\n",
      "Epoch 9/30\n",
      "375/375 [==============================] - 2s 4ms/step - loss: 0.3875 - accuracy: 0.8852 - val_loss: 0.2799 - val_accuracy: 0.9190\n",
      "Epoch 10/30\n",
      "375/375 [==============================] - 2s 4ms/step - loss: 0.3690 - accuracy: 0.8905 - val_loss: 0.2680 - val_accuracy: 0.9223\n",
      "Epoch 11/30\n",
      "375/375 [==============================] - 2s 4ms/step - loss: 0.3540 - accuracy: 0.8945 - val_loss: 0.2575 - val_accuracy: 0.9263\n",
      "Epoch 12/30\n",
      "375/375 [==============================] - 2s 4ms/step - loss: 0.3391 - accuracy: 0.8998 - val_loss: 0.2485 - val_accuracy: 0.9288\n",
      "Epoch 13/30\n",
      "375/375 [==============================] - 2s 4ms/step - loss: 0.3256 - accuracy: 0.9047 - val_loss: 0.2407 - val_accuracy: 0.9300\n",
      "Epoch 14/30\n",
      "375/375 [==============================] - 2s 4ms/step - loss: 0.3177 - accuracy: 0.9058 - val_loss: 0.2316 - val_accuracy: 0.9332\n",
      "Epoch 15/30\n",
      "375/375 [==============================] - 2s 4ms/step - loss: 0.3067 - accuracy: 0.9088 - val_loss: 0.2253 - val_accuracy: 0.9345\n",
      "Epoch 16/30\n",
      "375/375 [==============================] - 2s 4ms/step - loss: 0.2969 - accuracy: 0.9122 - val_loss: 0.2195 - val_accuracy: 0.9348\n",
      "Epoch 17/30\n",
      "375/375 [==============================] - 2s 4ms/step - loss: 0.2909 - accuracy: 0.9152 - val_loss: 0.2125 - val_accuracy: 0.9377\n",
      "Epoch 18/30\n",
      "375/375 [==============================] - 2s 4ms/step - loss: 0.2815 - accuracy: 0.9161 - val_loss: 0.2065 - val_accuracy: 0.9398\n",
      "Epoch 19/30\n",
      "375/375 [==============================] - 2s 4ms/step - loss: 0.2745 - accuracy: 0.9189 - val_loss: 0.2024 - val_accuracy: 0.9407\n",
      "Epoch 20/30\n",
      "375/375 [==============================] - 2s 5ms/step - loss: 0.2685 - accuracy: 0.9196 - val_loss: 0.1976 - val_accuracy: 0.9416\n",
      "Epoch 21/30\n",
      "375/375 [==============================] - 2s 4ms/step - loss: 0.2602 - accuracy: 0.9214 - val_loss: 0.1933 - val_accuracy: 0.9433\n",
      "Epoch 22/30\n",
      "375/375 [==============================] - 1s 4ms/step - loss: 0.2532 - accuracy: 0.9251 - val_loss: 0.1890 - val_accuracy: 0.9446\n",
      "Epoch 23/30\n",
      "375/375 [==============================] - 2s 4ms/step - loss: 0.2508 - accuracy: 0.9258 - val_loss: 0.1845 - val_accuracy: 0.9463\n",
      "Epoch 24/30\n",
      "375/375 [==============================] - 2s 4ms/step - loss: 0.2432 - accuracy: 0.9272 - val_loss: 0.1818 - val_accuracy: 0.9474\n",
      "Epoch 25/30\n",
      "375/375 [==============================] - 2s 4ms/step - loss: 0.2389 - accuracy: 0.9297 - val_loss: 0.1776 - val_accuracy: 0.9490\n",
      "Epoch 26/30\n",
      "375/375 [==============================] - 2s 4ms/step - loss: 0.2363 - accuracy: 0.9299 - val_loss: 0.1747 - val_accuracy: 0.9499\n",
      "Epoch 27/30\n",
      "375/375 [==============================] - 2s 5ms/step - loss: 0.2347 - accuracy: 0.9314 - val_loss: 0.1723 - val_accuracy: 0.9504\n",
      "Epoch 28/30\n",
      "375/375 [==============================] - 2s 4ms/step - loss: 0.2302 - accuracy: 0.9309 - val_loss: 0.1699 - val_accuracy: 0.9514\n",
      "Epoch 29/30\n",
      "375/375 [==============================] - 1s 4ms/step - loss: 0.2242 - accuracy: 0.9339 - val_loss: 0.1659 - val_accuracy: 0.9522\n",
      "Epoch 30/30\n",
      "375/375 [==============================] - 1s 4ms/step - loss: 0.2190 - accuracy: 0.9346 - val_loss: 0.1641 - val_accuracy: 0.9525\n"
     ]
    }
   ],
   "source": [
    "log_dir = \"logs/fit/model2\"\n",
    "tensorboard_callback = tf.keras.callbacks.TensorBoard(log_dir = log_dir,histogram_freq = 1)\n",
    "training = model_2.fit(X_train,Y_train,batch_size = 128,epochs = 30,validation_split = 0.2,callbacks = tensorboard_callback)"
   ]
  },
  {
   "cell_type": "code",
   "execution_count": 52,
   "id": "b5f5e404",
   "metadata": {
    "collapsed": true
   },
   "outputs": [
    {
     "name": "stdout",
     "output_type": "stream",
     "text": [
      "dict_keys(['loss', 'accuracy', 'val_loss', 'val_accuracy'])\n"
     ]
    },
    {
     "data": {
      "image/png": "[encoded data removed]",
      "text/plain": [
       "<Figure size 432x288 with 1 Axes>"
      ]
     },
     "metadata": {
      "needs_background": "light"
     },
     "output_type": "display_data"
    },
    {
     "data": {
      "image/png": "[encoded data removed]",
      "text/plain": [
       "<Figure size 432x288 with 1 Axes>"
      ]
     },
     "metadata": {
      "needs_background": "light"
     },
     "output_type": "display_data"
    }
   ],
   "source": [
    "import matplotlib.pyplot as plt\n",
    "%matplotlib inline\n",
    "\n",
    "# List all data in training\n",
    "print(training.history.keys())\n",
    "\n",
    "#summarize training for accuracy\n",
    "plt.plot(training.history['accuracy'])\n",
    "plt.plot(training.history['val_accuracy'])\n",
    "plt.title('model accuracy')\n",
    "plt.ylabel('accuracy')\n",
    "plt.xlabel('epoch')\n",
    "plt.legend(['train', 'test'], loc='upper left')\n",
    "plt.show()\n",
    "\n",
    "# summarize traning for loss\n",
    "plt.plot(training.history['loss'])\n",
    "plt.plot(training.history['val_loss'])\n",
    "plt.title('model loss')\n",
    "plt.ylabel('loss')\n",
    "plt.xlabel('epoch')\n",
    "plt.legend(['train', 'test'], loc='upper left')\n",
    "plt.show()"
   ]
  },
  {
   "cell_type": "code",
   "execution_count": 53,
   "id": "4deac4ae",
   "metadata": {
    "collapsed": true
   },
   "outputs": [
    {
     "name": "stdout",
     "output_type": "stream",
     "text": [
      "313/313 [==============================] - 0s 955us/step - loss: 0.1633 - accuracy: 0.9523\n",
      "Test accuracy: 0.9523000121116638\n"
     ]
    }
   ],
   "source": [
    "test_loss,test_acc = model_2.evaluate(X_test,Y_test)\n",
    "print('Test accuracy:',test_acc)"
   ]
  },
  {
   "cell_type": "raw",
   "id": "639d910e",
   "metadata": {},
   "source": [
    "Here, I tried dropout value at 0.2,0.3,0.6,0.8  at 0.6,0.9 its not being able to fit properly if we give less rate its accuracy is increasing and loss is gradually decreasing "
   ]
  },
  {
   "cell_type": "markdown",
   "id": "81ae1f05",
   "metadata": {},
   "source": [
    "4,"
   ]
  },
  {
   "cell_type": "code",
   "execution_count": 51,
   "id": "8a32f991",
   "metadata": {},
   "outputs": [],
   "source": [
    "model_4 = tf.keras.Sequential()\n",
    "N_hidden = 512\n",
    "\n",
    "model_4.add(Dense(N_hidden,name = 'dense_Layer',input_shape = (784,),activation = 'relu'))\n",
    "# Now the model will take as input arrays of shape (*, 784)# and output arrays of shape (*, 64)\n",
    "model_4.add(Dropout(0.3))\n",
    "# Adding another dense layer:\n",
    "model_4.add(Dense(N_hidden,name = 'dense_layer_2',activation = 'relu'))\n",
    "model_4.add(Dropout(0.3))\n",
    "# Adding another layer\n",
    "model_4.add(Dense(N_hidden,name = 'dense_layer_3',activation = 'relu'))\n",
    "model_4.add(Dropout(0.3))\n",
    "# Adding another dense layer:\n",
    "model_4.add(Dense(N_hidden,name = 'dense_layer_4',activation = 'relu'))\n",
    "model_4.add(Dropout(0.3))\n",
    "model_4.add(Dense(10,name = 'dense_layer_5',activation = 'softmax'))"
   ]
  },
  {
   "cell_type": "code",
   "execution_count": 54,
   "id": "47612702",
   "metadata": {},
   "outputs": [],
   "source": [
    "model_4.compile(optimizer = 'SGD',loss = 'categorical_crossentropy',metrics = ['accuracy'])"
   ]
  },
  {
   "cell_type": "code",
   "execution_count": 55,
   "id": "632cac2e",
   "metadata": {
    "collapsed": true
   },
   "outputs": [
    {
     "name": "stdout",
     "output_type": "stream",
     "text": [
      "Epoch 1/30\n",
      "  2/375 [..............................] - ETA: 14s - loss: 0.2240 - accuracy: 0.9336WARNING:tensorflow:Callbacks method `on_train_batch_end` is slow compared to the batch time (batch time: 0.0047s vs `on_train_batch_end` time: 0.0721s). Check your callbacks.\n",
      "363/375 [============================>.] - ETA: 0s - loss: 0.2177 - accuracy: 0.9353WARNING:tensorflow:Callbacks method `on_test_batch_end` is slow compared to the batch time (batch time: 0.0000s vs `on_test_batch_end` time: 0.0010s). Check your callbacks.\n",
      "375/375 [==============================] - 2s 4ms/step - loss: 0.2175 - accuracy: 0.9355 - val_loss: 0.1611 - val_accuracy: 0.9541\n",
      "Epoch 2/30\n",
      "375/375 [==============================] - 2s 4ms/step - loss: 0.2147 - accuracy: 0.9362 - val_loss: 0.1593 - val_accuracy: 0.9541\n",
      "Epoch 3/30\n",
      "375/375 [==============================] - 2s 4ms/step - loss: 0.2092 - accuracy: 0.9377 - val_loss: 0.1573 - val_accuracy: 0.9548\n",
      "Epoch 4/30\n",
      "375/375 [==============================] - 2s 5ms/step - loss: 0.2090 - accuracy: 0.9370 - val_loss: 0.1550 - val_accuracy: 0.9558\n",
      "Epoch 5/30\n",
      "375/375 [==============================] - 2s 4ms/step - loss: 0.2067 - accuracy: 0.9384 - val_loss: 0.1531 - val_accuracy: 0.9561\n",
      "Epoch 6/30\n",
      "375/375 [==============================] - 2s 4ms/step - loss: 0.2041 - accuracy: 0.9386 - val_loss: 0.1510 - val_accuracy: 0.9570\n",
      "Epoch 7/30\n",
      "375/375 [==============================] - 2s 4ms/step - loss: 0.2004 - accuracy: 0.9410 - val_loss: 0.1497 - val_accuracy: 0.9574\n",
      "Epoch 8/30\n",
      "375/375 [==============================] - 2s 4ms/step - loss: 0.1980 - accuracy: 0.9406 - val_loss: 0.1472 - val_accuracy: 0.9579\n",
      "Epoch 9/30\n",
      "375/375 [==============================] - 2s 4ms/step - loss: 0.1935 - accuracy: 0.9423 - val_loss: 0.1458 - val_accuracy: 0.9586\n",
      "Epoch 10/30\n",
      "375/375 [==============================] - 2s 4ms/step - loss: 0.1941 - accuracy: 0.9409 - val_loss: 0.1439 - val_accuracy: 0.9590\n",
      "Epoch 11/30\n",
      "375/375 [==============================] - 2s 5ms/step - loss: 0.1913 - accuracy: 0.9437 - val_loss: 0.1428 - val_accuracy: 0.9595\n",
      "Epoch 12/30\n",
      "375/375 [==============================] - 2s 4ms/step - loss: 0.1897 - accuracy: 0.9434 - val_loss: 0.1417 - val_accuracy: 0.9592\n",
      "Epoch 13/30\n",
      "375/375 [==============================] - 2s 4ms/step - loss: 0.1876 - accuracy: 0.9441 - val_loss: 0.1401 - val_accuracy: 0.9601\n",
      "Epoch 14/30\n",
      "375/375 [==============================] - 2s 4ms/step - loss: 0.1854 - accuracy: 0.9444 - val_loss: 0.1388 - val_accuracy: 0.9603\n",
      "Epoch 15/30\n",
      "375/375 [==============================] - 1s 4ms/step - loss: 0.1822 - accuracy: 0.9440 - val_loss: 0.1379 - val_accuracy: 0.9607\n",
      "Epoch 16/30\n",
      "375/375 [==============================] - 1s 4ms/step - loss: 0.1805 - accuracy: 0.9456 - val_loss: 0.1359 - val_accuracy: 0.9607\n",
      "Epoch 17/30\n",
      "375/375 [==============================] - 2s 4ms/step - loss: 0.1771 - accuracy: 0.9457 - val_loss: 0.1353 - val_accuracy: 0.9616\n",
      "Epoch 18/30\n",
      "375/375 [==============================] - 2s 4ms/step - loss: 0.1771 - accuracy: 0.9468 - val_loss: 0.1336 - val_accuracy: 0.9620\n",
      "Epoch 19/30\n",
      "375/375 [==============================] - 1s 4ms/step - loss: 0.1736 - accuracy: 0.9475 - val_loss: 0.1320 - val_accuracy: 0.9619\n",
      "Epoch 20/30\n",
      "375/375 [==============================] - 2s 4ms/step - loss: 0.1725 - accuracy: 0.9486 - val_loss: 0.1311 - val_accuracy: 0.9623\n",
      "Epoch 21/30\n",
      "375/375 [==============================] - 1s 4ms/step - loss: 0.1713 - accuracy: 0.9504 - val_loss: 0.1306 - val_accuracy: 0.9626\n",
      "Epoch 22/30\n",
      "375/375 [==============================] - 1s 4ms/step - loss: 0.1699 - accuracy: 0.9492 - val_loss: 0.1288 - val_accuracy: 0.9630\n",
      "Epoch 23/30\n",
      "375/375 [==============================] - 1s 4ms/step - loss: 0.1696 - accuracy: 0.9480 - val_loss: 0.1279 - val_accuracy: 0.9633\n",
      "Epoch 24/30\n",
      "375/375 [==============================] - 2s 4ms/step - loss: 0.1666 - accuracy: 0.9492 - val_loss: 0.1273 - val_accuracy: 0.9633\n",
      "Epoch 25/30\n",
      "375/375 [==============================] - 1s 4ms/step - loss: 0.1649 - accuracy: 0.9513 - val_loss: 0.1264 - val_accuracy: 0.9634\n",
      "Epoch 26/30\n",
      "375/375 [==============================] - 1s 4ms/step - loss: 0.1631 - accuracy: 0.9512 - val_loss: 0.1254 - val_accuracy: 0.9639\n",
      "Epoch 27/30\n",
      "375/375 [==============================] - 1s 4ms/step - loss: 0.1629 - accuracy: 0.9505 - val_loss: 0.1246 - val_accuracy: 0.9646\n",
      "Epoch 28/30\n",
      "375/375 [==============================] - 1s 4ms/step - loss: 0.1605 - accuracy: 0.9518 - val_loss: 0.1239 - val_accuracy: 0.9646\n",
      "Epoch 29/30\n",
      "375/375 [==============================] - 1s 4ms/step - loss: 0.1589 - accuracy: 0.9526 - val_loss: 0.1226 - val_accuracy: 0.9652\n",
      "Epoch 30/30\n",
      "375/375 [==============================] - 1s 4ms/step - loss: 0.1579 - accuracy: 0.9526 - val_loss: 0.1226 - val_accuracy: 0.9645\n"
     ]
    }
   ],
   "source": [
    "log_dir = \"logs/fit/model4\"\n",
    "tensorboard_callback = tf.keras.callbacks.TensorBoard(log_dir = log_dir,histogram_freq = 1)\n",
    "training = model_2.fit(X_train,Y_train,batch_size = 128,epochs = 30,validation_split = 0.2,callbacks = tensorboard_callback)"
   ]
  },
  {
   "cell_type": "code",
   "execution_count": 56,
   "id": "11563e2b",
   "metadata": {
    "collapsed": true
   },
   "outputs": [
    {
     "name": "stdout",
     "output_type": "stream",
     "text": [
      "dict_keys(['loss', 'accuracy', 'val_loss', 'val_accuracy'])\n"
     ]
    },
    {
     "data": {
      "image/png": "[encoded data removed]",
      "text/plain": [
       "<Figure size 432x288 with 1 Axes>"
      ]
     },
     "metadata": {
      "needs_background": "light"
     },
     "output_type": "display_data"
    },
    {
     "data": {
      "image/png": "[encoded data removed]",
      "text/plain": [
       "<Figure size 432x288 with 1 Axes>"
      ]
     },
     "metadata": {
      "needs_background": "light"
     },
     "output_type": "display_data"
    }
   ],
   "source": [
    "import matplotlib.pyplot as plt\n",
    "%matplotlib inline\n",
    "\n",
    "# List all data in training\n",
    "print(training.history.keys())\n",
    "\n",
    "#summarize training for accuracy\n",
    "plt.plot(training.history['accuracy'])\n",
    "plt.plot(training.history['val_accuracy'])\n",
    "plt.title('model accuracy')\n",
    "plt.ylabel('accuracy')\n",
    "plt.xlabel('epoch')\n",
    "plt.legend(['train', 'test'], loc='upper left')\n",
    "plt.show()\n",
    "\n",
    "# summarize traning for loss\n",
    "plt.plot(training.history['loss'])\n",
    "plt.plot(training.history['val_loss'])\n",
    "plt.title('model loss')\n",
    "plt.ylabel('loss')\n",
    "plt.xlabel('epoch')\n",
    "plt.legend(['train', 'test'], loc='upper left')\n",
    "plt.show()"
   ]
  },
  {
   "cell_type": "code",
   "execution_count": 57,
   "id": "afdeb6b4",
   "metadata": {},
   "outputs": [
    {
     "name": "stdout",
     "output_type": "stream",
     "text": [
      "313/313 [==============================] - 0s 1ms/step - loss: 0.1199 - accuracy: 0.9640\n",
      "Test accuracy: 0.9639999866485596\n"
     ]
    }
   ],
   "source": [
    "test_loss,test_acc = model_2.evaluate(X_test,Y_test)\n",
    "print('Test accuracy:',test_acc)"
   ]
  },
  {
   "cell_type": "raw",
   "id": "e7a140fe",
   "metadata": {},
   "source": [
    "Here, I had added more hidden layers to the network it does not fit properly.. through accuracy is good"
   ]
  },
  {
   "cell_type": "markdown",
   "id": "33bb00d3",
   "metadata": {},
   "source": [
    "5,"
   ]
  },
  {
   "cell_type": "code",
   "execution_count": 58,
   "id": "ad12e8dc",
   "metadata": {},
   "outputs": [],
   "source": [
    "import tensorflow as tf\n",
    "\n",
    "# In keras, layers are assembled to build a models\n",
    "from tensorflow.keras.layers import Dense\n",
    "from tensorflow.keras.layers import Dropout\n",
    "\n",
    "#Most common type of model is a stack of layers\n",
    "\n",
    "model_6 = tf.keras.Sequential()\n",
    "N_hidden = 512\n",
    "\n",
    "# Adds a densely-connected layer with 64 units to the model:\n",
    "model_6.add(Dense(N_hidden,name = 'dense_Layer',input_shape = (784,),activation = 'relu'))\n",
    "\n",
    "# Now the model will take as input arrays of shape (*, 784)# and output arrays of shape (*, 64)\n",
    "model_6.add(Dropout(0.3))\n",
    "\n",
    "# Adding another dense layer:\n",
    "model_6.add(Dense(N_hidden,name = 'dense_layer_2',activation = 'relu'))\n",
    "model_6.add(Dropout(0.3))\n",
    "\n",
    "# Adding another dense layer:\n",
    "model_6.add(Dense(N_hidden,name = 'dense_layer_3',activation = 'relu'))\n",
    "model_6.add(Dropout(0.3))\n",
    "\n",
    "# After the first layer, you don't need to specify # the size of the input anymore:\n",
    "# Add an output layer with 10 output units (10 different classes):\n",
    "model_6.add(Dense(10,name = 'dense_layer_4',activation = 'softmax'))"
   ]
  },
  {
   "cell_type": "code",
   "execution_count": 59,
   "id": "ea8a311e",
   "metadata": {},
   "outputs": [],
   "source": [
    "# compiling the model\n",
    "model_6.compile(optimizer = 'RMSprop',loss = 'categorical_crossentropy',metrics = ['accuracy'])"
   ]
  },
  {
   "cell_type": "code",
   "execution_count": 60,
   "id": "30b71405",
   "metadata": {
    "scrolled": true
   },
   "outputs": [
    {
     "name": "stdout",
     "output_type": "stream",
     "text": [
      "Epoch 1/30\n",
      "  2/375 [..............................] - ETA: 25s - loss: 2.3047 - accuracy: 0.1602WARNING:tensorflow:Callbacks method `on_train_batch_end` is slow compared to the batch time (batch time: 0.0287s vs `on_train_batch_end` time: 0.1044s). Check your callbacks.\n",
      "375/375 [==============================] - 10s 28ms/step - loss: 0.3218 - accuracy: 0.9005 - val_loss: 0.1215 - val_accuracy: 0.9654\n",
      "Epoch 2/30\n",
      "375/375 [==============================] - 10s 26ms/step - loss: 0.1412 - accuracy: 0.9582 - val_loss: 0.1024 - val_accuracy: 0.9700\n",
      "Epoch 3/30\n",
      "375/375 [==============================] - 10s 26ms/step - loss: 0.1104 - accuracy: 0.9677 - val_loss: 0.1038 - val_accuracy: 0.9721\n",
      "Epoch 4/30\n",
      "375/375 [==============================] - 10s 26ms/step - loss: 0.0938 - accuracy: 0.9736 - val_loss: 0.0979 - val_accuracy: 0.9753\n",
      "Epoch 5/30\n",
      "375/375 [==============================] - 10s 25ms/step - loss: 0.0849 - accuracy: 0.9763 - val_loss: 0.1107 - val_accuracy: 0.9743\n",
      "Epoch 6/30\n",
      "375/375 [==============================] - 10s 25ms/step - loss: 0.0750 - accuracy: 0.9790 - val_loss: 0.0995 - val_accuracy: 0.9780\n",
      "Epoch 7/30\n",
      "375/375 [==============================] - 10s 25ms/step - loss: 0.0704 - accuracy: 0.9814 - val_loss: 0.1014 - val_accuracy: 0.9768\n",
      "Epoch 8/30\n",
      "375/375 [==============================] - 10s 26ms/step - loss: 0.0640 - accuracy: 0.9827 - val_loss: 0.1165 - val_accuracy: 0.9787\n",
      "Epoch 9/30\n",
      "375/375 [==============================] - 10s 26ms/step - loss: 0.0634 - accuracy: 0.9839 - val_loss: 0.1230 - val_accuracy: 0.9787\n",
      "Epoch 10/30\n",
      "375/375 [==============================] - 10s 26ms/step - loss: 0.0649 - accuracy: 0.9839 - val_loss: 0.1109 - val_accuracy: 0.9784\n",
      "Epoch 11/30\n",
      "375/375 [==============================] - 9s 25ms/step - loss: 0.0654 - accuracy: 0.9844 - val_loss: 0.1215 - val_accuracy: 0.9768\n",
      "Epoch 12/30\n",
      "375/375 [==============================] - 9s 25ms/step - loss: 0.0604 - accuracy: 0.9849 - val_loss: 0.1216 - val_accuracy: 0.9784\n",
      "Epoch 13/30\n",
      "375/375 [==============================] - 10s 25ms/step - loss: 0.0627 - accuracy: 0.9848 - val_loss: 0.1206 - val_accuracy: 0.9798\n",
      "Epoch 14/30\n",
      "375/375 [==============================] - 10s 26ms/step - loss: 0.0565 - accuracy: 0.9871 - val_loss: 0.1551 - val_accuracy: 0.9787\n",
      "Epoch 15/30\n",
      "375/375 [==============================] - 9s 24ms/step - loss: 0.0542 - accuracy: 0.9874 - val_loss: 0.1640 - val_accuracy: 0.9783\n",
      "Epoch 16/30\n",
      "375/375 [==============================] - 9s 25ms/step - loss: 0.0571 - accuracy: 0.9872 - val_loss: 0.1588 - val_accuracy: 0.9790\n",
      "Epoch 17/30\n",
      "375/375 [==============================] - 9s 24ms/step - loss: 0.0583 - accuracy: 0.9878 - val_loss: 0.1396 - val_accuracy: 0.9807\n",
      "Epoch 18/30\n",
      "375/375 [==============================] - 9s 25ms/step - loss: 0.0535 - accuracy: 0.9886 - val_loss: 0.1774 - val_accuracy: 0.9790\n",
      "Epoch 19/30\n",
      "375/375 [==============================] - 10s 26ms/step - loss: 0.0551 - accuracy: 0.9884 - val_loss: 0.1469 - val_accuracy: 0.9814\n",
      "Epoch 20/30\n",
      "375/375 [==============================] - 9s 25ms/step - loss: 0.0539 - accuracy: 0.9885 - val_loss: 0.1954 - val_accuracy: 0.9802\n",
      "Epoch 21/30\n",
      "375/375 [==============================] - 10s 26ms/step - loss: 0.0539 - accuracy: 0.9889 - val_loss: 0.1693 - val_accuracy: 0.9788\n",
      "Epoch 22/30\n",
      "375/375 [==============================] - 9s 24ms/step - loss: 0.0488 - accuracy: 0.9898 - val_loss: 0.2164 - val_accuracy: 0.9788\n",
      "Epoch 23/30\n",
      "375/375 [==============================] - 9s 25ms/step - loss: 0.0561 - accuracy: 0.9892 - val_loss: 0.1891 - val_accuracy: 0.9778\n",
      "Epoch 24/30\n",
      "375/375 [==============================] - 10s 26ms/step - loss: 0.0558 - accuracy: 0.9891 - val_loss: 0.1852 - val_accuracy: 0.9804\n",
      "Epoch 25/30\n",
      "375/375 [==============================] - 9s 25ms/step - loss: 0.0516 - accuracy: 0.9895 - val_loss: 0.1959 - val_accuracy: 0.9805\n",
      "Epoch 26/30\n",
      "375/375 [==============================] - 9s 25ms/step - loss: 0.0521 - accuracy: 0.9897 - val_loss: 0.1762 - val_accuracy: 0.9818\n",
      "Epoch 27/30\n",
      "375/375 [==============================] - 9s 25ms/step - loss: 0.0509 - accuracy: 0.9904 - val_loss: 0.2002 - val_accuracy: 0.9812\n",
      "Epoch 28/30\n",
      "375/375 [==============================] - 9s 25ms/step - loss: 0.0531 - accuracy: 0.9903 - val_loss: 0.2304 - val_accuracy: 0.9786\n",
      "Epoch 29/30\n",
      "375/375 [==============================] - 9s 24ms/step - loss: 0.0527 - accuracy: 0.9905 - val_loss: 0.1720 - val_accuracy: 0.9810\n",
      "Epoch 30/30\n",
      "375/375 [==============================] - 10s 26ms/step - loss: 0.0545 - accuracy: 0.9894 - val_loss: 0.2130 - val_accuracy: 0.9811\n"
     ]
    }
   ],
   "source": [
    "# Training the model. \n",
    "log_dir = \"logs/fit/model6\"\n",
    "tensorboard_callback = tf.keras.callbacks.TensorBoard(log_dir=log_dir, histogram_freq=1)\n",
    "training = model_6.fit(X_train, Y_train, batch_size=128, epochs=30, validation_split=0.2,callbacks=tensorboard_callback) "
   ]
  },
  {
   "cell_type": "code",
   "execution_count": 61,
   "id": "572f1b8b",
   "metadata": {
    "collapsed": true
   },
   "outputs": [
    {
     "name": "stdout",
     "output_type": "stream",
     "text": [
      "dict_keys(['loss', 'accuracy', 'val_loss', 'val_accuracy'])\n"
     ]
    },
    {
     "data": {
      "image/png": "[encoded data removed]",
      "text/plain": [
       "<Figure size 432x288 with 1 Axes>"
      ]
     },
     "metadata": {
      "needs_background": "light"
     },
     "output_type": "display_data"
    },
    {
     "data": {
      "image/png": "[encoded data removed]",
      "text/plain": [
       "<Figure size 432x288 with 1 Axes>"
      ]
     },
     "metadata": {
      "needs_background": "light"
     },
     "output_type": "display_data"
    }
   ],
   "source": [
    "import matplotlib.pyplot as plt\n",
    "%matplotlib inline\n",
    "# list all data in training\n",
    "print(training.history.keys())\n",
    "# summarize training for accuracy\n",
    "plt.plot(training.history['accuracy'])\n",
    "plt.plot(training.history['val_accuracy'])\n",
    "plt.title('model accuracy')\n",
    "plt.ylabel('accuracy')\n",
    "plt.xlabel('epoch')\n",
    "plt.legend(['train', 'test'], loc='upper left')\n",
    "plt.show()\n",
    "# summarize traning for loss\n",
    "plt.plot(training.history['loss'])\n",
    "plt.plot(training.history['val_loss'])\n",
    "plt.title('model loss')\n",
    "plt.ylabel('loss')\n",
    "plt.xlabel('epoch')\n",
    "plt.legend(['train', 'test'], loc='upper left')\n",
    "plt.show()"
   ]
  },
  {
   "cell_type": "code",
   "execution_count": 62,
   "id": "6a619330",
   "metadata": {},
   "outputs": [
    {
     "name": "stdout",
     "output_type": "stream",
     "text": [
      "313/313 [==============================] - 1s 5ms/step - loss: 0.1577 - accuracy: 0.9831\n",
      "Test accuracy: 0.9830999970436096\n"
     ]
    }
   ],
   "source": [
    "test_loss, test_acc = model_6.evaluate(X_test, Y_test)\n",
    "print('Test accuracy:', test_acc)"
   ]
  },
  {
   "cell_type": "raw",
   "id": "165057c7",
   "metadata": {},
   "source": [
    "By using 'RMSprop' we have good accuracy and model has fit comparing to 'SGD'"
   ]
  },
  {
   "cell_type": "markdown",
   "id": "71b0cb29",
   "metadata": {},
   "source": [
    "6,"
   ]
  },
  {
   "cell_type": "raw",
   "id": "02eebeb8",
   "metadata": {},
   "source": [
    "I think we cannot say that because its depends upon the problem how complexity it is. and the learning rate can change the model to fit or unfit, in this the weights are updated. if we give small value its take lot of time for training and gets stuck or if we give large value its result in sub-optimal weights are too fast unstable training process. "
   ]
  },
  {
   "cell_type": "markdown",
   "id": "47493936",
   "metadata": {},
   "source": [
    "7,"
   ]
  },
  {
   "cell_type": "raw",
   "id": "ff8e1e3d",
   "metadata": {},
   "source": [
    "In my view the activation paramater congifuration is highly important and best and also the optimizer parameter also best "
   ]
  },
  {
   "cell_type": "markdown",
   "id": "9db2500a",
   "metadata": {},
   "source": [
    "### **`.ipynb file 2`** \n",
    "\n",
    "\n",
    "**Marks: 15**\n",
    "- Try improving the model and re-code the program from scratch without looking too much at this source-code.\n",
    "- Write up a summary explaining how your program works.\n"
   ]
  },
  {
   "cell_type": "code",
   "execution_count": null,
   "id": "c06932c2",
   "metadata": {},
   "outputs": [],
   "source": []
  }
 ],
 "metadata": {
  "kernelspec": {
   "display_name": "Python 3",
   "language": "python",
   "name": "python3"
  },
  "language_info": {
   "codemirror_mode": {
    "name": "ipython",
    "version": 3
   },
   "file_extension": ".py",
   "mimetype": "text/x-python",
   "name": "python",
   "nbconvert_exporter": "python",
   "pygments_lexer": "ipython3",
   "version": "3.8.8"
  }
 },
 "nbformat": 4,
 "nbformat_minor": 5
}
