{
 "cells": [
  {
   "cell_type": "code",
   "execution_count": 1,
   "id": "9c1ba550",
   "metadata": {},
   "outputs": [],
   "source": [
    "import tensorflow as tf\n",
    "import numpy as np"
   ]
  },
  {
   "cell_type": "code",
   "execution_count": 2,
   "id": "61b4e630",
   "metadata": {},
   "outputs": [
    {
     "data": {
      "text/plain": [
       "'2.3.0'"
      ]
     },
     "execution_count": 2,
     "metadata": {},
     "output_type": "execute_result"
    }
   ],
   "source": [
    "tf.__version__"
   ]
  },
  {
   "cell_type": "markdown",
   "id": "de3dcd55",
   "metadata": {},
   "source": [
    "### For the Hello World example, Let ys try the equation y = 3x+3"
   ]
  },
  {
   "cell_type": "code",
   "execution_count": 3,
   "id": "719b8767",
   "metadata": {},
   "outputs": [],
   "source": [
    "xs = np.array([-1.0,0.0,1.0,2.0,3.0,4.0],dtype = float)\n",
    "ys = np.array([-1.0,2.0,5.0,8.0,11.0,14.0],dtype = float)"
   ]
  },
  {
   "cell_type": "code",
   "execution_count": 4,
   "id": "84af6f11",
   "metadata": {},
   "outputs": [],
   "source": [
    "from tensorflow.keras import Sequential\n",
    "from tensorflow.keras.layers import Dense\n",
    "model = Sequential()\n",
    "model.add(Dense(units = 1,input_shape = [1]))\n",
    "model.add(Dense(units = 10))\n",
    "model.add(Dense(units = 1))"
   ]
  },
  {
   "cell_type": "code",
   "execution_count": 10,
   "id": "379b4318",
   "metadata": {},
   "outputs": [],
   "source": [
    "model.compile(optimizer = 'sgd',loss = 'mean_squared_error')"
   ]
  },
  {
   "cell_type": "code",
   "execution_count": 11,
   "id": "f8e0c636",
   "metadata": {},
   "outputs": [
    {
     "name": "stdout",
     "output_type": "stream",
     "text": [
      "Epoch 1/100\n",
      "1/1 [==============================] - 0s 2ms/step - loss: 76.3275\n",
      "Epoch 2/100\n",
      "1/1 [==============================] - 0s 996us/step - loss: 60.0593\n",
      "Epoch 3/100\n",
      "1/1 [==============================] - 0s 998us/step - loss: 49.6273\n",
      "Epoch 4/100\n",
      "1/1 [==============================] - 0s 716us/step - loss: 32.5794\n",
      "Epoch 5/100\n",
      "1/1 [==============================] - 0s 995us/step - loss: 8.9860\n",
      "Epoch 6/100\n",
      "1/1 [==============================] - 0s 4ms/step - loss: 0.7104\n",
      "Epoch 7/100\n",
      "1/1 [==============================] - 0s 931us/step - loss: 0.5367\n",
      "Epoch 8/100\n",
      "1/1 [==============================] - 0s 3ms/step - loss: 0.3756\n",
      "Epoch 9/100\n",
      "1/1 [==============================] - 0s 997us/step - loss: 0.2863\n",
      "Epoch 10/100\n",
      "1/1 [==============================] - 0s 1ms/step - loss: 0.2138\n",
      "Epoch 11/100\n",
      "1/1 [==============================] - 0s 2ms/step - loss: 0.1648\n",
      "Epoch 12/100\n",
      "1/1 [==============================] - 0s 2ms/step - loss: 0.1263\n",
      "Epoch 13/100\n",
      "1/1 [==============================] - 0s 998us/step - loss: 0.0981\n",
      "Epoch 14/100\n",
      "1/1 [==============================] - 0s 517us/step - loss: 0.0761\n",
      "Epoch 15/100\n",
      "1/1 [==============================] - 0s 2ms/step - loss: 0.0594\n",
      "Epoch 16/100\n",
      "1/1 [==============================] - 0s 2ms/step - loss: 0.0464\n",
      "Epoch 17/100\n",
      "1/1 [==============================] - 0s 997us/step - loss: 0.0363\n",
      "Epoch 18/100\n",
      "1/1 [==============================] - 0s 853us/step - loss: 0.0284\n",
      "Epoch 19/100\n",
      "1/1 [==============================] - 0s 756us/step - loss: 0.0222\n",
      "Epoch 20/100\n",
      "1/1 [==============================] - 0s 2ms/step - loss: 0.0174\n",
      "Epoch 21/100\n",
      "1/1 [==============================] - 0s 998us/step - loss: 0.0137\n",
      "Epoch 22/100\n",
      "1/1 [==============================] - 0s 869us/step - loss: 0.0107\n",
      "Epoch 23/100\n",
      "1/1 [==============================] - 0s 996us/step - loss: 0.0084\n",
      "Epoch 24/100\n",
      "1/1 [==============================] - 0s 4ms/step - loss: 0.0066\n",
      "Epoch 25/100\n",
      "1/1 [==============================] - 0s 1000us/step - loss: 0.0052\n",
      "Epoch 26/100\n",
      "1/1 [==============================] - 0s 2ms/step - loss: 0.0041\n",
      "Epoch 27/100\n",
      "1/1 [==============================] - 0s 1ms/step - loss: 0.0032\n",
      "Epoch 28/100\n",
      "1/1 [==============================] - 0s 399us/step - loss: 0.0025\n",
      "Epoch 29/100\n",
      "1/1 [==============================] - 0s 1ms/step - loss: 0.0020\n",
      "Epoch 30/100\n",
      "1/1 [==============================] - 0s 3ms/step - loss: 0.0015\n",
      "Epoch 31/100\n",
      "1/1 [==============================] - 0s 2ms/step - loss: 0.0012\n",
      "Epoch 32/100\n",
      "1/1 [==============================] - 0s 1ms/step - loss: 9.4593e-04\n",
      "Epoch 33/100\n",
      "1/1 [==============================] - 0s 302us/step - loss: 7.4199e-04\n",
      "Epoch 34/100\n",
      "1/1 [==============================] - 0s 994us/step - loss: 5.8201e-04\n",
      "Epoch 35/100\n",
      "1/1 [==============================] - 0s 996us/step - loss: 4.5651e-04\n",
      "Epoch 36/100\n",
      "1/1 [==============================] - 0s 996us/step - loss: 3.5805e-04\n",
      "Epoch 37/100\n",
      "1/1 [==============================] - 0s 685us/step - loss: 2.8083e-04\n",
      "Epoch 38/100\n",
      "1/1 [==============================] - 0s 2ms/step - loss: 2.2025e-04\n",
      "Epoch 39/100\n",
      "1/1 [==============================] - 0s 198us/step - loss: 1.7273e-04\n",
      "Epoch 40/100\n",
      "1/1 [==============================] - 0s 992us/step - loss: 1.3547e-04\n",
      "Epoch 41/100\n",
      "1/1 [==============================] - 0s 998us/step - loss: 1.0624e-04\n",
      "Epoch 42/100\n",
      "1/1 [==============================] - 0s 997us/step - loss: 8.3321e-05\n",
      "Epoch 43/100\n",
      "1/1 [==============================] - 0s 1ms/step - loss: 6.5342e-05\n",
      "Epoch 44/100\n",
      "1/1 [==============================] - 0s 999us/step - loss: 5.1238e-05\n",
      "Epoch 45/100\n",
      "1/1 [==============================] - 0s 758us/step - loss: 4.0182e-05\n",
      "Epoch 46/100\n",
      "1/1 [==============================] - 0s 2ms/step - loss: 3.1511e-05\n",
      "Epoch 47/100\n",
      "1/1 [==============================] - 0s 2ms/step - loss: 2.4710e-05\n",
      "Epoch 48/100\n",
      "1/1 [==============================] - 0s 997us/step - loss: 1.9377e-05\n",
      "Epoch 49/100\n",
      "1/1 [==============================] - 0s 3ms/step - loss: 1.5194e-05\n",
      "Epoch 50/100\n",
      "1/1 [==============================] - 0s 374us/step - loss: 1.1914e-05\n",
      "Epoch 51/100\n",
      "1/1 [==============================] - 0s 997us/step - loss: 9.3429e-06\n",
      "Epoch 52/100\n",
      "1/1 [==============================] - 0s 2ms/step - loss: 7.3262e-06\n",
      "Epoch 53/100\n",
      "1/1 [==============================] - 0s 1ms/step - loss: 5.7444e-06\n",
      "Epoch 54/100\n",
      "1/1 [==============================] - 0s 997us/step - loss: 4.5051e-06\n",
      "Epoch 55/100\n",
      "1/1 [==============================] - 0s 1ms/step - loss: 3.5326e-06\n",
      "Epoch 56/100\n",
      "1/1 [==============================] - 0s 122us/step - loss: 2.7698e-06\n",
      "Epoch 57/100\n",
      "1/1 [==============================] - 0s 1ms/step - loss: 2.1720e-06\n",
      "Epoch 58/100\n",
      "1/1 [==============================] - 0s 3ms/step - loss: 1.7032e-06\n",
      "Epoch 59/100\n",
      "1/1 [==============================] - 0s 996us/step - loss: 1.3354e-06\n",
      "Epoch 60/100\n",
      "1/1 [==============================] - 0s 1ms/step - loss: 1.0470e-06\n",
      "Epoch 61/100\n",
      "1/1 [==============================] - 0s 3ms/step - loss: 8.2143e-07\n",
      "Epoch 62/100\n",
      "1/1 [==============================] - 0s 710us/step - loss: 6.4422e-07\n",
      "Epoch 63/100\n",
      "1/1 [==============================] - 0s 997us/step - loss: 5.0482e-07\n",
      "Epoch 64/100\n",
      "1/1 [==============================] - 0s 311us/step - loss: 3.9578e-07\n",
      "Epoch 65/100\n",
      "1/1 [==============================] - 0s 888us/step - loss: 3.1047e-07\n",
      "Epoch 66/100\n",
      "1/1 [==============================] - 0s 515us/step - loss: 2.4331e-07\n",
      "Epoch 67/100\n",
      "1/1 [==============================] - 0s 996us/step - loss: 1.9068e-07\n",
      "Epoch 68/100\n",
      "1/1 [==============================] - 0s 548us/step - loss: 1.4973e-07\n",
      "Epoch 69/100\n",
      "1/1 [==============================] - 0s 352us/step - loss: 1.1732e-07\n",
      "Epoch 70/100\n",
      "1/1 [==============================] - 0s 998us/step - loss: 9.2029e-08\n",
      "Epoch 71/100\n",
      "1/1 [==============================] - 0s 3ms/step - loss: 7.2088e-08\n",
      "Epoch 72/100\n",
      "1/1 [==============================] - 0s 1ms/step - loss: 5.6597e-08\n",
      "Epoch 73/100\n",
      "1/1 [==============================] - 0s 997us/step - loss: 4.4313e-08\n",
      "Epoch 74/100\n",
      "1/1 [==============================] - 0s 993us/step - loss: 3.4803e-08\n",
      "Epoch 75/100\n",
      "1/1 [==============================] - 0s 1ms/step - loss: 2.7236e-08\n",
      "Epoch 76/100\n",
      "1/1 [==============================] - 0s 975us/step - loss: 2.1375e-08\n",
      "Epoch 77/100\n",
      "1/1 [==============================] - 0s 2ms/step - loss: 1.6810e-08\n",
      "Epoch 78/100\n",
      "1/1 [==============================] - 0s 0s/step - loss: 1.3160e-08\n",
      "Epoch 79/100\n",
      "1/1 [==============================] - 0s 998us/step - loss: 1.0319e-08\n",
      "Epoch 80/100\n",
      "1/1 [==============================] - 0s 1ms/step - loss: 8.0995e-09\n",
      "Epoch 81/100\n",
      "1/1 [==============================] - 0s 2ms/step - loss: 6.3384e-09\n",
      "Epoch 82/100\n",
      "1/1 [==============================] - 0s 996us/step - loss: 4.9833e-09\n",
      "Epoch 83/100\n",
      "1/1 [==============================] - 0s 846us/step - loss: 3.9018e-09\n",
      "Epoch 84/100\n",
      "1/1 [==============================] - 0s 996us/step - loss: 3.0885e-09\n",
      "Epoch 85/100\n",
      "1/1 [==============================] - 0s 1ms/step - loss: 2.4082e-09\n",
      "Epoch 86/100\n",
      "1/1 [==============================] - 0s 999us/step - loss: 1.8771e-09\n",
      "Epoch 87/100\n",
      "1/1 [==============================] - 0s 0s/step - loss: 1.4712e-09\n",
      "Epoch 88/100\n",
      "1/1 [==============================] - 0s 782us/step - loss: 1.1583e-09\n",
      "Epoch 89/100\n",
      "1/1 [==============================] - 0s 995us/step - loss: 9.1192e-10\n",
      "Epoch 90/100\n",
      "1/1 [==============================] - 0s 1ms/step - loss: 7.1463e-10\n",
      "Epoch 91/100\n",
      "1/1 [==============================] - 0s 3ms/step - loss: 5.6404e-10\n",
      "Epoch 92/100\n",
      "1/1 [==============================] - 0s 997us/step - loss: 4.3646e-10\n",
      "Epoch 93/100\n",
      "1/1 [==============================] - 0s 2ms/step - loss: 3.4081e-10\n",
      "Epoch 94/100\n",
      "1/1 [==============================] - 0s 1ms/step - loss: 2.5789e-10\n",
      "Epoch 95/100\n",
      "1/1 [==============================] - 0s 997us/step - loss: 2.1063e-10\n",
      "Epoch 96/100\n",
      "1/1 [==============================] - 0s 2ms/step - loss: 1.6244e-10\n",
      "Epoch 97/100\n",
      "1/1 [==============================] - 0s 996us/step - loss: 1.2928e-10\n",
      "Epoch 98/100\n",
      "1/1 [==============================] - 0s 865us/step - loss: 1.0278e-10\n",
      "Epoch 99/100\n"
     ]
    },
    {
     "name": "stdout",
     "output_type": "stream",
     "text": [
      "1/1 [==============================] - 0s 101us/step - loss: 7.6890e-11\n",
      "Epoch 100/100\n",
      "1/1 [==============================] - 0s 253us/step - loss: 6.1507e-11\n"
     ]
    },
    {
     "data": {
      "text/plain": [
       "<tensorflow.python.keras.callbacks.History at 0x285e54af6d0>"
      ]
     },
     "execution_count": 11,
     "metadata": {},
     "output_type": "execute_result"
    }
   ],
   "source": [
    "model.fit(xs,ys,epochs = 100)"
   ]
  },
  {
   "cell_type": "code",
   "execution_count": 12,
   "id": "046ce6dd",
   "metadata": {},
   "outputs": [
    {
     "data": {
      "text/plain": [
       "array([[31.999975]], dtype=float32)"
      ]
     },
     "execution_count": 12,
     "metadata": {},
     "output_type": "execute_result"
    }
   ],
   "source": [
    "# y = 3x+2\n",
    "model.predict([10])"
   ]
  },
  {
   "cell_type": "code",
   "execution_count": 20,
   "id": "0e1fb57c",
   "metadata": {},
   "outputs": [
    {
     "data": {
      "text/plain": [
       "array([[289.99966],\n",
       "       [ 61.99994]], dtype=float32)"
      ]
     },
     "execution_count": 20,
     "metadata": {},
     "output_type": "execute_result"
    }
   ],
   "source": [
    "model.predict([96,20])"
   ]
  },
  {
   "cell_type": "code",
   "execution_count": 21,
   "id": "eec4cc90",
   "metadata": {},
   "outputs": [
    {
     "name": "stdout",
     "output_type": "stream",
     "text": [
      "Model: \"sequential\"\n",
      "_________________________________________________________________\n",
      "Layer (type)                 Output Shape              Param #   \n",
      "=================================================================\n",
      "dense (Dense)                (None, 1)                 2         \n",
      "_________________________________________________________________\n",
      "dense_1 (Dense)              (None, 10)                20        \n",
      "_________________________________________________________________\n",
      "dense_2 (Dense)              (None, 1)                 11        \n",
      "=================================================================\n",
      "Total params: 33\n",
      "Trainable params: 33\n",
      "Non-trainable params: 0\n",
      "_________________________________________________________________\n"
     ]
    }
   ],
   "source": [
    "model.summary()    # params 2,10,11 are input is 1, dense is 1 so 1*1 + 1 bias, so params = 2\n",
    "                   # 'lly, input is 1,dense is 10 so 1*10 = 10 , bias +10 so params = 20 \n",
    "                   # 'lly, input is 1,dense is 1, so 1*1 = 1,bias +11 so params = 11"
   ]
  },
  {
   "cell_type": "code",
   "execution_count": 28,
   "id": "2d90f537",
   "metadata": {},
   "outputs": [
    {
     "name": "stdout",
     "output_type": "stream",
     "text": [
      "('Failed to import pydot. You must `pip install pydot` and install graphviz (https://graphviz.gitlab.io/download/), ', 'for `pydotprint` to work.')\n"
     ]
    }
   ],
   "source": [
    "from tensorflow.keras.utils import plot_model\n",
    "plot_model(model,'model.png',show_shapes = True)"
   ]
  },
  {
   "cell_type": "code",
   "execution_count": 30,
   "id": "3ecfdcbb",
   "metadata": {},
   "outputs": [
    {
     "data": {
      "text/plain": [
       "[<tf.Variable 'dense/kernel:0' shape=(1, 1) dtype=float32, numpy=array([[1.1615857]], dtype=float32)>,\n",
       " <tf.Variable 'dense/bias:0' shape=(1,) dtype=float32, numpy=array([0.20518], dtype=float32)>,\n",
       " <tf.Variable 'dense_1/kernel:0' shape=(1, 10) dtype=float32, numpy=\n",
       " array([[-0.11142282, -0.19928212,  0.12910819,  0.48615575,  0.9411589 ,\n",
       "         -1.0004151 , -0.1764926 ,  0.539199  ,  0.02975615, -0.05879268]],\n",
       "       dtype=float32)>,\n",
       " <tf.Variable 'dense_1/bias:0' shape=(10,) dtype=float32, numpy=\n",
       " array([ 0.10641939,  0.06769024,  0.08668615,  0.22478907,  0.24821207,\n",
       "        -0.23601379,  0.21775301,  0.23801354, -0.18341033,  0.10630061],\n",
       "       dtype=float32)>,\n",
       " <tf.Variable 'dense_2/kernel:0' shape=(10, 1) dtype=float32, numpy=\n",
       " array([[ 0.20772968],\n",
       "        [ 0.07871678],\n",
       "        [ 0.26066935],\n",
       "        [ 0.7389124 ],\n",
       "        [ 0.984101  ],\n",
       "        [-0.97962576],\n",
       "        [ 0.4464735 ],\n",
       "        [ 0.79254943],\n",
       "        [-0.42551732],\n",
       "        [ 0.22933835]], dtype=float32)>,\n",
       " <tf.Variable 'dense_2/bias:0' shape=(1,) dtype=float32, numpy=array([0.39021292], dtype=float32)>]"
      ]
     },
     "execution_count": 30,
     "metadata": {},
     "output_type": "execute_result"
    }
   ],
   "source": [
    "model.weights"
   ]
  }
 ],
 "metadata": {
  "kernelspec": {
   "display_name": "Python 3",
   "language": "python",
   "name": "python3"
  },
  "language_info": {
   "codemirror_mode": {
    "name": "ipython",
    "version": 3
   },
   "file_extension": ".py",
   "mimetype": "text/x-python",
   "name": "python",
   "nbconvert_exporter": "python",
   "pygments_lexer": "ipython3",
   "version": "3.8.8"
  }
 },
 "nbformat": 4,
 "nbformat_minor": 5
}
